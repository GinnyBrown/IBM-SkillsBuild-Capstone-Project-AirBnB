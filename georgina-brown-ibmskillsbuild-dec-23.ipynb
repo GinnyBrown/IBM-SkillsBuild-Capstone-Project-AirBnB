{
 "cells": [
  {
   "cell_type": "code",
   "execution_count": 1,
   "id": "fc8edfb6",
   "metadata": {
    "_cell_guid": "b1076dfc-b9ad-4769-8c92-a6c4dae69d19",
    "_uuid": "8f2839f25d086af736a60e9eeb907d3b93b6e0e5",
    "execution": {
     "iopub.execute_input": "2023-12-17T16:16:06.826876Z",
     "iopub.status.busy": "2023-12-17T16:16:06.826507Z",
     "iopub.status.idle": "2023-12-17T16:16:07.766499Z",
     "shell.execute_reply": "2023-12-17T16:16:07.765216Z"
    },
    "papermill": {
     "duration": 0.963741,
     "end_time": "2023-12-17T16:16:07.768952",
     "exception": false,
     "start_time": "2023-12-17T16:16:06.805211",
     "status": "completed"
    },
    "tags": []
   },
   "outputs": [
    {
     "name": "stdout",
     "output_type": "stream",
     "text": [
      "/kaggle/input/airbnbopendata/Airbnb_Open_Data.csv\n"
     ]
    }
   ],
   "source": [
    "# This Python 3 environment comes with many helpful analytics libraries installed\n",
    "# It is defined by the kaggle/python Docker image: https://github.com/kaggle/docker-python\n",
    "# For example, here's several helpful packages to load\n",
    "\n",
    "import numpy as np # linear algebra\n",
    "import pandas as pd # data processing, CSV file I/O (e.g. pd.read_csv)\n",
    "\n",
    "# Input data files are available in the read-only \"../input/\" directory\n",
    "# For example, running this (by clicking run or pressing Shift+Enter) will list all files under the input directory\n",
    "\n",
    "import os\n",
    "for dirname, _, filenames in os.walk('/kaggle/input'):\n",
    "    for filename in filenames:\n",
    "        print(os.path.join(dirname, filename))\n",
    "\n",
    "# You can write up to 20GB to the current directory (/kaggle/working/) that gets preserved as output when you create a version using \"Save & Run All\" \n",
    "# You can also write temporary files to /kaggle/temp/, but they won't be saved outside of the current session"
   ]
  },
  {
   "cell_type": "markdown",
   "id": "06bb3bd2",
   "metadata": {
    "papermill": {
     "duration": 0.01802,
     "end_time": "2023-12-17T16:16:07.806251",
     "exception": false,
     "start_time": "2023-12-17T16:16:07.788231",
     "status": "completed"
    },
    "tags": []
   },
   "source": [
    "\n",
    "## **IBM SkillsBuild Capstone Project - Data Analytics**\n",
    "\n",
    "* Author: Georgina Brown\n",
    "* Date: December 2023\n",
    "* Project Name: IBM SkillsBuild - AirBnB Data Exploration and Visualisation\n",
    "* Data: /kaggle/input/airbnbopendata/Airbnb_Open_Data.csv\n"
   ]
  },
  {
   "cell_type": "markdown",
   "id": "8dcb379d",
   "metadata": {
    "papermill": {
     "duration": 0.017831,
     "end_time": "2023-12-17T16:16:07.843111",
     "exception": false,
     "start_time": "2023-12-17T16:16:07.825280",
     "status": "completed"
    },
    "tags": []
   },
   "source": [
    "## **Task 1: Data Loading**\n",
    "1. Read the csv file and load it into a pandas dataframe.\n",
    "1. Display the first five rows of your dataframe.\n",
    "1. Display the data types of the columns."
   ]
  },
  {
   "cell_type": "code",
   "execution_count": 2,
   "id": "89602c77",
   "metadata": {
    "execution": {
     "iopub.execute_input": "2023-12-17T16:16:07.881164Z",
     "iopub.status.busy": "2023-12-17T16:16:07.880679Z",
     "iopub.status.idle": "2023-12-17T16:16:09.352199Z",
     "shell.execute_reply": "2023-12-17T16:16:09.350932Z"
    },
    "papermill": {
     "duration": 1.49393,
     "end_time": "2023-12-17T16:16:09.355135",
     "exception": false,
     "start_time": "2023-12-17T16:16:07.861205",
     "status": "completed"
    },
    "tags": []
   },
   "outputs": [],
   "source": [
    "# Importing the libraries\n",
    "import pandas as pd\n",
    "import numpy as np\n",
    "from matplotlib import pyplot as plt\n",
    "import seaborn as sns"
   ]
  },
  {
   "cell_type": "code",
   "execution_count": 3,
   "id": "bf30e0d1",
   "metadata": {
    "execution": {
     "iopub.execute_input": "2023-12-17T16:16:09.394333Z",
     "iopub.status.busy": "2023-12-17T16:16:09.393945Z",
     "iopub.status.idle": "2023-12-17T16:16:09.400497Z",
     "shell.execute_reply": "2023-12-17T16:16:09.399444Z"
    },
    "papermill": {
     "duration": 0.028722,
     "end_time": "2023-12-17T16:16:09.402663",
     "exception": false,
     "start_time": "2023-12-17T16:16:09.373941",
     "status": "completed"
    },
    "tags": []
   },
   "outputs": [
    {
     "name": "stdout",
     "output_type": "stream",
     "text": [
      "Airbnb_Open_Data.csv\n"
     ]
    }
   ],
   "source": [
    "# Import the data\n",
    "import os\n",
    "for dirname, _, filenames in os.walk('/kaggle/input'):\n",
    "    for filename in filenames:\n",
    "        print(os.path.join('Airbnb_Open_Data.csv'))"
   ]
  },
  {
   "cell_type": "code",
   "execution_count": 4,
   "id": "b7761751",
   "metadata": {
    "execution": {
     "iopub.execute_input": "2023-12-17T16:16:09.503302Z",
     "iopub.status.busy": "2023-12-17T16:16:09.502566Z",
     "iopub.status.idle": "2023-12-17T16:16:10.771512Z",
     "shell.execute_reply": "2023-12-17T16:16:10.770602Z"
    },
    "papermill": {
     "duration": 1.352872,
     "end_time": "2023-12-17T16:16:10.773973",
     "exception": false,
     "start_time": "2023-12-17T16:16:09.421101",
     "status": "completed"
    },
    "tags": []
   },
   "outputs": [],
   "source": [
    "# 1. Read the csv file and load it into a pandas dataframe.\n",
    "airbnb = pd.read_csv('/kaggle/input/airbnbopendata/Airbnb_Open_Data.csv', low_memory=False)"
   ]
  },
  {
   "cell_type": "code",
   "execution_count": 5,
   "id": "bdb0cde1",
   "metadata": {
    "execution": {
     "iopub.execute_input": "2023-12-17T16:16:10.815038Z",
     "iopub.status.busy": "2023-12-17T16:16:10.814460Z",
     "iopub.status.idle": "2023-12-17T16:16:10.853631Z",
     "shell.execute_reply": "2023-12-17T16:16:10.852496Z"
    },
    "papermill": {
     "duration": 0.061541,
     "end_time": "2023-12-17T16:16:10.855917",
     "exception": false,
     "start_time": "2023-12-17T16:16:10.794376",
     "status": "completed"
    },
    "tags": []
   },
   "outputs": [
    {
     "data": {
      "text/html": [
       "<div>\n",
       "<style scoped>\n",
       "    .dataframe tbody tr th:only-of-type {\n",
       "        vertical-align: middle;\n",
       "    }\n",
       "\n",
       "    .dataframe tbody tr th {\n",
       "        vertical-align: top;\n",
       "    }\n",
       "\n",
       "    .dataframe thead th {\n",
       "        text-align: right;\n",
       "    }\n",
       "</style>\n",
       "<table border=\"1\" class=\"dataframe\">\n",
       "  <thead>\n",
       "    <tr style=\"text-align: right;\">\n",
       "      <th></th>\n",
       "      <th>id</th>\n",
       "      <th>NAME</th>\n",
       "      <th>host id</th>\n",
       "      <th>host_identity_verified</th>\n",
       "      <th>host name</th>\n",
       "      <th>neighbourhood group</th>\n",
       "      <th>neighbourhood</th>\n",
       "      <th>lat</th>\n",
       "      <th>long</th>\n",
       "      <th>country</th>\n",
       "      <th>country code</th>\n",
       "      <th>instant_bookable</th>\n",
       "      <th>cancellation_policy</th>\n",
       "      <th>room type</th>\n",
       "      <th>Construction year</th>\n",
       "      <th>price</th>\n",
       "      <th>service fee</th>\n",
       "      <th>minimum nights</th>\n",
       "      <th>number of reviews</th>\n",
       "      <th>last review</th>\n",
       "      <th>reviews per month</th>\n",
       "      <th>review rate number</th>\n",
       "      <th>calculated host listings count</th>\n",
       "      <th>availability 365</th>\n",
       "      <th>house_rules</th>\n",
       "      <th>license</th>\n",
       "    </tr>\n",
       "  </thead>\n",
       "  <tbody>\n",
       "    <tr>\n",
       "      <th>0</th>\n",
       "      <td>1001254</td>\n",
       "      <td>Clean &amp; quiet apt home by the park</td>\n",
       "      <td>80014485718</td>\n",
       "      <td>unconfirmed</td>\n",
       "      <td>Madaline</td>\n",
       "      <td>Brooklyn</td>\n",
       "      <td>Kensington</td>\n",
       "      <td>40.64749</td>\n",
       "      <td>-73.97237</td>\n",
       "      <td>United States</td>\n",
       "      <td>US</td>\n",
       "      <td>False</td>\n",
       "      <td>strict</td>\n",
       "      <td>Private room</td>\n",
       "      <td>2020.0</td>\n",
       "      <td>$966</td>\n",
       "      <td>$193</td>\n",
       "      <td>10.0</td>\n",
       "      <td>9.0</td>\n",
       "      <td>10/19/2021</td>\n",
       "      <td>0.21</td>\n",
       "      <td>4.0</td>\n",
       "      <td>6.0</td>\n",
       "      <td>286.0</td>\n",
       "      <td>Clean up and treat the home the way you'd like...</td>\n",
       "      <td>NaN</td>\n",
       "    </tr>\n",
       "    <tr>\n",
       "      <th>1</th>\n",
       "      <td>1002102</td>\n",
       "      <td>Skylit Midtown Castle</td>\n",
       "      <td>52335172823</td>\n",
       "      <td>verified</td>\n",
       "      <td>Jenna</td>\n",
       "      <td>Manhattan</td>\n",
       "      <td>Midtown</td>\n",
       "      <td>40.75362</td>\n",
       "      <td>-73.98377</td>\n",
       "      <td>United States</td>\n",
       "      <td>US</td>\n",
       "      <td>False</td>\n",
       "      <td>moderate</td>\n",
       "      <td>Entire home/apt</td>\n",
       "      <td>2007.0</td>\n",
       "      <td>$142</td>\n",
       "      <td>$28</td>\n",
       "      <td>30.0</td>\n",
       "      <td>45.0</td>\n",
       "      <td>5/21/2022</td>\n",
       "      <td>0.38</td>\n",
       "      <td>4.0</td>\n",
       "      <td>2.0</td>\n",
       "      <td>228.0</td>\n",
       "      <td>Pet friendly but please confirm with me if the...</td>\n",
       "      <td>NaN</td>\n",
       "    </tr>\n",
       "    <tr>\n",
       "      <th>2</th>\n",
       "      <td>1002403</td>\n",
       "      <td>THE VILLAGE OF HARLEM....NEW YORK !</td>\n",
       "      <td>78829239556</td>\n",
       "      <td>NaN</td>\n",
       "      <td>Elise</td>\n",
       "      <td>Manhattan</td>\n",
       "      <td>Harlem</td>\n",
       "      <td>40.80902</td>\n",
       "      <td>-73.94190</td>\n",
       "      <td>United States</td>\n",
       "      <td>US</td>\n",
       "      <td>True</td>\n",
       "      <td>flexible</td>\n",
       "      <td>Private room</td>\n",
       "      <td>2005.0</td>\n",
       "      <td>$620</td>\n",
       "      <td>$124</td>\n",
       "      <td>3.0</td>\n",
       "      <td>0.0</td>\n",
       "      <td>NaN</td>\n",
       "      <td>NaN</td>\n",
       "      <td>5.0</td>\n",
       "      <td>1.0</td>\n",
       "      <td>352.0</td>\n",
       "      <td>I encourage you to use my kitchen, cooking and...</td>\n",
       "      <td>NaN</td>\n",
       "    </tr>\n",
       "    <tr>\n",
       "      <th>3</th>\n",
       "      <td>1002755</td>\n",
       "      <td>NaN</td>\n",
       "      <td>85098326012</td>\n",
       "      <td>unconfirmed</td>\n",
       "      <td>Garry</td>\n",
       "      <td>Brooklyn</td>\n",
       "      <td>Clinton Hill</td>\n",
       "      <td>40.68514</td>\n",
       "      <td>-73.95976</td>\n",
       "      <td>United States</td>\n",
       "      <td>US</td>\n",
       "      <td>True</td>\n",
       "      <td>moderate</td>\n",
       "      <td>Entire home/apt</td>\n",
       "      <td>2005.0</td>\n",
       "      <td>$368</td>\n",
       "      <td>$74</td>\n",
       "      <td>30.0</td>\n",
       "      <td>270.0</td>\n",
       "      <td>7/5/2019</td>\n",
       "      <td>4.64</td>\n",
       "      <td>4.0</td>\n",
       "      <td>1.0</td>\n",
       "      <td>322.0</td>\n",
       "      <td>NaN</td>\n",
       "      <td>NaN</td>\n",
       "    </tr>\n",
       "    <tr>\n",
       "      <th>4</th>\n",
       "      <td>1003689</td>\n",
       "      <td>Entire Apt: Spacious Studio/Loft by central park</td>\n",
       "      <td>92037596077</td>\n",
       "      <td>verified</td>\n",
       "      <td>Lyndon</td>\n",
       "      <td>Manhattan</td>\n",
       "      <td>East Harlem</td>\n",
       "      <td>40.79851</td>\n",
       "      <td>-73.94399</td>\n",
       "      <td>United States</td>\n",
       "      <td>US</td>\n",
       "      <td>False</td>\n",
       "      <td>moderate</td>\n",
       "      <td>Entire home/apt</td>\n",
       "      <td>2009.0</td>\n",
       "      <td>$204</td>\n",
       "      <td>$41</td>\n",
       "      <td>10.0</td>\n",
       "      <td>9.0</td>\n",
       "      <td>11/19/2018</td>\n",
       "      <td>0.10</td>\n",
       "      <td>3.0</td>\n",
       "      <td>1.0</td>\n",
       "      <td>289.0</td>\n",
       "      <td>Please no smoking in the house, porch or on th...</td>\n",
       "      <td>NaN</td>\n",
       "    </tr>\n",
       "  </tbody>\n",
       "</table>\n",
       "</div>"
      ],
      "text/plain": [
       "        id                                              NAME      host id  \\\n",
       "0  1001254                Clean & quiet apt home by the park  80014485718   \n",
       "1  1002102                             Skylit Midtown Castle  52335172823   \n",
       "2  1002403               THE VILLAGE OF HARLEM....NEW YORK !  78829239556   \n",
       "3  1002755                                               NaN  85098326012   \n",
       "4  1003689  Entire Apt: Spacious Studio/Loft by central park  92037596077   \n",
       "\n",
       "  host_identity_verified host name neighbourhood group neighbourhood  \\\n",
       "0            unconfirmed  Madaline            Brooklyn    Kensington   \n",
       "1               verified     Jenna           Manhattan       Midtown   \n",
       "2                    NaN     Elise           Manhattan        Harlem   \n",
       "3            unconfirmed     Garry            Brooklyn  Clinton Hill   \n",
       "4               verified    Lyndon           Manhattan   East Harlem   \n",
       "\n",
       "        lat      long        country country code instant_bookable  \\\n",
       "0  40.64749 -73.97237  United States           US            False   \n",
       "1  40.75362 -73.98377  United States           US            False   \n",
       "2  40.80902 -73.94190  United States           US             True   \n",
       "3  40.68514 -73.95976  United States           US             True   \n",
       "4  40.79851 -73.94399  United States           US            False   \n",
       "\n",
       "  cancellation_policy        room type  Construction year  price service fee  \\\n",
       "0              strict     Private room             2020.0  $966        $193    \n",
       "1            moderate  Entire home/apt             2007.0  $142         $28    \n",
       "2            flexible     Private room             2005.0  $620        $124    \n",
       "3            moderate  Entire home/apt             2005.0  $368         $74    \n",
       "4            moderate  Entire home/apt             2009.0  $204         $41    \n",
       "\n",
       "   minimum nights  number of reviews last review  reviews per month  \\\n",
       "0            10.0                9.0  10/19/2021               0.21   \n",
       "1            30.0               45.0   5/21/2022               0.38   \n",
       "2             3.0                0.0         NaN                NaN   \n",
       "3            30.0              270.0    7/5/2019               4.64   \n",
       "4            10.0                9.0  11/19/2018               0.10   \n",
       "\n",
       "   review rate number  calculated host listings count  availability 365  \\\n",
       "0                 4.0                             6.0             286.0   \n",
       "1                 4.0                             2.0             228.0   \n",
       "2                 5.0                             1.0             352.0   \n",
       "3                 4.0                             1.0             322.0   \n",
       "4                 3.0                             1.0             289.0   \n",
       "\n",
       "                                         house_rules license  \n",
       "0  Clean up and treat the home the way you'd like...     NaN  \n",
       "1  Pet friendly but please confirm with me if the...     NaN  \n",
       "2  I encourage you to use my kitchen, cooking and...     NaN  \n",
       "3                                                NaN     NaN  \n",
       "4  Please no smoking in the house, porch or on th...     NaN  "
      ]
     },
     "execution_count": 5,
     "metadata": {},
     "output_type": "execute_result"
    }
   ],
   "source": [
    "# 2. Display the first five rows of your dataframe.\n",
    "pd.set_option('display.max_columns', None)\n",
    "airbnb.head()"
   ]
  },
  {
   "cell_type": "code",
   "execution_count": 6,
   "id": "0473c3e9",
   "metadata": {
    "execution": {
     "iopub.execute_input": "2023-12-17T16:16:10.896700Z",
     "iopub.status.busy": "2023-12-17T16:16:10.896310Z",
     "iopub.status.idle": "2023-12-17T16:16:10.903142Z",
     "shell.execute_reply": "2023-12-17T16:16:10.901989Z"
    },
    "papermill": {
     "duration": 0.030149,
     "end_time": "2023-12-17T16:16:10.905335",
     "exception": false,
     "start_time": "2023-12-17T16:16:10.875186",
     "status": "completed"
    },
    "tags": []
   },
   "outputs": [
    {
     "data": {
      "text/plain": [
       "Index(['id', 'NAME', 'host id', 'host_identity_verified', 'host name',\n",
       "       'neighbourhood group', 'neighbourhood', 'lat', 'long', 'country',\n",
       "       'country code', 'instant_bookable', 'cancellation_policy', 'room type',\n",
       "       'Construction year', 'price', 'service fee', 'minimum nights',\n",
       "       'number of reviews', 'last review', 'reviews per month',\n",
       "       'review rate number', 'calculated host listings count',\n",
       "       'availability 365', 'house_rules', 'license'],\n",
       "      dtype='object')"
      ]
     },
     "execution_count": 6,
     "metadata": {},
     "output_type": "execute_result"
    }
   ],
   "source": [
    "# Looking at the columns\n",
    "airbnb.columns"
   ]
  },
  {
   "cell_type": "code",
   "execution_count": 7,
   "id": "3b9b86f5",
   "metadata": {
    "execution": {
     "iopub.execute_input": "2023-12-17T16:16:10.945649Z",
     "iopub.status.busy": "2023-12-17T16:16:10.945184Z",
     "iopub.status.idle": "2023-12-17T16:16:11.043899Z",
     "shell.execute_reply": "2023-12-17T16:16:11.042462Z"
    },
    "papermill": {
     "duration": 0.122001,
     "end_time": "2023-12-17T16:16:11.046534",
     "exception": false,
     "start_time": "2023-12-17T16:16:10.924533",
     "status": "completed"
    },
    "tags": []
   },
   "outputs": [
    {
     "name": "stdout",
     "output_type": "stream",
     "text": [
      "<class 'pandas.core.frame.DataFrame'>\n",
      "RangeIndex: 102599 entries, 0 to 102598\n",
      "Data columns (total 26 columns):\n",
      " #   Column                          Non-Null Count   Dtype  \n",
      "---  ------                          --------------   -----  \n",
      " 0   id                              102599 non-null  int64  \n",
      " 1   NAME                            102349 non-null  object \n",
      " 2   host id                         102599 non-null  int64  \n",
      " 3   host_identity_verified          102310 non-null  object \n",
      " 4   host name                       102193 non-null  object \n",
      " 5   neighbourhood group             102570 non-null  object \n",
      " 6   neighbourhood                   102583 non-null  object \n",
      " 7   lat                             102591 non-null  float64\n",
      " 8   long                            102591 non-null  float64\n",
      " 9   country                         102067 non-null  object \n",
      " 10  country code                    102468 non-null  object \n",
      " 11  instant_bookable                102494 non-null  object \n",
      " 12  cancellation_policy             102523 non-null  object \n",
      " 13  room type                       102599 non-null  object \n",
      " 14  Construction year               102385 non-null  float64\n",
      " 15  price                           102352 non-null  object \n",
      " 16  service fee                     102326 non-null  object \n",
      " 17  minimum nights                  102190 non-null  float64\n",
      " 18  number of reviews               102416 non-null  float64\n",
      " 19  last review                     86706 non-null   object \n",
      " 20  reviews per month               86720 non-null   float64\n",
      " 21  review rate number              102273 non-null  float64\n",
      " 22  calculated host listings count  102280 non-null  float64\n",
      " 23  availability 365                102151 non-null  float64\n",
      " 24  house_rules                     50468 non-null   object \n",
      " 25  license                         2 non-null       object \n",
      "dtypes: float64(9), int64(2), object(15)\n",
      "memory usage: 20.4+ MB\n"
     ]
    }
   ],
   "source": [
    "# Summary of the data\n",
    "airbnb.info()"
   ]
  },
  {
   "cell_type": "code",
   "execution_count": 8,
   "id": "e3fb04d5",
   "metadata": {
    "execution": {
     "iopub.execute_input": "2023-12-17T16:16:11.087425Z",
     "iopub.status.busy": "2023-12-17T16:16:11.087008Z",
     "iopub.status.idle": "2023-12-17T16:16:11.094956Z",
     "shell.execute_reply": "2023-12-17T16:16:11.093887Z"
    },
    "papermill": {
     "duration": 0.030725,
     "end_time": "2023-12-17T16:16:11.097269",
     "exception": false,
     "start_time": "2023-12-17T16:16:11.066544",
     "status": "completed"
    },
    "tags": []
   },
   "outputs": [
    {
     "data": {
      "text/plain": [
       "id                                  int64\n",
       "NAME                               object\n",
       "host id                             int64\n",
       "host_identity_verified             object\n",
       "host name                          object\n",
       "neighbourhood group                object\n",
       "neighbourhood                      object\n",
       "lat                               float64\n",
       "long                              float64\n",
       "country                            object\n",
       "country code                       object\n",
       "instant_bookable                   object\n",
       "cancellation_policy                object\n",
       "room type                          object\n",
       "Construction year                 float64\n",
       "price                              object\n",
       "service fee                        object\n",
       "minimum nights                    float64\n",
       "number of reviews                 float64\n",
       "last review                        object\n",
       "reviews per month                 float64\n",
       "review rate number                float64\n",
       "calculated host listings count    float64\n",
       "availability 365                  float64\n",
       "house_rules                        object\n",
       "license                            object\n",
       "dtype: object"
      ]
     },
     "execution_count": 8,
     "metadata": {},
     "output_type": "execute_result"
    }
   ],
   "source": [
    "# 3. Display the data types of the columns.\n",
    "airbnb.dtypes"
   ]
  },
  {
   "cell_type": "markdown",
   "id": "b7206cd6",
   "metadata": {
    "papermill": {
     "duration": 0.019507,
     "end_time": "2023-12-17T16:16:11.136858",
     "exception": false,
     "start_time": "2023-12-17T16:16:11.117351",
     "status": "completed"
    },
    "tags": []
   },
   "source": [
    "## **Task 2a: Data Cleaning (Any Tool)**\n",
    "1. Drop some of the unwanted columns. These include host id, id, country and country code from the dataset.\n",
    "1. State the reason for not including these columns for your Data Analytics.\n",
    "\n",
    "If using Python for this exercise, please include the code in the cells below. If using any other tool, please include screenshots before and after the elimination of the columns."
   ]
  },
  {
   "cell_type": "code",
   "execution_count": 9,
   "id": "ba134f91",
   "metadata": {
    "execution": {
     "iopub.execute_input": "2023-12-17T16:16:11.177201Z",
     "iopub.status.busy": "2023-12-17T16:16:11.176742Z",
     "iopub.status.idle": "2023-12-17T16:16:11.206756Z",
     "shell.execute_reply": "2023-12-17T16:16:11.205432Z"
    },
    "papermill": {
     "duration": 0.053001,
     "end_time": "2023-12-17T16:16:11.209215",
     "exception": false,
     "start_time": "2023-12-17T16:16:11.156214",
     "status": "completed"
    },
    "tags": []
   },
   "outputs": [
    {
     "data": {
      "text/html": [
       "<div>\n",
       "<style scoped>\n",
       "    .dataframe tbody tr th:only-of-type {\n",
       "        vertical-align: middle;\n",
       "    }\n",
       "\n",
       "    .dataframe tbody tr th {\n",
       "        vertical-align: top;\n",
       "    }\n",
       "\n",
       "    .dataframe thead th {\n",
       "        text-align: right;\n",
       "    }\n",
       "</style>\n",
       "<table border=\"1\" class=\"dataframe\">\n",
       "  <thead>\n",
       "    <tr style=\"text-align: right;\">\n",
       "      <th></th>\n",
       "      <th>id</th>\n",
       "      <th>NAME</th>\n",
       "      <th>host id</th>\n",
       "      <th>host_identity_verified</th>\n",
       "      <th>host name</th>\n",
       "      <th>neighbourhood group</th>\n",
       "      <th>neighbourhood</th>\n",
       "      <th>lat</th>\n",
       "      <th>long</th>\n",
       "      <th>country</th>\n",
       "      <th>country code</th>\n",
       "      <th>instant_bookable</th>\n",
       "      <th>cancellation_policy</th>\n",
       "      <th>room type</th>\n",
       "      <th>Construction year</th>\n",
       "      <th>price</th>\n",
       "      <th>service fee</th>\n",
       "      <th>minimum nights</th>\n",
       "      <th>number of reviews</th>\n",
       "      <th>last review</th>\n",
       "      <th>reviews per month</th>\n",
       "      <th>review rate number</th>\n",
       "      <th>calculated host listings count</th>\n",
       "      <th>availability 365</th>\n",
       "      <th>house_rules</th>\n",
       "      <th>license</th>\n",
       "    </tr>\n",
       "  </thead>\n",
       "  <tbody>\n",
       "    <tr>\n",
       "      <th>0</th>\n",
       "      <td>1001254</td>\n",
       "      <td>Clean &amp; quiet apt home by the park</td>\n",
       "      <td>80014485718</td>\n",
       "      <td>unconfirmed</td>\n",
       "      <td>Madaline</td>\n",
       "      <td>Brooklyn</td>\n",
       "      <td>Kensington</td>\n",
       "      <td>40.64749</td>\n",
       "      <td>-73.97237</td>\n",
       "      <td>United States</td>\n",
       "      <td>US</td>\n",
       "      <td>False</td>\n",
       "      <td>strict</td>\n",
       "      <td>Private room</td>\n",
       "      <td>2020.0</td>\n",
       "      <td>$966</td>\n",
       "      <td>$193</td>\n",
       "      <td>10.0</td>\n",
       "      <td>9.0</td>\n",
       "      <td>10/19/2021</td>\n",
       "      <td>0.21</td>\n",
       "      <td>4.0</td>\n",
       "      <td>6.0</td>\n",
       "      <td>286.0</td>\n",
       "      <td>Clean up and treat the home the way you'd like...</td>\n",
       "      <td>NaN</td>\n",
       "    </tr>\n",
       "    <tr>\n",
       "      <th>1</th>\n",
       "      <td>1002102</td>\n",
       "      <td>Skylit Midtown Castle</td>\n",
       "      <td>52335172823</td>\n",
       "      <td>verified</td>\n",
       "      <td>Jenna</td>\n",
       "      <td>Manhattan</td>\n",
       "      <td>Midtown</td>\n",
       "      <td>40.75362</td>\n",
       "      <td>-73.98377</td>\n",
       "      <td>United States</td>\n",
       "      <td>US</td>\n",
       "      <td>False</td>\n",
       "      <td>moderate</td>\n",
       "      <td>Entire home/apt</td>\n",
       "      <td>2007.0</td>\n",
       "      <td>$142</td>\n",
       "      <td>$28</td>\n",
       "      <td>30.0</td>\n",
       "      <td>45.0</td>\n",
       "      <td>5/21/2022</td>\n",
       "      <td>0.38</td>\n",
       "      <td>4.0</td>\n",
       "      <td>2.0</td>\n",
       "      <td>228.0</td>\n",
       "      <td>Pet friendly but please confirm with me if the...</td>\n",
       "      <td>NaN</td>\n",
       "    </tr>\n",
       "    <tr>\n",
       "      <th>2</th>\n",
       "      <td>1002403</td>\n",
       "      <td>THE VILLAGE OF HARLEM....NEW YORK !</td>\n",
       "      <td>78829239556</td>\n",
       "      <td>NaN</td>\n",
       "      <td>Elise</td>\n",
       "      <td>Manhattan</td>\n",
       "      <td>Harlem</td>\n",
       "      <td>40.80902</td>\n",
       "      <td>-73.94190</td>\n",
       "      <td>United States</td>\n",
       "      <td>US</td>\n",
       "      <td>True</td>\n",
       "      <td>flexible</td>\n",
       "      <td>Private room</td>\n",
       "      <td>2005.0</td>\n",
       "      <td>$620</td>\n",
       "      <td>$124</td>\n",
       "      <td>3.0</td>\n",
       "      <td>0.0</td>\n",
       "      <td>NaN</td>\n",
       "      <td>NaN</td>\n",
       "      <td>5.0</td>\n",
       "      <td>1.0</td>\n",
       "      <td>352.0</td>\n",
       "      <td>I encourage you to use my kitchen, cooking and...</td>\n",
       "      <td>NaN</td>\n",
       "    </tr>\n",
       "    <tr>\n",
       "      <th>3</th>\n",
       "      <td>1002755</td>\n",
       "      <td>NaN</td>\n",
       "      <td>85098326012</td>\n",
       "      <td>unconfirmed</td>\n",
       "      <td>Garry</td>\n",
       "      <td>Brooklyn</td>\n",
       "      <td>Clinton Hill</td>\n",
       "      <td>40.68514</td>\n",
       "      <td>-73.95976</td>\n",
       "      <td>United States</td>\n",
       "      <td>US</td>\n",
       "      <td>True</td>\n",
       "      <td>moderate</td>\n",
       "      <td>Entire home/apt</td>\n",
       "      <td>2005.0</td>\n",
       "      <td>$368</td>\n",
       "      <td>$74</td>\n",
       "      <td>30.0</td>\n",
       "      <td>270.0</td>\n",
       "      <td>7/5/2019</td>\n",
       "      <td>4.64</td>\n",
       "      <td>4.0</td>\n",
       "      <td>1.0</td>\n",
       "      <td>322.0</td>\n",
       "      <td>NaN</td>\n",
       "      <td>NaN</td>\n",
       "    </tr>\n",
       "    <tr>\n",
       "      <th>4</th>\n",
       "      <td>1003689</td>\n",
       "      <td>Entire Apt: Spacious Studio/Loft by central park</td>\n",
       "      <td>92037596077</td>\n",
       "      <td>verified</td>\n",
       "      <td>Lyndon</td>\n",
       "      <td>Manhattan</td>\n",
       "      <td>East Harlem</td>\n",
       "      <td>40.79851</td>\n",
       "      <td>-73.94399</td>\n",
       "      <td>United States</td>\n",
       "      <td>US</td>\n",
       "      <td>False</td>\n",
       "      <td>moderate</td>\n",
       "      <td>Entire home/apt</td>\n",
       "      <td>2009.0</td>\n",
       "      <td>$204</td>\n",
       "      <td>$41</td>\n",
       "      <td>10.0</td>\n",
       "      <td>9.0</td>\n",
       "      <td>11/19/2018</td>\n",
       "      <td>0.10</td>\n",
       "      <td>3.0</td>\n",
       "      <td>1.0</td>\n",
       "      <td>289.0</td>\n",
       "      <td>Please no smoking in the house, porch or on th...</td>\n",
       "      <td>NaN</td>\n",
       "    </tr>\n",
       "  </tbody>\n",
       "</table>\n",
       "</div>"
      ],
      "text/plain": [
       "        id                                              NAME      host id  \\\n",
       "0  1001254                Clean & quiet apt home by the park  80014485718   \n",
       "1  1002102                             Skylit Midtown Castle  52335172823   \n",
       "2  1002403               THE VILLAGE OF HARLEM....NEW YORK !  78829239556   \n",
       "3  1002755                                               NaN  85098326012   \n",
       "4  1003689  Entire Apt: Spacious Studio/Loft by central park  92037596077   \n",
       "\n",
       "  host_identity_verified host name neighbourhood group neighbourhood  \\\n",
       "0            unconfirmed  Madaline            Brooklyn    Kensington   \n",
       "1               verified     Jenna           Manhattan       Midtown   \n",
       "2                    NaN     Elise           Manhattan        Harlem   \n",
       "3            unconfirmed     Garry            Brooklyn  Clinton Hill   \n",
       "4               verified    Lyndon           Manhattan   East Harlem   \n",
       "\n",
       "        lat      long        country country code instant_bookable  \\\n",
       "0  40.64749 -73.97237  United States           US            False   \n",
       "1  40.75362 -73.98377  United States           US            False   \n",
       "2  40.80902 -73.94190  United States           US             True   \n",
       "3  40.68514 -73.95976  United States           US             True   \n",
       "4  40.79851 -73.94399  United States           US            False   \n",
       "\n",
       "  cancellation_policy        room type  Construction year  price service fee  \\\n",
       "0              strict     Private room             2020.0  $966        $193    \n",
       "1            moderate  Entire home/apt             2007.0  $142         $28    \n",
       "2            flexible     Private room             2005.0  $620        $124    \n",
       "3            moderate  Entire home/apt             2005.0  $368         $74    \n",
       "4            moderate  Entire home/apt             2009.0  $204         $41    \n",
       "\n",
       "   minimum nights  number of reviews last review  reviews per month  \\\n",
       "0            10.0                9.0  10/19/2021               0.21   \n",
       "1            30.0               45.0   5/21/2022               0.38   \n",
       "2             3.0                0.0         NaN                NaN   \n",
       "3            30.0              270.0    7/5/2019               4.64   \n",
       "4            10.0                9.0  11/19/2018               0.10   \n",
       "\n",
       "   review rate number  calculated host listings count  availability 365  \\\n",
       "0                 4.0                             6.0             286.0   \n",
       "1                 4.0                             2.0             228.0   \n",
       "2                 5.0                             1.0             352.0   \n",
       "3                 4.0                             1.0             322.0   \n",
       "4                 3.0                             1.0             289.0   \n",
       "\n",
       "                                         house_rules license  \n",
       "0  Clean up and treat the home the way you'd like...     NaN  \n",
       "1  Pet friendly but please confirm with me if the...     NaN  \n",
       "2  I encourage you to use my kitchen, cooking and...     NaN  \n",
       "3                                                NaN     NaN  \n",
       "4  Please no smoking in the house, porch or on th...     NaN  "
      ]
     },
     "execution_count": 9,
     "metadata": {},
     "output_type": "execute_result"
    }
   ],
   "source": [
    "airbnb.head()"
   ]
  },
  {
   "cell_type": "code",
   "execution_count": 10,
   "id": "ecdf69d5",
   "metadata": {
    "execution": {
     "iopub.execute_input": "2023-12-17T16:16:11.251916Z",
     "iopub.status.busy": "2023-12-17T16:16:11.251476Z",
     "iopub.status.idle": "2023-12-17T16:16:11.276138Z",
     "shell.execute_reply": "2023-12-17T16:16:11.275252Z"
    },
    "papermill": {
     "duration": 0.049718,
     "end_time": "2023-12-17T16:16:11.278890",
     "exception": false,
     "start_time": "2023-12-17T16:16:11.229172",
     "status": "completed"
    },
    "tags": []
   },
   "outputs": [],
   "source": [
    "# 1. Drop some of the unwanted columns. These include host id, id, country and country code from the dataset.\n",
    "airbnb.drop(columns=['host id','id', 'country', 'country code'], axis=1, inplace=True)"
   ]
  },
  {
   "cell_type": "code",
   "execution_count": 11,
   "id": "d128823a",
   "metadata": {
    "execution": {
     "iopub.execute_input": "2023-12-17T16:16:11.322093Z",
     "iopub.status.busy": "2023-12-17T16:16:11.320850Z",
     "iopub.status.idle": "2023-12-17T16:16:11.345903Z",
     "shell.execute_reply": "2023-12-17T16:16:11.344847Z"
    },
    "papermill": {
     "duration": 0.049472,
     "end_time": "2023-12-17T16:16:11.348126",
     "exception": false,
     "start_time": "2023-12-17T16:16:11.298654",
     "status": "completed"
    },
    "tags": []
   },
   "outputs": [
    {
     "data": {
      "text/html": [
       "<div>\n",
       "<style scoped>\n",
       "    .dataframe tbody tr th:only-of-type {\n",
       "        vertical-align: middle;\n",
       "    }\n",
       "\n",
       "    .dataframe tbody tr th {\n",
       "        vertical-align: top;\n",
       "    }\n",
       "\n",
       "    .dataframe thead th {\n",
       "        text-align: right;\n",
       "    }\n",
       "</style>\n",
       "<table border=\"1\" class=\"dataframe\">\n",
       "  <thead>\n",
       "    <tr style=\"text-align: right;\">\n",
       "      <th></th>\n",
       "      <th>NAME</th>\n",
       "      <th>host_identity_verified</th>\n",
       "      <th>host name</th>\n",
       "      <th>neighbourhood group</th>\n",
       "      <th>neighbourhood</th>\n",
       "      <th>lat</th>\n",
       "      <th>long</th>\n",
       "      <th>instant_bookable</th>\n",
       "      <th>cancellation_policy</th>\n",
       "      <th>room type</th>\n",
       "      <th>Construction year</th>\n",
       "      <th>price</th>\n",
       "      <th>service fee</th>\n",
       "      <th>minimum nights</th>\n",
       "      <th>number of reviews</th>\n",
       "      <th>last review</th>\n",
       "      <th>reviews per month</th>\n",
       "      <th>review rate number</th>\n",
       "      <th>calculated host listings count</th>\n",
       "      <th>availability 365</th>\n",
       "      <th>house_rules</th>\n",
       "      <th>license</th>\n",
       "    </tr>\n",
       "  </thead>\n",
       "  <tbody>\n",
       "    <tr>\n",
       "      <th>0</th>\n",
       "      <td>Clean &amp; quiet apt home by the park</td>\n",
       "      <td>unconfirmed</td>\n",
       "      <td>Madaline</td>\n",
       "      <td>Brooklyn</td>\n",
       "      <td>Kensington</td>\n",
       "      <td>40.64749</td>\n",
       "      <td>-73.97237</td>\n",
       "      <td>False</td>\n",
       "      <td>strict</td>\n",
       "      <td>Private room</td>\n",
       "      <td>2020.0</td>\n",
       "      <td>$966</td>\n",
       "      <td>$193</td>\n",
       "      <td>10.0</td>\n",
       "      <td>9.0</td>\n",
       "      <td>10/19/2021</td>\n",
       "      <td>0.21</td>\n",
       "      <td>4.0</td>\n",
       "      <td>6.0</td>\n",
       "      <td>286.0</td>\n",
       "      <td>Clean up and treat the home the way you'd like...</td>\n",
       "      <td>NaN</td>\n",
       "    </tr>\n",
       "    <tr>\n",
       "      <th>1</th>\n",
       "      <td>Skylit Midtown Castle</td>\n",
       "      <td>verified</td>\n",
       "      <td>Jenna</td>\n",
       "      <td>Manhattan</td>\n",
       "      <td>Midtown</td>\n",
       "      <td>40.75362</td>\n",
       "      <td>-73.98377</td>\n",
       "      <td>False</td>\n",
       "      <td>moderate</td>\n",
       "      <td>Entire home/apt</td>\n",
       "      <td>2007.0</td>\n",
       "      <td>$142</td>\n",
       "      <td>$28</td>\n",
       "      <td>30.0</td>\n",
       "      <td>45.0</td>\n",
       "      <td>5/21/2022</td>\n",
       "      <td>0.38</td>\n",
       "      <td>4.0</td>\n",
       "      <td>2.0</td>\n",
       "      <td>228.0</td>\n",
       "      <td>Pet friendly but please confirm with me if the...</td>\n",
       "      <td>NaN</td>\n",
       "    </tr>\n",
       "    <tr>\n",
       "      <th>2</th>\n",
       "      <td>THE VILLAGE OF HARLEM....NEW YORK !</td>\n",
       "      <td>NaN</td>\n",
       "      <td>Elise</td>\n",
       "      <td>Manhattan</td>\n",
       "      <td>Harlem</td>\n",
       "      <td>40.80902</td>\n",
       "      <td>-73.94190</td>\n",
       "      <td>True</td>\n",
       "      <td>flexible</td>\n",
       "      <td>Private room</td>\n",
       "      <td>2005.0</td>\n",
       "      <td>$620</td>\n",
       "      <td>$124</td>\n",
       "      <td>3.0</td>\n",
       "      <td>0.0</td>\n",
       "      <td>NaN</td>\n",
       "      <td>NaN</td>\n",
       "      <td>5.0</td>\n",
       "      <td>1.0</td>\n",
       "      <td>352.0</td>\n",
       "      <td>I encourage you to use my kitchen, cooking and...</td>\n",
       "      <td>NaN</td>\n",
       "    </tr>\n",
       "    <tr>\n",
       "      <th>3</th>\n",
       "      <td>NaN</td>\n",
       "      <td>unconfirmed</td>\n",
       "      <td>Garry</td>\n",
       "      <td>Brooklyn</td>\n",
       "      <td>Clinton Hill</td>\n",
       "      <td>40.68514</td>\n",
       "      <td>-73.95976</td>\n",
       "      <td>True</td>\n",
       "      <td>moderate</td>\n",
       "      <td>Entire home/apt</td>\n",
       "      <td>2005.0</td>\n",
       "      <td>$368</td>\n",
       "      <td>$74</td>\n",
       "      <td>30.0</td>\n",
       "      <td>270.0</td>\n",
       "      <td>7/5/2019</td>\n",
       "      <td>4.64</td>\n",
       "      <td>4.0</td>\n",
       "      <td>1.0</td>\n",
       "      <td>322.0</td>\n",
       "      <td>NaN</td>\n",
       "      <td>NaN</td>\n",
       "    </tr>\n",
       "    <tr>\n",
       "      <th>4</th>\n",
       "      <td>Entire Apt: Spacious Studio/Loft by central park</td>\n",
       "      <td>verified</td>\n",
       "      <td>Lyndon</td>\n",
       "      <td>Manhattan</td>\n",
       "      <td>East Harlem</td>\n",
       "      <td>40.79851</td>\n",
       "      <td>-73.94399</td>\n",
       "      <td>False</td>\n",
       "      <td>moderate</td>\n",
       "      <td>Entire home/apt</td>\n",
       "      <td>2009.0</td>\n",
       "      <td>$204</td>\n",
       "      <td>$41</td>\n",
       "      <td>10.0</td>\n",
       "      <td>9.0</td>\n",
       "      <td>11/19/2018</td>\n",
       "      <td>0.10</td>\n",
       "      <td>3.0</td>\n",
       "      <td>1.0</td>\n",
       "      <td>289.0</td>\n",
       "      <td>Please no smoking in the house, porch or on th...</td>\n",
       "      <td>NaN</td>\n",
       "    </tr>\n",
       "  </tbody>\n",
       "</table>\n",
       "</div>"
      ],
      "text/plain": [
       "                                               NAME host_identity_verified  \\\n",
       "0                Clean & quiet apt home by the park            unconfirmed   \n",
       "1                             Skylit Midtown Castle               verified   \n",
       "2               THE VILLAGE OF HARLEM....NEW YORK !                    NaN   \n",
       "3                                               NaN            unconfirmed   \n",
       "4  Entire Apt: Spacious Studio/Loft by central park               verified   \n",
       "\n",
       "  host name neighbourhood group neighbourhood       lat      long  \\\n",
       "0  Madaline            Brooklyn    Kensington  40.64749 -73.97237   \n",
       "1     Jenna           Manhattan       Midtown  40.75362 -73.98377   \n",
       "2     Elise           Manhattan        Harlem  40.80902 -73.94190   \n",
       "3     Garry            Brooklyn  Clinton Hill  40.68514 -73.95976   \n",
       "4    Lyndon           Manhattan   East Harlem  40.79851 -73.94399   \n",
       "\n",
       "  instant_bookable cancellation_policy        room type  Construction year  \\\n",
       "0            False              strict     Private room             2020.0   \n",
       "1            False            moderate  Entire home/apt             2007.0   \n",
       "2             True            flexible     Private room             2005.0   \n",
       "3             True            moderate  Entire home/apt             2005.0   \n",
       "4            False            moderate  Entire home/apt             2009.0   \n",
       "\n",
       "   price service fee  minimum nights  number of reviews last review  \\\n",
       "0  $966        $193             10.0                9.0  10/19/2021   \n",
       "1  $142         $28             30.0               45.0   5/21/2022   \n",
       "2  $620        $124              3.0                0.0         NaN   \n",
       "3  $368         $74             30.0              270.0    7/5/2019   \n",
       "4  $204         $41             10.0                9.0  11/19/2018   \n",
       "\n",
       "   reviews per month  review rate number  calculated host listings count  \\\n",
       "0               0.21                 4.0                             6.0   \n",
       "1               0.38                 4.0                             2.0   \n",
       "2                NaN                 5.0                             1.0   \n",
       "3               4.64                 4.0                             1.0   \n",
       "4               0.10                 3.0                             1.0   \n",
       "\n",
       "   availability 365                                        house_rules license  \n",
       "0             286.0  Clean up and treat the home the way you'd like...     NaN  \n",
       "1             228.0  Pet friendly but please confirm with me if the...     NaN  \n",
       "2             352.0  I encourage you to use my kitchen, cooking and...     NaN  \n",
       "3             322.0                                                NaN     NaN  \n",
       "4             289.0  Please no smoking in the house, porch or on th...     NaN  "
      ]
     },
     "execution_count": 11,
     "metadata": {},
     "output_type": "execute_result"
    }
   ],
   "source": [
    "airbnb.head()"
   ]
  },
  {
   "cell_type": "code",
   "execution_count": 12,
   "id": "637f8eea",
   "metadata": {
    "execution": {
     "iopub.execute_input": "2023-12-17T16:16:11.390776Z",
     "iopub.status.busy": "2023-12-17T16:16:11.390017Z",
     "iopub.status.idle": "2023-12-17T16:16:11.397515Z",
     "shell.execute_reply": "2023-12-17T16:16:11.396450Z"
    },
    "papermill": {
     "duration": 0.031472,
     "end_time": "2023-12-17T16:16:11.399725",
     "exception": false,
     "start_time": "2023-12-17T16:16:11.368253",
     "status": "completed"
    },
    "tags": []
   },
   "outputs": [
    {
     "data": {
      "text/plain": [
       "'I am not including host id, or id because they are unique ids and I am going to be looking at the overall data rather than identifying individual properties. I am not including country or country code because the data is a sample rather than the population of Air BnB data because of this the country and country code are the same, United States and US. '"
      ]
     },
     "execution_count": 12,
     "metadata": {},
     "output_type": "execute_result"
    }
   ],
   "source": [
    "# 2. State the reason for not including these columns for your Data Analytics.\n",
    "'''I am not including host id, or id because they are unique ids and I am going to be looking at the overall data rather than identifying individual properties. I am not including country or country code because the data is a sample rather than the population of Air BnB data because of this the country and country code are the same, United States and US. '''"
   ]
  },
  {
   "cell_type": "markdown",
   "id": "bf0e8ec1",
   "metadata": {
    "papermill": {
     "duration": 0.020058,
     "end_time": "2023-12-17T16:16:11.439974",
     "exception": false,
     "start_time": "2023-12-17T16:16:11.419916",
     "status": "completed"
    },
    "tags": []
   },
   "source": [
    "## **Task 2b: Data Cleaning (Python)**\n",
    "1. Check for missing values in the dataframe and display the count in ascending order. If the values are missing, impute the values as per the datatype of the columns.\n",
    "1. Check whether there are any duplicate values in the dataframe and, if present, remove them.\n",
    "1. Display the total number of records in the dataframe before and after removing the duplicates."
   ]
  },
  {
   "cell_type": "code",
   "execution_count": 13,
   "id": "d9438ed8",
   "metadata": {
    "execution": {
     "iopub.execute_input": "2023-12-17T16:16:11.482346Z",
     "iopub.status.busy": "2023-12-17T16:16:11.481607Z",
     "iopub.status.idle": "2023-12-17T16:16:11.490260Z",
     "shell.execute_reply": "2023-12-17T16:16:11.489025Z"
    },
    "papermill": {
     "duration": 0.032362,
     "end_time": "2023-12-17T16:16:11.492556",
     "exception": false,
     "start_time": "2023-12-17T16:16:11.460194",
     "status": "completed"
    },
    "tags": []
   },
   "outputs": [
    {
     "data": {
      "text/plain": [
       "NAME                               object\n",
       "host_identity_verified             object\n",
       "host name                          object\n",
       "neighbourhood group                object\n",
       "neighbourhood                      object\n",
       "lat                               float64\n",
       "long                              float64\n",
       "instant_bookable                   object\n",
       "cancellation_policy                object\n",
       "room type                          object\n",
       "Construction year                 float64\n",
       "price                              object\n",
       "service fee                        object\n",
       "minimum nights                    float64\n",
       "number of reviews                 float64\n",
       "last review                        object\n",
       "reviews per month                 float64\n",
       "review rate number                float64\n",
       "calculated host listings count    float64\n",
       "availability 365                  float64\n",
       "house_rules                        object\n",
       "license                            object\n",
       "dtype: object"
      ]
     },
     "execution_count": 13,
     "metadata": {},
     "output_type": "execute_result"
    }
   ],
   "source": [
    "# Display the data types of the columns.\n",
    "airbnb.dtypes"
   ]
  },
  {
   "cell_type": "code",
   "execution_count": 14,
   "id": "ed177fbe",
   "metadata": {
    "execution": {
     "iopub.execute_input": "2023-12-17T16:16:11.536158Z",
     "iopub.status.busy": "2023-12-17T16:16:11.535779Z",
     "iopub.status.idle": "2023-12-17T16:16:11.604799Z",
     "shell.execute_reply": "2023-12-17T16:16:11.603623Z"
    },
    "papermill": {
     "duration": 0.093914,
     "end_time": "2023-12-17T16:16:11.607020",
     "exception": false,
     "start_time": "2023-12-17T16:16:11.513106",
     "status": "completed"
    },
    "tags": []
   },
   "outputs": [
    {
     "data": {
      "text/plain": [
       "<bound method Series.sort_values of NAME                                 250\n",
       "host_identity_verified               289\n",
       "host name                            406\n",
       "neighbourhood group                   29\n",
       "neighbourhood                         16\n",
       "lat                                    8\n",
       "long                                   8\n",
       "instant_bookable                     105\n",
       "cancellation_policy                   76\n",
       "room type                              0\n",
       "Construction year                    214\n",
       "price                                247\n",
       "service fee                          273\n",
       "minimum nights                       409\n",
       "number of reviews                    183\n",
       "last review                        15893\n",
       "reviews per month                  15879\n",
       "review rate number                   326\n",
       "calculated host listings count       319\n",
       "availability 365                     448\n",
       "house_rules                        52131\n",
       "license                           102597\n",
       "dtype: int64>"
      ]
     },
     "execution_count": 14,
     "metadata": {},
     "output_type": "execute_result"
    }
   ],
   "source": [
    "# 1. Check for missing values in the dataframe and display the count in ascending order. \n",
    "airbnb.isnull().sum().sort_values"
   ]
  },
  {
   "cell_type": "code",
   "execution_count": 15,
   "id": "2acb795e",
   "metadata": {
    "execution": {
     "iopub.execute_input": "2023-12-17T16:16:11.650494Z",
     "iopub.status.busy": "2023-12-17T16:16:11.649681Z",
     "iopub.status.idle": "2023-12-17T16:16:11.995731Z",
     "shell.execute_reply": "2023-12-17T16:16:11.994559Z"
    },
    "papermill": {
     "duration": 0.370261,
     "end_time": "2023-12-17T16:16:11.997918",
     "exception": false,
     "start_time": "2023-12-17T16:16:11.627657",
     "status": "completed"
    },
    "tags": []
   },
   "outputs": [
    {
     "name": "stdout",
     "output_type": "stream",
     "text": [
      "NAME\n",
      "host_identity_verified\n",
      "host name\n",
      "neighbourhood group\n",
      "neighbourhood\n",
      "lat\n",
      "long\n",
      "instant_bookable\n",
      "cancellation_policy\n",
      "room type\n",
      "Construction year\n",
      "price\n",
      "service fee\n",
      "minimum nights\n",
      "number of reviews\n",
      "last review\n",
      "reviews per month\n",
      "review rate number\n",
      "calculated host listings count\n",
      "availability 365\n",
      "house_rules\n",
      "license\n"
     ]
    }
   ],
   "source": [
    "# If the values are missing, impute the values as per the datatype of the columns.\n",
    "for col in airbnb.columns:\n",
    "    if airbnb[str(col)].dtype == 'object':\n",
    "        print(col)\n",
    "        airbnb[str(col)].fillna(value=airbnb[str(col)].mode()[0],inplace=True)\n",
    "    elif airbnb[str(col)].dtype == 'int':\n",
    "        print(col)\n",
    "        airbnb[str(col)].fillna(value=airbnb[str(col)].median(),inplace=True)\n",
    "    else :\n",
    "        print(col)\n",
    "        airbnb[str(col)].fillna(value=airbnb[str(col)].median(),inplace=True)"
   ]
  },
  {
   "cell_type": "code",
   "execution_count": 16,
   "id": "bde72a78",
   "metadata": {
    "execution": {
     "iopub.execute_input": "2023-12-17T16:16:12.043336Z",
     "iopub.status.busy": "2023-12-17T16:16:12.042933Z",
     "iopub.status.idle": "2023-12-17T16:16:12.109428Z",
     "shell.execute_reply": "2023-12-17T16:16:12.108237Z"
    },
    "papermill": {
     "duration": 0.092702,
     "end_time": "2023-12-17T16:16:12.111792",
     "exception": false,
     "start_time": "2023-12-17T16:16:12.019090",
     "status": "completed"
    },
    "tags": []
   },
   "outputs": [
    {
     "data": {
      "text/plain": [
       "NAME                              0\n",
       "host_identity_verified            0\n",
       "house_rules                       0\n",
       "availability 365                  0\n",
       "calculated host listings count    0\n",
       "review rate number                0\n",
       "reviews per month                 0\n",
       "last review                       0\n",
       "number of reviews                 0\n",
       "minimum nights                    0\n",
       "service fee                       0\n",
       "price                             0\n",
       "Construction year                 0\n",
       "room type                         0\n",
       "cancellation_policy               0\n",
       "instant_bookable                  0\n",
       "long                              0\n",
       "lat                               0\n",
       "neighbourhood                     0\n",
       "neighbourhood group               0\n",
       "host name                         0\n",
       "license                           0\n",
       "dtype: int64"
      ]
     },
     "execution_count": 16,
     "metadata": {},
     "output_type": "execute_result"
    }
   ],
   "source": [
    "airbnb.isnull().sum().sort_values(ascending=0)"
   ]
  },
  {
   "cell_type": "code",
   "execution_count": 17,
   "id": "f3ff76d9",
   "metadata": {
    "execution": {
     "iopub.execute_input": "2023-12-17T16:16:12.157322Z",
     "iopub.status.busy": "2023-12-17T16:16:12.156489Z",
     "iopub.status.idle": "2023-12-17T16:16:12.358501Z",
     "shell.execute_reply": "2023-12-17T16:16:12.357387Z"
    },
    "papermill": {
     "duration": 0.227847,
     "end_time": "2023-12-17T16:16:12.360721",
     "exception": false,
     "start_time": "2023-12-17T16:16:12.132874",
     "status": "completed"
    },
    "tags": []
   },
   "outputs": [
    {
     "data": {
      "text/plain": [
       "3461"
      ]
     },
     "execution_count": 17,
     "metadata": {},
     "output_type": "execute_result"
    }
   ],
   "source": [
    "# 2. Check whether there are any duplicate values in the dataframe and, if present, remove them.\n",
    "airbnb.duplicated().sum()"
   ]
  },
  {
   "cell_type": "code",
   "execution_count": 18,
   "id": "fc77a2b3",
   "metadata": {
    "execution": {
     "iopub.execute_input": "2023-12-17T16:16:12.404615Z",
     "iopub.status.busy": "2023-12-17T16:16:12.403975Z",
     "iopub.status.idle": "2023-12-17T16:16:12.410184Z",
     "shell.execute_reply": "2023-12-17T16:16:12.409288Z"
    },
    "papermill": {
     "duration": 0.030676,
     "end_time": "2023-12-17T16:16:12.412260",
     "exception": false,
     "start_time": "2023-12-17T16:16:12.381584",
     "status": "completed"
    },
    "tags": []
   },
   "outputs": [
    {
     "data": {
      "text/plain": [
       "(102599, 22)"
      ]
     },
     "execution_count": 18,
     "metadata": {},
     "output_type": "execute_result"
    }
   ],
   "source": [
    "# 3. Display the total number of records in the dataframe before\n",
    "airbnb.shape"
   ]
  },
  {
   "cell_type": "code",
   "execution_count": 19,
   "id": "024ffdf6",
   "metadata": {
    "execution": {
     "iopub.execute_input": "2023-12-17T16:16:12.456054Z",
     "iopub.status.busy": "2023-12-17T16:16:12.455677Z",
     "iopub.status.idle": "2023-12-17T16:16:12.649520Z",
     "shell.execute_reply": "2023-12-17T16:16:12.648579Z"
    },
    "papermill": {
     "duration": 0.218734,
     "end_time": "2023-12-17T16:16:12.651962",
     "exception": false,
     "start_time": "2023-12-17T16:16:12.433228",
     "status": "completed"
    },
    "tags": []
   },
   "outputs": [],
   "source": [
    "# 2. Remove dupliucate values/\n",
    "airbnb.drop_duplicates(inplace=True)"
   ]
  },
  {
   "cell_type": "code",
   "execution_count": 20,
   "id": "b806792d",
   "metadata": {
    "execution": {
     "iopub.execute_input": "2023-12-17T16:16:12.697214Z",
     "iopub.status.busy": "2023-12-17T16:16:12.696561Z",
     "iopub.status.idle": "2023-12-17T16:16:12.701765Z",
     "shell.execute_reply": "2023-12-17T16:16:12.701019Z"
    },
    "papermill": {
     "duration": 0.030623,
     "end_time": "2023-12-17T16:16:12.703703",
     "exception": false,
     "start_time": "2023-12-17T16:16:12.673080",
     "status": "completed"
    },
    "tags": []
   },
   "outputs": [
    {
     "data": {
      "text/plain": [
       "(99138, 22)"
      ]
     },
     "execution_count": 20,
     "metadata": {},
     "output_type": "execute_result"
    }
   ],
   "source": [
    "# 3. Display the total number of records in the dataframe after removing the duplicates.\n",
    "airbnb.shape"
   ]
  },
  {
   "cell_type": "markdown",
   "id": "6b92f71d",
   "metadata": {
    "papermill": {
     "duration": 0.020817,
     "end_time": "2023-12-17T16:16:12.745637",
     "exception": false,
     "start_time": "2023-12-17T16:16:12.724820",
     "status": "completed"
    },
    "tags": []
   },
   "source": [
    "## **Task 3: Data Transformation (Any Tool)**\n",
    "1. Rename the column availability 365 to days_booked\n",
    "1. Convert all column names to lowercase and replace the spaces in the column names with an underscore \"_\".\n",
    "1. Remove the dollar sign and comma from the columns price and service_fee. If necessary, convert these two columns to the appropriate data type."
   ]
  },
  {
   "cell_type": "code",
   "execution_count": 21,
   "id": "163e78dd",
   "metadata": {
    "execution": {
     "iopub.execute_input": "2023-12-17T16:16:12.795132Z",
     "iopub.status.busy": "2023-12-17T16:16:12.794633Z",
     "iopub.status.idle": "2023-12-17T16:16:12.801833Z",
     "shell.execute_reply": "2023-12-17T16:16:12.800907Z"
    },
    "papermill": {
     "duration": 0.036971,
     "end_time": "2023-12-17T16:16:12.804274",
     "exception": false,
     "start_time": "2023-12-17T16:16:12.767303",
     "status": "completed"
    },
    "tags": []
   },
   "outputs": [
    {
     "data": {
      "text/plain": [
       "Index(['NAME', 'host_identity_verified', 'host name', 'neighbourhood group',\n",
       "       'neighbourhood', 'lat', 'long', 'instant_bookable',\n",
       "       'cancellation_policy', 'room type', 'Construction year', 'price',\n",
       "       'service fee', 'minimum nights', 'number of reviews', 'last review',\n",
       "       'reviews per month', 'review rate number',\n",
       "       'calculated host listings count', 'availability 365', 'house_rules',\n",
       "       'license'],\n",
       "      dtype='object')"
      ]
     },
     "execution_count": 21,
     "metadata": {},
     "output_type": "execute_result"
    }
   ],
   "source": [
    "# Looking at the columns\n",
    "airbnb.columns"
   ]
  },
  {
   "cell_type": "code",
   "execution_count": 22,
   "id": "59da7067",
   "metadata": {
    "execution": {
     "iopub.execute_input": "2023-12-17T16:16:12.852150Z",
     "iopub.status.busy": "2023-12-17T16:16:12.851039Z",
     "iopub.status.idle": "2023-12-17T16:16:12.858098Z",
     "shell.execute_reply": "2023-12-17T16:16:12.857085Z"
    },
    "papermill": {
     "duration": 0.032146,
     "end_time": "2023-12-17T16:16:12.860183",
     "exception": false,
     "start_time": "2023-12-17T16:16:12.828037",
     "status": "completed"
    },
    "tags": []
   },
   "outputs": [],
   "source": [
    "# 1. Rename the column availability 365 to days_booked\n",
    "airbnb.rename(columns={'availability 365':'days_booked'}, inplace=True)"
   ]
  },
  {
   "cell_type": "code",
   "execution_count": 23,
   "id": "7da26928",
   "metadata": {
    "execution": {
     "iopub.execute_input": "2023-12-17T16:16:12.906344Z",
     "iopub.status.busy": "2023-12-17T16:16:12.905055Z",
     "iopub.status.idle": "2023-12-17T16:16:12.912806Z",
     "shell.execute_reply": "2023-12-17T16:16:12.911637Z"
    },
    "papermill": {
     "duration": 0.033209,
     "end_time": "2023-12-17T16:16:12.914970",
     "exception": false,
     "start_time": "2023-12-17T16:16:12.881761",
     "status": "completed"
    },
    "tags": []
   },
   "outputs": [
    {
     "data": {
      "text/plain": [
       "Index(['NAME', 'host_identity_verified', 'host name', 'neighbourhood group',\n",
       "       'neighbourhood', 'lat', 'long', 'instant_bookable',\n",
       "       'cancellation_policy', 'room type', 'Construction year', 'price',\n",
       "       'service fee', 'minimum nights', 'number of reviews', 'last review',\n",
       "       'reviews per month', 'review rate number',\n",
       "       'calculated host listings count', 'days_booked', 'house_rules',\n",
       "       'license'],\n",
       "      dtype='object')"
      ]
     },
     "execution_count": 23,
     "metadata": {},
     "output_type": "execute_result"
    }
   ],
   "source": [
    "airbnb.columns"
   ]
  },
  {
   "cell_type": "code",
   "execution_count": 24,
   "id": "d40820af",
   "metadata": {
    "execution": {
     "iopub.execute_input": "2023-12-17T16:16:12.962100Z",
     "iopub.status.busy": "2023-12-17T16:16:12.961483Z",
     "iopub.status.idle": "2023-12-17T16:16:12.966166Z",
     "shell.execute_reply": "2023-12-17T16:16:12.965305Z"
    },
    "papermill": {
     "duration": 0.031333,
     "end_time": "2023-12-17T16:16:12.968466",
     "exception": false,
     "start_time": "2023-12-17T16:16:12.937133",
     "status": "completed"
    },
    "tags": []
   },
   "outputs": [],
   "source": [
    "# 2.Convert all column names to lowercase and replace the spaces in the column names with an underscore \"_\".\n",
    "airbnb.columns = [col.lower(). replace(\" \", \"_\") for col in airbnb.columns]"
   ]
  },
  {
   "cell_type": "code",
   "execution_count": 25,
   "id": "518b0546",
   "metadata": {
    "execution": {
     "iopub.execute_input": "2023-12-17T16:16:13.013783Z",
     "iopub.status.busy": "2023-12-17T16:16:13.013349Z",
     "iopub.status.idle": "2023-12-17T16:16:13.019413Z",
     "shell.execute_reply": "2023-12-17T16:16:13.018271Z"
    },
    "papermill": {
     "duration": 0.031428,
     "end_time": "2023-12-17T16:16:13.021574",
     "exception": false,
     "start_time": "2023-12-17T16:16:12.990146",
     "status": "completed"
    },
    "tags": []
   },
   "outputs": [
    {
     "data": {
      "text/plain": [
       "Index(['name', 'host_identity_verified', 'host_name', 'neighbourhood_group',\n",
       "       'neighbourhood', 'lat', 'long', 'instant_bookable',\n",
       "       'cancellation_policy', 'room_type', 'construction_year', 'price',\n",
       "       'service_fee', 'minimum_nights', 'number_of_reviews', 'last_review',\n",
       "       'reviews_per_month', 'review_rate_number',\n",
       "       'calculated_host_listings_count', 'days_booked', 'house_rules',\n",
       "       'license'],\n",
       "      dtype='object')"
      ]
     },
     "execution_count": 25,
     "metadata": {},
     "output_type": "execute_result"
    }
   ],
   "source": [
    "airbnb.columns"
   ]
  },
  {
   "cell_type": "code",
   "execution_count": 26,
   "id": "f18b473f",
   "metadata": {
    "execution": {
     "iopub.execute_input": "2023-12-17T16:16:13.068176Z",
     "iopub.status.busy": "2023-12-17T16:16:13.067581Z",
     "iopub.status.idle": "2023-12-17T16:16:13.074218Z",
     "shell.execute_reply": "2023-12-17T16:16:13.073524Z"
    },
    "papermill": {
     "duration": 0.032266,
     "end_time": "2023-12-17T16:16:13.076138",
     "exception": false,
     "start_time": "2023-12-17T16:16:13.043872",
     "status": "completed"
    },
    "tags": []
   },
   "outputs": [
    {
     "data": {
      "text/plain": [
       "name                               object\n",
       "host_identity_verified             object\n",
       "host_name                          object\n",
       "neighbourhood_group                object\n",
       "neighbourhood                      object\n",
       "lat                               float64\n",
       "long                              float64\n",
       "instant_bookable                     bool\n",
       "cancellation_policy                object\n",
       "room_type                          object\n",
       "construction_year                 float64\n",
       "price                              object\n",
       "service_fee                        object\n",
       "minimum_nights                    float64\n",
       "number_of_reviews                 float64\n",
       "last_review                        object\n",
       "reviews_per_month                 float64\n",
       "review_rate_number                float64\n",
       "calculated_host_listings_count    float64\n",
       "days_booked                       float64\n",
       "house_rules                        object\n",
       "license                            object\n",
       "dtype: object"
      ]
     },
     "execution_count": 26,
     "metadata": {},
     "output_type": "execute_result"
    }
   ],
   "source": [
    "# Display the data types of the columns.\n",
    "airbnb.dtypes"
   ]
  },
  {
   "cell_type": "code",
   "execution_count": 27,
   "id": "2a8e4609",
   "metadata": {
    "execution": {
     "iopub.execute_input": "2023-12-17T16:16:13.121809Z",
     "iopub.status.busy": "2023-12-17T16:16:13.121226Z",
     "iopub.status.idle": "2023-12-17T16:16:13.132415Z",
     "shell.execute_reply": "2023-12-17T16:16:13.131579Z"
    },
    "papermill": {
     "duration": 0.037004,
     "end_time": "2023-12-17T16:16:13.134739",
     "exception": false,
     "start_time": "2023-12-17T16:16:13.097735",
     "status": "completed"
    },
    "tags": []
   },
   "outputs": [
    {
     "data": {
      "text/html": [
       "<div>\n",
       "<style scoped>\n",
       "    .dataframe tbody tr th:only-of-type {\n",
       "        vertical-align: middle;\n",
       "    }\n",
       "\n",
       "    .dataframe tbody tr th {\n",
       "        vertical-align: top;\n",
       "    }\n",
       "\n",
       "    .dataframe thead th {\n",
       "        text-align: right;\n",
       "    }\n",
       "</style>\n",
       "<table border=\"1\" class=\"dataframe\">\n",
       "  <thead>\n",
       "    <tr style=\"text-align: right;\">\n",
       "      <th></th>\n",
       "      <th>price</th>\n",
       "      <th>service_fee</th>\n",
       "    </tr>\n",
       "  </thead>\n",
       "  <tbody>\n",
       "    <tr>\n",
       "      <th>0</th>\n",
       "      <td>$966</td>\n",
       "      <td>$193</td>\n",
       "    </tr>\n",
       "    <tr>\n",
       "      <th>1</th>\n",
       "      <td>$142</td>\n",
       "      <td>$28</td>\n",
       "    </tr>\n",
       "    <tr>\n",
       "      <th>2</th>\n",
       "      <td>$620</td>\n",
       "      <td>$124</td>\n",
       "    </tr>\n",
       "    <tr>\n",
       "      <th>3</th>\n",
       "      <td>$368</td>\n",
       "      <td>$74</td>\n",
       "    </tr>\n",
       "    <tr>\n",
       "      <th>4</th>\n",
       "      <td>$204</td>\n",
       "      <td>$41</td>\n",
       "    </tr>\n",
       "  </tbody>\n",
       "</table>\n",
       "</div>"
      ],
      "text/plain": [
       "   price service_fee\n",
       "0  $966        $193 \n",
       "1  $142         $28 \n",
       "2  $620        $124 \n",
       "3  $368         $74 \n",
       "4  $204         $41 "
      ]
     },
     "execution_count": 27,
     "metadata": {},
     "output_type": "execute_result"
    }
   ],
   "source": [
    "airbnb[['price', 'service_fee']].head()"
   ]
  },
  {
   "cell_type": "code",
   "execution_count": 28,
   "id": "7a9d7504",
   "metadata": {
    "execution": {
     "iopub.execute_input": "2023-12-17T16:16:13.180232Z",
     "iopub.status.busy": "2023-12-17T16:16:13.179490Z",
     "iopub.status.idle": "2023-12-17T16:16:13.337718Z",
     "shell.execute_reply": "2023-12-17T16:16:13.336710Z"
    },
    "papermill": {
     "duration": 0.183951,
     "end_time": "2023-12-17T16:16:13.340456",
     "exception": false,
     "start_time": "2023-12-17T16:16:13.156505",
     "status": "completed"
    },
    "tags": []
   },
   "outputs": [],
   "source": [
    "# 3. Remove the dollar sign and comma from the columns price and service_fee. \n",
    "# If necessary, convert these two columns to the appropriate data type.\n",
    "\n",
    "airbnb[\"price\"] = airbnb[\"price\"].astype(str)\n",
    "airbnb[\"price\"] = airbnb[\"price\"].str.strip(\"$\").str.replace(\",\", \"\")\n",
    "airbnb[\"price\"] = airbnb[\"price\"].astype(float)\n",
    "airbnb[\"service_fee\"] = airbnb[\"service_fee\"].astype(str)\n",
    "airbnb[\"service_fee\"] = airbnb[\"service_fee\"].str.strip(\"$\")\n",
    "airbnb[\"service_fee\"] = airbnb[\"service_fee\"].astype(float)\n",
    "airbnb[\"construction_year\"] = airbnb[\"construction_year\"].astype(int)\n",
    "airbnb[\"days_booked\"] = airbnb[\"days_booked\"].astype(int)\n",
    "airbnb[\"minimum_nights\"] = airbnb[\"minimum_nights\"].astype(int)"
   ]
  },
  {
   "cell_type": "code",
   "execution_count": 29,
   "id": "8082319a",
   "metadata": {
    "execution": {
     "iopub.execute_input": "2023-12-17T16:16:13.386219Z",
     "iopub.status.busy": "2023-12-17T16:16:13.385843Z",
     "iopub.status.idle": "2023-12-17T16:16:13.393783Z",
     "shell.execute_reply": "2023-12-17T16:16:13.392723Z"
    },
    "papermill": {
     "duration": 0.034056,
     "end_time": "2023-12-17T16:16:13.396280",
     "exception": false,
     "start_time": "2023-12-17T16:16:13.362224",
     "status": "completed"
    },
    "tags": []
   },
   "outputs": [
    {
     "data": {
      "text/plain": [
       "name                               object\n",
       "host_identity_verified             object\n",
       "host_name                          object\n",
       "neighbourhood_group                object\n",
       "neighbourhood                      object\n",
       "lat                               float64\n",
       "long                              float64\n",
       "instant_bookable                     bool\n",
       "cancellation_policy                object\n",
       "room_type                          object\n",
       "construction_year                   int64\n",
       "price                             float64\n",
       "service_fee                       float64\n",
       "minimum_nights                      int64\n",
       "number_of_reviews                 float64\n",
       "last_review                        object\n",
       "reviews_per_month                 float64\n",
       "review_rate_number                float64\n",
       "calculated_host_listings_count    float64\n",
       "days_booked                         int64\n",
       "house_rules                        object\n",
       "license                            object\n",
       "dtype: object"
      ]
     },
     "execution_count": 29,
     "metadata": {},
     "output_type": "execute_result"
    }
   ],
   "source": [
    "airbnb.dtypes"
   ]
  },
  {
   "cell_type": "code",
   "execution_count": 30,
   "id": "40ba9c49",
   "metadata": {
    "execution": {
     "iopub.execute_input": "2023-12-17T16:16:13.442295Z",
     "iopub.status.busy": "2023-12-17T16:16:13.441537Z",
     "iopub.status.idle": "2023-12-17T16:16:13.455055Z",
     "shell.execute_reply": "2023-12-17T16:16:13.453824Z"
    },
    "papermill": {
     "duration": 0.039444,
     "end_time": "2023-12-17T16:16:13.457703",
     "exception": false,
     "start_time": "2023-12-17T16:16:13.418259",
     "status": "completed"
    },
    "tags": []
   },
   "outputs": [
    {
     "data": {
      "text/html": [
       "<div>\n",
       "<style scoped>\n",
       "    .dataframe tbody tr th:only-of-type {\n",
       "        vertical-align: middle;\n",
       "    }\n",
       "\n",
       "    .dataframe tbody tr th {\n",
       "        vertical-align: top;\n",
       "    }\n",
       "\n",
       "    .dataframe thead th {\n",
       "        text-align: right;\n",
       "    }\n",
       "</style>\n",
       "<table border=\"1\" class=\"dataframe\">\n",
       "  <thead>\n",
       "    <tr style=\"text-align: right;\">\n",
       "      <th></th>\n",
       "      <th>price</th>\n",
       "      <th>service_fee</th>\n",
       "    </tr>\n",
       "  </thead>\n",
       "  <tbody>\n",
       "    <tr>\n",
       "      <th>0</th>\n",
       "      <td>966.0</td>\n",
       "      <td>193.0</td>\n",
       "    </tr>\n",
       "    <tr>\n",
       "      <th>1</th>\n",
       "      <td>142.0</td>\n",
       "      <td>28.0</td>\n",
       "    </tr>\n",
       "    <tr>\n",
       "      <th>2</th>\n",
       "      <td>620.0</td>\n",
       "      <td>124.0</td>\n",
       "    </tr>\n",
       "    <tr>\n",
       "      <th>3</th>\n",
       "      <td>368.0</td>\n",
       "      <td>74.0</td>\n",
       "    </tr>\n",
       "    <tr>\n",
       "      <th>4</th>\n",
       "      <td>204.0</td>\n",
       "      <td>41.0</td>\n",
       "    </tr>\n",
       "  </tbody>\n",
       "</table>\n",
       "</div>"
      ],
      "text/plain": [
       "   price  service_fee\n",
       "0  966.0        193.0\n",
       "1  142.0         28.0\n",
       "2  620.0        124.0\n",
       "3  368.0         74.0\n",
       "4  204.0         41.0"
      ]
     },
     "execution_count": 30,
     "metadata": {},
     "output_type": "execute_result"
    }
   ],
   "source": [
    "airbnb[['price', 'service_fee']].head()"
   ]
  },
  {
   "cell_type": "code",
   "execution_count": 31,
   "id": "3c3a877d",
   "metadata": {
    "execution": {
     "iopub.execute_input": "2023-12-17T16:16:13.505641Z",
     "iopub.status.busy": "2023-12-17T16:16:13.505186Z",
     "iopub.status.idle": "2023-12-17T16:16:13.586243Z",
     "shell.execute_reply": "2023-12-17T16:16:13.585127Z"
    },
    "papermill": {
     "duration": 0.108815,
     "end_time": "2023-12-17T16:16:13.588739",
     "exception": false,
     "start_time": "2023-12-17T16:16:13.479924",
     "status": "completed"
    },
    "tags": []
   },
   "outputs": [],
   "source": [
    "# Correcting spelling errors in the Neighbourhood Group \n",
    "\n",
    "airbnb[\"neighbourhood_group\"] = airbnb[\"neighbourhood_group\"].astype(str)\n",
    "airbnb[\"neighbourhood_group\"] = airbnb[\"neighbourhood_group\"].str.replace(\"brookln\", \"Brooklyn\")\n",
    "airbnb[\"neighbourhood_group\"] = airbnb[\"neighbourhood_group\"].str.replace(\"manhatan\", \"Manhattan\")"
   ]
  },
  {
   "cell_type": "markdown",
   "id": "e5421e17",
   "metadata": {
    "papermill": {
     "duration": 0.02196,
     "end_time": "2023-12-17T16:16:13.632979",
     "exception": false,
     "start_time": "2023-12-17T16:16:13.611019",
     "status": "completed"
    },
    "tags": []
   },
   "source": [
    "## **Task 4: Exploratory Data Analysis** \n",
    "1. List the count of various room types available in the dataset.\n",
    "1. Which room type has the most strict cancellation policy?\n",
    "1. List the average price per neighbourhood group, and highlight the most expensive neighbourhood to rent from."
   ]
  },
  {
   "cell_type": "code",
   "execution_count": 32,
   "id": "ee84edc3",
   "metadata": {
    "execution": {
     "iopub.execute_input": "2023-12-17T16:16:13.679058Z",
     "iopub.status.busy": "2023-12-17T16:16:13.678632Z",
     "iopub.status.idle": "2023-12-17T16:16:13.693785Z",
     "shell.execute_reply": "2023-12-17T16:16:13.692595Z"
    },
    "papermill": {
     "duration": 0.04097,
     "end_time": "2023-12-17T16:16:13.696182",
     "exception": false,
     "start_time": "2023-12-17T16:16:13.655212",
     "status": "completed"
    },
    "tags": []
   },
   "outputs": [
    {
     "data": {
      "text/plain": [
       "room_type\n",
       "Entire home/apt    51987\n",
       "Private room       44887\n",
       "Shared room         2149\n",
       "Hotel room           115\n",
       "Name: count, dtype: int64"
      ]
     },
     "execution_count": 32,
     "metadata": {},
     "output_type": "execute_result"
    }
   ],
   "source": [
    "# 1. List the count of various room types avaliable in the dataset.\n",
    "\n",
    "airbnb['room_type'].value_counts()"
   ]
  },
  {
   "cell_type": "code",
   "execution_count": 33,
   "id": "62daf174",
   "metadata": {
    "execution": {
     "iopub.execute_input": "2023-12-17T16:16:13.742793Z",
     "iopub.status.busy": "2023-12-17T16:16:13.742400Z",
     "iopub.status.idle": "2023-12-17T16:16:13.755589Z",
     "shell.execute_reply": "2023-12-17T16:16:13.754511Z"
    },
    "papermill": {
     "duration": 0.039208,
     "end_time": "2023-12-17T16:16:13.757791",
     "exception": false,
     "start_time": "2023-12-17T16:16:13.718583",
     "status": "completed"
    },
    "tags": []
   },
   "outputs": [
    {
     "data": {
      "text/plain": [
       "array(['strict', 'moderate', 'flexible'], dtype=object)"
      ]
     },
     "execution_count": 33,
     "metadata": {},
     "output_type": "execute_result"
    }
   ],
   "source": [
    "# 2. Which room type has the most strict cancellation policy?\n",
    "\n",
    "airbnb['cancellation_policy'].unique()"
   ]
  },
  {
   "cell_type": "code",
   "execution_count": 34,
   "id": "8dd70894",
   "metadata": {
    "execution": {
     "iopub.execute_input": "2023-12-17T16:16:13.806918Z",
     "iopub.status.busy": "2023-12-17T16:16:13.805158Z",
     "iopub.status.idle": "2023-12-17T16:16:13.830247Z",
     "shell.execute_reply": "2023-12-17T16:16:13.829126Z"
    },
    "papermill": {
     "duration": 0.052187,
     "end_time": "2023-12-17T16:16:13.832883",
     "exception": false,
     "start_time": "2023-12-17T16:16:13.780696",
     "status": "completed"
    },
    "tags": []
   },
   "outputs": [],
   "source": [
    "airbnb_cancellation_policy_strict = airbnb[airbnb['cancellation_policy']=='strict']"
   ]
  },
  {
   "cell_type": "code",
   "execution_count": 35,
   "id": "71d4351d",
   "metadata": {
    "execution": {
     "iopub.execute_input": "2023-12-17T16:16:13.880788Z",
     "iopub.status.busy": "2023-12-17T16:16:13.880414Z",
     "iopub.status.idle": "2023-12-17T16:16:13.905232Z",
     "shell.execute_reply": "2023-12-17T16:16:13.904133Z"
    },
    "papermill": {
     "duration": 0.051766,
     "end_time": "2023-12-17T16:16:13.907459",
     "exception": false,
     "start_time": "2023-12-17T16:16:13.855693",
     "status": "completed"
    },
    "tags": []
   },
   "outputs": [
    {
     "data": {
      "text/html": [
       "<div>\n",
       "<style scoped>\n",
       "    .dataframe tbody tr th:only-of-type {\n",
       "        vertical-align: middle;\n",
       "    }\n",
       "\n",
       "    .dataframe tbody tr th {\n",
       "        vertical-align: top;\n",
       "    }\n",
       "\n",
       "    .dataframe thead th {\n",
       "        text-align: right;\n",
       "    }\n",
       "</style>\n",
       "<table border=\"1\" class=\"dataframe\">\n",
       "  <thead>\n",
       "    <tr style=\"text-align: right;\">\n",
       "      <th></th>\n",
       "      <th>name</th>\n",
       "      <th>host_identity_verified</th>\n",
       "      <th>host_name</th>\n",
       "      <th>neighbourhood_group</th>\n",
       "      <th>neighbourhood</th>\n",
       "      <th>lat</th>\n",
       "      <th>long</th>\n",
       "      <th>instant_bookable</th>\n",
       "      <th>cancellation_policy</th>\n",
       "      <th>room_type</th>\n",
       "      <th>construction_year</th>\n",
       "      <th>price</th>\n",
       "      <th>service_fee</th>\n",
       "      <th>minimum_nights</th>\n",
       "      <th>number_of_reviews</th>\n",
       "      <th>last_review</th>\n",
       "      <th>reviews_per_month</th>\n",
       "      <th>review_rate_number</th>\n",
       "      <th>calculated_host_listings_count</th>\n",
       "      <th>days_booked</th>\n",
       "      <th>house_rules</th>\n",
       "      <th>license</th>\n",
       "    </tr>\n",
       "  </thead>\n",
       "  <tbody>\n",
       "    <tr>\n",
       "      <th>0</th>\n",
       "      <td>Clean &amp; quiet apt home by the park</td>\n",
       "      <td>unconfirmed</td>\n",
       "      <td>Madaline</td>\n",
       "      <td>Brooklyn</td>\n",
       "      <td>Kensington</td>\n",
       "      <td>40.64749</td>\n",
       "      <td>-73.97237</td>\n",
       "      <td>False</td>\n",
       "      <td>strict</td>\n",
       "      <td>Private room</td>\n",
       "      <td>2020</td>\n",
       "      <td>966.0</td>\n",
       "      <td>193.0</td>\n",
       "      <td>10</td>\n",
       "      <td>9.0</td>\n",
       "      <td>10/19/2021</td>\n",
       "      <td>0.21</td>\n",
       "      <td>4.0</td>\n",
       "      <td>6.0</td>\n",
       "      <td>286</td>\n",
       "      <td>Clean up and treat the home the way you'd like...</td>\n",
       "      <td>41662/AL</td>\n",
       "    </tr>\n",
       "    <tr>\n",
       "      <th>8</th>\n",
       "      <td>Large Furnished Room Near B'way</td>\n",
       "      <td>verified</td>\n",
       "      <td>Evelyn</td>\n",
       "      <td>Manhattan</td>\n",
       "      <td>Hell's Kitchen</td>\n",
       "      <td>40.76489</td>\n",
       "      <td>-73.98493</td>\n",
       "      <td>True</td>\n",
       "      <td>strict</td>\n",
       "      <td>Private room</td>\n",
       "      <td>2005</td>\n",
       "      <td>1018.0</td>\n",
       "      <td>204.0</td>\n",
       "      <td>2</td>\n",
       "      <td>430.0</td>\n",
       "      <td>6/24/2019</td>\n",
       "      <td>3.47</td>\n",
       "      <td>3.0</td>\n",
       "      <td>1.0</td>\n",
       "      <td>180</td>\n",
       "      <td>- Please clean up after yourself when using th...</td>\n",
       "      <td>41662/AL</td>\n",
       "    </tr>\n",
       "    <tr>\n",
       "      <th>9</th>\n",
       "      <td>Cozy Clean Guest Room - Family Apt</td>\n",
       "      <td>unconfirmed</td>\n",
       "      <td>Carl</td>\n",
       "      <td>Manhattan</td>\n",
       "      <td>Upper West Side</td>\n",
       "      <td>40.80178</td>\n",
       "      <td>-73.96723</td>\n",
       "      <td>False</td>\n",
       "      <td>strict</td>\n",
       "      <td>Private room</td>\n",
       "      <td>2015</td>\n",
       "      <td>291.0</td>\n",
       "      <td>58.0</td>\n",
       "      <td>2</td>\n",
       "      <td>118.0</td>\n",
       "      <td>7/21/2017</td>\n",
       "      <td>0.99</td>\n",
       "      <td>5.0</td>\n",
       "      <td>1.0</td>\n",
       "      <td>375</td>\n",
       "      <td>NO SMOKING OR PETS ANYWHERE ON THE PROPERTY 1....</td>\n",
       "      <td>41662/AL</td>\n",
       "    </tr>\n",
       "    <tr>\n",
       "      <th>12</th>\n",
       "      <td>Central Manhattan/near Broadway</td>\n",
       "      <td>verified</td>\n",
       "      <td>Michael</td>\n",
       "      <td>Manhattan</td>\n",
       "      <td>Hell's Kitchen</td>\n",
       "      <td>40.76076</td>\n",
       "      <td>-73.98867</td>\n",
       "      <td>False</td>\n",
       "      <td>strict</td>\n",
       "      <td>Private room</td>\n",
       "      <td>2008</td>\n",
       "      <td>714.0</td>\n",
       "      <td>143.0</td>\n",
       "      <td>2</td>\n",
       "      <td>188.0</td>\n",
       "      <td>6/23/2019</td>\n",
       "      <td>1.50</td>\n",
       "      <td>4.0</td>\n",
       "      <td>1.0</td>\n",
       "      <td>258</td>\n",
       "      <td>- One of the bedroom closets is not accessible...</td>\n",
       "      <td>41662/AL</td>\n",
       "    </tr>\n",
       "    <tr>\n",
       "      <th>24</th>\n",
       "      <td>CBG Helps Haiti Rm #2</td>\n",
       "      <td>unconfirmed</td>\n",
       "      <td>Charlotte</td>\n",
       "      <td>Brooklyn</td>\n",
       "      <td>Park Slope</td>\n",
       "      <td>40.68001</td>\n",
       "      <td>-73.97865</td>\n",
       "      <td>False</td>\n",
       "      <td>strict</td>\n",
       "      <td>Private room</td>\n",
       "      <td>2005</td>\n",
       "      <td>816.0</td>\n",
       "      <td>163.0</td>\n",
       "      <td>2</td>\n",
       "      <td>71.0</td>\n",
       "      <td>7/2/2019</td>\n",
       "      <td>0.61</td>\n",
       "      <td>4.0</td>\n",
       "      <td>6.0</td>\n",
       "      <td>344</td>\n",
       "      <td>We take great care of our home and expect you ...</td>\n",
       "      <td>41662/AL</td>\n",
       "    </tr>\n",
       "  </tbody>\n",
       "</table>\n",
       "</div>"
      ],
      "text/plain": [
       "                                  name host_identity_verified  host_name  \\\n",
       "0   Clean & quiet apt home by the park            unconfirmed   Madaline   \n",
       "8      Large Furnished Room Near B'way               verified     Evelyn   \n",
       "9   Cozy Clean Guest Room - Family Apt            unconfirmed       Carl   \n",
       "12     Central Manhattan/near Broadway               verified    Michael   \n",
       "24               CBG Helps Haiti Rm #2            unconfirmed  Charlotte   \n",
       "\n",
       "   neighbourhood_group    neighbourhood       lat      long  instant_bookable  \\\n",
       "0             Brooklyn       Kensington  40.64749 -73.97237             False   \n",
       "8            Manhattan   Hell's Kitchen  40.76489 -73.98493              True   \n",
       "9            Manhattan  Upper West Side  40.80178 -73.96723             False   \n",
       "12           Manhattan   Hell's Kitchen  40.76076 -73.98867             False   \n",
       "24            Brooklyn       Park Slope  40.68001 -73.97865             False   \n",
       "\n",
       "   cancellation_policy     room_type  construction_year   price  service_fee  \\\n",
       "0               strict  Private room               2020   966.0        193.0   \n",
       "8               strict  Private room               2005  1018.0        204.0   \n",
       "9               strict  Private room               2015   291.0         58.0   \n",
       "12              strict  Private room               2008   714.0        143.0   \n",
       "24              strict  Private room               2005   816.0        163.0   \n",
       "\n",
       "    minimum_nights  number_of_reviews last_review  reviews_per_month  \\\n",
       "0               10                9.0  10/19/2021               0.21   \n",
       "8                2              430.0   6/24/2019               3.47   \n",
       "9                2              118.0   7/21/2017               0.99   \n",
       "12               2              188.0   6/23/2019               1.50   \n",
       "24               2               71.0    7/2/2019               0.61   \n",
       "\n",
       "    review_rate_number  calculated_host_listings_count  days_booked  \\\n",
       "0                  4.0                             6.0          286   \n",
       "8                  3.0                             1.0          180   \n",
       "9                  5.0                             1.0          375   \n",
       "12                 4.0                             1.0          258   \n",
       "24                 4.0                             6.0          344   \n",
       "\n",
       "                                          house_rules   license  \n",
       "0   Clean up and treat the home the way you'd like...  41662/AL  \n",
       "8   - Please clean up after yourself when using th...  41662/AL  \n",
       "9   NO SMOKING OR PETS ANYWHERE ON THE PROPERTY 1....  41662/AL  \n",
       "12  - One of the bedroom closets is not accessible...  41662/AL  \n",
       "24  We take great care of our home and expect you ...  41662/AL  "
      ]
     },
     "execution_count": 35,
     "metadata": {},
     "output_type": "execute_result"
    }
   ],
   "source": [
    "airbnb_cancellation_policy_strict.head()"
   ]
  },
  {
   "cell_type": "code",
   "execution_count": 36,
   "id": "4ccb1e3a",
   "metadata": {
    "execution": {
     "iopub.execute_input": "2023-12-17T16:16:13.955512Z",
     "iopub.status.busy": "2023-12-17T16:16:13.955113Z",
     "iopub.status.idle": "2023-12-17T16:16:13.966493Z",
     "shell.execute_reply": "2023-12-17T16:16:13.965246Z"
    },
    "papermill": {
     "duration": 0.038563,
     "end_time": "2023-12-17T16:16:13.968720",
     "exception": false,
     "start_time": "2023-12-17T16:16:13.930157",
     "status": "completed"
    },
    "tags": []
   },
   "outputs": [
    {
     "data": {
      "text/plain": [
       "room_type\n",
       "Entire home/apt    17238\n",
       "Private room       14936\n",
       "Shared room          718\n",
       "Hotel room            34\n",
       "Name: count, dtype: int64"
      ]
     },
     "execution_count": 36,
     "metadata": {},
     "output_type": "execute_result"
    }
   ],
   "source": [
    "airbnb_cancellation_policy_strict['room_type'].value_counts()"
   ]
  },
  {
   "cell_type": "code",
   "execution_count": 37,
   "id": "52c98163",
   "metadata": {
    "execution": {
     "iopub.execute_input": "2023-12-17T16:16:14.017838Z",
     "iopub.status.busy": "2023-12-17T16:16:14.017439Z",
     "iopub.status.idle": "2023-12-17T16:16:14.024215Z",
     "shell.execute_reply": "2023-12-17T16:16:14.023060Z"
    },
    "papermill": {
     "duration": 0.034915,
     "end_time": "2023-12-17T16:16:14.026558",
     "exception": false,
     "start_time": "2023-12-17T16:16:13.991643",
     "status": "completed"
    },
    "tags": []
   },
   "outputs": [
    {
     "data": {
      "text/plain": [
       "'The Entire home/apt room type has the most strict cancellation policy.'"
      ]
     },
     "execution_count": 37,
     "metadata": {},
     "output_type": "execute_result"
    }
   ],
   "source": [
    "# 2. Which room type has the most strict cancellation policy?\n",
    "'''The Entire home/apt room type has the most strict cancellation policy.'''"
   ]
  },
  {
   "cell_type": "code",
   "execution_count": 38,
   "id": "5dc2b587",
   "metadata": {
    "execution": {
     "iopub.execute_input": "2023-12-17T16:16:14.074664Z",
     "iopub.status.busy": "2023-12-17T16:16:14.073989Z",
     "iopub.status.idle": "2023-12-17T16:16:14.084481Z",
     "shell.execute_reply": "2023-12-17T16:16:14.083440Z"
    },
    "papermill": {
     "duration": 0.037034,
     "end_time": "2023-12-17T16:16:14.086829",
     "exception": false,
     "start_time": "2023-12-17T16:16:14.049795",
     "status": "completed"
    },
    "tags": []
   },
   "outputs": [
    {
     "data": {
      "text/plain": [
       "neighbourhood_group\n",
       "Manhattan        13981\n",
       "Brooklyn         13472\n",
       "Queens            4319\n",
       "Bronx              857\n",
       "Staten Island      297\n",
       "Name: count, dtype: int64"
      ]
     },
     "execution_count": 38,
     "metadata": {},
     "output_type": "execute_result"
    }
   ],
   "source": [
    "airbnb_cancellation_policy_strict['neighbourhood_group'].value_counts()"
   ]
  },
  {
   "cell_type": "code",
   "execution_count": 39,
   "id": "8b779a4a",
   "metadata": {
    "execution": {
     "iopub.execute_input": "2023-12-17T16:16:14.134885Z",
     "iopub.status.busy": "2023-12-17T16:16:14.134507Z",
     "iopub.status.idle": "2023-12-17T16:16:14.155522Z",
     "shell.execute_reply": "2023-12-17T16:16:14.154285Z"
    },
    "papermill": {
     "duration": 0.047988,
     "end_time": "2023-12-17T16:16:14.157969",
     "exception": false,
     "start_time": "2023-12-17T16:16:14.109981",
     "status": "completed"
    },
    "tags": []
   },
   "outputs": [
    {
     "name": "stdout",
     "output_type": "stream",
     "text": [
      "neighbourhood_group\n",
      "Queens           628.668822\n",
      "Brooklyn         625.470501\n",
      "Bronx            625.271511\n",
      "Staten Island    625.060870\n",
      "Manhattan        621.662326\n",
      "Name: price, dtype: float64\n"
     ]
    }
   ],
   "source": [
    "# 3. List the average price per neighborhood group, and highlight the most expensive neighborhood to rent from.\n",
    "\n",
    "airbnb_average_price_per_neighborhood = airbnb['price'].groupby(airbnb['neighbourhood_group']).mean().sort_values(ascending=False)\n",
    "print(airbnb_average_price_per_neighborhood)"
   ]
  },
  {
   "cell_type": "code",
   "execution_count": 40,
   "id": "bbf05acf",
   "metadata": {
    "execution": {
     "iopub.execute_input": "2023-12-17T16:16:14.206255Z",
     "iopub.status.busy": "2023-12-17T16:16:14.205848Z",
     "iopub.status.idle": "2023-12-17T16:16:14.211769Z",
     "shell.execute_reply": "2023-12-17T16:16:14.210901Z"
    },
    "papermill": {
     "duration": 0.032573,
     "end_time": "2023-12-17T16:16:14.213950",
     "exception": false,
     "start_time": "2023-12-17T16:16:14.181377",
     "status": "completed"
    },
    "tags": []
   },
   "outputs": [
    {
     "data": {
      "text/plain": [
       "'Queens is the most expensive neighbourhood_group with a average price of £628.69.'"
      ]
     },
     "execution_count": 40,
     "metadata": {},
     "output_type": "execute_result"
    }
   ],
   "source": [
    "# 3. List the average price per neighborhood group, and highlight the most expensive neighborhood to rent from.\n",
    "'''Queens is the most expensive neighbourhood_group with a average price of £628.69.'''"
   ]
  },
  {
   "cell_type": "code",
   "execution_count": 41,
   "id": "fda8f169",
   "metadata": {
    "execution": {
     "iopub.execute_input": "2023-12-17T16:16:14.262839Z",
     "iopub.status.busy": "2023-12-17T16:16:14.262403Z",
     "iopub.status.idle": "2023-12-17T16:16:14.268592Z",
     "shell.execute_reply": "2023-12-17T16:16:14.267797Z"
    },
    "papermill": {
     "duration": 0.033226,
     "end_time": "2023-12-17T16:16:14.270677",
     "exception": false,
     "start_time": "2023-12-17T16:16:14.237451",
     "status": "completed"
    },
    "tags": []
   },
   "outputs": [
    {
     "data": {
      "text/plain": [
       "'This has highlighted an error in the data as there are two Brooklyn (Brooklyn and brookln) and two Manhattan (Manhattan and manhatan). I have gonne back and added code into Task 3 to replace brookln with Brooklyn and manhatan with Manhattan'"
      ]
     },
     "execution_count": 41,
     "metadata": {},
     "output_type": "execute_result"
    }
   ],
   "source": [
    "'''This has highlighted an error in the data as there are two Brooklyn (Brooklyn and brookln) and two Manhattan (Manhattan and manhatan). I have gonne back and added code into Task 3 to replace brookln with Brooklyn and manhatan with Manhattan'''"
   ]
  },
  {
   "cell_type": "code",
   "execution_count": 42,
   "id": "7263ad0e",
   "metadata": {
    "execution": {
     "iopub.execute_input": "2023-12-17T16:16:14.319433Z",
     "iopub.status.busy": "2023-12-17T16:16:14.319022Z",
     "iopub.status.idle": "2023-12-17T16:16:14.336966Z",
     "shell.execute_reply": "2023-12-17T16:16:14.335802Z"
    },
    "papermill": {
     "duration": 0.044651,
     "end_time": "2023-12-17T16:16:14.339277",
     "exception": false,
     "start_time": "2023-12-17T16:16:14.294626",
     "status": "completed"
    },
    "tags": []
   },
   "outputs": [
    {
     "name": "stdout",
     "output_type": "stream",
     "text": [
      "neighbourhood_group\n",
      "Bronx            1200.0\n",
      "Brooklyn         1200.0\n",
      "Manhattan        1200.0\n",
      "Queens           1200.0\n",
      "Staten Island    1200.0\n",
      "Name: price, dtype: float64\n"
     ]
    }
   ],
   "source": [
    "airbnb_max_price_per_neighborhood = airbnb['price'].groupby(airbnb['neighbourhood_group']).max().sort_values(ascending=False)\n",
    "print(airbnb_max_price_per_neighborhood)"
   ]
  },
  {
   "cell_type": "code",
   "execution_count": 43,
   "id": "95e41f3d",
   "metadata": {
    "execution": {
     "iopub.execute_input": "2023-12-17T16:16:14.389196Z",
     "iopub.status.busy": "2023-12-17T16:16:14.388805Z",
     "iopub.status.idle": "2023-12-17T16:16:14.395283Z",
     "shell.execute_reply": "2023-12-17T16:16:14.394292Z"
    },
    "papermill": {
     "duration": 0.034039,
     "end_time": "2023-12-17T16:16:14.397465",
     "exception": false,
     "start_time": "2023-12-17T16:16:14.363426",
     "status": "completed"
    },
    "tags": []
   },
   "outputs": [
    {
     "data": {
      "text/plain": [
       "'Bronx, Brooklyn, Manhattan, Queens and Staten Island all have an equal most expensive price at £1200.'"
      ]
     },
     "execution_count": 43,
     "metadata": {},
     "output_type": "execute_result"
    }
   ],
   "source": [
    "'''Bronx, Brooklyn, Manhattan, Queens and Staten Island all have an equal most expensive price at £1200.'''"
   ]
  },
  {
   "cell_type": "markdown",
   "id": "0d04f0ef",
   "metadata": {
    "papermill": {
     "duration": 0.023592,
     "end_time": "2023-12-17T16:16:14.444694",
     "exception": false,
     "start_time": "2023-12-17T16:16:14.421102",
     "status": "completed"
    },
    "tags": []
   },
   "source": [
    "## **Task 5a: Data Visualization**\n",
    "\n",
    "1. List the top 10 neighbourhoods in the increasing order of their price with the help of a horizontal bar graph. Which is the cheapest neighbourhood.\n",
    "1. List the neighbourhoods which offer short term rentals within 10 days. Illustrate with a bar graph\n",
    "1. List the prices with respect to room type using a bar graph and also state your inferences.\n",
    "1. Create a pie chart that shows distribution of booked days for each neighbourhood group. Which neighbourhood has the highest booking percentage.\n"
   ]
  },
  {
   "cell_type": "code",
   "execution_count": 44,
   "id": "1d1cf914",
   "metadata": {
    "execution": {
     "iopub.execute_input": "2023-12-17T16:16:14.493793Z",
     "iopub.status.busy": "2023-12-17T16:16:14.493351Z",
     "iopub.status.idle": "2023-12-17T16:16:14.511998Z",
     "shell.execute_reply": "2023-12-17T16:16:14.510110Z"
    },
    "papermill": {
     "duration": 0.045796,
     "end_time": "2023-12-17T16:16:14.514441",
     "exception": false,
     "start_time": "2023-12-17T16:16:14.468645",
     "status": "completed"
    },
    "tags": []
   },
   "outputs": [
    {
     "name": "stdout",
     "output_type": "stream",
     "text": [
      "neighbourhood\n",
      "Bedford-Stuyvesant            4793673.0\n",
      "Williamsburg                  4663153.0\n",
      "Harlem                        3317743.0\n",
      "Bushwick                      3038762.0\n",
      "Hell's Kitchen                2394881.0\n",
      "                                ...    \n",
      "Glen Oaks                        1101.0\n",
      "Chelsea, Staten Island           1042.0\n",
      "Bay Terrace, Staten Island        918.0\n",
      "Rossville                         655.0\n",
      "Lighthouse Hill                   323.0\n",
      "Name: price, Length: 224, dtype: float64\n"
     ]
    }
   ],
   "source": [
    "# 1. List the top 10 neighbourhoods in the increasing order of their price with the help of a horizontal bar graph. \n",
    "# Which is the cheapest neighbourhood?\n",
    "\n",
    "airbnb_top_10_neighbourhoods_sum = airbnb['price'].groupby(airbnb['neighbourhood']).sum().sort_values(ascending=False)\n",
    "print(airbnb_top_10_neighbourhoods_sum)"
   ]
  },
  {
   "cell_type": "code",
   "execution_count": 45,
   "id": "d88772c6",
   "metadata": {
    "execution": {
     "iopub.execute_input": "2023-12-17T16:16:14.566051Z",
     "iopub.status.busy": "2023-12-17T16:16:14.565622Z",
     "iopub.status.idle": "2023-12-17T16:16:14.573413Z",
     "shell.execute_reply": "2023-12-17T16:16:14.572572Z"
    },
    "papermill": {
     "duration": 0.036688,
     "end_time": "2023-12-17T16:16:14.575857",
     "exception": false,
     "start_time": "2023-12-17T16:16:14.539169",
     "status": "completed"
    },
    "tags": []
   },
   "outputs": [
    {
     "data": {
      "text/plain": [
       "neighbourhood\n",
       "Bedford-Stuyvesant    4793673.0\n",
       "Williamsburg          4663153.0\n",
       "Harlem                3317743.0\n",
       "Bushwick              3038762.0\n",
       "Hell's Kitchen        2394881.0\n",
       "Upper West Side       2306230.0\n",
       "Upper East Side       2177795.0\n",
       "East Village          2081467.0\n",
       "Midtown               1985830.0\n",
       "Crown Heights         1943244.0\n",
       "Name: price, dtype: float64"
      ]
     },
     "execution_count": 45,
     "metadata": {},
     "output_type": "execute_result"
    }
   ],
   "source": [
    "airbnb_top_10_neighbourhoods_sum.head(10)"
   ]
  },
  {
   "cell_type": "code",
   "execution_count": 46,
   "id": "befdd665",
   "metadata": {
    "execution": {
     "iopub.execute_input": "2023-12-17T16:16:14.625434Z",
     "iopub.status.busy": "2023-12-17T16:16:14.624964Z",
     "iopub.status.idle": "2023-12-17T16:16:14.948740Z",
     "shell.execute_reply": "2023-12-17T16:16:14.947615Z"
    },
    "papermill": {
     "duration": 0.351867,
     "end_time": "2023-12-17T16:16:14.951612",
     "exception": false,
     "start_time": "2023-12-17T16:16:14.599745",
     "status": "completed"
    },
    "tags": []
   },
   "outputs": [
    {
     "data": {
      "image/png": "[encoded data removed]",
      "text/plain": [
       "<Figure size 640x480 with 1 Axes>"
      ]
     },
     "metadata": {},
     "output_type": "display_data"
    }
   ],
   "source": [
    "# 1. List the top 10 neighbourhoods in the increasing order of their price with the help of a horizontal bar graph. \n",
    "\n",
    "airbnb_top_10_neighbourhoods_sum.head(10).plot(kind='barh', color={'green'})\n",
    "plt.xlabel('Price $')\n",
    "plt.ylabel('Neighbourhood')\n",
    "plt.title('Top 10 Price sum vs Neighbourhoods')\n",
    "plt.show()"
   ]
  },
  {
   "cell_type": "code",
   "execution_count": 47,
   "id": "00d13f94",
   "metadata": {
    "execution": {
     "iopub.execute_input": "2023-12-17T16:16:15.002565Z",
     "iopub.status.busy": "2023-12-17T16:16:15.002135Z",
     "iopub.status.idle": "2023-12-17T16:16:15.020649Z",
     "shell.execute_reply": "2023-12-17T16:16:15.019489Z"
    },
    "papermill": {
     "duration": 0.046665,
     "end_time": "2023-12-17T16:16:15.023007",
     "exception": false,
     "start_time": "2023-12-17T16:16:14.976342",
     "status": "completed"
    },
    "tags": []
   },
   "outputs": [
    {
     "name": "stdout",
     "output_type": "stream",
     "text": [
      "neighbourhood\n",
      "New Dorp                      1045.333333\n",
      "Chelsea, Staten Island        1042.000000\n",
      "Fort Wadsworth                1024.000000\n",
      "Little Neck                    817.750000\n",
      "Jamaica Hills                  812.904762\n",
      "                                 ...     \n",
      "Rossville                      327.500000\n",
      "Breezy Point                   309.888889\n",
      "Spuyten Duyvil                 307.000000\n",
      "Bay Terrace, Staten Island     306.000000\n",
      "Lighthouse Hill                107.666667\n",
      "Name: price, Length: 224, dtype: float64\n"
     ]
    }
   ],
   "source": [
    "airbnb_top_10_neighbourhoods_mean = airbnb['price'].groupby(airbnb['neighbourhood']).mean().sort_values(ascending=False)\n",
    "print(airbnb_top_10_neighbourhoods_mean)"
   ]
  },
  {
   "cell_type": "code",
   "execution_count": 48,
   "id": "05ea6eb8",
   "metadata": {
    "execution": {
     "iopub.execute_input": "2023-12-17T16:16:15.074088Z",
     "iopub.status.busy": "2023-12-17T16:16:15.073333Z",
     "iopub.status.idle": "2023-12-17T16:16:15.081101Z",
     "shell.execute_reply": "2023-12-17T16:16:15.079981Z"
    },
    "papermill": {
     "duration": 0.036001,
     "end_time": "2023-12-17T16:16:15.083675",
     "exception": false,
     "start_time": "2023-12-17T16:16:15.047674",
     "status": "completed"
    },
    "tags": []
   },
   "outputs": [
    {
     "data": {
      "text/plain": [
       "neighbourhood\n",
       "New Dorp                  1045.333333\n",
       "Chelsea, Staten Island    1042.000000\n",
       "Fort Wadsworth            1024.000000\n",
       "Little Neck                817.750000\n",
       "Jamaica Hills              812.904762\n",
       "Shore Acres                805.142857\n",
       "Arden Heights              804.888889\n",
       "Midland Beach              796.176471\n",
       "Mill Basin                 775.142857\n",
       "Riverdale                  768.736842\n",
       "Name: price, dtype: float64"
      ]
     },
     "execution_count": 48,
     "metadata": {},
     "output_type": "execute_result"
    }
   ],
   "source": [
    "airbnb_top_10_neighbourhoods_mean.head(10)"
   ]
  },
  {
   "cell_type": "code",
   "execution_count": 49,
   "id": "a96f4c88",
   "metadata": {
    "execution": {
     "iopub.execute_input": "2023-12-17T16:16:15.135710Z",
     "iopub.status.busy": "2023-12-17T16:16:15.135267Z",
     "iopub.status.idle": "2023-12-17T16:16:15.414326Z",
     "shell.execute_reply": "2023-12-17T16:16:15.413197Z"
    },
    "papermill": {
     "duration": 0.307954,
     "end_time": "2023-12-17T16:16:15.416868",
     "exception": false,
     "start_time": "2023-12-17T16:16:15.108914",
     "status": "completed"
    },
    "tags": []
   },
   "outputs": [
    {
     "data": {
      "image/png": "[encoded data removed]",
      "text/plain": [
       "<Figure size 640x480 with 1 Axes>"
      ]
     },
     "metadata": {},
     "output_type": "display_data"
    }
   ],
   "source": [
    "airbnb_top_10_neighbourhoods_mean.head(10).plot(kind='barh', color={'blue'})\n",
    "plt.xlabel('Price $')\n",
    "plt.ylabel('Neighbourhood')\n",
    "plt.title('Top 10 Price (avg) vs Neighbourhoods')\n",
    "plt.show()"
   ]
  },
  {
   "cell_type": "code",
   "execution_count": 50,
   "id": "c31a3a20",
   "metadata": {
    "execution": {
     "iopub.execute_input": "2023-12-17T16:16:15.469847Z",
     "iopub.status.busy": "2023-12-17T16:16:15.469018Z",
     "iopub.status.idle": "2023-12-17T16:16:15.475230Z",
     "shell.execute_reply": "2023-12-17T16:16:15.474514Z"
    },
    "papermill": {
     "duration": 0.034958,
     "end_time": "2023-12-17T16:16:15.477160",
     "exception": false,
     "start_time": "2023-12-17T16:16:15.442202",
     "status": "completed"
    },
    "tags": []
   },
   "outputs": [
    {
     "data": {
      "text/plain": [
       "'The cheapest neighbourhood out of the Top 10 by Sum is Crown Heights if you go by average price the cheapest neigbourhood out of the Top 10 is Riverdale. The cheapest out of all the nieghbourhoods for both the sum and the average is Lighthouse Hill.'"
      ]
     },
     "execution_count": 50,
     "metadata": {},
     "output_type": "execute_result"
    }
   ],
   "source": [
    "# Which is the cheapest neighbourhood?\n",
    "'''The cheapest neighbourhood out of the Top 10 by Sum is Crown Heights if you go by average price the cheapest neigbourhood out of the Top 10 is Riverdale. The cheapest out of all the nieghbourhoods for both the sum and the average is Lighthouse Hill.'''"
   ]
  },
  {
   "cell_type": "code",
   "execution_count": 51,
   "id": "f2e96e64",
   "metadata": {
    "execution": {
     "iopub.execute_input": "2023-12-17T16:16:15.530319Z",
     "iopub.status.busy": "2023-12-17T16:16:15.529688Z",
     "iopub.status.idle": "2023-12-17T16:16:15.536979Z",
     "shell.execute_reply": "2023-12-17T16:16:15.535962Z"
    },
    "papermill": {
     "duration": 0.036455,
     "end_time": "2023-12-17T16:16:15.539103",
     "exception": false,
     "start_time": "2023-12-17T16:16:15.502648",
     "status": "completed"
    },
    "tags": []
   },
   "outputs": [
    {
     "data": {
      "text/plain": [
       "array([   10,    30,     3,    45,     2,     1,     5,     4,    90,\n",
       "           7,    14,    60,   180,     9,    31,     6,    15,    29,\n",
       "           8,    47,    81,   144,   371,   149,   273,   131,   275,\n",
       "         323,    59,    99,   268,   -10,   189,   340,   128,   350,\n",
       "         166,   110,    57,   142,   366,    28,   200,    50,   399,\n",
       "          17,    11,   452,    25,    13,  3455,    -5,    21,    27,\n",
       "          18,   365,    -1,    20,   -12,    40,    44,   398,    -2,\n",
       "          65,    -3,    55,   120,   122,    19,   240,    88,   115,\n",
       "         150,   370,    16,    80,   181,    26,   265,   300,   185,\n",
       "         360,    56,    12,    70,    39,    24,    32,  1000,   270,\n",
       "          22,    75,   250,    62,    23,  1250,   364,    74,   198,\n",
       "         100,   500,    43,    35,    91,   480,    53,   160,   999,\n",
       "         186,    68,    93,    87,   183,   299,   175,    98,   133,\n",
       "         354,    42,    33,    37,   225,   400,   105,   184,   153,\n",
       "         134,   222,    58,   210,   182,   954,  5645,  2645, -1223,\n",
       "        -365,  -200,   114,    85,    36,    48,   155,   307,   129,\n",
       "         145,    64,   333,   119,  -125,   125,    34,   458,   825])"
      ]
     },
     "execution_count": 51,
     "metadata": {},
     "output_type": "execute_result"
    }
   ],
   "source": [
    "#  2. List the neighbourhoods which offer short term rentals within 10 days. Illustrate with a bar graph\n",
    "\n",
    "airbnb['minimum_nights'].unique()"
   ]
  },
  {
   "cell_type": "code",
   "execution_count": 52,
   "id": "c31f2225",
   "metadata": {
    "execution": {
     "iopub.execute_input": "2023-12-17T16:16:15.592351Z",
     "iopub.status.busy": "2023-12-17T16:16:15.591698Z",
     "iopub.status.idle": "2023-12-17T16:16:15.628718Z",
     "shell.execute_reply": "2023-12-17T16:16:15.627578Z"
    },
    "papermill": {
     "duration": 0.066663,
     "end_time": "2023-12-17T16:16:15.631124",
     "exception": false,
     "start_time": "2023-12-17T16:16:15.564461",
     "status": "completed"
    },
    "tags": []
   },
   "outputs": [
    {
     "data": {
      "text/plain": [
       "neighbourhood_group\n",
       "Brooklyn         34343\n",
       "Manhattan        32788\n",
       "Queens           10970\n",
       "Bronx             2367\n",
       "Staten Island      829\n",
       "Name: count, dtype: int64"
      ]
     },
     "execution_count": 52,
     "metadata": {},
     "output_type": "execute_result"
    }
   ],
   "source": [
    "airbnb_short_term_rentals = airbnb[airbnb['minimum_nights']<10]\n",
    "airbnb_short_term_rentals['neighbourhood_group'].value_counts()"
   ]
  },
  {
   "cell_type": "code",
   "execution_count": 53,
   "id": "b7179555",
   "metadata": {
    "execution": {
     "iopub.execute_input": "2023-12-17T16:16:15.684427Z",
     "iopub.status.busy": "2023-12-17T16:16:15.683469Z",
     "iopub.status.idle": "2023-12-17T16:16:17.053737Z",
     "shell.execute_reply": "2023-12-17T16:16:17.052825Z"
    },
    "papermill": {
     "duration": 1.399099,
     "end_time": "2023-12-17T16:16:17.055850",
     "exception": false,
     "start_time": "2023-12-17T16:16:15.656751",
     "status": "completed"
    },
    "tags": []
   },
   "outputs": [
    {
     "data": {
      "text/plain": [
       "Text(0, 0.5, 'Minimum Nights')"
      ]
     },
     "execution_count": 53,
     "metadata": {},
     "output_type": "execute_result"
    },
    {
     "data": {
      "image/png": "[encoded data removed]",
      "text/plain": [
       "<Figure size 640x480 with 1 Axes>"
      ]
     },
     "metadata": {},
     "output_type": "display_data"
    }
   ],
   "source": [
    "sns.barplot(x='neighbourhood_group',\n",
    "           y='minimum_nights',\n",
    "           data=airbnb_short_term_rentals).set(title='Neighbourhood Group vs Minimum Nights')\n",
    "plt.xlabel(\"Neighbourhood Group\")\n",
    "plt.ylabel(\"Minimum Nights\")"
   ]
  },
  {
   "cell_type": "code",
   "execution_count": 54,
   "id": "7fb42b0b",
   "metadata": {
    "execution": {
     "iopub.execute_input": "2023-12-17T16:16:17.112670Z",
     "iopub.status.busy": "2023-12-17T16:16:17.111942Z",
     "iopub.status.idle": "2023-12-17T16:16:17.133878Z",
     "shell.execute_reply": "2023-12-17T16:16:17.132784Z"
    },
    "papermill": {
     "duration": 0.053944,
     "end_time": "2023-12-17T16:16:17.136656",
     "exception": false,
     "start_time": "2023-12-17T16:16:17.082712",
     "status": "completed"
    },
    "tags": []
   },
   "outputs": [],
   "source": [
    "#  3. List the prices with respect to room type using a bar graph and also state your inferences.\n",
    "\n",
    "airbnb_prices_by_room_type = airbnb.groupby(['room_type']).agg(mean_price=('price', 'mean'))"
   ]
  },
  {
   "cell_type": "code",
   "execution_count": 55,
   "id": "38ce72b8",
   "metadata": {
    "execution": {
     "iopub.execute_input": "2023-12-17T16:16:17.190316Z",
     "iopub.status.busy": "2023-12-17T16:16:17.189886Z",
     "iopub.status.idle": "2023-12-17T16:16:17.289223Z",
     "shell.execute_reply": "2023-12-17T16:16:17.288057Z"
    },
    "papermill": {
     "duration": 0.128921,
     "end_time": "2023-12-17T16:16:17.291500",
     "exception": false,
     "start_time": "2023-12-17T16:16:17.162579",
     "status": "completed"
    },
    "tags": []
   },
   "outputs": [
    {
     "data": {
      "text/html": [
       "<div>\n",
       "<style scoped>\n",
       "    .dataframe tbody tr th:only-of-type {\n",
       "        vertical-align: middle;\n",
       "    }\n",
       "\n",
       "    .dataframe tbody tr th {\n",
       "        vertical-align: top;\n",
       "    }\n",
       "\n",
       "    .dataframe thead th {\n",
       "        text-align: right;\n",
       "    }\n",
       "</style>\n",
       "<table border=\"1\" class=\"dataframe\">\n",
       "  <thead>\n",
       "    <tr style=\"text-align: right;\">\n",
       "      <th></th>\n",
       "      <th>index</th>\n",
       "      <th>name</th>\n",
       "      <th>host_identity_verified</th>\n",
       "      <th>host_name</th>\n",
       "      <th>neighbourhood_group</th>\n",
       "      <th>neighbourhood</th>\n",
       "      <th>lat</th>\n",
       "      <th>long</th>\n",
       "      <th>instant_bookable</th>\n",
       "      <th>cancellation_policy</th>\n",
       "      <th>room_type</th>\n",
       "      <th>construction_year</th>\n",
       "      <th>price</th>\n",
       "      <th>service_fee</th>\n",
       "      <th>minimum_nights</th>\n",
       "      <th>number_of_reviews</th>\n",
       "      <th>last_review</th>\n",
       "      <th>reviews_per_month</th>\n",
       "      <th>review_rate_number</th>\n",
       "      <th>calculated_host_listings_count</th>\n",
       "      <th>days_booked</th>\n",
       "      <th>house_rules</th>\n",
       "      <th>license</th>\n",
       "    </tr>\n",
       "  </thead>\n",
       "  <tbody>\n",
       "    <tr>\n",
       "      <th>0</th>\n",
       "      <td>0</td>\n",
       "      <td>Clean &amp; quiet apt home by the park</td>\n",
       "      <td>unconfirmed</td>\n",
       "      <td>Madaline</td>\n",
       "      <td>Brooklyn</td>\n",
       "      <td>Kensington</td>\n",
       "      <td>40.64749</td>\n",
       "      <td>-73.97237</td>\n",
       "      <td>False</td>\n",
       "      <td>strict</td>\n",
       "      <td>Private room</td>\n",
       "      <td>2020</td>\n",
       "      <td>966.0</td>\n",
       "      <td>193.0</td>\n",
       "      <td>10</td>\n",
       "      <td>9.0</td>\n",
       "      <td>10/19/2021</td>\n",
       "      <td>0.21</td>\n",
       "      <td>4.0</td>\n",
       "      <td>6.0</td>\n",
       "      <td>286</td>\n",
       "      <td>Clean up and treat the home the way you'd like...</td>\n",
       "      <td>41662/AL</td>\n",
       "    </tr>\n",
       "    <tr>\n",
       "      <th>1</th>\n",
       "      <td>1</td>\n",
       "      <td>Skylit Midtown Castle</td>\n",
       "      <td>verified</td>\n",
       "      <td>Jenna</td>\n",
       "      <td>Manhattan</td>\n",
       "      <td>Midtown</td>\n",
       "      <td>40.75362</td>\n",
       "      <td>-73.98377</td>\n",
       "      <td>False</td>\n",
       "      <td>moderate</td>\n",
       "      <td>Entire home/apt</td>\n",
       "      <td>2007</td>\n",
       "      <td>142.0</td>\n",
       "      <td>28.0</td>\n",
       "      <td>30</td>\n",
       "      <td>45.0</td>\n",
       "      <td>5/21/2022</td>\n",
       "      <td>0.38</td>\n",
       "      <td>4.0</td>\n",
       "      <td>2.0</td>\n",
       "      <td>228</td>\n",
       "      <td>Pet friendly but please confirm with me if the...</td>\n",
       "      <td>41662/AL</td>\n",
       "    </tr>\n",
       "    <tr>\n",
       "      <th>2</th>\n",
       "      <td>2</td>\n",
       "      <td>THE VILLAGE OF HARLEM....NEW YORK !</td>\n",
       "      <td>unconfirmed</td>\n",
       "      <td>Elise</td>\n",
       "      <td>Manhattan</td>\n",
       "      <td>Harlem</td>\n",
       "      <td>40.80902</td>\n",
       "      <td>-73.94190</td>\n",
       "      <td>True</td>\n",
       "      <td>flexible</td>\n",
       "      <td>Private room</td>\n",
       "      <td>2005</td>\n",
       "      <td>620.0</td>\n",
       "      <td>124.0</td>\n",
       "      <td>3</td>\n",
       "      <td>0.0</td>\n",
       "      <td>6/23/2019</td>\n",
       "      <td>0.74</td>\n",
       "      <td>5.0</td>\n",
       "      <td>1.0</td>\n",
       "      <td>352</td>\n",
       "      <td>I encourage you to use my kitchen, cooking and...</td>\n",
       "      <td>41662/AL</td>\n",
       "    </tr>\n",
       "    <tr>\n",
       "      <th>3</th>\n",
       "      <td>3</td>\n",
       "      <td>Home away from home</td>\n",
       "      <td>unconfirmed</td>\n",
       "      <td>Garry</td>\n",
       "      <td>Brooklyn</td>\n",
       "      <td>Clinton Hill</td>\n",
       "      <td>40.68514</td>\n",
       "      <td>-73.95976</td>\n",
       "      <td>True</td>\n",
       "      <td>moderate</td>\n",
       "      <td>Entire home/apt</td>\n",
       "      <td>2005</td>\n",
       "      <td>368.0</td>\n",
       "      <td>74.0</td>\n",
       "      <td>30</td>\n",
       "      <td>270.0</td>\n",
       "      <td>7/5/2019</td>\n",
       "      <td>4.64</td>\n",
       "      <td>4.0</td>\n",
       "      <td>1.0</td>\n",
       "      <td>322</td>\n",
       "      <td>#NAME?</td>\n",
       "      <td>41662/AL</td>\n",
       "    </tr>\n",
       "    <tr>\n",
       "      <th>4</th>\n",
       "      <td>4</td>\n",
       "      <td>Entire Apt: Spacious Studio/Loft by central park</td>\n",
       "      <td>verified</td>\n",
       "      <td>Lyndon</td>\n",
       "      <td>Manhattan</td>\n",
       "      <td>East Harlem</td>\n",
       "      <td>40.79851</td>\n",
       "      <td>-73.94399</td>\n",
       "      <td>False</td>\n",
       "      <td>moderate</td>\n",
       "      <td>Entire home/apt</td>\n",
       "      <td>2009</td>\n",
       "      <td>204.0</td>\n",
       "      <td>41.0</td>\n",
       "      <td>10</td>\n",
       "      <td>9.0</td>\n",
       "      <td>11/19/2018</td>\n",
       "      <td>0.10</td>\n",
       "      <td>3.0</td>\n",
       "      <td>1.0</td>\n",
       "      <td>289</td>\n",
       "      <td>Please no smoking in the house, porch or on th...</td>\n",
       "      <td>41662/AL</td>\n",
       "    </tr>\n",
       "    <tr>\n",
       "      <th>...</th>\n",
       "      <td>...</td>\n",
       "      <td>...</td>\n",
       "      <td>...</td>\n",
       "      <td>...</td>\n",
       "      <td>...</td>\n",
       "      <td>...</td>\n",
       "      <td>...</td>\n",
       "      <td>...</td>\n",
       "      <td>...</td>\n",
       "      <td>...</td>\n",
       "      <td>...</td>\n",
       "      <td>...</td>\n",
       "      <td>...</td>\n",
       "      <td>...</td>\n",
       "      <td>...</td>\n",
       "      <td>...</td>\n",
       "      <td>...</td>\n",
       "      <td>...</td>\n",
       "      <td>...</td>\n",
       "      <td>...</td>\n",
       "      <td>...</td>\n",
       "      <td>...</td>\n",
       "      <td>...</td>\n",
       "    </tr>\n",
       "    <tr>\n",
       "      <th>99133</th>\n",
       "      <td>102053</td>\n",
       "      <td>Cozy bright room near Prospect Park</td>\n",
       "      <td>unconfirmed</td>\n",
       "      <td>Mariam</td>\n",
       "      <td>Brooklyn</td>\n",
       "      <td>Flatbush</td>\n",
       "      <td>40.64945</td>\n",
       "      <td>-73.96108</td>\n",
       "      <td>True</td>\n",
       "      <td>moderate</td>\n",
       "      <td>Private room</td>\n",
       "      <td>2012</td>\n",
       "      <td>696.0</td>\n",
       "      <td>41.0</td>\n",
       "      <td>7</td>\n",
       "      <td>12.0</td>\n",
       "      <td>3/27/2019</td>\n",
       "      <td>0.44</td>\n",
       "      <td>5.0</td>\n",
       "      <td>1.0</td>\n",
       "      <td>0</td>\n",
       "      <td>Shoes off Clean After yourself Turn Lights and...</td>\n",
       "      <td>41662/AL</td>\n",
       "    </tr>\n",
       "    <tr>\n",
       "      <th>99134</th>\n",
       "      <td>102054</td>\n",
       "      <td>Private Bedroom with Amazing Rooftop View</td>\n",
       "      <td>verified</td>\n",
       "      <td>Trey</td>\n",
       "      <td>Brooklyn</td>\n",
       "      <td>Bushwick</td>\n",
       "      <td>40.69872</td>\n",
       "      <td>-73.92718</td>\n",
       "      <td>False</td>\n",
       "      <td>flexible</td>\n",
       "      <td>Private room</td>\n",
       "      <td>2012</td>\n",
       "      <td>909.0</td>\n",
       "      <td>41.0</td>\n",
       "      <td>1</td>\n",
       "      <td>19.0</td>\n",
       "      <td>8/31/2017</td>\n",
       "      <td>0.72</td>\n",
       "      <td>3.0</td>\n",
       "      <td>2.0</td>\n",
       "      <td>0</td>\n",
       "      <td>#NAME?</td>\n",
       "      <td>41662/AL</td>\n",
       "    </tr>\n",
       "    <tr>\n",
       "      <th>99135</th>\n",
       "      <td>102055</td>\n",
       "      <td>Pretty Brooklyn One-Bedroom for 2 to 4 people</td>\n",
       "      <td>verified</td>\n",
       "      <td>Michael</td>\n",
       "      <td>Brooklyn</td>\n",
       "      <td>Bedford-Stuyvesant</td>\n",
       "      <td>40.67810</td>\n",
       "      <td>-73.90822</td>\n",
       "      <td>True</td>\n",
       "      <td>moderate</td>\n",
       "      <td>Entire home/apt</td>\n",
       "      <td>2012</td>\n",
       "      <td>387.0</td>\n",
       "      <td>41.0</td>\n",
       "      <td>2</td>\n",
       "      <td>50.0</td>\n",
       "      <td>6/26/2019</td>\n",
       "      <td>3.12</td>\n",
       "      <td>4.0</td>\n",
       "      <td>2.0</td>\n",
       "      <td>235</td>\n",
       "      <td>* Check out: 10am * We made an effort to keep ...</td>\n",
       "      <td>41662/AL</td>\n",
       "    </tr>\n",
       "    <tr>\n",
       "      <th>99136</th>\n",
       "      <td>102056</td>\n",
       "      <td>Room &amp; private bathroom in historic Harlem</td>\n",
       "      <td>unconfirmed</td>\n",
       "      <td>Shireen</td>\n",
       "      <td>Manhattan</td>\n",
       "      <td>Harlem</td>\n",
       "      <td>40.81248</td>\n",
       "      <td>-73.94317</td>\n",
       "      <td>True</td>\n",
       "      <td>strict</td>\n",
       "      <td>Private room</td>\n",
       "      <td>2012</td>\n",
       "      <td>848.0</td>\n",
       "      <td>41.0</td>\n",
       "      <td>2</td>\n",
       "      <td>0.0</td>\n",
       "      <td>6/23/2019</td>\n",
       "      <td>0.74</td>\n",
       "      <td>1.0</td>\n",
       "      <td>1.0</td>\n",
       "      <td>0</td>\n",
       "      <td>Each of us is working and/or going to school a...</td>\n",
       "      <td>41662/AL</td>\n",
       "    </tr>\n",
       "    <tr>\n",
       "      <th>99137</th>\n",
       "      <td>102057</td>\n",
       "      <td>Rosalee Stewart</td>\n",
       "      <td>verified</td>\n",
       "      <td>Stanley</td>\n",
       "      <td>Manhattan</td>\n",
       "      <td>Harlem</td>\n",
       "      <td>40.81315</td>\n",
       "      <td>-73.94747</td>\n",
       "      <td>False</td>\n",
       "      <td>flexible</td>\n",
       "      <td>Entire home/apt</td>\n",
       "      <td>2011</td>\n",
       "      <td>1128.0</td>\n",
       "      <td>41.0</td>\n",
       "      <td>4</td>\n",
       "      <td>22.0</td>\n",
       "      <td>6/15/2019</td>\n",
       "      <td>0.85</td>\n",
       "      <td>4.0</td>\n",
       "      <td>1.0</td>\n",
       "      <td>238</td>\n",
       "      <td>Please remember that this is a residential bui...</td>\n",
       "      <td>41662/AL</td>\n",
       "    </tr>\n",
       "  </tbody>\n",
       "</table>\n",
       "<p>99138 rows × 23 columns</p>\n",
       "</div>"
      ],
      "text/plain": [
       "        index                                              name  \\\n",
       "0           0                Clean & quiet apt home by the park   \n",
       "1           1                             Skylit Midtown Castle   \n",
       "2           2               THE VILLAGE OF HARLEM....NEW YORK !   \n",
       "3           3                               Home away from home   \n",
       "4           4  Entire Apt: Spacious Studio/Loft by central park   \n",
       "...       ...                                               ...   \n",
       "99133  102053               Cozy bright room near Prospect Park   \n",
       "99134  102054         Private Bedroom with Amazing Rooftop View   \n",
       "99135  102055     Pretty Brooklyn One-Bedroom for 2 to 4 people   \n",
       "99136  102056        Room & private bathroom in historic Harlem   \n",
       "99137  102057                                   Rosalee Stewart   \n",
       "\n",
       "      host_identity_verified host_name neighbourhood_group  \\\n",
       "0                unconfirmed  Madaline            Brooklyn   \n",
       "1                   verified     Jenna           Manhattan   \n",
       "2                unconfirmed     Elise           Manhattan   \n",
       "3                unconfirmed     Garry            Brooklyn   \n",
       "4                   verified    Lyndon           Manhattan   \n",
       "...                      ...       ...                 ...   \n",
       "99133            unconfirmed    Mariam            Brooklyn   \n",
       "99134               verified      Trey            Brooklyn   \n",
       "99135               verified   Michael            Brooklyn   \n",
       "99136            unconfirmed   Shireen           Manhattan   \n",
       "99137               verified   Stanley           Manhattan   \n",
       "\n",
       "            neighbourhood       lat      long  instant_bookable  \\\n",
       "0              Kensington  40.64749 -73.97237             False   \n",
       "1                 Midtown  40.75362 -73.98377             False   \n",
       "2                  Harlem  40.80902 -73.94190              True   \n",
       "3            Clinton Hill  40.68514 -73.95976              True   \n",
       "4             East Harlem  40.79851 -73.94399             False   \n",
       "...                   ...       ...       ...               ...   \n",
       "99133            Flatbush  40.64945 -73.96108              True   \n",
       "99134            Bushwick  40.69872 -73.92718             False   \n",
       "99135  Bedford-Stuyvesant  40.67810 -73.90822              True   \n",
       "99136              Harlem  40.81248 -73.94317              True   \n",
       "99137              Harlem  40.81315 -73.94747             False   \n",
       "\n",
       "      cancellation_policy        room_type  construction_year   price  \\\n",
       "0                  strict     Private room               2020   966.0   \n",
       "1                moderate  Entire home/apt               2007   142.0   \n",
       "2                flexible     Private room               2005   620.0   \n",
       "3                moderate  Entire home/apt               2005   368.0   \n",
       "4                moderate  Entire home/apt               2009   204.0   \n",
       "...                   ...              ...                ...     ...   \n",
       "99133            moderate     Private room               2012   696.0   \n",
       "99134            flexible     Private room               2012   909.0   \n",
       "99135            moderate  Entire home/apt               2012   387.0   \n",
       "99136              strict     Private room               2012   848.0   \n",
       "99137            flexible  Entire home/apt               2011  1128.0   \n",
       "\n",
       "       service_fee  minimum_nights  number_of_reviews last_review  \\\n",
       "0            193.0              10                9.0  10/19/2021   \n",
       "1             28.0              30               45.0   5/21/2022   \n",
       "2            124.0               3                0.0   6/23/2019   \n",
       "3             74.0              30              270.0    7/5/2019   \n",
       "4             41.0              10                9.0  11/19/2018   \n",
       "...            ...             ...                ...         ...   \n",
       "99133         41.0               7               12.0   3/27/2019   \n",
       "99134         41.0               1               19.0   8/31/2017   \n",
       "99135         41.0               2               50.0   6/26/2019   \n",
       "99136         41.0               2                0.0   6/23/2019   \n",
       "99137         41.0               4               22.0   6/15/2019   \n",
       "\n",
       "       reviews_per_month  review_rate_number  calculated_host_listings_count  \\\n",
       "0                   0.21                 4.0                             6.0   \n",
       "1                   0.38                 4.0                             2.0   \n",
       "2                   0.74                 5.0                             1.0   \n",
       "3                   4.64                 4.0                             1.0   \n",
       "4                   0.10                 3.0                             1.0   \n",
       "...                  ...                 ...                             ...   \n",
       "99133               0.44                 5.0                             1.0   \n",
       "99134               0.72                 3.0                             2.0   \n",
       "99135               3.12                 4.0                             2.0   \n",
       "99136               0.74                 1.0                             1.0   \n",
       "99137               0.85                 4.0                             1.0   \n",
       "\n",
       "       days_booked                                        house_rules  \\\n",
       "0              286  Clean up and treat the home the way you'd like...   \n",
       "1              228  Pet friendly but please confirm with me if the...   \n",
       "2              352  I encourage you to use my kitchen, cooking and...   \n",
       "3              322                                             #NAME?   \n",
       "4              289  Please no smoking in the house, porch or on th...   \n",
       "...            ...                                                ...   \n",
       "99133            0  Shoes off Clean After yourself Turn Lights and...   \n",
       "99134            0                                             #NAME?   \n",
       "99135          235  * Check out: 10am * We made an effort to keep ...   \n",
       "99136            0  Each of us is working and/or going to school a...   \n",
       "99137          238  Please remember that this is a residential bui...   \n",
       "\n",
       "        license  \n",
       "0      41662/AL  \n",
       "1      41662/AL  \n",
       "2      41662/AL  \n",
       "3      41662/AL  \n",
       "4      41662/AL  \n",
       "...         ...  \n",
       "99133  41662/AL  \n",
       "99134  41662/AL  \n",
       "99135  41662/AL  \n",
       "99136  41662/AL  \n",
       "99137  41662/AL  \n",
       "\n",
       "[99138 rows x 23 columns]"
      ]
     },
     "execution_count": 55,
     "metadata": {},
     "output_type": "execute_result"
    }
   ],
   "source": [
    "airbnb.reset_index()"
   ]
  },
  {
   "cell_type": "code",
   "execution_count": 56,
   "id": "885a92cd",
   "metadata": {
    "execution": {
     "iopub.execute_input": "2023-12-17T16:16:17.347317Z",
     "iopub.status.busy": "2023-12-17T16:16:17.346904Z",
     "iopub.status.idle": "2023-12-17T16:16:17.356605Z",
     "shell.execute_reply": "2023-12-17T16:16:17.355412Z"
    },
    "papermill": {
     "duration": 0.039931,
     "end_time": "2023-12-17T16:16:17.358634",
     "exception": false,
     "start_time": "2023-12-17T16:16:17.318703",
     "status": "completed"
    },
    "tags": []
   },
   "outputs": [
    {
     "data": {
      "text/html": [
       "<div>\n",
       "<style scoped>\n",
       "    .dataframe tbody tr th:only-of-type {\n",
       "        vertical-align: middle;\n",
       "    }\n",
       "\n",
       "    .dataframe tbody tr th {\n",
       "        vertical-align: top;\n",
       "    }\n",
       "\n",
       "    .dataframe thead th {\n",
       "        text-align: right;\n",
       "    }\n",
       "</style>\n",
       "<table border=\"1\" class=\"dataframe\">\n",
       "  <thead>\n",
       "    <tr style=\"text-align: right;\">\n",
       "      <th></th>\n",
       "      <th>mean_price</th>\n",
       "    </tr>\n",
       "    <tr>\n",
       "      <th>room_type</th>\n",
       "      <th></th>\n",
       "    </tr>\n",
       "  </thead>\n",
       "  <tbody>\n",
       "    <tr>\n",
       "      <th>Entire home/apt</th>\n",
       "      <td>624.227711</td>\n",
       "    </tr>\n",
       "    <tr>\n",
       "      <th>Hotel room</th>\n",
       "      <td>666.391304</td>\n",
       "    </tr>\n",
       "    <tr>\n",
       "      <th>Private room</th>\n",
       "      <td>623.842516</td>\n",
       "    </tr>\n",
       "    <tr>\n",
       "      <th>Shared room</th>\n",
       "      <td>630.912517</td>\n",
       "    </tr>\n",
       "  </tbody>\n",
       "</table>\n",
       "</div>"
      ],
      "text/plain": [
       "                 mean_price\n",
       "room_type                  \n",
       "Entire home/apt  624.227711\n",
       "Hotel room       666.391304\n",
       "Private room     623.842516\n",
       "Shared room      630.912517"
      ]
     },
     "execution_count": 56,
     "metadata": {},
     "output_type": "execute_result"
    }
   ],
   "source": [
    "airbnb_prices_by_room_type.head()"
   ]
  },
  {
   "cell_type": "code",
   "execution_count": 57,
   "id": "24e884f2",
   "metadata": {
    "execution": {
     "iopub.execute_input": "2023-12-17T16:16:17.415018Z",
     "iopub.status.busy": "2023-12-17T16:16:17.414409Z",
     "iopub.status.idle": "2023-12-17T16:16:17.676312Z",
     "shell.execute_reply": "2023-12-17T16:16:17.675185Z"
    },
    "papermill": {
     "duration": 0.29284,
     "end_time": "2023-12-17T16:16:17.678800",
     "exception": false,
     "start_time": "2023-12-17T16:16:17.385960",
     "status": "completed"
    },
    "tags": []
   },
   "outputs": [
    {
     "data": {
      "image/png": "[encoded data removed]",
      "text/plain": [
       "<Figure size 640x480 with 1 Axes>"
      ]
     },
     "metadata": {},
     "output_type": "display_data"
    }
   ],
   "source": [
    "#  3. List the prices with respect to room type using a bar graph and also state your inferences.\n",
    "\n",
    "airbnb_prices_by_room_type.head().plot(kind='bar', color={'purple'})\n",
    "plt.xlabel('Room Type')\n",
    "plt.ylabel('Price $')\n",
    "plt.title('Price vs Room Type')\n",
    "plt.show()"
   ]
  },
  {
   "cell_type": "code",
   "execution_count": 58,
   "id": "878db23e",
   "metadata": {
    "execution": {
     "iopub.execute_input": "2023-12-17T16:16:17.737263Z",
     "iopub.status.busy": "2023-12-17T16:16:17.736870Z",
     "iopub.status.idle": "2023-12-17T16:16:17.758160Z",
     "shell.execute_reply": "2023-12-17T16:16:17.756889Z"
    },
    "papermill": {
     "duration": 0.053826,
     "end_time": "2023-12-17T16:16:17.760884",
     "exception": false,
     "start_time": "2023-12-17T16:16:17.707058",
     "status": "completed"
    },
    "tags": []
   },
   "outputs": [],
   "source": [
    "airbnb_prices_by_room_type = airbnb.groupby(['room_type']).agg(max_price=('price', 'max')).reset_index()"
   ]
  },
  {
   "cell_type": "code",
   "execution_count": 59,
   "id": "76ee1c19",
   "metadata": {
    "execution": {
     "iopub.execute_input": "2023-12-17T16:16:17.819750Z",
     "iopub.status.busy": "2023-12-17T16:16:17.819320Z",
     "iopub.status.idle": "2023-12-17T16:16:17.831754Z",
     "shell.execute_reply": "2023-12-17T16:16:17.830643Z"
    },
    "papermill": {
     "duration": 0.04427,
     "end_time": "2023-12-17T16:16:17.833888",
     "exception": false,
     "start_time": "2023-12-17T16:16:17.789618",
     "status": "completed"
    },
    "tags": []
   },
   "outputs": [
    {
     "data": {
      "text/html": [
       "<div>\n",
       "<style scoped>\n",
       "    .dataframe tbody tr th:only-of-type {\n",
       "        vertical-align: middle;\n",
       "    }\n",
       "\n",
       "    .dataframe tbody tr th {\n",
       "        vertical-align: top;\n",
       "    }\n",
       "\n",
       "    .dataframe thead th {\n",
       "        text-align: right;\n",
       "    }\n",
       "</style>\n",
       "<table border=\"1\" class=\"dataframe\">\n",
       "  <thead>\n",
       "    <tr style=\"text-align: right;\">\n",
       "      <th></th>\n",
       "      <th>room_type</th>\n",
       "      <th>max_price</th>\n",
       "    </tr>\n",
       "  </thead>\n",
       "  <tbody>\n",
       "    <tr>\n",
       "      <th>0</th>\n",
       "      <td>Entire home/apt</td>\n",
       "      <td>1200.0</td>\n",
       "    </tr>\n",
       "    <tr>\n",
       "      <th>1</th>\n",
       "      <td>Hotel room</td>\n",
       "      <td>1193.0</td>\n",
       "    </tr>\n",
       "    <tr>\n",
       "      <th>2</th>\n",
       "      <td>Private room</td>\n",
       "      <td>1200.0</td>\n",
       "    </tr>\n",
       "    <tr>\n",
       "      <th>3</th>\n",
       "      <td>Shared room</td>\n",
       "      <td>1199.0</td>\n",
       "    </tr>\n",
       "  </tbody>\n",
       "</table>\n",
       "</div>"
      ],
      "text/plain": [
       "         room_type  max_price\n",
       "0  Entire home/apt     1200.0\n",
       "1       Hotel room     1193.0\n",
       "2     Private room     1200.0\n",
       "3      Shared room     1199.0"
      ]
     },
     "execution_count": 59,
     "metadata": {},
     "output_type": "execute_result"
    }
   ],
   "source": [
    "airbnb_prices_by_room_type.head()"
   ]
  },
  {
   "cell_type": "code",
   "execution_count": 60,
   "id": "526f287b",
   "metadata": {
    "execution": {
     "iopub.execute_input": "2023-12-17T16:16:17.892213Z",
     "iopub.status.busy": "2023-12-17T16:16:17.891392Z",
     "iopub.status.idle": "2023-12-17T16:16:18.159632Z",
     "shell.execute_reply": "2023-12-17T16:16:18.158462Z"
    },
    "papermill": {
     "duration": 0.299848,
     "end_time": "2023-12-17T16:16:18.162147",
     "exception": false,
     "start_time": "2023-12-17T16:16:17.862299",
     "status": "completed"
    },
    "tags": []
   },
   "outputs": [
    {
     "data": {
      "image/png": "[encoded data removed]",
      "text/plain": [
       "<Figure size 640x480 with 1 Axes>"
      ]
     },
     "metadata": {},
     "output_type": "display_data"
    }
   ],
   "source": [
    "airbnb_prices_by_room_type.head().plot(kind='bar', color={'red'})\n",
    "plt.xlabel('Room Type')\n",
    "plt.ylabel('Price $')\n",
    "plt.title('Price vs Room Type')\n",
    "plt.show()"
   ]
  },
  {
   "cell_type": "code",
   "execution_count": 61,
   "id": "7918bf9e",
   "metadata": {
    "execution": {
     "iopub.execute_input": "2023-12-17T16:16:18.221893Z",
     "iopub.status.busy": "2023-12-17T16:16:18.221486Z",
     "iopub.status.idle": "2023-12-17T16:16:18.241688Z",
     "shell.execute_reply": "2023-12-17T16:16:18.240548Z"
    },
    "papermill": {
     "duration": 0.053628,
     "end_time": "2023-12-17T16:16:18.244392",
     "exception": false,
     "start_time": "2023-12-17T16:16:18.190764",
     "status": "completed"
    },
    "tags": []
   },
   "outputs": [],
   "source": [
    "airbnb_prices_by_room_type = airbnb.groupby(['room_type']).agg(min_price=('price', 'min')).reset_index()"
   ]
  },
  {
   "cell_type": "code",
   "execution_count": 62,
   "id": "1c1c5269",
   "metadata": {
    "execution": {
     "iopub.execute_input": "2023-12-17T16:16:18.302974Z",
     "iopub.status.busy": "2023-12-17T16:16:18.302558Z",
     "iopub.status.idle": "2023-12-17T16:16:18.313279Z",
     "shell.execute_reply": "2023-12-17T16:16:18.312081Z"
    },
    "papermill": {
     "duration": 0.042871,
     "end_time": "2023-12-17T16:16:18.315675",
     "exception": false,
     "start_time": "2023-12-17T16:16:18.272804",
     "status": "completed"
    },
    "tags": []
   },
   "outputs": [
    {
     "data": {
      "text/html": [
       "<div>\n",
       "<style scoped>\n",
       "    .dataframe tbody tr th:only-of-type {\n",
       "        vertical-align: middle;\n",
       "    }\n",
       "\n",
       "    .dataframe tbody tr th {\n",
       "        vertical-align: top;\n",
       "    }\n",
       "\n",
       "    .dataframe thead th {\n",
       "        text-align: right;\n",
       "    }\n",
       "</style>\n",
       "<table border=\"1\" class=\"dataframe\">\n",
       "  <thead>\n",
       "    <tr style=\"text-align: right;\">\n",
       "      <th></th>\n",
       "      <th>room_type</th>\n",
       "      <th>min_price</th>\n",
       "    </tr>\n",
       "  </thead>\n",
       "  <tbody>\n",
       "    <tr>\n",
       "      <th>0</th>\n",
       "      <td>Entire home/apt</td>\n",
       "      <td>50.0</td>\n",
       "    </tr>\n",
       "    <tr>\n",
       "      <th>1</th>\n",
       "      <td>Hotel room</td>\n",
       "      <td>50.0</td>\n",
       "    </tr>\n",
       "    <tr>\n",
       "      <th>2</th>\n",
       "      <td>Private room</td>\n",
       "      <td>50.0</td>\n",
       "    </tr>\n",
       "    <tr>\n",
       "      <th>3</th>\n",
       "      <td>Shared room</td>\n",
       "      <td>50.0</td>\n",
       "    </tr>\n",
       "  </tbody>\n",
       "</table>\n",
       "</div>"
      ],
      "text/plain": [
       "         room_type  min_price\n",
       "0  Entire home/apt       50.0\n",
       "1       Hotel room       50.0\n",
       "2     Private room       50.0\n",
       "3      Shared room       50.0"
      ]
     },
     "execution_count": 62,
     "metadata": {},
     "output_type": "execute_result"
    }
   ],
   "source": [
    "airbnb_prices_by_room_type.head()"
   ]
  },
  {
   "cell_type": "code",
   "execution_count": 63,
   "id": "064cb264",
   "metadata": {
    "execution": {
     "iopub.execute_input": "2023-12-17T16:16:18.373731Z",
     "iopub.status.busy": "2023-12-17T16:16:18.373153Z",
     "iopub.status.idle": "2023-12-17T16:16:18.623520Z",
     "shell.execute_reply": "2023-12-17T16:16:18.622344Z"
    },
    "papermill": {
     "duration": 0.282282,
     "end_time": "2023-12-17T16:16:18.625991",
     "exception": false,
     "start_time": "2023-12-17T16:16:18.343709",
     "status": "completed"
    },
    "tags": []
   },
   "outputs": [
    {
     "data": {
      "image/png": "[encoded data removed]",
      "text/plain": [
       "<Figure size 640x480 with 1 Axes>"
      ]
     },
     "metadata": {},
     "output_type": "display_data"
    }
   ],
   "source": [
    "airbnb_prices_by_room_type.head().plot(kind='bar', color={'green'})\n",
    "plt.xlabel('Room Type')\n",
    "plt.ylabel('Price $')\n",
    "plt.title('Price vs Room Type')\n",
    "plt.show()"
   ]
  },
  {
   "cell_type": "code",
   "execution_count": 64,
   "id": "9d4068f5",
   "metadata": {
    "execution": {
     "iopub.execute_input": "2023-12-17T16:16:18.686424Z",
     "iopub.status.busy": "2023-12-17T16:16:18.685986Z",
     "iopub.status.idle": "2023-12-17T16:16:18.693067Z",
     "shell.execute_reply": "2023-12-17T16:16:18.692109Z"
    },
    "papermill": {
     "duration": 0.038928,
     "end_time": "2023-12-17T16:16:18.695095",
     "exception": false,
     "start_time": "2023-12-17T16:16:18.656167",
     "status": "completed"
    },
    "tags": []
   },
   "outputs": [
    {
     "data": {
      "text/plain": [
       "'Hotel rooms are more expensive on average than the other room types, the average price is $666 compared to the cheapest room type on average to rent the Private room which is $623 on average to rent. However the Entire home/appartment and Private Room have the most expensive price that could be paid at $1200. The cheapest price that could be paid is $50 and you can get any room type for this price. '"
      ]
     },
     "execution_count": 64,
     "metadata": {},
     "output_type": "execute_result"
    }
   ],
   "source": [
    "#  3. List the prices with respect to room type using a bar graph and also state your inferences.\n",
    "\n",
    "'''Hotel rooms are more expensive on average than the other room types, the average price is $666 compared to the cheapest room type on average to rent the Private room which is $623 on average to rent. However the Entire home/appartment and Private Room have the most expensive price that could be paid at $1200. The cheapest price that could be paid is $50 and you can get any room type for this price. '''"
   ]
  },
  {
   "cell_type": "code",
   "execution_count": 65,
   "id": "2883db47",
   "metadata": {
    "execution": {
     "iopub.execute_input": "2023-12-17T16:16:18.755833Z",
     "iopub.status.busy": "2023-12-17T16:16:18.753736Z",
     "iopub.status.idle": "2023-12-17T16:16:18.773766Z",
     "shell.execute_reply": "2023-12-17T16:16:18.772222Z"
    },
    "papermill": {
     "duration": 0.052429,
     "end_time": "2023-12-17T16:16:18.776172",
     "exception": false,
     "start_time": "2023-12-17T16:16:18.723743",
     "status": "completed"
    },
    "tags": []
   },
   "outputs": [
    {
     "name": "stdout",
     "output_type": "stream",
     "text": [
      "  neighbourhood_group  days_booked\n",
      "0            Brooklyn   130.763363\n",
      "1           Manhattan   142.702121\n",
      "2              Queens   162.424977\n",
      "3               Bronx   178.993117\n",
      "4       Staten Island   195.989130\n"
     ]
    }
   ],
   "source": [
    "#  4. Create a pie chart that shows distribution of booked days for each neighbourhood group. Which neighbourhood has the highest booking percentage?\n",
    "\n",
    "airbnb_days_booked_neighbourhood_group = airbnb['days_booked'].groupby(airbnb['neighbourhood_group']).mean().sort_values().reset_index()\n",
    "print(airbnb_days_booked_neighbourhood_group)"
   ]
  },
  {
   "cell_type": "code",
   "execution_count": 66,
   "id": "f0f0e598",
   "metadata": {
    "execution": {
     "iopub.execute_input": "2023-12-17T16:16:18.838447Z",
     "iopub.status.busy": "2023-12-17T16:16:18.837192Z",
     "iopub.status.idle": "2023-12-17T16:16:19.021939Z",
     "shell.execute_reply": "2023-12-17T16:16:19.020755Z"
    },
    "papermill": {
     "duration": 0.219519,
     "end_time": "2023-12-17T16:16:19.025334",
     "exception": false,
     "start_time": "2023-12-17T16:16:18.805815",
     "status": "completed"
    },
    "tags": []
   },
   "outputs": [
    {
     "data": {
      "text/plain": [
       "([<matplotlib.patches.Wedge at 0x7cc5463dd660>,\n",
       "  <matplotlib.patches.Wedge at 0x7cc5463dd570>,\n",
       "  <matplotlib.patches.Wedge at 0x7cc5463de350>,\n",
       "  <matplotlib.patches.Wedge at 0x7cc5463de9e0>,\n",
       "  <matplotlib.patches.Wedge at 0x7cc5463df070>],\n",
       " [Text(0.9618279143982374, 0.5337481270078022, 'Brooklyn'),\n",
       "  Text(0.005146054216595288, 1.0999879627186837, 'Manhattan'),\n",
       "  Text(-1.0160101502883256, 0.4215725020813078, 'Queens'),\n",
       "  Text(-0.6580950419600305, -0.8814255020973842, 'Bronx'),\n",
       "  Text(0.7978290520241899, -0.7572772304421826, 'Staten Island')],\n",
       " [Text(0.524633407853584, 0.2911353420042557, '16%'),\n",
       "  Text(0.0028069386635974298, 0.599993434210191, '18%'),\n",
       "  Text(-0.554187354702723, 0.22994863749889513, '20%'),\n",
       "  Text(-0.35896093197819845, -0.4807775465985732, '22%'),\n",
       "  Text(0.4351794829222853, -0.4130603075139178, '24%')])"
      ]
     },
     "execution_count": 66,
     "metadata": {},
     "output_type": "execute_result"
    },
    {
     "data": {
      "image/png": "[encoded data removed]",
      "text/plain": [
       "<Figure size 640x480 with 1 Axes>"
      ]
     },
     "metadata": {},
     "output_type": "display_data"
    }
   ],
   "source": [
    "palette_color = sns.color_palette('bright')\n",
    "plt.title('Which neighbourhood has the highest booking percentage?', size=14, color='black')\n",
    "plt.pie(airbnb_days_booked_neighbourhood_group['days_booked'], \n",
    "        labels=airbnb_days_booked_neighbourhood_group['neighbourhood_group'], \n",
    "        colors=palette_color,\n",
    "        autopct='%1.0f%%')"
   ]
  },
  {
   "cell_type": "code",
   "execution_count": 67,
   "id": "1ced7a7e",
   "metadata": {
    "execution": {
     "iopub.execute_input": "2023-12-17T16:16:19.106512Z",
     "iopub.status.busy": "2023-12-17T16:16:19.105387Z",
     "iopub.status.idle": "2023-12-17T16:16:19.111111Z",
     "shell.execute_reply": "2023-12-17T16:16:19.110405Z"
    },
    "papermill": {
     "duration": 0.038488,
     "end_time": "2023-12-17T16:16:19.112969",
     "exception": false,
     "start_time": "2023-12-17T16:16:19.074481",
     "status": "completed"
    },
    "tags": []
   },
   "outputs": [
    {
     "data": {
      "text/plain": [
       "' Staten Island has the highest number of days booked with 24%. Brooklyn has the least with only 16%.'"
      ]
     },
     "execution_count": 67,
     "metadata": {},
     "output_type": "execute_result"
    }
   ],
   "source": [
    "# Which neighbourhood has the highest booking percentage?\n",
    "''' Staten Island has the highest number of days booked with 24%. Brooklyn has the least with only 16%.'''"
   ]
  },
  {
   "cell_type": "markdown",
   "id": "305ffe4f",
   "metadata": {
    "papermill": {
     "duration": 0.029167,
     "end_time": "2023-12-17T16:16:19.172400",
     "exception": false,
     "start_time": "2023-12-17T16:16:19.143233",
     "status": "completed"
    },
    "tags": []
   },
   "source": [
    "## **Task 5b: Data Visualization**\n",
    "1. Does service price and room price have an impact on each other. Illustrate this relationship with a scatter plot and state your inferences\n",
    "1. Using a line graph show in which year the maximum construction of rooms took place."
   ]
  },
  {
   "cell_type": "code",
   "execution_count": 68,
   "id": "f990fe29",
   "metadata": {
    "execution": {
     "iopub.execute_input": "2023-12-17T16:16:19.234477Z",
     "iopub.status.busy": "2023-12-17T16:16:19.234051Z",
     "iopub.status.idle": "2023-12-17T16:16:25.882574Z",
     "shell.execute_reply": "2023-12-17T16:16:25.881473Z"
    },
    "papermill": {
     "duration": 6.682247,
     "end_time": "2023-12-17T16:16:25.884899",
     "exception": false,
     "start_time": "2023-12-17T16:16:19.202652",
     "status": "completed"
    },
    "tags": []
   },
   "outputs": [
    {
     "data": {
      "text/plain": [
       "<Axes: title={'center': 'Relationship between Price and Service Fee'}, xlabel='Price', ylabel='Service Fee'>"
      ]
     },
     "execution_count": 68,
     "metadata": {},
     "output_type": "execute_result"
    },
    {
     "data": {
      "image/png": "[encoded data removed]",
      "text/plain": [
       "<Figure size 800x500 with 1 Axes>"
      ]
     },
     "metadata": {},
     "output_type": "display_data"
    }
   ],
   "source": [
    "# 1. Does service price and room price have an impact on each other? Illustrate this relationship with a scatter plot and state your inferences\n",
    "\n",
    "plt.figure(figsize=(8,5))\n",
    "plt.title('Relationship between Price and Service Fee', size=14, color='black')\n",
    "plt.xlabel(\"Price\")\n",
    "plt.ylabel(\"Service Fee\")\n",
    "sns.scatterplot(x=airbnb['price'], y=airbnb['service_fee'], hue=airbnb['room_type'], s=30)"
   ]
  },
  {
   "cell_type": "code",
   "execution_count": 69,
   "id": "cab6f3e2",
   "metadata": {
    "execution": {
     "iopub.execute_input": "2023-12-17T16:16:25.949722Z",
     "iopub.status.busy": "2023-12-17T16:16:25.948674Z",
     "iopub.status.idle": "2023-12-17T16:16:25.956726Z",
     "shell.execute_reply": "2023-12-17T16:16:25.955597Z"
    },
    "papermill": {
     "duration": 0.043154,
     "end_time": "2023-12-17T16:16:25.959093",
     "exception": false,
     "start_time": "2023-12-17T16:16:25.915939",
     "status": "completed"
    },
    "tags": []
   },
   "outputs": [
    {
     "data": {
      "text/plain": [
       "' The scatterplot shows a correlation between Price and Service Fee as the price increases so does the service fee. Although there are outliers where the service fee is fixed/stays the same at approx $45 when the price rises and also ouliers where the price is staying the same at $200 but the service fee varies up to almost $250.'"
      ]
     },
     "execution_count": 69,
     "metadata": {},
     "output_type": "execute_result"
    }
   ],
   "source": [
    "''' The scatterplot shows a correlation between Price and Service Fee as the price increases so does the service fee. Although there are outliers where the service fee is fixed/stays the same at approx $45 when the price rises and also ouliers where the price is staying the same at $200 but the service fee varies up to almost $250.'''"
   ]
  },
  {
   "cell_type": "code",
   "execution_count": 70,
   "id": "c33fa021",
   "metadata": {
    "execution": {
     "iopub.execute_input": "2023-12-17T16:16:26.024325Z",
     "iopub.status.busy": "2023-12-17T16:16:26.023218Z",
     "iopub.status.idle": "2023-12-17T16:16:26.029386Z",
     "shell.execute_reply": "2023-12-17T16:16:26.028646Z"
    },
    "papermill": {
     "duration": 0.041603,
     "end_time": "2023-12-17T16:16:26.031625",
     "exception": false,
     "start_time": "2023-12-17T16:16:25.990022",
     "status": "completed"
    },
    "tags": []
   },
   "outputs": [
    {
     "data": {
      "text/plain": [
       "Index(['name', 'host_identity_verified', 'host_name', 'neighbourhood_group',\n",
       "       'neighbourhood', 'lat', 'long', 'instant_bookable',\n",
       "       'cancellation_policy', 'room_type', 'construction_year', 'price',\n",
       "       'service_fee', 'minimum_nights', 'number_of_reviews', 'last_review',\n",
       "       'reviews_per_month', 'review_rate_number',\n",
       "       'calculated_host_listings_count', 'days_booked', 'house_rules',\n",
       "       'license'],\n",
       "      dtype='object')"
      ]
     },
     "execution_count": 70,
     "metadata": {},
     "output_type": "execute_result"
    }
   ],
   "source": [
    "airbnb.columns"
   ]
  },
  {
   "cell_type": "code",
   "execution_count": 71,
   "id": "2cd0363a",
   "metadata": {
    "execution": {
     "iopub.execute_input": "2023-12-17T16:16:26.096293Z",
     "iopub.status.busy": "2023-12-17T16:16:26.095291Z",
     "iopub.status.idle": "2023-12-17T16:16:26.105079Z",
     "shell.execute_reply": "2023-12-17T16:16:26.104261Z"
    },
    "papermill": {
     "duration": 0.044069,
     "end_time": "2023-12-17T16:16:26.107275",
     "exception": false,
     "start_time": "2023-12-17T16:16:26.063206",
     "status": "completed"
    },
    "tags": []
   },
   "outputs": [],
   "source": [
    "# 2. Using a line graph show in which year the maximum construction of rooms took place.\n",
    "\n",
    "airbnb['construction_year_counts'] = airbnb['construction_year'].value_counts()"
   ]
  },
  {
   "cell_type": "code",
   "execution_count": 72,
   "id": "89fc3956",
   "metadata": {
    "execution": {
     "iopub.execute_input": "2023-12-17T16:16:26.171770Z",
     "iopub.status.busy": "2023-12-17T16:16:26.171113Z",
     "iopub.status.idle": "2023-12-17T16:16:26.178535Z",
     "shell.execute_reply": "2023-12-17T16:16:26.177477Z"
    },
    "papermill": {
     "duration": 0.043057,
     "end_time": "2023-12-17T16:16:26.181170",
     "exception": false,
     "start_time": "2023-12-17T16:16:26.138113",
     "status": "completed"
    },
    "tags": []
   },
   "outputs": [
    {
     "data": {
      "text/plain": [
       "array([2020, 2007, 2005, 2009, 2013, 2015, 2004, 2008, 2010, 2019, 2018,\n",
       "       2006, 2016, 2017, 2021, 2003, 2011, 2012, 2022, 2014])"
      ]
     },
     "execution_count": 72,
     "metadata": {},
     "output_type": "execute_result"
    }
   ],
   "source": [
    "airbnb['construction_year'].unique()"
   ]
  },
  {
   "cell_type": "code",
   "execution_count": 73,
   "id": "b593c5ab",
   "metadata": {
    "execution": {
     "iopub.execute_input": "2023-12-17T16:16:26.246627Z",
     "iopub.status.busy": "2023-12-17T16:16:26.245950Z",
     "iopub.status.idle": "2023-12-17T16:16:26.737513Z",
     "shell.execute_reply": "2023-12-17T16:16:26.736369Z"
    },
    "papermill": {
     "duration": 0.52708,
     "end_time": "2023-12-17T16:16:26.739877",
     "exception": false,
     "start_time": "2023-12-17T16:16:26.212797",
     "status": "completed"
    },
    "tags": []
   },
   "outputs": [
    {
     "data": {
      "image/png": "[encoded data removed]",
      "text/plain": [
       "<Figure size 800x500 with 1 Axes>"
      ]
     },
     "metadata": {},
     "output_type": "display_data"
    }
   ],
   "source": [
    "fig, ax = plt.subplots()\n",
    "fig.set_size_inches(8,5)\n",
    "plt.title('Construction Year', size=14, color='black')\n",
    "sns.lineplot(x='construction_year', y='construction_year_counts', data=airbnb, ax=ax)\n",
    "ax.set_xlim(2005,2022)\n",
    "ax.set_xticks(range(2005,2023))\n",
    "plt.xlabel(\"Construction Year\")\n",
    "plt.ylabel(\"Number of Rooms Built\")\n",
    "plt.show()\n"
   ]
  },
  {
   "cell_type": "markdown",
   "id": "cc714dc4",
   "metadata": {
    "papermill": {
     "duration": 0.03156,
     "end_time": "2023-12-17T16:16:26.803251",
     "exception": false,
     "start_time": "2023-12-17T16:16:26.771691",
     "status": "completed"
    },
    "tags": []
   },
   "source": [
    "## **Task 5c: Data Visualization**\n",
    "With the help of box plots illustrate the following:\n",
    "1. Effect of Review Rate number on price\n",
    "1. Effect of host identity verified on price"
   ]
  },
  {
   "cell_type": "code",
   "execution_count": 74,
   "id": "2c3ad270",
   "metadata": {
    "execution": {
     "iopub.execute_input": "2023-12-17T16:16:26.889215Z",
     "iopub.status.busy": "2023-12-17T16:16:26.888839Z",
     "iopub.status.idle": "2023-12-17T16:16:26.895812Z",
     "shell.execute_reply": "2023-12-17T16:16:26.894721Z"
    },
    "papermill": {
     "duration": 0.052021,
     "end_time": "2023-12-17T16:16:26.897879",
     "exception": false,
     "start_time": "2023-12-17T16:16:26.845858",
     "status": "completed"
    },
    "tags": []
   },
   "outputs": [
    {
     "data": {
      "text/plain": [
       "Index(['name', 'host_identity_verified', 'host_name', 'neighbourhood_group',\n",
       "       'neighbourhood', 'lat', 'long', 'instant_bookable',\n",
       "       'cancellation_policy', 'room_type', 'construction_year', 'price',\n",
       "       'service_fee', 'minimum_nights', 'number_of_reviews', 'last_review',\n",
       "       'reviews_per_month', 'review_rate_number',\n",
       "       'calculated_host_listings_count', 'days_booked', 'house_rules',\n",
       "       'license', 'construction_year_counts'],\n",
       "      dtype='object')"
      ]
     },
     "execution_count": 74,
     "metadata": {},
     "output_type": "execute_result"
    }
   ],
   "source": [
    "airbnb.columns"
   ]
  },
  {
   "cell_type": "code",
   "execution_count": 75,
   "id": "40064dd6",
   "metadata": {
    "execution": {
     "iopub.execute_input": "2023-12-17T16:16:26.971640Z",
     "iopub.status.busy": "2023-12-17T16:16:26.970852Z",
     "iopub.status.idle": "2023-12-17T16:16:27.298023Z",
     "shell.execute_reply": "2023-12-17T16:16:27.296935Z"
    },
    "papermill": {
     "duration": 0.368498,
     "end_time": "2023-12-17T16:16:27.300452",
     "exception": false,
     "start_time": "2023-12-17T16:16:26.931954",
     "status": "completed"
    },
    "tags": []
   },
   "outputs": [
    {
     "data": {
      "text/plain": [
       "Text(0, 0.5, 'Price')"
      ]
     },
     "execution_count": 75,
     "metadata": {},
     "output_type": "execute_result"
    },
    {
     "data": {
      "image/png": "[encoded data removed]",
      "text/plain": [
       "<Figure size 640x480 with 1 Axes>"
      ]
     },
     "metadata": {},
     "output_type": "display_data"
    }
   ],
   "source": [
    "# 1. Use a box plot to illustrate the effect of Review Rate number on Price\n",
    "\n",
    "sns.boxplot(x='review_rate_number', y='price', data=airbnb)\n",
    "plt.title('Review Rate vs Price', size=14, color='black')\n",
    "plt.xlabel(\"Review Rate Number\")\n",
    "plt.ylabel(\"Price\")"
   ]
  },
  {
   "cell_type": "code",
   "execution_count": 76,
   "id": "0c35a74e",
   "metadata": {
    "execution": {
     "iopub.execute_input": "2023-12-17T16:16:27.369198Z",
     "iopub.status.busy": "2023-12-17T16:16:27.368390Z",
     "iopub.status.idle": "2023-12-17T16:16:27.384689Z",
     "shell.execute_reply": "2023-12-17T16:16:27.383568Z"
    },
    "papermill": {
     "duration": 0.052918,
     "end_time": "2023-12-17T16:16:27.386932",
     "exception": false,
     "start_time": "2023-12-17T16:16:27.334014",
     "status": "completed"
    },
    "tags": []
   },
   "outputs": [
    {
     "data": {
      "text/html": [
       "<div>\n",
       "<style scoped>\n",
       "    .dataframe tbody tr th:only-of-type {\n",
       "        vertical-align: middle;\n",
       "    }\n",
       "\n",
       "    .dataframe tbody tr th {\n",
       "        vertical-align: top;\n",
       "    }\n",
       "\n",
       "    .dataframe thead th {\n",
       "        text-align: right;\n",
       "    }\n",
       "</style>\n",
       "<table border=\"1\" class=\"dataframe\">\n",
       "  <thead>\n",
       "    <tr style=\"text-align: right;\">\n",
       "      <th></th>\n",
       "      <th>review_rate_number</th>\n",
       "      <th>price</th>\n",
       "    </tr>\n",
       "  </thead>\n",
       "  <tbody>\n",
       "    <tr>\n",
       "      <th>0</th>\n",
       "      <td>4.0</td>\n",
       "      <td>966.0</td>\n",
       "    </tr>\n",
       "    <tr>\n",
       "      <th>1</th>\n",
       "      <td>4.0</td>\n",
       "      <td>142.0</td>\n",
       "    </tr>\n",
       "    <tr>\n",
       "      <th>2</th>\n",
       "      <td>5.0</td>\n",
       "      <td>620.0</td>\n",
       "    </tr>\n",
       "    <tr>\n",
       "      <th>3</th>\n",
       "      <td>4.0</td>\n",
       "      <td>368.0</td>\n",
       "    </tr>\n",
       "    <tr>\n",
       "      <th>4</th>\n",
       "      <td>3.0</td>\n",
       "      <td>204.0</td>\n",
       "    </tr>\n",
       "    <tr>\n",
       "      <th>5</th>\n",
       "      <td>3.0</td>\n",
       "      <td>577.0</td>\n",
       "    </tr>\n",
       "    <tr>\n",
       "      <th>6</th>\n",
       "      <td>5.0</td>\n",
       "      <td>71.0</td>\n",
       "    </tr>\n",
       "    <tr>\n",
       "      <th>7</th>\n",
       "      <td>5.0</td>\n",
       "      <td>1060.0</td>\n",
       "    </tr>\n",
       "    <tr>\n",
       "      <th>8</th>\n",
       "      <td>3.0</td>\n",
       "      <td>1018.0</td>\n",
       "    </tr>\n",
       "    <tr>\n",
       "      <th>9</th>\n",
       "      <td>5.0</td>\n",
       "      <td>291.0</td>\n",
       "    </tr>\n",
       "    <tr>\n",
       "      <th>10</th>\n",
       "      <td>3.0</td>\n",
       "      <td>319.0</td>\n",
       "    </tr>\n",
       "    <tr>\n",
       "      <th>11</th>\n",
       "      <td>4.0</td>\n",
       "      <td>606.0</td>\n",
       "    </tr>\n",
       "    <tr>\n",
       "      <th>12</th>\n",
       "      <td>4.0</td>\n",
       "      <td>714.0</td>\n",
       "    </tr>\n",
       "    <tr>\n",
       "      <th>13</th>\n",
       "      <td>4.0</td>\n",
       "      <td>580.0</td>\n",
       "    </tr>\n",
       "    <tr>\n",
       "      <th>14</th>\n",
       "      <td>3.0</td>\n",
       "      <td>149.0</td>\n",
       "    </tr>\n",
       "    <tr>\n",
       "      <th>15</th>\n",
       "      <td>3.0</td>\n",
       "      <td>578.0</td>\n",
       "    </tr>\n",
       "    <tr>\n",
       "      <th>16</th>\n",
       "      <td>3.0</td>\n",
       "      <td>778.0</td>\n",
       "    </tr>\n",
       "    <tr>\n",
       "      <th>17</th>\n",
       "      <td>5.0</td>\n",
       "      <td>656.0</td>\n",
       "    </tr>\n",
       "    <tr>\n",
       "      <th>18</th>\n",
       "      <td>3.0</td>\n",
       "      <td>460.0</td>\n",
       "    </tr>\n",
       "    <tr>\n",
       "      <th>19</th>\n",
       "      <td>5.0</td>\n",
       "      <td>1095.0</td>\n",
       "    </tr>\n",
       "    <tr>\n",
       "      <th>20</th>\n",
       "      <td>3.0</td>\n",
       "      <td>281.0</td>\n",
       "    </tr>\n",
       "    <tr>\n",
       "      <th>21</th>\n",
       "      <td>3.0</td>\n",
       "      <td>477.0</td>\n",
       "    </tr>\n",
       "    <tr>\n",
       "      <th>22</th>\n",
       "      <td>4.0</td>\n",
       "      <td>133.0</td>\n",
       "    </tr>\n",
       "    <tr>\n",
       "      <th>23</th>\n",
       "      <td>3.0</td>\n",
       "      <td>1050.0</td>\n",
       "    </tr>\n",
       "    <tr>\n",
       "      <th>24</th>\n",
       "      <td>4.0</td>\n",
       "      <td>816.0</td>\n",
       "    </tr>\n",
       "  </tbody>\n",
       "</table>\n",
       "</div>"
      ],
      "text/plain": [
       "    review_rate_number   price\n",
       "0                  4.0   966.0\n",
       "1                  4.0   142.0\n",
       "2                  5.0   620.0\n",
       "3                  4.0   368.0\n",
       "4                  3.0   204.0\n",
       "5                  3.0   577.0\n",
       "6                  5.0    71.0\n",
       "7                  5.0  1060.0\n",
       "8                  3.0  1018.0\n",
       "9                  5.0   291.0\n",
       "10                 3.0   319.0\n",
       "11                 4.0   606.0\n",
       "12                 4.0   714.0\n",
       "13                 4.0   580.0\n",
       "14                 3.0   149.0\n",
       "15                 3.0   578.0\n",
       "16                 3.0   778.0\n",
       "17                 5.0   656.0\n",
       "18                 3.0   460.0\n",
       "19                 5.0  1095.0\n",
       "20                 3.0   281.0\n",
       "21                 3.0   477.0\n",
       "22                 4.0   133.0\n",
       "23                 3.0  1050.0\n",
       "24                 4.0   816.0"
      ]
     },
     "execution_count": 76,
     "metadata": {},
     "output_type": "execute_result"
    }
   ],
   "source": [
    "airbnb[['review_rate_number', 'price']].head(25)"
   ]
  },
  {
   "cell_type": "code",
   "execution_count": 77,
   "id": "5f8fcbfc",
   "metadata": {
    "execution": {
     "iopub.execute_input": "2023-12-17T16:16:27.455586Z",
     "iopub.status.busy": "2023-12-17T16:16:27.455164Z",
     "iopub.status.idle": "2023-12-17T16:16:27.462410Z",
     "shell.execute_reply": "2023-12-17T16:16:27.461152Z"
    },
    "papermill": {
     "duration": 0.044291,
     "end_time": "2023-12-17T16:16:27.464985",
     "exception": false,
     "start_time": "2023-12-17T16:16:27.420694",
     "status": "completed"
    },
    "tags": []
   },
   "outputs": [
    {
     "data": {
      "text/plain": [
       "' There is no impact on price from the Review Rate. Whether a room has 1 star or 5 stars has no impact on the price. There are also no outliers.'"
      ]
     },
     "execution_count": 77,
     "metadata": {},
     "output_type": "execute_result"
    }
   ],
   "source": [
    "''' There is no impact on price from the Review Rate. Whether a room has 1 star or 5 stars has no impact on the price. There are also no outliers.'''"
   ]
  },
  {
   "cell_type": "code",
   "execution_count": 78,
   "id": "c7f273c0",
   "metadata": {
    "execution": {
     "iopub.execute_input": "2023-12-17T16:16:27.540675Z",
     "iopub.status.busy": "2023-12-17T16:16:27.539739Z",
     "iopub.status.idle": "2023-12-17T16:16:27.855345Z",
     "shell.execute_reply": "2023-12-17T16:16:27.854238Z"
    },
    "papermill": {
     "duration": 0.353842,
     "end_time": "2023-12-17T16:16:27.858218",
     "exception": false,
     "start_time": "2023-12-17T16:16:27.504376",
     "status": "completed"
    },
    "tags": []
   },
   "outputs": [
    {
     "data": {
      "text/plain": [
       "Text(0.5, 1.0, 'Host Identity Verified vs Price')"
      ]
     },
     "execution_count": 78,
     "metadata": {},
     "output_type": "execute_result"
    },
    {
     "data": {
      "image/png": "[encoded data removed]",
      "text/plain": [
       "<Figure size 640x480 with 1 Axes>"
      ]
     },
     "metadata": {},
     "output_type": "display_data"
    }
   ],
   "source": [
    "# 2. Use a box plot to illustrate the effect of host identity verified on price\n",
    "\n",
    "sns.boxplot(x='host_identity_verified', y='price', data=airbnb)\n",
    "plt.xlabel(\"Host Identity Verified\")\n",
    "plt.ylabel(\"Price\")\n",
    "plt.title('Host Identity Verified vs Price', size=14, color='black')"
   ]
  },
  {
   "cell_type": "code",
   "execution_count": 79,
   "id": "976a7809",
   "metadata": {
    "execution": {
     "iopub.execute_input": "2023-12-17T16:16:27.946445Z",
     "iopub.status.busy": "2023-12-17T16:16:27.945174Z",
     "iopub.status.idle": "2023-12-17T16:16:27.962541Z",
     "shell.execute_reply": "2023-12-17T16:16:27.961431Z"
    },
    "papermill": {
     "duration": 0.055528,
     "end_time": "2023-12-17T16:16:27.964986",
     "exception": false,
     "start_time": "2023-12-17T16:16:27.909458",
     "status": "completed"
    },
    "tags": []
   },
   "outputs": [
    {
     "data": {
      "text/html": [
       "<div>\n",
       "<style scoped>\n",
       "    .dataframe tbody tr th:only-of-type {\n",
       "        vertical-align: middle;\n",
       "    }\n",
       "\n",
       "    .dataframe tbody tr th {\n",
       "        vertical-align: top;\n",
       "    }\n",
       "\n",
       "    .dataframe thead th {\n",
       "        text-align: right;\n",
       "    }\n",
       "</style>\n",
       "<table border=\"1\" class=\"dataframe\">\n",
       "  <thead>\n",
       "    <tr style=\"text-align: right;\">\n",
       "      <th></th>\n",
       "      <th>host_identity_verified</th>\n",
       "      <th>price</th>\n",
       "    </tr>\n",
       "  </thead>\n",
       "  <tbody>\n",
       "    <tr>\n",
       "      <th>0</th>\n",
       "      <td>unconfirmed</td>\n",
       "      <td>966.0</td>\n",
       "    </tr>\n",
       "    <tr>\n",
       "      <th>1</th>\n",
       "      <td>verified</td>\n",
       "      <td>142.0</td>\n",
       "    </tr>\n",
       "    <tr>\n",
       "      <th>2</th>\n",
       "      <td>unconfirmed</td>\n",
       "      <td>620.0</td>\n",
       "    </tr>\n",
       "    <tr>\n",
       "      <th>3</th>\n",
       "      <td>unconfirmed</td>\n",
       "      <td>368.0</td>\n",
       "    </tr>\n",
       "    <tr>\n",
       "      <th>4</th>\n",
       "      <td>verified</td>\n",
       "      <td>204.0</td>\n",
       "    </tr>\n",
       "    <tr>\n",
       "      <th>5</th>\n",
       "      <td>verified</td>\n",
       "      <td>577.0</td>\n",
       "    </tr>\n",
       "    <tr>\n",
       "      <th>6</th>\n",
       "      <td>unconfirmed</td>\n",
       "      <td>71.0</td>\n",
       "    </tr>\n",
       "    <tr>\n",
       "      <th>7</th>\n",
       "      <td>unconfirmed</td>\n",
       "      <td>1060.0</td>\n",
       "    </tr>\n",
       "    <tr>\n",
       "      <th>8</th>\n",
       "      <td>verified</td>\n",
       "      <td>1018.0</td>\n",
       "    </tr>\n",
       "    <tr>\n",
       "      <th>9</th>\n",
       "      <td>unconfirmed</td>\n",
       "      <td>291.0</td>\n",
       "    </tr>\n",
       "  </tbody>\n",
       "</table>\n",
       "</div>"
      ],
      "text/plain": [
       "  host_identity_verified   price\n",
       "0            unconfirmed   966.0\n",
       "1               verified   142.0\n",
       "2            unconfirmed   620.0\n",
       "3            unconfirmed   368.0\n",
       "4               verified   204.0\n",
       "5               verified   577.0\n",
       "6            unconfirmed    71.0\n",
       "7            unconfirmed  1060.0\n",
       "8               verified  1018.0\n",
       "9            unconfirmed   291.0"
      ]
     },
     "execution_count": 79,
     "metadata": {},
     "output_type": "execute_result"
    }
   ],
   "source": [
    "airbnb[['host_identity_verified', 'price']].head(10)"
   ]
  },
  {
   "cell_type": "code",
   "execution_count": 80,
   "id": "a04b21f8",
   "metadata": {
    "execution": {
     "iopub.execute_input": "2023-12-17T16:16:28.038261Z",
     "iopub.status.busy": "2023-12-17T16:16:28.037302Z",
     "iopub.status.idle": "2023-12-17T16:16:28.044401Z",
     "shell.execute_reply": "2023-12-17T16:16:28.043434Z"
    },
    "papermill": {
     "duration": 0.046398,
     "end_time": "2023-12-17T16:16:28.046505",
     "exception": false,
     "start_time": "2023-12-17T16:16:28.000107",
     "status": "completed"
    },
    "tags": []
   },
   "outputs": [
    {
     "data": {
      "text/plain": [
       "' There is no impact on price from whether the host is unconfirmed or verified. There are also no outliers.'"
      ]
     },
     "execution_count": 80,
     "metadata": {},
     "output_type": "execute_result"
    }
   ],
   "source": [
    "''' There is no impact on price from whether the host is unconfirmed or verified. There are also no outliers.'''"
   ]
  },
  {
   "cell_type": "markdown",
   "id": "76861564",
   "metadata": {
    "papermill": {
     "duration": 0.0375,
     "end_time": "2023-12-17T16:16:28.118724",
     "exception": false,
     "start_time": "2023-12-17T16:16:28.081224",
     "status": "completed"
    },
    "tags": []
   },
   "source": [
    "## **Extra Visualisation**"
   ]
  },
  {
   "cell_type": "code",
   "execution_count": 81,
   "id": "97878773",
   "metadata": {
    "execution": {
     "iopub.execute_input": "2023-12-17T16:16:28.189643Z",
     "iopub.status.busy": "2023-12-17T16:16:28.188887Z",
     "iopub.status.idle": "2023-12-17T16:16:28.194551Z",
     "shell.execute_reply": "2023-12-17T16:16:28.193549Z"
    },
    "papermill": {
     "duration": 0.044027,
     "end_time": "2023-12-17T16:16:28.197023",
     "exception": false,
     "start_time": "2023-12-17T16:16:28.152996",
     "status": "completed"
    },
    "tags": []
   },
   "outputs": [],
   "source": [
    "def filtered_table(dataFrame, column, value):\n",
    "    filteredTable  = dataFrame[dataFrame[column] == value]\n",
    "    return filteredTable\n",
    "def selectneighbourhood(dataFrame, group, value, by):\n",
    "    selectedTable = dataFrame.groupby(group)[value].mean()\n",
    "    selectedTable = pd.DataFrame(selectedTable)\n",
    "    selectedTable.sort_values(by = by, ascending= False )\n",
    "    return selectedTable"
   ]
  },
  {
   "cell_type": "code",
   "execution_count": 82,
   "id": "3621cc2d",
   "metadata": {
    "execution": {
     "iopub.execute_input": "2023-12-17T16:16:28.269911Z",
     "iopub.status.busy": "2023-12-17T16:16:28.269537Z",
     "iopub.status.idle": "2023-12-17T16:16:28.367368Z",
     "shell.execute_reply": "2023-12-17T16:16:28.366559Z"
    },
    "papermill": {
     "duration": 0.136531,
     "end_time": "2023-12-17T16:16:28.369703",
     "exception": false,
     "start_time": "2023-12-17T16:16:28.233172",
     "status": "completed"
    },
    "tags": []
   },
   "outputs": [],
   "source": [
    "airbnb_brooklyn = filtered_table(airbnb, \"neighbourhood_group\", \"Brooklyn\")\n",
    "airbnb_booklyn_price = selectneighbourhood(airbnb_brooklyn,\"neighbourhood\", \"price\", \"price\")\n",
    "airbnb_manhattan = filtered_table(airbnb, \"neighbourhood_group\", \"Manhattan\")\n",
    "airbnb_manhattan_price = selectneighbourhood(airbnb_manhattan,\"neighbourhood\", \"price\", \"price\")\n",
    "airbnb_bronx = filtered_table(airbnb, \"neighbourhood_group\", \"Bronx\")\n",
    "airbnb_bronx_price = selectneighbourhood(airbnb_bronx,\"neighbourhood\", \"price\", \"price\")\n",
    "airbnb_queens = filtered_table(airbnb, \"neighbourhood_group\", \"Queens\")\n",
    "airbnb_queens_price = selectneighbourhood(airbnb_queens,\"neighbourhood\", \"price\", \"price\")\n",
    "airbnb_staten_island = filtered_table(airbnb, \"neighbourhood_group\", \"Staten Island\")\n",
    "airbnb_staten_island_price = selectneighbourhood(airbnb_staten_island,\"neighbourhood\", \"price\", \"price\")"
   ]
  },
  {
   "cell_type": "code",
   "execution_count": 83,
   "id": "1e0dff64",
   "metadata": {
    "execution": {
     "iopub.execute_input": "2023-12-17T16:16:28.439762Z",
     "iopub.status.busy": "2023-12-17T16:16:28.438604Z",
     "iopub.status.idle": "2023-12-17T16:16:28.946156Z",
     "shell.execute_reply": "2023-12-17T16:16:28.944910Z"
    },
    "papermill": {
     "duration": 0.545529,
     "end_time": "2023-12-17T16:16:28.948846",
     "exception": false,
     "start_time": "2023-12-17T16:16:28.403317",
     "status": "completed"
    },
    "tags": []
   },
   "outputs": [
    {
     "data": {
      "image/png": "[encoded data removed]",
      "text/plain": [
       "<Figure size 1500x700 with 1 Axes>"
      ]
     },
     "metadata": {},
     "output_type": "display_data"
    }
   ],
   "source": [
    "plt.figure(figsize= (15,7))\n",
    "sns.scatterplot(x = \"neighbourhood\",\n",
    "            y = \"price\",\n",
    "            label = \"Brooklyn\",\n",
    "            data = airbnb_booklyn_price);\n",
    "sns.scatterplot(x = \"neighbourhood\",\n",
    "            y = \"price\",\n",
    "            label = \"Manhattan\",\n",
    "            data = airbnb_manhattan_price);\n",
    "sns.scatterplot(x = \"neighbourhood\",\n",
    "            y = \"price\",\n",
    "            label = \"Bronx\",\n",
    "            data = airbnb_bronx_price);\n",
    "sns.scatterplot(x = \"neighbourhood\",\n",
    "            y = \"price\",\n",
    "            label = \"Queens\",\n",
    "            data = airbnb_queens_price);\n",
    "sns.scatterplot(x = \"neighbourhood\",\n",
    "            y = \"price\",\n",
    "            label = \"Staten Island\",\n",
    "            data = airbnb_staten_island_price);\n",
    "plt.xticks([])\n",
    "plt.xlabel(\"\")\n",
    "plt.ylabel(\"Price\")\n",
    "plt.title('Neighbourhood Group by Price', size=14, color='black')\n",
    "plt.grid(True)\n",
    "plt.show()"
   ]
  }
 ],
 "metadata": {
  "kaggle": {
   "accelerator": "none",
   "dataSources": [
    {
     "datasetId": 2380415,
     "sourceId": 4016336,
     "sourceType": "datasetVersion"
    }
   ],
   "dockerImageVersionId": 30587,
   "isGpuEnabled": false,
   "isInternetEnabled": false,
   "language": "python",
   "sourceType": "notebook"
  },
  "kernelspec": {
   "display_name": "Python 3",
   "language": "python",
   "name": "python3"
  },
  "language_info": {
   "codemirror_mode": {
    "name": "ipython",
    "version": 3
   },
   "file_extension": ".py",
   "mimetype": "text/x-python",
   "name": "python",
   "nbconvert_exporter": "python",
   "pygments_lexer": "ipython3",
   "version": "3.10.12"
  },
  "papermill": {
   "default_parameters": {},
   "duration": 26.402203,
   "end_time": "2023-12-17T16:16:29.706869",
   "environment_variables": {},
   "exception": null,
   "input_path": "__notebook__.ipynb",
   "output_path": "__notebook__.ipynb",
   "parameters": {},
   "start_time": "2023-12-17T16:16:03.304666",
   "version": "2.4.0"
  }
 },
 "nbformat": 4,
 "nbformat_minor": 5
}
