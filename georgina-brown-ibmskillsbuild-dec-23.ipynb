{
 "cells": [
  {
   "cell_type": "code",
   "execution_count": 1,
   "id": "8dcb24be",
   "metadata": {
    "_cell_guid": "b1076dfc-b9ad-4769-8c92-a6c4dae69d19",
    "_uuid": "8f2839f25d086af736a60e9eeb907d3b93b6e0e5",
    "execution": {
     "iopub.execute_input": "2023-12-17T09:10:44.725087Z",
     "iopub.status.busy": "2023-12-17T09:10:44.724662Z",
     "iopub.status.idle": "2023-12-17T09:10:45.407096Z",
     "shell.execute_reply": "2023-12-17T09:10:45.405355Z"
    },
    "papermill": {
     "duration": 0.70318,
     "end_time": "2023-12-17T09:10:45.408879",
     "exception": false,
     "start_time": "2023-12-17T09:10:44.705699",
     "status": "completed"
    },
    "tags": []
   },
   "outputs": [
    {
     "name": "stdout",
     "output_type": "stream",
     "text": [
      "/kaggle/input/airbnbopendata/Airbnb_Open_Data.csv\n"
     ]
    }
   ],
   "source": [
    "# This Python 3 environment comes with many helpful analytics libraries installed\n",
    "# It is defined by the kaggle/python Docker image: https://github.com/kaggle/docker-python\n",
    "# For example, here's several helpful packages to load\n",
    "\n",
    "import numpy as np # linear algebra\n",
    "import pandas as pd # data processing, CSV file I/O (e.g. pd.read_csv)\n",
    "\n",
    "# Input data files are available in the read-only \"../input/\" directory\n",
    "# For example, running this (by clicking run or pressing Shift+Enter) will list all files under the input directory\n",
    "\n",
    "import os\n",
    "for dirname, _, filenames in os.walk('/kaggle/input'):\n",
    "    for filename in filenames:\n",
    "        print(os.path.join(dirname, filename))\n",
    "\n",
    "# You can write up to 20GB to the current directory (/kaggle/working/) that gets preserved as output when you create a version using \"Save & Run All\" \n",
    "# You can also write temporary files to /kaggle/temp/, but they won't be saved outside of the current session"
   ]
  },
  {
   "cell_type": "markdown",
   "id": "45060f1a",
   "metadata": {
    "papermill": {
     "duration": 0.015808,
     "end_time": "2023-12-17T09:10:45.441237",
     "exception": false,
     "start_time": "2023-12-17T09:10:45.425429",
     "status": "completed"
    },
    "tags": []
   },
   "source": [
    "\n",
    "## **IBM SkillsBuild Capstone Project - Data Analytics**\n",
    "\n",
    "* Author: Georgina Brown\n",
    "* Date: December 2023\n",
    "* Project Name: IBM SkillsBuild - AirBnB Data Exploration and Visualisation\n",
    "* Data: /kaggle/input/airbnbopendata/Airbnb_Open_Data.csv\n"
   ]
  },
  {
   "cell_type": "markdown",
   "id": "e2dccf50",
   "metadata": {
    "papermill": {
     "duration": 0.015731,
     "end_time": "2023-12-17T09:10:45.473558",
     "exception": false,
     "start_time": "2023-12-17T09:10:45.457827",
     "status": "completed"
    },
    "tags": []
   },
   "source": [
    "## **Task 1: Data Loading**\n",
    "1. Read the csv file and load it into a pandas dataframe.\n",
    "1. Display the first five rows of your dataframe.\n",
    "1. Display the data types of the columns."
   ]
  },
  {
   "cell_type": "code",
   "execution_count": 2,
   "id": "9ce26d9e",
   "metadata": {
    "execution": {
     "iopub.execute_input": "2023-12-17T09:10:45.507345Z",
     "iopub.status.busy": "2023-12-17T09:10:45.506911Z",
     "iopub.status.idle": "2023-12-17T09:10:46.517487Z",
     "shell.execute_reply": "2023-12-17T09:10:46.516675Z"
    },
    "papermill": {
     "duration": 1.030136,
     "end_time": "2023-12-17T09:10:46.519679",
     "exception": false,
     "start_time": "2023-12-17T09:10:45.489543",
     "status": "completed"
    },
    "tags": []
   },
   "outputs": [],
   "source": [
    "# Importing the libraries\n",
    "import pandas as pd\n",
    "import numpy as np\n",
    "from matplotlib import pyplot as plt\n",
    "import seaborn as sns"
   ]
  },
  {
   "cell_type": "code",
   "execution_count": 3,
   "id": "450062f0",
   "metadata": {
    "execution": {
     "iopub.execute_input": "2023-12-17T09:10:46.554471Z",
     "iopub.status.busy": "2023-12-17T09:10:46.553650Z",
     "iopub.status.idle": "2023-12-17T09:10:46.558917Z",
     "shell.execute_reply": "2023-12-17T09:10:46.558352Z"
    },
    "papermill": {
     "duration": 0.024354,
     "end_time": "2023-12-17T09:10:46.560837",
     "exception": false,
     "start_time": "2023-12-17T09:10:46.536483",
     "status": "completed"
    },
    "tags": []
   },
   "outputs": [
    {
     "name": "stdout",
     "output_type": "stream",
     "text": [
      "Airbnb_Open_Data.csv\n"
     ]
    }
   ],
   "source": [
    "# Import the data\n",
    "import os\n",
    "for dirname, _, filenames in os.walk('/kaggle/input'):\n",
    "    for filename in filenames:\n",
    "        print(os.path.join('Airbnb_Open_Data.csv'))"
   ]
  },
  {
   "cell_type": "code",
   "execution_count": 4,
   "id": "31055d69",
   "metadata": {
    "execution": {
     "iopub.execute_input": "2023-12-17T09:10:46.650457Z",
     "iopub.status.busy": "2023-12-17T09:10:46.650096Z",
     "iopub.status.idle": "2023-12-17T09:10:47.613248Z",
     "shell.execute_reply": "2023-12-17T09:10:47.612322Z"
    },
    "papermill": {
     "duration": 1.037056,
     "end_time": "2023-12-17T09:10:47.615550",
     "exception": false,
     "start_time": "2023-12-17T09:10:46.578494",
     "status": "completed"
    },
    "tags": []
   },
   "outputs": [],
   "source": [
    "# 1. Read the csv file and load it into a pandas dataframe.\n",
    "airbnb = pd.read_csv('/kaggle/input/airbnbopendata/Airbnb_Open_Data.csv', low_memory=False)"
   ]
  },
  {
   "cell_type": "code",
   "execution_count": 5,
   "id": "cc5695c8",
   "metadata": {
    "execution": {
     "iopub.execute_input": "2023-12-17T09:10:47.650416Z",
     "iopub.status.busy": "2023-12-17T09:10:47.650062Z",
     "iopub.status.idle": "2023-12-17T09:10:47.680504Z",
     "shell.execute_reply": "2023-12-17T09:10:47.679897Z"
    },
    "papermill": {
     "duration": 0.049575,
     "end_time": "2023-12-17T09:10:47.682017",
     "exception": false,
     "start_time": "2023-12-17T09:10:47.632442",
     "status": "completed"
    },
    "tags": []
   },
   "outputs": [
    {
     "data": {
      "text/html": [
       "<div>\n",
       "<style scoped>\n",
       "    .dataframe tbody tr th:only-of-type {\n",
       "        vertical-align: middle;\n",
       "    }\n",
       "\n",
       "    .dataframe tbody tr th {\n",
       "        vertical-align: top;\n",
       "    }\n",
       "\n",
       "    .dataframe thead th {\n",
       "        text-align: right;\n",
       "    }\n",
       "</style>\n",
       "<table border=\"1\" class=\"dataframe\">\n",
       "  <thead>\n",
       "    <tr style=\"text-align: right;\">\n",
       "      <th></th>\n",
       "      <th>id</th>\n",
       "      <th>NAME</th>\n",
       "      <th>host id</th>\n",
       "      <th>host_identity_verified</th>\n",
       "      <th>host name</th>\n",
       "      <th>neighbourhood group</th>\n",
       "      <th>neighbourhood</th>\n",
       "      <th>lat</th>\n",
       "      <th>long</th>\n",
       "      <th>country</th>\n",
       "      <th>country code</th>\n",
       "      <th>instant_bookable</th>\n",
       "      <th>cancellation_policy</th>\n",
       "      <th>room type</th>\n",
       "      <th>Construction year</th>\n",
       "      <th>price</th>\n",
       "      <th>service fee</th>\n",
       "      <th>minimum nights</th>\n",
       "      <th>number of reviews</th>\n",
       "      <th>last review</th>\n",
       "      <th>reviews per month</th>\n",
       "      <th>review rate number</th>\n",
       "      <th>calculated host listings count</th>\n",
       "      <th>availability 365</th>\n",
       "      <th>house_rules</th>\n",
       "      <th>license</th>\n",
       "    </tr>\n",
       "  </thead>\n",
       "  <tbody>\n",
       "    <tr>\n",
       "      <th>0</th>\n",
       "      <td>1001254</td>\n",
       "      <td>Clean &amp; quiet apt home by the park</td>\n",
       "      <td>80014485718</td>\n",
       "      <td>unconfirmed</td>\n",
       "      <td>Madaline</td>\n",
       "      <td>Brooklyn</td>\n",
       "      <td>Kensington</td>\n",
       "      <td>40.64749</td>\n",
       "      <td>-73.97237</td>\n",
       "      <td>United States</td>\n",
       "      <td>US</td>\n",
       "      <td>False</td>\n",
       "      <td>strict</td>\n",
       "      <td>Private room</td>\n",
       "      <td>2020.0</td>\n",
       "      <td>$966</td>\n",
       "      <td>$193</td>\n",
       "      <td>10.0</td>\n",
       "      <td>9.0</td>\n",
       "      <td>10/19/2021</td>\n",
       "      <td>0.21</td>\n",
       "      <td>4.0</td>\n",
       "      <td>6.0</td>\n",
       "      <td>286.0</td>\n",
       "      <td>Clean up and treat the home the way you'd like...</td>\n",
       "      <td>NaN</td>\n",
       "    </tr>\n",
       "    <tr>\n",
       "      <th>1</th>\n",
       "      <td>1002102</td>\n",
       "      <td>Skylit Midtown Castle</td>\n",
       "      <td>52335172823</td>\n",
       "      <td>verified</td>\n",
       "      <td>Jenna</td>\n",
       "      <td>Manhattan</td>\n",
       "      <td>Midtown</td>\n",
       "      <td>40.75362</td>\n",
       "      <td>-73.98377</td>\n",
       "      <td>United States</td>\n",
       "      <td>US</td>\n",
       "      <td>False</td>\n",
       "      <td>moderate</td>\n",
       "      <td>Entire home/apt</td>\n",
       "      <td>2007.0</td>\n",
       "      <td>$142</td>\n",
       "      <td>$28</td>\n",
       "      <td>30.0</td>\n",
       "      <td>45.0</td>\n",
       "      <td>5/21/2022</td>\n",
       "      <td>0.38</td>\n",
       "      <td>4.0</td>\n",
       "      <td>2.0</td>\n",
       "      <td>228.0</td>\n",
       "      <td>Pet friendly but please confirm with me if the...</td>\n",
       "      <td>NaN</td>\n",
       "    </tr>\n",
       "    <tr>\n",
       "      <th>2</th>\n",
       "      <td>1002403</td>\n",
       "      <td>THE VILLAGE OF HARLEM....NEW YORK !</td>\n",
       "      <td>78829239556</td>\n",
       "      <td>NaN</td>\n",
       "      <td>Elise</td>\n",
       "      <td>Manhattan</td>\n",
       "      <td>Harlem</td>\n",
       "      <td>40.80902</td>\n",
       "      <td>-73.94190</td>\n",
       "      <td>United States</td>\n",
       "      <td>US</td>\n",
       "      <td>True</td>\n",
       "      <td>flexible</td>\n",
       "      <td>Private room</td>\n",
       "      <td>2005.0</td>\n",
       "      <td>$620</td>\n",
       "      <td>$124</td>\n",
       "      <td>3.0</td>\n",
       "      <td>0.0</td>\n",
       "      <td>NaN</td>\n",
       "      <td>NaN</td>\n",
       "      <td>5.0</td>\n",
       "      <td>1.0</td>\n",
       "      <td>352.0</td>\n",
       "      <td>I encourage you to use my kitchen, cooking and...</td>\n",
       "      <td>NaN</td>\n",
       "    </tr>\n",
       "    <tr>\n",
       "      <th>3</th>\n",
       "      <td>1002755</td>\n",
       "      <td>NaN</td>\n",
       "      <td>85098326012</td>\n",
       "      <td>unconfirmed</td>\n",
       "      <td>Garry</td>\n",
       "      <td>Brooklyn</td>\n",
       "      <td>Clinton Hill</td>\n",
       "      <td>40.68514</td>\n",
       "      <td>-73.95976</td>\n",
       "      <td>United States</td>\n",
       "      <td>US</td>\n",
       "      <td>True</td>\n",
       "      <td>moderate</td>\n",
       "      <td>Entire home/apt</td>\n",
       "      <td>2005.0</td>\n",
       "      <td>$368</td>\n",
       "      <td>$74</td>\n",
       "      <td>30.0</td>\n",
       "      <td>270.0</td>\n",
       "      <td>7/5/2019</td>\n",
       "      <td>4.64</td>\n",
       "      <td>4.0</td>\n",
       "      <td>1.0</td>\n",
       "      <td>322.0</td>\n",
       "      <td>NaN</td>\n",
       "      <td>NaN</td>\n",
       "    </tr>\n",
       "    <tr>\n",
       "      <th>4</th>\n",
       "      <td>1003689</td>\n",
       "      <td>Entire Apt: Spacious Studio/Loft by central park</td>\n",
       "      <td>92037596077</td>\n",
       "      <td>verified</td>\n",
       "      <td>Lyndon</td>\n",
       "      <td>Manhattan</td>\n",
       "      <td>East Harlem</td>\n",
       "      <td>40.79851</td>\n",
       "      <td>-73.94399</td>\n",
       "      <td>United States</td>\n",
       "      <td>US</td>\n",
       "      <td>False</td>\n",
       "      <td>moderate</td>\n",
       "      <td>Entire home/apt</td>\n",
       "      <td>2009.0</td>\n",
       "      <td>$204</td>\n",
       "      <td>$41</td>\n",
       "      <td>10.0</td>\n",
       "      <td>9.0</td>\n",
       "      <td>11/19/2018</td>\n",
       "      <td>0.10</td>\n",
       "      <td>3.0</td>\n",
       "      <td>1.0</td>\n",
       "      <td>289.0</td>\n",
       "      <td>Please no smoking in the house, porch or on th...</td>\n",
       "      <td>NaN</td>\n",
       "    </tr>\n",
       "  </tbody>\n",
       "</table>\n",
       "</div>"
      ],
      "text/plain": [
       "        id                                              NAME      host id  \\\n",
       "0  1001254                Clean & quiet apt home by the park  80014485718   \n",
       "1  1002102                             Skylit Midtown Castle  52335172823   \n",
       "2  1002403               THE VILLAGE OF HARLEM....NEW YORK !  78829239556   \n",
       "3  1002755                                               NaN  85098326012   \n",
       "4  1003689  Entire Apt: Spacious Studio/Loft by central park  92037596077   \n",
       "\n",
       "  host_identity_verified host name neighbourhood group neighbourhood  \\\n",
       "0            unconfirmed  Madaline            Brooklyn    Kensington   \n",
       "1               verified     Jenna           Manhattan       Midtown   \n",
       "2                    NaN     Elise           Manhattan        Harlem   \n",
       "3            unconfirmed     Garry            Brooklyn  Clinton Hill   \n",
       "4               verified    Lyndon           Manhattan   East Harlem   \n",
       "\n",
       "        lat      long        country country code instant_bookable  \\\n",
       "0  40.64749 -73.97237  United States           US            False   \n",
       "1  40.75362 -73.98377  United States           US            False   \n",
       "2  40.80902 -73.94190  United States           US             True   \n",
       "3  40.68514 -73.95976  United States           US             True   \n",
       "4  40.79851 -73.94399  United States           US            False   \n",
       "\n",
       "  cancellation_policy        room type  Construction year  price service fee  \\\n",
       "0              strict     Private room             2020.0  $966        $193    \n",
       "1            moderate  Entire home/apt             2007.0  $142         $28    \n",
       "2            flexible     Private room             2005.0  $620        $124    \n",
       "3            moderate  Entire home/apt             2005.0  $368         $74    \n",
       "4            moderate  Entire home/apt             2009.0  $204         $41    \n",
       "\n",
       "   minimum nights  number of reviews last review  reviews per month  \\\n",
       "0            10.0                9.0  10/19/2021               0.21   \n",
       "1            30.0               45.0   5/21/2022               0.38   \n",
       "2             3.0                0.0         NaN                NaN   \n",
       "3            30.0              270.0    7/5/2019               4.64   \n",
       "4            10.0                9.0  11/19/2018               0.10   \n",
       "\n",
       "   review rate number  calculated host listings count  availability 365  \\\n",
       "0                 4.0                             6.0             286.0   \n",
       "1                 4.0                             2.0             228.0   \n",
       "2                 5.0                             1.0             352.0   \n",
       "3                 4.0                             1.0             322.0   \n",
       "4                 3.0                             1.0             289.0   \n",
       "\n",
       "                                         house_rules license  \n",
       "0  Clean up and treat the home the way you'd like...     NaN  \n",
       "1  Pet friendly but please confirm with me if the...     NaN  \n",
       "2  I encourage you to use my kitchen, cooking and...     NaN  \n",
       "3                                                NaN     NaN  \n",
       "4  Please no smoking in the house, porch or on th...     NaN  "
      ]
     },
     "execution_count": 5,
     "metadata": {},
     "output_type": "execute_result"
    }
   ],
   "source": [
    "# 2. Display the first five rows of your dataframe.\n",
    "pd.set_option('display.max_columns', None)\n",
    "airbnb.head()"
   ]
  },
  {
   "cell_type": "code",
   "execution_count": 6,
   "id": "b99d8d98",
   "metadata": {
    "execution": {
     "iopub.execute_input": "2023-12-17T09:10:47.716694Z",
     "iopub.status.busy": "2023-12-17T09:10:47.715876Z",
     "iopub.status.idle": "2023-12-17T09:10:47.721017Z",
     "shell.execute_reply": "2023-12-17T09:10:47.720443Z"
    },
    "papermill": {
     "duration": 0.023824,
     "end_time": "2023-12-17T09:10:47.722513",
     "exception": false,
     "start_time": "2023-12-17T09:10:47.698689",
     "status": "completed"
    },
    "tags": []
   },
   "outputs": [
    {
     "data": {
      "text/plain": [
       "Index(['id', 'NAME', 'host id', 'host_identity_verified', 'host name',\n",
       "       'neighbourhood group', 'neighbourhood', 'lat', 'long', 'country',\n",
       "       'country code', 'instant_bookable', 'cancellation_policy', 'room type',\n",
       "       'Construction year', 'price', 'service fee', 'minimum nights',\n",
       "       'number of reviews', 'last review', 'reviews per month',\n",
       "       'review rate number', 'calculated host listings count',\n",
       "       'availability 365', 'house_rules', 'license'],\n",
       "      dtype='object')"
      ]
     },
     "execution_count": 6,
     "metadata": {},
     "output_type": "execute_result"
    }
   ],
   "source": [
    "# Looking at the columns\n",
    "airbnb.columns"
   ]
  },
  {
   "cell_type": "code",
   "execution_count": 7,
   "id": "d8ba4fb3",
   "metadata": {
    "execution": {
     "iopub.execute_input": "2023-12-17T09:10:47.759121Z",
     "iopub.status.busy": "2023-12-17T09:10:47.757261Z",
     "iopub.status.idle": "2023-12-17T09:10:47.826343Z",
     "shell.execute_reply": "2023-12-17T09:10:47.825054Z"
    },
    "papermill": {
     "duration": 0.089528,
     "end_time": "2023-12-17T09:10:47.828621",
     "exception": false,
     "start_time": "2023-12-17T09:10:47.739093",
     "status": "completed"
    },
    "tags": []
   },
   "outputs": [
    {
     "name": "stdout",
     "output_type": "stream",
     "text": [
      "<class 'pandas.core.frame.DataFrame'>\n",
      "RangeIndex: 102599 entries, 0 to 102598\n",
      "Data columns (total 26 columns):\n",
      " #   Column                          Non-Null Count   Dtype  \n",
      "---  ------                          --------------   -----  \n",
      " 0   id                              102599 non-null  int64  \n",
      " 1   NAME                            102349 non-null  object \n",
      " 2   host id                         102599 non-null  int64  \n",
      " 3   host_identity_verified          102310 non-null  object \n",
      " 4   host name                       102193 non-null  object \n",
      " 5   neighbourhood group             102570 non-null  object \n",
      " 6   neighbourhood                   102583 non-null  object \n",
      " 7   lat                             102591 non-null  float64\n",
      " 8   long                            102591 non-null  float64\n",
      " 9   country                         102067 non-null  object \n",
      " 10  country code                    102468 non-null  object \n",
      " 11  instant_bookable                102494 non-null  object \n",
      " 12  cancellation_policy             102523 non-null  object \n",
      " 13  room type                       102599 non-null  object \n",
      " 14  Construction year               102385 non-null  float64\n",
      " 15  price                           102352 non-null  object \n",
      " 16  service fee                     102326 non-null  object \n",
      " 17  minimum nights                  102190 non-null  float64\n",
      " 18  number of reviews               102416 non-null  float64\n",
      " 19  last review                     86706 non-null   object \n",
      " 20  reviews per month               86720 non-null   float64\n",
      " 21  review rate number              102273 non-null  float64\n",
      " 22  calculated host listings count  102280 non-null  float64\n",
      " 23  availability 365                102151 non-null  float64\n",
      " 24  house_rules                     50468 non-null   object \n",
      " 25  license                         2 non-null       object \n",
      "dtypes: float64(9), int64(2), object(15)\n",
      "memory usage: 20.4+ MB\n"
     ]
    }
   ],
   "source": [
    "# Summary of the data\n",
    "airbnb.info()"
   ]
  },
  {
   "cell_type": "code",
   "execution_count": 8,
   "id": "35c84268",
   "metadata": {
    "execution": {
     "iopub.execute_input": "2023-12-17T09:10:47.865580Z",
     "iopub.status.busy": "2023-12-17T09:10:47.865271Z",
     "iopub.status.idle": "2023-12-17T09:10:47.873124Z",
     "shell.execute_reply": "2023-12-17T09:10:47.871969Z"
    },
    "papermill": {
     "duration": 0.028606,
     "end_time": "2023-12-17T09:10:47.874975",
     "exception": false,
     "start_time": "2023-12-17T09:10:47.846369",
     "status": "completed"
    },
    "tags": []
   },
   "outputs": [
    {
     "data": {
      "text/plain": [
       "id                                  int64\n",
       "NAME                               object\n",
       "host id                             int64\n",
       "host_identity_verified             object\n",
       "host name                          object\n",
       "neighbourhood group                object\n",
       "neighbourhood                      object\n",
       "lat                               float64\n",
       "long                              float64\n",
       "country                            object\n",
       "country code                       object\n",
       "instant_bookable                   object\n",
       "cancellation_policy                object\n",
       "room type                          object\n",
       "Construction year                 float64\n",
       "price                              object\n",
       "service fee                        object\n",
       "minimum nights                    float64\n",
       "number of reviews                 float64\n",
       "last review                        object\n",
       "reviews per month                 float64\n",
       "review rate number                float64\n",
       "calculated host listings count    float64\n",
       "availability 365                  float64\n",
       "house_rules                        object\n",
       "license                            object\n",
       "dtype: object"
      ]
     },
     "execution_count": 8,
     "metadata": {},
     "output_type": "execute_result"
    }
   ],
   "source": [
    "# 3. Display the data types of the columns.\n",
    "airbnb.dtypes"
   ]
  },
  {
   "cell_type": "markdown",
   "id": "a7687fbd",
   "metadata": {
    "papermill": {
     "duration": 0.016871,
     "end_time": "2023-12-17T09:10:47.909277",
     "exception": false,
     "start_time": "2023-12-17T09:10:47.892406",
     "status": "completed"
    },
    "tags": []
   },
   "source": [
    "## **Task 2a: Data Cleaning (Any Tool)**\n",
    "1. Drop some of the unwanted columns. These include host id, id, country and country code from the dataset.\n",
    "1. State the reason for not including these columns for your Data Analytics.\n",
    "\n",
    "If using Python for this exercise, please include the code in the cells below. If using any other tool, please include screenshoots before and after the elimination of the columns."
   ]
  },
  {
   "cell_type": "code",
   "execution_count": 9,
   "id": "2bc41373",
   "metadata": {
    "execution": {
     "iopub.execute_input": "2023-12-17T09:10:47.944320Z",
     "iopub.status.busy": "2023-12-17T09:10:47.943991Z",
     "iopub.status.idle": "2023-12-17T09:10:47.965901Z",
     "shell.execute_reply": "2023-12-17T09:10:47.965111Z"
    },
    "papermill": {
     "duration": 0.041678,
     "end_time": "2023-12-17T09:10:47.967802",
     "exception": false,
     "start_time": "2023-12-17T09:10:47.926124",
     "status": "completed"
    },
    "tags": []
   },
   "outputs": [
    {
     "data": {
      "text/html": [
       "<div>\n",
       "<style scoped>\n",
       "    .dataframe tbody tr th:only-of-type {\n",
       "        vertical-align: middle;\n",
       "    }\n",
       "\n",
       "    .dataframe tbody tr th {\n",
       "        vertical-align: top;\n",
       "    }\n",
       "\n",
       "    .dataframe thead th {\n",
       "        text-align: right;\n",
       "    }\n",
       "</style>\n",
       "<table border=\"1\" class=\"dataframe\">\n",
       "  <thead>\n",
       "    <tr style=\"text-align: right;\">\n",
       "      <th></th>\n",
       "      <th>id</th>\n",
       "      <th>NAME</th>\n",
       "      <th>host id</th>\n",
       "      <th>host_identity_verified</th>\n",
       "      <th>host name</th>\n",
       "      <th>neighbourhood group</th>\n",
       "      <th>neighbourhood</th>\n",
       "      <th>lat</th>\n",
       "      <th>long</th>\n",
       "      <th>country</th>\n",
       "      <th>country code</th>\n",
       "      <th>instant_bookable</th>\n",
       "      <th>cancellation_policy</th>\n",
       "      <th>room type</th>\n",
       "      <th>Construction year</th>\n",
       "      <th>price</th>\n",
       "      <th>service fee</th>\n",
       "      <th>minimum nights</th>\n",
       "      <th>number of reviews</th>\n",
       "      <th>last review</th>\n",
       "      <th>reviews per month</th>\n",
       "      <th>review rate number</th>\n",
       "      <th>calculated host listings count</th>\n",
       "      <th>availability 365</th>\n",
       "      <th>house_rules</th>\n",
       "      <th>license</th>\n",
       "    </tr>\n",
       "  </thead>\n",
       "  <tbody>\n",
       "    <tr>\n",
       "      <th>0</th>\n",
       "      <td>1001254</td>\n",
       "      <td>Clean &amp; quiet apt home by the park</td>\n",
       "      <td>80014485718</td>\n",
       "      <td>unconfirmed</td>\n",
       "      <td>Madaline</td>\n",
       "      <td>Brooklyn</td>\n",
       "      <td>Kensington</td>\n",
       "      <td>40.64749</td>\n",
       "      <td>-73.97237</td>\n",
       "      <td>United States</td>\n",
       "      <td>US</td>\n",
       "      <td>False</td>\n",
       "      <td>strict</td>\n",
       "      <td>Private room</td>\n",
       "      <td>2020.0</td>\n",
       "      <td>$966</td>\n",
       "      <td>$193</td>\n",
       "      <td>10.0</td>\n",
       "      <td>9.0</td>\n",
       "      <td>10/19/2021</td>\n",
       "      <td>0.21</td>\n",
       "      <td>4.0</td>\n",
       "      <td>6.0</td>\n",
       "      <td>286.0</td>\n",
       "      <td>Clean up and treat the home the way you'd like...</td>\n",
       "      <td>NaN</td>\n",
       "    </tr>\n",
       "    <tr>\n",
       "      <th>1</th>\n",
       "      <td>1002102</td>\n",
       "      <td>Skylit Midtown Castle</td>\n",
       "      <td>52335172823</td>\n",
       "      <td>verified</td>\n",
       "      <td>Jenna</td>\n",
       "      <td>Manhattan</td>\n",
       "      <td>Midtown</td>\n",
       "      <td>40.75362</td>\n",
       "      <td>-73.98377</td>\n",
       "      <td>United States</td>\n",
       "      <td>US</td>\n",
       "      <td>False</td>\n",
       "      <td>moderate</td>\n",
       "      <td>Entire home/apt</td>\n",
       "      <td>2007.0</td>\n",
       "      <td>$142</td>\n",
       "      <td>$28</td>\n",
       "      <td>30.0</td>\n",
       "      <td>45.0</td>\n",
       "      <td>5/21/2022</td>\n",
       "      <td>0.38</td>\n",
       "      <td>4.0</td>\n",
       "      <td>2.0</td>\n",
       "      <td>228.0</td>\n",
       "      <td>Pet friendly but please confirm with me if the...</td>\n",
       "      <td>NaN</td>\n",
       "    </tr>\n",
       "    <tr>\n",
       "      <th>2</th>\n",
       "      <td>1002403</td>\n",
       "      <td>THE VILLAGE OF HARLEM....NEW YORK !</td>\n",
       "      <td>78829239556</td>\n",
       "      <td>NaN</td>\n",
       "      <td>Elise</td>\n",
       "      <td>Manhattan</td>\n",
       "      <td>Harlem</td>\n",
       "      <td>40.80902</td>\n",
       "      <td>-73.94190</td>\n",
       "      <td>United States</td>\n",
       "      <td>US</td>\n",
       "      <td>True</td>\n",
       "      <td>flexible</td>\n",
       "      <td>Private room</td>\n",
       "      <td>2005.0</td>\n",
       "      <td>$620</td>\n",
       "      <td>$124</td>\n",
       "      <td>3.0</td>\n",
       "      <td>0.0</td>\n",
       "      <td>NaN</td>\n",
       "      <td>NaN</td>\n",
       "      <td>5.0</td>\n",
       "      <td>1.0</td>\n",
       "      <td>352.0</td>\n",
       "      <td>I encourage you to use my kitchen, cooking and...</td>\n",
       "      <td>NaN</td>\n",
       "    </tr>\n",
       "    <tr>\n",
       "      <th>3</th>\n",
       "      <td>1002755</td>\n",
       "      <td>NaN</td>\n",
       "      <td>85098326012</td>\n",
       "      <td>unconfirmed</td>\n",
       "      <td>Garry</td>\n",
       "      <td>Brooklyn</td>\n",
       "      <td>Clinton Hill</td>\n",
       "      <td>40.68514</td>\n",
       "      <td>-73.95976</td>\n",
       "      <td>United States</td>\n",
       "      <td>US</td>\n",
       "      <td>True</td>\n",
       "      <td>moderate</td>\n",
       "      <td>Entire home/apt</td>\n",
       "      <td>2005.0</td>\n",
       "      <td>$368</td>\n",
       "      <td>$74</td>\n",
       "      <td>30.0</td>\n",
       "      <td>270.0</td>\n",
       "      <td>7/5/2019</td>\n",
       "      <td>4.64</td>\n",
       "      <td>4.0</td>\n",
       "      <td>1.0</td>\n",
       "      <td>322.0</td>\n",
       "      <td>NaN</td>\n",
       "      <td>NaN</td>\n",
       "    </tr>\n",
       "    <tr>\n",
       "      <th>4</th>\n",
       "      <td>1003689</td>\n",
       "      <td>Entire Apt: Spacious Studio/Loft by central park</td>\n",
       "      <td>92037596077</td>\n",
       "      <td>verified</td>\n",
       "      <td>Lyndon</td>\n",
       "      <td>Manhattan</td>\n",
       "      <td>East Harlem</td>\n",
       "      <td>40.79851</td>\n",
       "      <td>-73.94399</td>\n",
       "      <td>United States</td>\n",
       "      <td>US</td>\n",
       "      <td>False</td>\n",
       "      <td>moderate</td>\n",
       "      <td>Entire home/apt</td>\n",
       "      <td>2009.0</td>\n",
       "      <td>$204</td>\n",
       "      <td>$41</td>\n",
       "      <td>10.0</td>\n",
       "      <td>9.0</td>\n",
       "      <td>11/19/2018</td>\n",
       "      <td>0.10</td>\n",
       "      <td>3.0</td>\n",
       "      <td>1.0</td>\n",
       "      <td>289.0</td>\n",
       "      <td>Please no smoking in the house, porch or on th...</td>\n",
       "      <td>NaN</td>\n",
       "    </tr>\n",
       "  </tbody>\n",
       "</table>\n",
       "</div>"
      ],
      "text/plain": [
       "        id                                              NAME      host id  \\\n",
       "0  1001254                Clean & quiet apt home by the park  80014485718   \n",
       "1  1002102                             Skylit Midtown Castle  52335172823   \n",
       "2  1002403               THE VILLAGE OF HARLEM....NEW YORK !  78829239556   \n",
       "3  1002755                                               NaN  85098326012   \n",
       "4  1003689  Entire Apt: Spacious Studio/Loft by central park  92037596077   \n",
       "\n",
       "  host_identity_verified host name neighbourhood group neighbourhood  \\\n",
       "0            unconfirmed  Madaline            Brooklyn    Kensington   \n",
       "1               verified     Jenna           Manhattan       Midtown   \n",
       "2                    NaN     Elise           Manhattan        Harlem   \n",
       "3            unconfirmed     Garry            Brooklyn  Clinton Hill   \n",
       "4               verified    Lyndon           Manhattan   East Harlem   \n",
       "\n",
       "        lat      long        country country code instant_bookable  \\\n",
       "0  40.64749 -73.97237  United States           US            False   \n",
       "1  40.75362 -73.98377  United States           US            False   \n",
       "2  40.80902 -73.94190  United States           US             True   \n",
       "3  40.68514 -73.95976  United States           US             True   \n",
       "4  40.79851 -73.94399  United States           US            False   \n",
       "\n",
       "  cancellation_policy        room type  Construction year  price service fee  \\\n",
       "0              strict     Private room             2020.0  $966        $193    \n",
       "1            moderate  Entire home/apt             2007.0  $142         $28    \n",
       "2            flexible     Private room             2005.0  $620        $124    \n",
       "3            moderate  Entire home/apt             2005.0  $368         $74    \n",
       "4            moderate  Entire home/apt             2009.0  $204         $41    \n",
       "\n",
       "   minimum nights  number of reviews last review  reviews per month  \\\n",
       "0            10.0                9.0  10/19/2021               0.21   \n",
       "1            30.0               45.0   5/21/2022               0.38   \n",
       "2             3.0                0.0         NaN                NaN   \n",
       "3            30.0              270.0    7/5/2019               4.64   \n",
       "4            10.0                9.0  11/19/2018               0.10   \n",
       "\n",
       "   review rate number  calculated host listings count  availability 365  \\\n",
       "0                 4.0                             6.0             286.0   \n",
       "1                 4.0                             2.0             228.0   \n",
       "2                 5.0                             1.0             352.0   \n",
       "3                 4.0                             1.0             322.0   \n",
       "4                 3.0                             1.0             289.0   \n",
       "\n",
       "                                         house_rules license  \n",
       "0  Clean up and treat the home the way you'd like...     NaN  \n",
       "1  Pet friendly but please confirm with me if the...     NaN  \n",
       "2  I encourage you to use my kitchen, cooking and...     NaN  \n",
       "3                                                NaN     NaN  \n",
       "4  Please no smoking in the house, porch or on th...     NaN  "
      ]
     },
     "execution_count": 9,
     "metadata": {},
     "output_type": "execute_result"
    }
   ],
   "source": [
    "airbnb.head()"
   ]
  },
  {
   "cell_type": "code",
   "execution_count": 10,
   "id": "ef9055fa",
   "metadata": {
    "execution": {
     "iopub.execute_input": "2023-12-17T09:10:48.005472Z",
     "iopub.status.busy": "2023-12-17T09:10:48.004776Z",
     "iopub.status.idle": "2023-12-17T09:10:48.023943Z",
     "shell.execute_reply": "2023-12-17T09:10:48.023299Z"
    },
    "papermill": {
     "duration": 0.039619,
     "end_time": "2023-12-17T09:10:48.025874",
     "exception": false,
     "start_time": "2023-12-17T09:10:47.986255",
     "status": "completed"
    },
    "tags": []
   },
   "outputs": [],
   "source": [
    "# 1. Drop some of the unwanted columns. These include host id, id, country and country code from the dataset.\n",
    "airbnb.drop(columns=['host id','id', 'country', 'country code'], axis=1, inplace=True)"
   ]
  },
  {
   "cell_type": "code",
   "execution_count": 11,
   "id": "e6194239",
   "metadata": {
    "execution": {
     "iopub.execute_input": "2023-12-17T09:10:48.063825Z",
     "iopub.status.busy": "2023-12-17T09:10:48.063224Z",
     "iopub.status.idle": "2023-12-17T09:10:48.082949Z",
     "shell.execute_reply": "2023-12-17T09:10:48.082136Z"
    },
    "papermill": {
     "duration": 0.041256,
     "end_time": "2023-12-17T09:10:48.084776",
     "exception": false,
     "start_time": "2023-12-17T09:10:48.043520",
     "status": "completed"
    },
    "tags": []
   },
   "outputs": [
    {
     "data": {
      "text/html": [
       "<div>\n",
       "<style scoped>\n",
       "    .dataframe tbody tr th:only-of-type {\n",
       "        vertical-align: middle;\n",
       "    }\n",
       "\n",
       "    .dataframe tbody tr th {\n",
       "        vertical-align: top;\n",
       "    }\n",
       "\n",
       "    .dataframe thead th {\n",
       "        text-align: right;\n",
       "    }\n",
       "</style>\n",
       "<table border=\"1\" class=\"dataframe\">\n",
       "  <thead>\n",
       "    <tr style=\"text-align: right;\">\n",
       "      <th></th>\n",
       "      <th>NAME</th>\n",
       "      <th>host_identity_verified</th>\n",
       "      <th>host name</th>\n",
       "      <th>neighbourhood group</th>\n",
       "      <th>neighbourhood</th>\n",
       "      <th>lat</th>\n",
       "      <th>long</th>\n",
       "      <th>instant_bookable</th>\n",
       "      <th>cancellation_policy</th>\n",
       "      <th>room type</th>\n",
       "      <th>Construction year</th>\n",
       "      <th>price</th>\n",
       "      <th>service fee</th>\n",
       "      <th>minimum nights</th>\n",
       "      <th>number of reviews</th>\n",
       "      <th>last review</th>\n",
       "      <th>reviews per month</th>\n",
       "      <th>review rate number</th>\n",
       "      <th>calculated host listings count</th>\n",
       "      <th>availability 365</th>\n",
       "      <th>house_rules</th>\n",
       "      <th>license</th>\n",
       "    </tr>\n",
       "  </thead>\n",
       "  <tbody>\n",
       "    <tr>\n",
       "      <th>0</th>\n",
       "      <td>Clean &amp; quiet apt home by the park</td>\n",
       "      <td>unconfirmed</td>\n",
       "      <td>Madaline</td>\n",
       "      <td>Brooklyn</td>\n",
       "      <td>Kensington</td>\n",
       "      <td>40.64749</td>\n",
       "      <td>-73.97237</td>\n",
       "      <td>False</td>\n",
       "      <td>strict</td>\n",
       "      <td>Private room</td>\n",
       "      <td>2020.0</td>\n",
       "      <td>$966</td>\n",
       "      <td>$193</td>\n",
       "      <td>10.0</td>\n",
       "      <td>9.0</td>\n",
       "      <td>10/19/2021</td>\n",
       "      <td>0.21</td>\n",
       "      <td>4.0</td>\n",
       "      <td>6.0</td>\n",
       "      <td>286.0</td>\n",
       "      <td>Clean up and treat the home the way you'd like...</td>\n",
       "      <td>NaN</td>\n",
       "    </tr>\n",
       "    <tr>\n",
       "      <th>1</th>\n",
       "      <td>Skylit Midtown Castle</td>\n",
       "      <td>verified</td>\n",
       "      <td>Jenna</td>\n",
       "      <td>Manhattan</td>\n",
       "      <td>Midtown</td>\n",
       "      <td>40.75362</td>\n",
       "      <td>-73.98377</td>\n",
       "      <td>False</td>\n",
       "      <td>moderate</td>\n",
       "      <td>Entire home/apt</td>\n",
       "      <td>2007.0</td>\n",
       "      <td>$142</td>\n",
       "      <td>$28</td>\n",
       "      <td>30.0</td>\n",
       "      <td>45.0</td>\n",
       "      <td>5/21/2022</td>\n",
       "      <td>0.38</td>\n",
       "      <td>4.0</td>\n",
       "      <td>2.0</td>\n",
       "      <td>228.0</td>\n",
       "      <td>Pet friendly but please confirm with me if the...</td>\n",
       "      <td>NaN</td>\n",
       "    </tr>\n",
       "    <tr>\n",
       "      <th>2</th>\n",
       "      <td>THE VILLAGE OF HARLEM....NEW YORK !</td>\n",
       "      <td>NaN</td>\n",
       "      <td>Elise</td>\n",
       "      <td>Manhattan</td>\n",
       "      <td>Harlem</td>\n",
       "      <td>40.80902</td>\n",
       "      <td>-73.94190</td>\n",
       "      <td>True</td>\n",
       "      <td>flexible</td>\n",
       "      <td>Private room</td>\n",
       "      <td>2005.0</td>\n",
       "      <td>$620</td>\n",
       "      <td>$124</td>\n",
       "      <td>3.0</td>\n",
       "      <td>0.0</td>\n",
       "      <td>NaN</td>\n",
       "      <td>NaN</td>\n",
       "      <td>5.0</td>\n",
       "      <td>1.0</td>\n",
       "      <td>352.0</td>\n",
       "      <td>I encourage you to use my kitchen, cooking and...</td>\n",
       "      <td>NaN</td>\n",
       "    </tr>\n",
       "    <tr>\n",
       "      <th>3</th>\n",
       "      <td>NaN</td>\n",
       "      <td>unconfirmed</td>\n",
       "      <td>Garry</td>\n",
       "      <td>Brooklyn</td>\n",
       "      <td>Clinton Hill</td>\n",
       "      <td>40.68514</td>\n",
       "      <td>-73.95976</td>\n",
       "      <td>True</td>\n",
       "      <td>moderate</td>\n",
       "      <td>Entire home/apt</td>\n",
       "      <td>2005.0</td>\n",
       "      <td>$368</td>\n",
       "      <td>$74</td>\n",
       "      <td>30.0</td>\n",
       "      <td>270.0</td>\n",
       "      <td>7/5/2019</td>\n",
       "      <td>4.64</td>\n",
       "      <td>4.0</td>\n",
       "      <td>1.0</td>\n",
       "      <td>322.0</td>\n",
       "      <td>NaN</td>\n",
       "      <td>NaN</td>\n",
       "    </tr>\n",
       "    <tr>\n",
       "      <th>4</th>\n",
       "      <td>Entire Apt: Spacious Studio/Loft by central park</td>\n",
       "      <td>verified</td>\n",
       "      <td>Lyndon</td>\n",
       "      <td>Manhattan</td>\n",
       "      <td>East Harlem</td>\n",
       "      <td>40.79851</td>\n",
       "      <td>-73.94399</td>\n",
       "      <td>False</td>\n",
       "      <td>moderate</td>\n",
       "      <td>Entire home/apt</td>\n",
       "      <td>2009.0</td>\n",
       "      <td>$204</td>\n",
       "      <td>$41</td>\n",
       "      <td>10.0</td>\n",
       "      <td>9.0</td>\n",
       "      <td>11/19/2018</td>\n",
       "      <td>0.10</td>\n",
       "      <td>3.0</td>\n",
       "      <td>1.0</td>\n",
       "      <td>289.0</td>\n",
       "      <td>Please no smoking in the house, porch or on th...</td>\n",
       "      <td>NaN</td>\n",
       "    </tr>\n",
       "  </tbody>\n",
       "</table>\n",
       "</div>"
      ],
      "text/plain": [
       "                                               NAME host_identity_verified  \\\n",
       "0                Clean & quiet apt home by the park            unconfirmed   \n",
       "1                             Skylit Midtown Castle               verified   \n",
       "2               THE VILLAGE OF HARLEM....NEW YORK !                    NaN   \n",
       "3                                               NaN            unconfirmed   \n",
       "4  Entire Apt: Spacious Studio/Loft by central park               verified   \n",
       "\n",
       "  host name neighbourhood group neighbourhood       lat      long  \\\n",
       "0  Madaline            Brooklyn    Kensington  40.64749 -73.97237   \n",
       "1     Jenna           Manhattan       Midtown  40.75362 -73.98377   \n",
       "2     Elise           Manhattan        Harlem  40.80902 -73.94190   \n",
       "3     Garry            Brooklyn  Clinton Hill  40.68514 -73.95976   \n",
       "4    Lyndon           Manhattan   East Harlem  40.79851 -73.94399   \n",
       "\n",
       "  instant_bookable cancellation_policy        room type  Construction year  \\\n",
       "0            False              strict     Private room             2020.0   \n",
       "1            False            moderate  Entire home/apt             2007.0   \n",
       "2             True            flexible     Private room             2005.0   \n",
       "3             True            moderate  Entire home/apt             2005.0   \n",
       "4            False            moderate  Entire home/apt             2009.0   \n",
       "\n",
       "   price service fee  minimum nights  number of reviews last review  \\\n",
       "0  $966        $193             10.0                9.0  10/19/2021   \n",
       "1  $142         $28             30.0               45.0   5/21/2022   \n",
       "2  $620        $124              3.0                0.0         NaN   \n",
       "3  $368         $74             30.0              270.0    7/5/2019   \n",
       "4  $204         $41             10.0                9.0  11/19/2018   \n",
       "\n",
       "   reviews per month  review rate number  calculated host listings count  \\\n",
       "0               0.21                 4.0                             6.0   \n",
       "1               0.38                 4.0                             2.0   \n",
       "2                NaN                 5.0                             1.0   \n",
       "3               4.64                 4.0                             1.0   \n",
       "4               0.10                 3.0                             1.0   \n",
       "\n",
       "   availability 365                                        house_rules license  \n",
       "0             286.0  Clean up and treat the home the way you'd like...     NaN  \n",
       "1             228.0  Pet friendly but please confirm with me if the...     NaN  \n",
       "2             352.0  I encourage you to use my kitchen, cooking and...     NaN  \n",
       "3             322.0                                                NaN     NaN  \n",
       "4             289.0  Please no smoking in the house, porch or on th...     NaN  "
      ]
     },
     "execution_count": 11,
     "metadata": {},
     "output_type": "execute_result"
    }
   ],
   "source": [
    "airbnb.head()"
   ]
  },
  {
   "cell_type": "code",
   "execution_count": 12,
   "id": "5dd4d4b5",
   "metadata": {
    "execution": {
     "iopub.execute_input": "2023-12-17T09:10:48.123769Z",
     "iopub.status.busy": "2023-12-17T09:10:48.123059Z",
     "iopub.status.idle": "2023-12-17T09:10:48.129271Z",
     "shell.execute_reply": "2023-12-17T09:10:48.128380Z"
    },
    "papermill": {
     "duration": 0.028373,
     "end_time": "2023-12-17T09:10:48.131040",
     "exception": false,
     "start_time": "2023-12-17T09:10:48.102667",
     "status": "completed"
    },
    "tags": []
   },
   "outputs": [
    {
     "data": {
      "text/plain": [
       "'I am not including host id, or id because they are unique ids and I am going to be looking at the overall data rather than identifying individual properties. I am not including country or country code because the data is a sample rather than the population of Air BnB data because of this the country and country code are the same, United States and US. '"
      ]
     },
     "execution_count": 12,
     "metadata": {},
     "output_type": "execute_result"
    }
   ],
   "source": [
    "# 2. State the reason for not including these columns for your Data Analytics.\n",
    "'''I am not including host id, or id because they are unique ids and I am going to be looking at the overall data rather than identifying individual properties. I am not including country or country code because the data is a sample rather than the population of Air BnB data because of this the country and country code are the same, United States and US. '''"
   ]
  },
  {
   "cell_type": "markdown",
   "id": "ee2afb67",
   "metadata": {
    "papermill": {
     "duration": 0.018539,
     "end_time": "2023-12-17T09:10:48.168416",
     "exception": false,
     "start_time": "2023-12-17T09:10:48.149877",
     "status": "completed"
    },
    "tags": []
   },
   "source": [
    "## **Task 2b: Data Cleaning (Python)**\n",
    "1. Check for missing values in the dataframe and display the count in ascending order. If the values are missing, impute the values as per the datatype of the columns.\n",
    "1. Check whether there are any duplicate values in the dataframe and, if present, remove them.\n",
    "1. Display the total number of records in the dataframe before and after removing the duplicates."
   ]
  },
  {
   "cell_type": "code",
   "execution_count": 13,
   "id": "70b0b704",
   "metadata": {
    "execution": {
     "iopub.execute_input": "2023-12-17T09:10:48.207266Z",
     "iopub.status.busy": "2023-12-17T09:10:48.206692Z",
     "iopub.status.idle": "2023-12-17T09:10:48.215157Z",
     "shell.execute_reply": "2023-12-17T09:10:48.213585Z"
    },
    "papermill": {
     "duration": 0.030081,
     "end_time": "2023-12-17T09:10:48.216951",
     "exception": false,
     "start_time": "2023-12-17T09:10:48.186870",
     "status": "completed"
    },
    "tags": []
   },
   "outputs": [
    {
     "data": {
      "text/plain": [
       "NAME                               object\n",
       "host_identity_verified             object\n",
       "host name                          object\n",
       "neighbourhood group                object\n",
       "neighbourhood                      object\n",
       "lat                               float64\n",
       "long                              float64\n",
       "instant_bookable                   object\n",
       "cancellation_policy                object\n",
       "room type                          object\n",
       "Construction year                 float64\n",
       "price                              object\n",
       "service fee                        object\n",
       "minimum nights                    float64\n",
       "number of reviews                 float64\n",
       "last review                        object\n",
       "reviews per month                 float64\n",
       "review rate number                float64\n",
       "calculated host listings count    float64\n",
       "availability 365                  float64\n",
       "house_rules                        object\n",
       "license                            object\n",
       "dtype: object"
      ]
     },
     "execution_count": 13,
     "metadata": {},
     "output_type": "execute_result"
    }
   ],
   "source": [
    "# Display the data types of the columns.\n",
    "airbnb.dtypes"
   ]
  },
  {
   "cell_type": "code",
   "execution_count": 14,
   "id": "a6d33372",
   "metadata": {
    "execution": {
     "iopub.execute_input": "2023-12-17T09:10:48.254953Z",
     "iopub.status.busy": "2023-12-17T09:10:48.254597Z",
     "iopub.status.idle": "2023-12-17T09:10:48.300008Z",
     "shell.execute_reply": "2023-12-17T09:10:48.299101Z"
    },
    "papermill": {
     "duration": 0.066203,
     "end_time": "2023-12-17T09:10:48.301785",
     "exception": false,
     "start_time": "2023-12-17T09:10:48.235582",
     "status": "completed"
    },
    "tags": []
   },
   "outputs": [
    {
     "data": {
      "text/plain": [
       "<bound method Series.sort_values of NAME                                 250\n",
       "host_identity_verified               289\n",
       "host name                            406\n",
       "neighbourhood group                   29\n",
       "neighbourhood                         16\n",
       "lat                                    8\n",
       "long                                   8\n",
       "instant_bookable                     105\n",
       "cancellation_policy                   76\n",
       "room type                              0\n",
       "Construction year                    214\n",
       "price                                247\n",
       "service fee                          273\n",
       "minimum nights                       409\n",
       "number of reviews                    183\n",
       "last review                        15893\n",
       "reviews per month                  15879\n",
       "review rate number                   326\n",
       "calculated host listings count       319\n",
       "availability 365                     448\n",
       "house_rules                        52131\n",
       "license                           102597\n",
       "dtype: int64>"
      ]
     },
     "execution_count": 14,
     "metadata": {},
     "output_type": "execute_result"
    }
   ],
   "source": [
    "# 1. Check for missing values in the dataframe and display the count in ascending order. \n",
    "airbnb.isnull().sum().sort_values"
   ]
  },
  {
   "cell_type": "code",
   "execution_count": 15,
   "id": "44b2ab60",
   "metadata": {
    "execution": {
     "iopub.execute_input": "2023-12-17T09:10:48.339433Z",
     "iopub.status.busy": "2023-12-17T09:10:48.338979Z",
     "iopub.status.idle": "2023-12-17T09:10:48.550077Z",
     "shell.execute_reply": "2023-12-17T09:10:48.549116Z"
    },
    "papermill": {
     "duration": 0.23199,
     "end_time": "2023-12-17T09:10:48.551942",
     "exception": false,
     "start_time": "2023-12-17T09:10:48.319952",
     "status": "completed"
    },
    "tags": []
   },
   "outputs": [
    {
     "name": "stdout",
     "output_type": "stream",
     "text": [
      "NAME\n",
      "host_identity_verified\n",
      "host name\n",
      "neighbourhood group\n",
      "neighbourhood\n",
      "lat\n",
      "long\n",
      "instant_bookable\n",
      "cancellation_policy\n",
      "room type\n",
      "Construction year\n",
      "price\n",
      "service fee\n",
      "minimum nights\n",
      "number of reviews\n",
      "last review\n",
      "reviews per month\n",
      "review rate number\n",
      "calculated host listings count\n",
      "availability 365\n",
      "house_rules\n",
      "license\n"
     ]
    }
   ],
   "source": [
    "# If the values are missing, impute the values as per the datatype of the columns.\n",
    "for col in airbnb.columns:\n",
    "    if airbnb[str(col)].dtype == 'object':\n",
    "        print(col)\n",
    "        airbnb[str(col)].fillna(value=airbnb[str(col)].mode()[0],inplace=True)\n",
    "    elif airbnb[str(col)].dtype == 'int':\n",
    "        print(col)\n",
    "        airbnb[str(col)].fillna(value=airbnb[str(col)].median(),inplace=True)\n",
    "    else :\n",
    "        print(col)\n",
    "        airbnb[str(col)].fillna(value=airbnb[str(col)].median(),inplace=True)"
   ]
  },
  {
   "cell_type": "code",
   "execution_count": 16,
   "id": "96e1e0ca",
   "metadata": {
    "execution": {
     "iopub.execute_input": "2023-12-17T09:10:48.590413Z",
     "iopub.status.busy": "2023-12-17T09:10:48.589861Z",
     "iopub.status.idle": "2023-12-17T09:10:48.635510Z",
     "shell.execute_reply": "2023-12-17T09:10:48.634249Z"
    },
    "papermill": {
     "duration": 0.066968,
     "end_time": "2023-12-17T09:10:48.637436",
     "exception": false,
     "start_time": "2023-12-17T09:10:48.570468",
     "status": "completed"
    },
    "tags": []
   },
   "outputs": [
    {
     "data": {
      "text/plain": [
       "NAME                              0\n",
       "host_identity_verified            0\n",
       "house_rules                       0\n",
       "availability 365                  0\n",
       "calculated host listings count    0\n",
       "review rate number                0\n",
       "reviews per month                 0\n",
       "last review                       0\n",
       "number of reviews                 0\n",
       "minimum nights                    0\n",
       "service fee                       0\n",
       "price                             0\n",
       "Construction year                 0\n",
       "room type                         0\n",
       "cancellation_policy               0\n",
       "instant_bookable                  0\n",
       "long                              0\n",
       "lat                               0\n",
       "neighbourhood                     0\n",
       "neighbourhood group               0\n",
       "host name                         0\n",
       "license                           0\n",
       "dtype: int64"
      ]
     },
     "execution_count": 16,
     "metadata": {},
     "output_type": "execute_result"
    }
   ],
   "source": [
    "airbnb.isnull().sum().sort_values(ascending=0)"
   ]
  },
  {
   "cell_type": "code",
   "execution_count": 17,
   "id": "3dca03e9",
   "metadata": {
    "execution": {
     "iopub.execute_input": "2023-12-17T09:10:48.675825Z",
     "iopub.status.busy": "2023-12-17T09:10:48.675495Z",
     "iopub.status.idle": "2023-12-17T09:10:48.823943Z",
     "shell.execute_reply": "2023-12-17T09:10:48.823097Z"
    },
    "papermill": {
     "duration": 0.169839,
     "end_time": "2023-12-17T09:10:48.825864",
     "exception": false,
     "start_time": "2023-12-17T09:10:48.656025",
     "status": "completed"
    },
    "tags": []
   },
   "outputs": [
    {
     "data": {
      "text/plain": [
       "3461"
      ]
     },
     "execution_count": 17,
     "metadata": {},
     "output_type": "execute_result"
    }
   ],
   "source": [
    "# 2. Check whether there are any duplicate values in the dataframe and, if present, remove them.\n",
    "airbnb.duplicated().sum()"
   ]
  },
  {
   "cell_type": "code",
   "execution_count": 18,
   "id": "7af7c6cf",
   "metadata": {
    "execution": {
     "iopub.execute_input": "2023-12-17T09:10:48.864683Z",
     "iopub.status.busy": "2023-12-17T09:10:48.864380Z",
     "iopub.status.idle": "2023-12-17T09:10:48.869960Z",
     "shell.execute_reply": "2023-12-17T09:10:48.869090Z"
    },
    "papermill": {
     "duration": 0.026939,
     "end_time": "2023-12-17T09:10:48.871756",
     "exception": false,
     "start_time": "2023-12-17T09:10:48.844817",
     "status": "completed"
    },
    "tags": []
   },
   "outputs": [
    {
     "data": {
      "text/plain": [
       "(102599, 22)"
      ]
     },
     "execution_count": 18,
     "metadata": {},
     "output_type": "execute_result"
    }
   ],
   "source": [
    "# 3. Display the total number of records in the dataframe before\n",
    "airbnb.shape"
   ]
  },
  {
   "cell_type": "code",
   "execution_count": 19,
   "id": "f5361e8b",
   "metadata": {
    "execution": {
     "iopub.execute_input": "2023-12-17T09:10:48.910048Z",
     "iopub.status.busy": "2023-12-17T09:10:48.909712Z",
     "iopub.status.idle": "2023-12-17T09:10:49.065362Z",
     "shell.execute_reply": "2023-12-17T09:10:49.064467Z"
    },
    "papermill": {
     "duration": 0.177018,
     "end_time": "2023-12-17T09:10:49.067371",
     "exception": false,
     "start_time": "2023-12-17T09:10:48.890353",
     "status": "completed"
    },
    "tags": []
   },
   "outputs": [],
   "source": [
    "# 2. Remove dupliucate values/\n",
    "airbnb.drop_duplicates(inplace=True)"
   ]
  },
  {
   "cell_type": "code",
   "execution_count": 20,
   "id": "464e0fa9",
   "metadata": {
    "execution": {
     "iopub.execute_input": "2023-12-17T09:10:49.105017Z",
     "iopub.status.busy": "2023-12-17T09:10:49.104706Z",
     "iopub.status.idle": "2023-12-17T09:10:49.110044Z",
     "shell.execute_reply": "2023-12-17T09:10:49.109183Z"
    },
    "papermill": {
     "duration": 0.025783,
     "end_time": "2023-12-17T09:10:49.111598",
     "exception": false,
     "start_time": "2023-12-17T09:10:49.085815",
     "status": "completed"
    },
    "tags": []
   },
   "outputs": [
    {
     "data": {
      "text/plain": [
       "(99138, 22)"
      ]
     },
     "execution_count": 20,
     "metadata": {},
     "output_type": "execute_result"
    }
   ],
   "source": [
    "# 3. Display the total number of records in the dataframe after removing the duplicates.\n",
    "airbnb.shape"
   ]
  },
  {
   "cell_type": "markdown",
   "id": "4ceff893",
   "metadata": {
    "papermill": {
     "duration": 0.017902,
     "end_time": "2023-12-17T09:10:49.150305",
     "exception": false,
     "start_time": "2023-12-17T09:10:49.132403",
     "status": "completed"
    },
    "tags": []
   },
   "source": [
    "## **Task 3: Data Transformation (Any Tool)**\n",
    "1. Rename the column availability 365 to days_booked\n",
    "1. Convert all column names to lowercase and replace the spaces in the column names with an underscore \"_\".\n",
    "1. Remove the dollar sign and comma from the columns price and service_fee. If necessary, convert these two columns to the appropriate data type."
   ]
  },
  {
   "cell_type": "code",
   "execution_count": 21,
   "id": "34183be5",
   "metadata": {
    "execution": {
     "iopub.execute_input": "2023-12-17T09:10:49.188464Z",
     "iopub.status.busy": "2023-12-17T09:10:49.188149Z",
     "iopub.status.idle": "2023-12-17T09:10:49.193270Z",
     "shell.execute_reply": "2023-12-17T09:10:49.192441Z"
    },
    "papermill": {
     "duration": 0.026808,
     "end_time": "2023-12-17T09:10:49.195402",
     "exception": false,
     "start_time": "2023-12-17T09:10:49.168594",
     "status": "completed"
    },
    "tags": []
   },
   "outputs": [
    {
     "data": {
      "text/plain": [
       "Index(['NAME', 'host_identity_verified', 'host name', 'neighbourhood group',\n",
       "       'neighbourhood', 'lat', 'long', 'instant_bookable',\n",
       "       'cancellation_policy', 'room type', 'Construction year', 'price',\n",
       "       'service fee', 'minimum nights', 'number of reviews', 'last review',\n",
       "       'reviews per month', 'review rate number',\n",
       "       'calculated host listings count', 'availability 365', 'house_rules',\n",
       "       'license'],\n",
       "      dtype='object')"
      ]
     },
     "execution_count": 21,
     "metadata": {},
     "output_type": "execute_result"
    }
   ],
   "source": [
    "# Looking at the columns\n",
    "airbnb.columns"
   ]
  },
  {
   "cell_type": "code",
   "execution_count": 22,
   "id": "35aaf73f",
   "metadata": {
    "execution": {
     "iopub.execute_input": "2023-12-17T09:10:49.237895Z",
     "iopub.status.busy": "2023-12-17T09:10:49.237584Z",
     "iopub.status.idle": "2023-12-17T09:10:49.242628Z",
     "shell.execute_reply": "2023-12-17T09:10:49.241596Z"
    },
    "papermill": {
     "duration": 0.029026,
     "end_time": "2023-12-17T09:10:49.244478",
     "exception": false,
     "start_time": "2023-12-17T09:10:49.215452",
     "status": "completed"
    },
    "tags": []
   },
   "outputs": [],
   "source": [
    "# 1. Rename the column availability 365 to days_booked\n",
    "airbnb.rename(columns={'availability 365':'days_booked'}, inplace=True)"
   ]
  },
  {
   "cell_type": "code",
   "execution_count": 23,
   "id": "bc70f6a1",
   "metadata": {
    "execution": {
     "iopub.execute_input": "2023-12-17T09:10:49.285733Z",
     "iopub.status.busy": "2023-12-17T09:10:49.284547Z",
     "iopub.status.idle": "2023-12-17T09:10:49.290716Z",
     "shell.execute_reply": "2023-12-17T09:10:49.290101Z"
    },
    "papermill": {
     "duration": 0.027513,
     "end_time": "2023-12-17T09:10:49.292209",
     "exception": false,
     "start_time": "2023-12-17T09:10:49.264696",
     "status": "completed"
    },
    "tags": []
   },
   "outputs": [
    {
     "data": {
      "text/plain": [
       "Index(['NAME', 'host_identity_verified', 'host name', 'neighbourhood group',\n",
       "       'neighbourhood', 'lat', 'long', 'instant_bookable',\n",
       "       'cancellation_policy', 'room type', 'Construction year', 'price',\n",
       "       'service fee', 'minimum nights', 'number of reviews', 'last review',\n",
       "       'reviews per month', 'review rate number',\n",
       "       'calculated host listings count', 'days_booked', 'house_rules',\n",
       "       'license'],\n",
       "      dtype='object')"
      ]
     },
     "execution_count": 23,
     "metadata": {},
     "output_type": "execute_result"
    }
   ],
   "source": [
    "airbnb.columns"
   ]
  },
  {
   "cell_type": "code",
   "execution_count": 24,
   "id": "9ca21d40",
   "metadata": {
    "execution": {
     "iopub.execute_input": "2023-12-17T09:10:49.331442Z",
     "iopub.status.busy": "2023-12-17T09:10:49.330302Z",
     "iopub.status.idle": "2023-12-17T09:10:49.335150Z",
     "shell.execute_reply": "2023-12-17T09:10:49.334455Z"
    },
    "papermill": {
     "duration": 0.025706,
     "end_time": "2023-12-17T09:10:49.336693",
     "exception": false,
     "start_time": "2023-12-17T09:10:49.310987",
     "status": "completed"
    },
    "tags": []
   },
   "outputs": [],
   "source": [
    "# 2.Convert all column names to lowercase and replace the spaces in the column names with an underscore \"_\".\n",
    "airbnb.columns = [col.lower(). replace(\" \", \"_\") for col in airbnb.columns]"
   ]
  },
  {
   "cell_type": "code",
   "execution_count": 25,
   "id": "cb1ecf8d",
   "metadata": {
    "execution": {
     "iopub.execute_input": "2023-12-17T09:10:49.375308Z",
     "iopub.status.busy": "2023-12-17T09:10:49.374981Z",
     "iopub.status.idle": "2023-12-17T09:10:49.381075Z",
     "shell.execute_reply": "2023-12-17T09:10:49.380164Z"
    },
    "papermill": {
     "duration": 0.027477,
     "end_time": "2023-12-17T09:10:49.382732",
     "exception": false,
     "start_time": "2023-12-17T09:10:49.355255",
     "status": "completed"
    },
    "tags": []
   },
   "outputs": [
    {
     "data": {
      "text/plain": [
       "Index(['name', 'host_identity_verified', 'host_name', 'neighbourhood_group',\n",
       "       'neighbourhood', 'lat', 'long', 'instant_bookable',\n",
       "       'cancellation_policy', 'room_type', 'construction_year', 'price',\n",
       "       'service_fee', 'minimum_nights', 'number_of_reviews', 'last_review',\n",
       "       'reviews_per_month', 'review_rate_number',\n",
       "       'calculated_host_listings_count', 'days_booked', 'house_rules',\n",
       "       'license'],\n",
       "      dtype='object')"
      ]
     },
     "execution_count": 25,
     "metadata": {},
     "output_type": "execute_result"
    }
   ],
   "source": [
    "airbnb.columns"
   ]
  },
  {
   "cell_type": "code",
   "execution_count": 26,
   "id": "03765dec",
   "metadata": {
    "execution": {
     "iopub.execute_input": "2023-12-17T09:10:49.422182Z",
     "iopub.status.busy": "2023-12-17T09:10:49.421357Z",
     "iopub.status.idle": "2023-12-17T09:10:49.427892Z",
     "shell.execute_reply": "2023-12-17T09:10:49.427263Z"
    },
    "papermill": {
     "duration": 0.027769,
     "end_time": "2023-12-17T09:10:49.429485",
     "exception": false,
     "start_time": "2023-12-17T09:10:49.401716",
     "status": "completed"
    },
    "tags": []
   },
   "outputs": [
    {
     "data": {
      "text/plain": [
       "name                               object\n",
       "host_identity_verified             object\n",
       "host_name                          object\n",
       "neighbourhood_group                object\n",
       "neighbourhood                      object\n",
       "lat                               float64\n",
       "long                              float64\n",
       "instant_bookable                     bool\n",
       "cancellation_policy                object\n",
       "room_type                          object\n",
       "construction_year                 float64\n",
       "price                              object\n",
       "service_fee                        object\n",
       "minimum_nights                    float64\n",
       "number_of_reviews                 float64\n",
       "last_review                        object\n",
       "reviews_per_month                 float64\n",
       "review_rate_number                float64\n",
       "calculated_host_listings_count    float64\n",
       "days_booked                       float64\n",
       "house_rules                        object\n",
       "license                            object\n",
       "dtype: object"
      ]
     },
     "execution_count": 26,
     "metadata": {},
     "output_type": "execute_result"
    }
   ],
   "source": [
    "# Display the data types of the columns.\n",
    "airbnb.dtypes"
   ]
  },
  {
   "cell_type": "code",
   "execution_count": 27,
   "id": "39046b02",
   "metadata": {
    "execution": {
     "iopub.execute_input": "2023-12-17T09:10:49.468920Z",
     "iopub.status.busy": "2023-12-17T09:10:49.468391Z",
     "iopub.status.idle": "2023-12-17T09:10:49.477598Z",
     "shell.execute_reply": "2023-12-17T09:10:49.477067Z"
    },
    "papermill": {
     "duration": 0.030763,
     "end_time": "2023-12-17T09:10:49.479116",
     "exception": false,
     "start_time": "2023-12-17T09:10:49.448353",
     "status": "completed"
    },
    "tags": []
   },
   "outputs": [
    {
     "data": {
      "text/html": [
       "<div>\n",
       "<style scoped>\n",
       "    .dataframe tbody tr th:only-of-type {\n",
       "        vertical-align: middle;\n",
       "    }\n",
       "\n",
       "    .dataframe tbody tr th {\n",
       "        vertical-align: top;\n",
       "    }\n",
       "\n",
       "    .dataframe thead th {\n",
       "        text-align: right;\n",
       "    }\n",
       "</style>\n",
       "<table border=\"1\" class=\"dataframe\">\n",
       "  <thead>\n",
       "    <tr style=\"text-align: right;\">\n",
       "      <th></th>\n",
       "      <th>price</th>\n",
       "      <th>service_fee</th>\n",
       "    </tr>\n",
       "  </thead>\n",
       "  <tbody>\n",
       "    <tr>\n",
       "      <th>0</th>\n",
       "      <td>$966</td>\n",
       "      <td>$193</td>\n",
       "    </tr>\n",
       "    <tr>\n",
       "      <th>1</th>\n",
       "      <td>$142</td>\n",
       "      <td>$28</td>\n",
       "    </tr>\n",
       "    <tr>\n",
       "      <th>2</th>\n",
       "      <td>$620</td>\n",
       "      <td>$124</td>\n",
       "    </tr>\n",
       "    <tr>\n",
       "      <th>3</th>\n",
       "      <td>$368</td>\n",
       "      <td>$74</td>\n",
       "    </tr>\n",
       "    <tr>\n",
       "      <th>4</th>\n",
       "      <td>$204</td>\n",
       "      <td>$41</td>\n",
       "    </tr>\n",
       "  </tbody>\n",
       "</table>\n",
       "</div>"
      ],
      "text/plain": [
       "   price service_fee\n",
       "0  $966        $193 \n",
       "1  $142         $28 \n",
       "2  $620        $124 \n",
       "3  $368         $74 \n",
       "4  $204         $41 "
      ]
     },
     "execution_count": 27,
     "metadata": {},
     "output_type": "execute_result"
    }
   ],
   "source": [
    "airbnb[['price', 'service_fee']].head()"
   ]
  },
  {
   "cell_type": "code",
   "execution_count": 28,
   "id": "74f8747c",
   "metadata": {
    "execution": {
     "iopub.execute_input": "2023-12-17T09:10:49.518243Z",
     "iopub.status.busy": "2023-12-17T09:10:49.517726Z",
     "iopub.status.idle": "2023-12-17T09:10:49.635700Z",
     "shell.execute_reply": "2023-12-17T09:10:49.634582Z"
    },
    "papermill": {
     "duration": 0.14006,
     "end_time": "2023-12-17T09:10:49.638052",
     "exception": false,
     "start_time": "2023-12-17T09:10:49.497992",
     "status": "completed"
    },
    "tags": []
   },
   "outputs": [],
   "source": [
    "# 3. Remove the dollar sign and comma from the columns price and service_fee. \n",
    "# If necessary, convert these two columns to the appropriate data type.\n",
    "\n",
    "airbnb[\"price\"] = airbnb[\"price\"].astype(str)\n",
    "airbnb[\"price\"] = airbnb[\"price\"].str.strip(\"$\").str.replace(\",\", \"\")\n",
    "airbnb[\"price\"] = airbnb[\"price\"].astype(float)\n",
    "airbnb[\"service_fee\"] = airbnb[\"service_fee\"].astype(str)\n",
    "airbnb[\"service_fee\"] = airbnb[\"service_fee\"].str.strip(\"$\")\n",
    "airbnb[\"service_fee\"] = airbnb[\"service_fee\"].astype(float)\n",
    "airbnb[\"construction_year\"] = airbnb[\"construction_year\"].astype(int)\n",
    "airbnb[\"days_booked\"] = airbnb[\"days_booked\"].astype(int)\n",
    "airbnb[\"minimum_nights\"] = airbnb[\"minimum_nights\"].astype(int)"
   ]
  },
  {
   "cell_type": "code",
   "execution_count": 29,
   "id": "2dbdae3c",
   "metadata": {
    "execution": {
     "iopub.execute_input": "2023-12-17T09:10:49.678979Z",
     "iopub.status.busy": "2023-12-17T09:10:49.678629Z",
     "iopub.status.idle": "2023-12-17T09:10:49.685372Z",
     "shell.execute_reply": "2023-12-17T09:10:49.684543Z"
    },
    "papermill": {
     "duration": 0.02866,
     "end_time": "2023-12-17T09:10:49.686894",
     "exception": false,
     "start_time": "2023-12-17T09:10:49.658234",
     "status": "completed"
    },
    "tags": []
   },
   "outputs": [
    {
     "data": {
      "text/plain": [
       "name                               object\n",
       "host_identity_verified             object\n",
       "host_name                          object\n",
       "neighbourhood_group                object\n",
       "neighbourhood                      object\n",
       "lat                               float64\n",
       "long                              float64\n",
       "instant_bookable                     bool\n",
       "cancellation_policy                object\n",
       "room_type                          object\n",
       "construction_year                   int64\n",
       "price                             float64\n",
       "service_fee                       float64\n",
       "minimum_nights                      int64\n",
       "number_of_reviews                 float64\n",
       "last_review                        object\n",
       "reviews_per_month                 float64\n",
       "review_rate_number                float64\n",
       "calculated_host_listings_count    float64\n",
       "days_booked                         int64\n",
       "house_rules                        object\n",
       "license                            object\n",
       "dtype: object"
      ]
     },
     "execution_count": 29,
     "metadata": {},
     "output_type": "execute_result"
    }
   ],
   "source": [
    "airbnb.dtypes"
   ]
  },
  {
   "cell_type": "code",
   "execution_count": 30,
   "id": "ed637e2c",
   "metadata": {
    "execution": {
     "iopub.execute_input": "2023-12-17T09:10:49.726291Z",
     "iopub.status.busy": "2023-12-17T09:10:49.726002Z",
     "iopub.status.idle": "2023-12-17T09:10:49.735691Z",
     "shell.execute_reply": "2023-12-17T09:10:49.734975Z"
    },
    "papermill": {
     "duration": 0.031649,
     "end_time": "2023-12-17T09:10:49.737643",
     "exception": false,
     "start_time": "2023-12-17T09:10:49.705994",
     "status": "completed"
    },
    "tags": []
   },
   "outputs": [
    {
     "data": {
      "text/html": [
       "<div>\n",
       "<style scoped>\n",
       "    .dataframe tbody tr th:only-of-type {\n",
       "        vertical-align: middle;\n",
       "    }\n",
       "\n",
       "    .dataframe tbody tr th {\n",
       "        vertical-align: top;\n",
       "    }\n",
       "\n",
       "    .dataframe thead th {\n",
       "        text-align: right;\n",
       "    }\n",
       "</style>\n",
       "<table border=\"1\" class=\"dataframe\">\n",
       "  <thead>\n",
       "    <tr style=\"text-align: right;\">\n",
       "      <th></th>\n",
       "      <th>price</th>\n",
       "      <th>service_fee</th>\n",
       "    </tr>\n",
       "  </thead>\n",
       "  <tbody>\n",
       "    <tr>\n",
       "      <th>0</th>\n",
       "      <td>966.0</td>\n",
       "      <td>193.0</td>\n",
       "    </tr>\n",
       "    <tr>\n",
       "      <th>1</th>\n",
       "      <td>142.0</td>\n",
       "      <td>28.0</td>\n",
       "    </tr>\n",
       "    <tr>\n",
       "      <th>2</th>\n",
       "      <td>620.0</td>\n",
       "      <td>124.0</td>\n",
       "    </tr>\n",
       "    <tr>\n",
       "      <th>3</th>\n",
       "      <td>368.0</td>\n",
       "      <td>74.0</td>\n",
       "    </tr>\n",
       "    <tr>\n",
       "      <th>4</th>\n",
       "      <td>204.0</td>\n",
       "      <td>41.0</td>\n",
       "    </tr>\n",
       "  </tbody>\n",
       "</table>\n",
       "</div>"
      ],
      "text/plain": [
       "   price  service_fee\n",
       "0  966.0        193.0\n",
       "1  142.0         28.0\n",
       "2  620.0        124.0\n",
       "3  368.0         74.0\n",
       "4  204.0         41.0"
      ]
     },
     "execution_count": 30,
     "metadata": {},
     "output_type": "execute_result"
    }
   ],
   "source": [
    "airbnb[['price', 'service_fee']].head()"
   ]
  },
  {
   "cell_type": "markdown",
   "id": "fb1a80dd",
   "metadata": {
    "papermill": {
     "duration": 0.020277,
     "end_time": "2023-12-17T09:10:49.778230",
     "exception": false,
     "start_time": "2023-12-17T09:10:49.757953",
     "status": "completed"
    },
    "tags": []
   },
   "source": [
    "## **Task 4: Exploratory Data Analysis** \n",
    "1. List the count of various room types avaliable in the dataset.\n",
    "1. Which room type has the most strict cancellation policy?\n",
    "1. List the average price per neighborhood group, and highlight the most expensive neighborhood to rent from."
   ]
  },
  {
   "cell_type": "code",
   "execution_count": 31,
   "id": "433b7c48",
   "metadata": {
    "execution": {
     "iopub.execute_input": "2023-12-17T09:10:49.820878Z",
     "iopub.status.busy": "2023-12-17T09:10:49.820100Z",
     "iopub.status.idle": "2023-12-17T09:10:49.830905Z",
     "shell.execute_reply": "2023-12-17T09:10:49.829998Z"
    },
    "papermill": {
     "duration": 0.033946,
     "end_time": "2023-12-17T09:10:49.832690",
     "exception": false,
     "start_time": "2023-12-17T09:10:49.798744",
     "status": "completed"
    },
    "tags": []
   },
   "outputs": [
    {
     "data": {
      "text/plain": [
       "room_type\n",
       "Entire home/apt    51987\n",
       "Private room       44887\n",
       "Shared room         2149\n",
       "Hotel room           115\n",
       "Name: count, dtype: int64"
      ]
     },
     "execution_count": 31,
     "metadata": {},
     "output_type": "execute_result"
    }
   ],
   "source": [
    "# 1. List the count of various room types avaliable in the dataset.\n",
    "\n",
    "airbnb['room_type'].value_counts()"
   ]
  },
  {
   "cell_type": "code",
   "execution_count": 32,
   "id": "21c86448",
   "metadata": {
    "execution": {
     "iopub.execute_input": "2023-12-17T09:10:49.875433Z",
     "iopub.status.busy": "2023-12-17T09:10:49.874886Z",
     "iopub.status.idle": "2023-12-17T09:10:49.886179Z",
     "shell.execute_reply": "2023-12-17T09:10:49.885304Z"
    },
    "papermill": {
     "duration": 0.034634,
     "end_time": "2023-12-17T09:10:49.887873",
     "exception": false,
     "start_time": "2023-12-17T09:10:49.853239",
     "status": "completed"
    },
    "tags": []
   },
   "outputs": [
    {
     "data": {
      "text/plain": [
       "array(['strict', 'moderate', 'flexible'], dtype=object)"
      ]
     },
     "execution_count": 32,
     "metadata": {},
     "output_type": "execute_result"
    }
   ],
   "source": [
    "# 2. Which room type has the most strict cancellation policy?\n",
    "\n",
    "airbnb['cancellation_policy'].unique()"
   ]
  },
  {
   "cell_type": "code",
   "execution_count": 33,
   "id": "5d867c9b",
   "metadata": {
    "execution": {
     "iopub.execute_input": "2023-12-17T09:10:49.930778Z",
     "iopub.status.busy": "2023-12-17T09:10:49.930051Z",
     "iopub.status.idle": "2023-12-17T09:10:49.948390Z",
     "shell.execute_reply": "2023-12-17T09:10:49.947389Z"
    },
    "papermill": {
     "duration": 0.042025,
     "end_time": "2023-12-17T09:10:49.950477",
     "exception": false,
     "start_time": "2023-12-17T09:10:49.908452",
     "status": "completed"
    },
    "tags": []
   },
   "outputs": [],
   "source": [
    "airbnb_cancellation_policy_strict = airbnb[airbnb['cancellation_policy']=='strict']"
   ]
  },
  {
   "cell_type": "code",
   "execution_count": 34,
   "id": "a1f0a763",
   "metadata": {
    "execution": {
     "iopub.execute_input": "2023-12-17T09:10:49.992905Z",
     "iopub.status.busy": "2023-12-17T09:10:49.992577Z",
     "iopub.status.idle": "2023-12-17T09:10:50.013137Z",
     "shell.execute_reply": "2023-12-17T09:10:50.012457Z"
    },
    "papermill": {
     "duration": 0.043815,
     "end_time": "2023-12-17T09:10:50.014761",
     "exception": false,
     "start_time": "2023-12-17T09:10:49.970946",
     "status": "completed"
    },
    "tags": []
   },
   "outputs": [
    {
     "data": {
      "text/html": [
       "<div>\n",
       "<style scoped>\n",
       "    .dataframe tbody tr th:only-of-type {\n",
       "        vertical-align: middle;\n",
       "    }\n",
       "\n",
       "    .dataframe tbody tr th {\n",
       "        vertical-align: top;\n",
       "    }\n",
       "\n",
       "    .dataframe thead th {\n",
       "        text-align: right;\n",
       "    }\n",
       "</style>\n",
       "<table border=\"1\" class=\"dataframe\">\n",
       "  <thead>\n",
       "    <tr style=\"text-align: right;\">\n",
       "      <th></th>\n",
       "      <th>name</th>\n",
       "      <th>host_identity_verified</th>\n",
       "      <th>host_name</th>\n",
       "      <th>neighbourhood_group</th>\n",
       "      <th>neighbourhood</th>\n",
       "      <th>lat</th>\n",
       "      <th>long</th>\n",
       "      <th>instant_bookable</th>\n",
       "      <th>cancellation_policy</th>\n",
       "      <th>room_type</th>\n",
       "      <th>construction_year</th>\n",
       "      <th>price</th>\n",
       "      <th>service_fee</th>\n",
       "      <th>minimum_nights</th>\n",
       "      <th>number_of_reviews</th>\n",
       "      <th>last_review</th>\n",
       "      <th>reviews_per_month</th>\n",
       "      <th>review_rate_number</th>\n",
       "      <th>calculated_host_listings_count</th>\n",
       "      <th>days_booked</th>\n",
       "      <th>house_rules</th>\n",
       "      <th>license</th>\n",
       "    </tr>\n",
       "  </thead>\n",
       "  <tbody>\n",
       "    <tr>\n",
       "      <th>0</th>\n",
       "      <td>Clean &amp; quiet apt home by the park</td>\n",
       "      <td>unconfirmed</td>\n",
       "      <td>Madaline</td>\n",
       "      <td>Brooklyn</td>\n",
       "      <td>Kensington</td>\n",
       "      <td>40.64749</td>\n",
       "      <td>-73.97237</td>\n",
       "      <td>False</td>\n",
       "      <td>strict</td>\n",
       "      <td>Private room</td>\n",
       "      <td>2020</td>\n",
       "      <td>966.0</td>\n",
       "      <td>193.0</td>\n",
       "      <td>10</td>\n",
       "      <td>9.0</td>\n",
       "      <td>10/19/2021</td>\n",
       "      <td>0.21</td>\n",
       "      <td>4.0</td>\n",
       "      <td>6.0</td>\n",
       "      <td>286</td>\n",
       "      <td>Clean up and treat the home the way you'd like...</td>\n",
       "      <td>41662/AL</td>\n",
       "    </tr>\n",
       "    <tr>\n",
       "      <th>8</th>\n",
       "      <td>Large Furnished Room Near B'way</td>\n",
       "      <td>verified</td>\n",
       "      <td>Evelyn</td>\n",
       "      <td>Manhattan</td>\n",
       "      <td>Hell's Kitchen</td>\n",
       "      <td>40.76489</td>\n",
       "      <td>-73.98493</td>\n",
       "      <td>True</td>\n",
       "      <td>strict</td>\n",
       "      <td>Private room</td>\n",
       "      <td>2005</td>\n",
       "      <td>1018.0</td>\n",
       "      <td>204.0</td>\n",
       "      <td>2</td>\n",
       "      <td>430.0</td>\n",
       "      <td>6/24/2019</td>\n",
       "      <td>3.47</td>\n",
       "      <td>3.0</td>\n",
       "      <td>1.0</td>\n",
       "      <td>180</td>\n",
       "      <td>- Please clean up after yourself when using th...</td>\n",
       "      <td>41662/AL</td>\n",
       "    </tr>\n",
       "    <tr>\n",
       "      <th>9</th>\n",
       "      <td>Cozy Clean Guest Room - Family Apt</td>\n",
       "      <td>unconfirmed</td>\n",
       "      <td>Carl</td>\n",
       "      <td>Manhattan</td>\n",
       "      <td>Upper West Side</td>\n",
       "      <td>40.80178</td>\n",
       "      <td>-73.96723</td>\n",
       "      <td>False</td>\n",
       "      <td>strict</td>\n",
       "      <td>Private room</td>\n",
       "      <td>2015</td>\n",
       "      <td>291.0</td>\n",
       "      <td>58.0</td>\n",
       "      <td>2</td>\n",
       "      <td>118.0</td>\n",
       "      <td>7/21/2017</td>\n",
       "      <td>0.99</td>\n",
       "      <td>5.0</td>\n",
       "      <td>1.0</td>\n",
       "      <td>375</td>\n",
       "      <td>NO SMOKING OR PETS ANYWHERE ON THE PROPERTY 1....</td>\n",
       "      <td>41662/AL</td>\n",
       "    </tr>\n",
       "    <tr>\n",
       "      <th>12</th>\n",
       "      <td>Central Manhattan/near Broadway</td>\n",
       "      <td>verified</td>\n",
       "      <td>Michael</td>\n",
       "      <td>Manhattan</td>\n",
       "      <td>Hell's Kitchen</td>\n",
       "      <td>40.76076</td>\n",
       "      <td>-73.98867</td>\n",
       "      <td>False</td>\n",
       "      <td>strict</td>\n",
       "      <td>Private room</td>\n",
       "      <td>2008</td>\n",
       "      <td>714.0</td>\n",
       "      <td>143.0</td>\n",
       "      <td>2</td>\n",
       "      <td>188.0</td>\n",
       "      <td>6/23/2019</td>\n",
       "      <td>1.50</td>\n",
       "      <td>4.0</td>\n",
       "      <td>1.0</td>\n",
       "      <td>258</td>\n",
       "      <td>- One of the bedroom closets is not accessible...</td>\n",
       "      <td>41662/AL</td>\n",
       "    </tr>\n",
       "    <tr>\n",
       "      <th>24</th>\n",
       "      <td>CBG Helps Haiti Rm #2</td>\n",
       "      <td>unconfirmed</td>\n",
       "      <td>Charlotte</td>\n",
       "      <td>Brooklyn</td>\n",
       "      <td>Park Slope</td>\n",
       "      <td>40.68001</td>\n",
       "      <td>-73.97865</td>\n",
       "      <td>False</td>\n",
       "      <td>strict</td>\n",
       "      <td>Private room</td>\n",
       "      <td>2005</td>\n",
       "      <td>816.0</td>\n",
       "      <td>163.0</td>\n",
       "      <td>2</td>\n",
       "      <td>71.0</td>\n",
       "      <td>7/2/2019</td>\n",
       "      <td>0.61</td>\n",
       "      <td>4.0</td>\n",
       "      <td>6.0</td>\n",
       "      <td>344</td>\n",
       "      <td>We take great care of our home and expect you ...</td>\n",
       "      <td>41662/AL</td>\n",
       "    </tr>\n",
       "  </tbody>\n",
       "</table>\n",
       "</div>"
      ],
      "text/plain": [
       "                                  name host_identity_verified  host_name  \\\n",
       "0   Clean & quiet apt home by the park            unconfirmed   Madaline   \n",
       "8      Large Furnished Room Near B'way               verified     Evelyn   \n",
       "9   Cozy Clean Guest Room - Family Apt            unconfirmed       Carl   \n",
       "12     Central Manhattan/near Broadway               verified    Michael   \n",
       "24               CBG Helps Haiti Rm #2            unconfirmed  Charlotte   \n",
       "\n",
       "   neighbourhood_group    neighbourhood       lat      long  instant_bookable  \\\n",
       "0             Brooklyn       Kensington  40.64749 -73.97237             False   \n",
       "8            Manhattan   Hell's Kitchen  40.76489 -73.98493              True   \n",
       "9            Manhattan  Upper West Side  40.80178 -73.96723             False   \n",
       "12           Manhattan   Hell's Kitchen  40.76076 -73.98867             False   \n",
       "24            Brooklyn       Park Slope  40.68001 -73.97865             False   \n",
       "\n",
       "   cancellation_policy     room_type  construction_year   price  service_fee  \\\n",
       "0               strict  Private room               2020   966.0        193.0   \n",
       "8               strict  Private room               2005  1018.0        204.0   \n",
       "9               strict  Private room               2015   291.0         58.0   \n",
       "12              strict  Private room               2008   714.0        143.0   \n",
       "24              strict  Private room               2005   816.0        163.0   \n",
       "\n",
       "    minimum_nights  number_of_reviews last_review  reviews_per_month  \\\n",
       "0               10                9.0  10/19/2021               0.21   \n",
       "8                2              430.0   6/24/2019               3.47   \n",
       "9                2              118.0   7/21/2017               0.99   \n",
       "12               2              188.0   6/23/2019               1.50   \n",
       "24               2               71.0    7/2/2019               0.61   \n",
       "\n",
       "    review_rate_number  calculated_host_listings_count  days_booked  \\\n",
       "0                  4.0                             6.0          286   \n",
       "8                  3.0                             1.0          180   \n",
       "9                  5.0                             1.0          375   \n",
       "12                 4.0                             1.0          258   \n",
       "24                 4.0                             6.0          344   \n",
       "\n",
       "                                          house_rules   license  \n",
       "0   Clean up and treat the home the way you'd like...  41662/AL  \n",
       "8   - Please clean up after yourself when using th...  41662/AL  \n",
       "9   NO SMOKING OR PETS ANYWHERE ON THE PROPERTY 1....  41662/AL  \n",
       "12  - One of the bedroom closets is not accessible...  41662/AL  \n",
       "24  We take great care of our home and expect you ...  41662/AL  "
      ]
     },
     "execution_count": 34,
     "metadata": {},
     "output_type": "execute_result"
    }
   ],
   "source": [
    "airbnb_cancellation_policy_strict.head()"
   ]
  },
  {
   "cell_type": "code",
   "execution_count": 35,
   "id": "3265889f",
   "metadata": {
    "execution": {
     "iopub.execute_input": "2023-12-17T09:10:50.056123Z",
     "iopub.status.busy": "2023-12-17T09:10:50.055343Z",
     "iopub.status.idle": "2023-12-17T09:10:50.062950Z",
     "shell.execute_reply": "2023-12-17T09:10:50.062253Z"
    },
    "papermill": {
     "duration": 0.029823,
     "end_time": "2023-12-17T09:10:50.064535",
     "exception": false,
     "start_time": "2023-12-17T09:10:50.034712",
     "status": "completed"
    },
    "tags": []
   },
   "outputs": [
    {
     "data": {
      "text/plain": [
       "room_type\n",
       "Entire home/apt    17238\n",
       "Private room       14936\n",
       "Shared room          718\n",
       "Hotel room            34\n",
       "Name: count, dtype: int64"
      ]
     },
     "execution_count": 35,
     "metadata": {},
     "output_type": "execute_result"
    }
   ],
   "source": [
    "airbnb_cancellation_policy_strict['room_type'].value_counts()"
   ]
  },
  {
   "cell_type": "code",
   "execution_count": 36,
   "id": "0c786349",
   "metadata": {
    "execution": {
     "iopub.execute_input": "2023-12-17T09:10:50.105194Z",
     "iopub.status.busy": "2023-12-17T09:10:50.104641Z",
     "iopub.status.idle": "2023-12-17T09:10:50.108901Z",
     "shell.execute_reply": "2023-12-17T09:10:50.108368Z"
    },
    "papermill": {
     "duration": 0.026008,
     "end_time": "2023-12-17T09:10:50.110323",
     "exception": false,
     "start_time": "2023-12-17T09:10:50.084315",
     "status": "completed"
    },
    "tags": []
   },
   "outputs": [
    {
     "data": {
      "text/plain": [
       "'The Entire home/apt room type has the most strict cancellation policy.'"
      ]
     },
     "execution_count": 36,
     "metadata": {},
     "output_type": "execute_result"
    }
   ],
   "source": [
    "# 2. Which room type has the most strict cancellation policy?\n",
    "'''The Entire home/apt room type has the most strict cancellation policy.'''"
   ]
  },
  {
   "cell_type": "code",
   "execution_count": 37,
   "id": "895e5012",
   "metadata": {
    "execution": {
     "iopub.execute_input": "2023-12-17T09:10:50.151167Z",
     "iopub.status.busy": "2023-12-17T09:10:50.150839Z",
     "iopub.status.idle": "2023-12-17T09:10:50.220211Z",
     "shell.execute_reply": "2023-12-17T09:10:50.218246Z"
    },
    "papermill": {
     "duration": 0.092751,
     "end_time": "2023-12-17T09:10:50.222764",
     "exception": false,
     "start_time": "2023-12-17T09:10:50.130013",
     "status": "completed"
    },
    "tags": []
   },
   "outputs": [],
   "source": [
    "airbnb[\"neighbourhood_group\"] = airbnb[\"neighbourhood_group\"].astype(str)\n",
    "airbnb[\"neighbourhood_group\"] = airbnb[\"neighbourhood_group\"].str.replace(\"brookln\", \"Brooklyn\")\n",
    "airbnb[\"neighbourhood_group\"] = airbnb[\"neighbourhood_group\"].str.replace(\"manhatan\", \"Manhattan\")"
   ]
  },
  {
   "cell_type": "code",
   "execution_count": 38,
   "id": "d54fd538",
   "metadata": {
    "execution": {
     "iopub.execute_input": "2023-12-17T09:10:50.266996Z",
     "iopub.status.busy": "2023-12-17T09:10:50.265881Z",
     "iopub.status.idle": "2023-12-17T09:10:50.273791Z",
     "shell.execute_reply": "2023-12-17T09:10:50.273194Z"
    },
    "papermill": {
     "duration": 0.03157,
     "end_time": "2023-12-17T09:10:50.275391",
     "exception": false,
     "start_time": "2023-12-17T09:10:50.243821",
     "status": "completed"
    },
    "tags": []
   },
   "outputs": [
    {
     "data": {
      "text/plain": [
       "neighbourhood_group\n",
       "Manhattan        13981\n",
       "Brooklyn         13472\n",
       "Queens            4319\n",
       "Bronx              857\n",
       "Staten Island      297\n",
       "Name: count, dtype: int64"
      ]
     },
     "execution_count": 38,
     "metadata": {},
     "output_type": "execute_result"
    }
   ],
   "source": [
    "airbnb_cancellation_policy_strict['neighbourhood_group'].value_counts()"
   ]
  },
  {
   "cell_type": "code",
   "execution_count": 39,
   "id": "57159f85",
   "metadata": {
    "execution": {
     "iopub.execute_input": "2023-12-17T09:10:50.317770Z",
     "iopub.status.busy": "2023-12-17T09:10:50.317454Z",
     "iopub.status.idle": "2023-12-17T09:10:50.333385Z",
     "shell.execute_reply": "2023-12-17T09:10:50.332310Z"
    },
    "papermill": {
     "duration": 0.038428,
     "end_time": "2023-12-17T09:10:50.334891",
     "exception": false,
     "start_time": "2023-12-17T09:10:50.296463",
     "status": "completed"
    },
    "tags": []
   },
   "outputs": [
    {
     "name": "stdout",
     "output_type": "stream",
     "text": [
      "neighbourhood_group\n",
      "Queens           628.668822\n",
      "Brooklyn         625.470501\n",
      "Bronx            625.271511\n",
      "Staten Island    625.060870\n",
      "Manhattan        621.662326\n",
      "Name: price, dtype: float64\n"
     ]
    }
   ],
   "source": [
    "# 3. List the average price per neighborhood group, and highlight the most expensive neighborhood to rent from.\n",
    "\n",
    "airbnb_average_price_per_neighborhood = airbnb['price'].groupby(airbnb['neighbourhood_group']).mean().sort_values(ascending=False)\n",
    "print(airbnb_average_price_per_neighborhood)"
   ]
  },
  {
   "cell_type": "code",
   "execution_count": 40,
   "id": "2929f77c",
   "metadata": {
    "execution": {
     "iopub.execute_input": "2023-12-17T09:10:50.376083Z",
     "iopub.status.busy": "2023-12-17T09:10:50.375343Z",
     "iopub.status.idle": "2023-12-17T09:10:50.379803Z",
     "shell.execute_reply": "2023-12-17T09:10:50.379272Z"
    },
    "papermill": {
     "duration": 0.026642,
     "end_time": "2023-12-17T09:10:50.381261",
     "exception": false,
     "start_time": "2023-12-17T09:10:50.354619",
     "status": "completed"
    },
    "tags": []
   },
   "outputs": [
    {
     "data": {
      "text/plain": [
       "'Queens is the most expensive neighbourhood_group with a average price of £628.69.'"
      ]
     },
     "execution_count": 40,
     "metadata": {},
     "output_type": "execute_result"
    }
   ],
   "source": [
    "# 3. List the average price per neighborhood group, and highlight the most expensive neighborhood to rent from.\n",
    "'''Queens is the most expensive neighbourhood_group with a average price of £628.69.'''"
   ]
  },
  {
   "cell_type": "code",
   "execution_count": 41,
   "id": "e25326c8",
   "metadata": {
    "execution": {
     "iopub.execute_input": "2023-12-17T09:10:50.422826Z",
     "iopub.status.busy": "2023-12-17T09:10:50.422365Z",
     "iopub.status.idle": "2023-12-17T09:10:50.426661Z",
     "shell.execute_reply": "2023-12-17T09:10:50.426085Z"
    },
    "papermill": {
     "duration": 0.026685,
     "end_time": "2023-12-17T09:10:50.428149",
     "exception": false,
     "start_time": "2023-12-17T09:10:50.401464",
     "status": "completed"
    },
    "tags": []
   },
   "outputs": [
    {
     "data": {
      "text/plain": [
       "'This has highlighted an error in the data as there are two Brooklyn (Brooklyn and brookln) and two Manhattan (Manhattan and manhatan). I have gonne back and added line 257 to replace brookln with Brooklyn and manhatan with Manhattan'"
      ]
     },
     "execution_count": 41,
     "metadata": {},
     "output_type": "execute_result"
    }
   ],
   "source": [
    "'''This has highlighted an error in the data as there are two Brooklyn (Brooklyn and brookln) and two Manhattan (Manhattan and manhatan). I have gonne back and added line 257 to replace brookln with Brooklyn and manhatan with Manhattan'''"
   ]
  },
  {
   "cell_type": "code",
   "execution_count": 42,
   "id": "6f71abc6",
   "metadata": {
    "execution": {
     "iopub.execute_input": "2023-12-17T09:10:50.472100Z",
     "iopub.status.busy": "2023-12-17T09:10:50.471114Z",
     "iopub.status.idle": "2023-12-17T09:10:50.486057Z",
     "shell.execute_reply": "2023-12-17T09:10:50.485212Z"
    },
    "papermill": {
     "duration": 0.039737,
     "end_time": "2023-12-17T09:10:50.487952",
     "exception": false,
     "start_time": "2023-12-17T09:10:50.448215",
     "status": "completed"
    },
    "tags": []
   },
   "outputs": [
    {
     "name": "stdout",
     "output_type": "stream",
     "text": [
      "neighbourhood_group\n",
      "Bronx            1200.0\n",
      "Brooklyn         1200.0\n",
      "Manhattan        1200.0\n",
      "Queens           1200.0\n",
      "Staten Island    1200.0\n",
      "Name: price, dtype: float64\n"
     ]
    }
   ],
   "source": [
    "airbnb_max_price_per_neighborhood = airbnb['price'].groupby(airbnb['neighbourhood_group']).max().sort_values(ascending=False)\n",
    "print(airbnb_max_price_per_neighborhood)"
   ]
  },
  {
   "cell_type": "code",
   "execution_count": 43,
   "id": "47b61681",
   "metadata": {
    "execution": {
     "iopub.execute_input": "2023-12-17T09:10:50.531376Z",
     "iopub.status.busy": "2023-12-17T09:10:50.530383Z",
     "iopub.status.idle": "2023-12-17T09:10:50.536293Z",
     "shell.execute_reply": "2023-12-17T09:10:50.535447Z"
    },
    "papermill": {
     "duration": 0.029007,
     "end_time": "2023-12-17T09:10:50.537958",
     "exception": false,
     "start_time": "2023-12-17T09:10:50.508951",
     "status": "completed"
    },
    "tags": []
   },
   "outputs": [
    {
     "data": {
      "text/plain": [
       "'Bronx, Brooklyn, Manhattan, Queens and Staten Island all have an equal most expensive price at £1200.'"
      ]
     },
     "execution_count": 43,
     "metadata": {},
     "output_type": "execute_result"
    }
   ],
   "source": [
    "'''Bronx, Brooklyn, Manhattan, Queens and Staten Island all have an equal most expensive price at £1200.'''"
   ]
  },
  {
   "cell_type": "markdown",
   "id": "bb08f538",
   "metadata": {
    "papermill": {
     "duration": 0.019706,
     "end_time": "2023-12-17T09:10:50.578031",
     "exception": false,
     "start_time": "2023-12-17T09:10:50.558325",
     "status": "completed"
    },
    "tags": []
   },
   "source": [
    "## **Task 5a: Data Visualization**\n",
    "\n",
    "1. List the top 10 neighbourhoods in the increasing order of their price with the help of a horizontal bar graph. Which is the cheapest neighborhood.\n",
    "1. List the neighbourhoods which offer short term rentals within 10 days. Illustrate with a bar graph\n",
    "1. List the prices with respect to room type using a bar graph and also state your inferences.\n",
    "1. Create a pie chart that shows distribution of booked days for each neighbourhood group .Which neighbourhood has the highest booking percentage.\n"
   ]
  },
  {
   "cell_type": "code",
   "execution_count": 44,
   "id": "4a07e464",
   "metadata": {
    "execution": {
     "iopub.execute_input": "2023-12-17T09:10:50.619982Z",
     "iopub.status.busy": "2023-12-17T09:10:50.619650Z",
     "iopub.status.idle": "2023-12-17T09:10:50.635566Z",
     "shell.execute_reply": "2023-12-17T09:10:50.634134Z"
    },
    "papermill": {
     "duration": 0.03915,
     "end_time": "2023-12-17T09:10:50.637278",
     "exception": false,
     "start_time": "2023-12-17T09:10:50.598128",
     "status": "completed"
    },
    "tags": []
   },
   "outputs": [
    {
     "name": "stdout",
     "output_type": "stream",
     "text": [
      "neighbourhood\n",
      "Bedford-Stuyvesant            4793673.0\n",
      "Williamsburg                  4663153.0\n",
      "Harlem                        3317743.0\n",
      "Bushwick                      3038762.0\n",
      "Hell's Kitchen                2394881.0\n",
      "                                ...    \n",
      "Glen Oaks                        1101.0\n",
      "Chelsea, Staten Island           1042.0\n",
      "Bay Terrace, Staten Island        918.0\n",
      "Rossville                         655.0\n",
      "Lighthouse Hill                   323.0\n",
      "Name: price, Length: 224, dtype: float64\n"
     ]
    }
   ],
   "source": [
    "# 1. List the top 10 neighbourhoods in the increasing order of their price with the help of a horizontal bar graph. \n",
    "# Which is the cheapest neighbourhood?\n",
    "\n",
    "airbnb_top_10_neighbourhoods_sum = airbnb['price'].groupby(airbnb['neighbourhood']).sum().sort_values(ascending=False)\n",
    "print(airbnb_top_10_neighbourhoods_sum)"
   ]
  },
  {
   "cell_type": "code",
   "execution_count": 45,
   "id": "e94ae18d",
   "metadata": {
    "execution": {
     "iopub.execute_input": "2023-12-17T09:10:50.680542Z",
     "iopub.status.busy": "2023-12-17T09:10:50.679478Z",
     "iopub.status.idle": "2023-12-17T09:10:50.686688Z",
     "shell.execute_reply": "2023-12-17T09:10:50.685792Z"
    },
    "papermill": {
     "duration": 0.030136,
     "end_time": "2023-12-17T09:10:50.688210",
     "exception": false,
     "start_time": "2023-12-17T09:10:50.658074",
     "status": "completed"
    },
    "tags": []
   },
   "outputs": [
    {
     "data": {
      "text/plain": [
       "neighbourhood\n",
       "Bedford-Stuyvesant    4793673.0\n",
       "Williamsburg          4663153.0\n",
       "Harlem                3317743.0\n",
       "Bushwick              3038762.0\n",
       "Hell's Kitchen        2394881.0\n",
       "Upper West Side       2306230.0\n",
       "Upper East Side       2177795.0\n",
       "East Village          2081467.0\n",
       "Midtown               1985830.0\n",
       "Crown Heights         1943244.0\n",
       "Name: price, dtype: float64"
      ]
     },
     "execution_count": 45,
     "metadata": {},
     "output_type": "execute_result"
    }
   ],
   "source": [
    "airbnb_top_10_neighbourhoods_sum.head(10)"
   ]
  },
  {
   "cell_type": "code",
   "execution_count": 46,
   "id": "298b4dbb",
   "metadata": {
    "execution": {
     "iopub.execute_input": "2023-12-17T09:10:50.731715Z",
     "iopub.status.busy": "2023-12-17T09:10:50.730495Z",
     "iopub.status.idle": "2023-12-17T09:10:50.979169Z",
     "shell.execute_reply": "2023-12-17T09:10:50.978235Z"
    },
    "papermill": {
     "duration": 0.272749,
     "end_time": "2023-12-17T09:10:50.981324",
     "exception": false,
     "start_time": "2023-12-17T09:10:50.708575",
     "status": "completed"
    },
    "tags": []
   },
   "outputs": [
    {
     "data": {
      "image/png": "[encoded data removed]",
      "text/plain": [
       "<Figure size 640x480 with 1 Axes>"
      ]
     },
     "metadata": {},
     "output_type": "display_data"
    }
   ],
   "source": [
    "# 1. List the top 10 neighbourhoods in the increasing order of their price with the help of a horizontal bar graph. \n",
    "\n",
    "airbnb_top_10_neighbourhoods_sum.head(10).plot(kind='barh', color={'green'})\n",
    "plt.xlabel('Price $')\n",
    "plt.ylabel('Neighbourhood')\n",
    "plt.title('Top 10 Price sum vs Neighbourhoods')\n",
    "plt.show()"
   ]
  },
  {
   "cell_type": "code",
   "execution_count": 47,
   "id": "dca66687",
   "metadata": {
    "execution": {
     "iopub.execute_input": "2023-12-17T09:10:51.025406Z",
     "iopub.status.busy": "2023-12-17T09:10:51.024542Z",
     "iopub.status.idle": "2023-12-17T09:10:51.039706Z",
     "shell.execute_reply": "2023-12-17T09:10:51.038492Z"
    },
    "papermill": {
     "duration": 0.038594,
     "end_time": "2023-12-17T09:10:51.041309",
     "exception": false,
     "start_time": "2023-12-17T09:10:51.002715",
     "status": "completed"
    },
    "tags": []
   },
   "outputs": [
    {
     "name": "stdout",
     "output_type": "stream",
     "text": [
      "neighbourhood\n",
      "New Dorp                      1045.333333\n",
      "Chelsea, Staten Island        1042.000000\n",
      "Fort Wadsworth                1024.000000\n",
      "Little Neck                    817.750000\n",
      "Jamaica Hills                  812.904762\n",
      "                                 ...     \n",
      "Rossville                      327.500000\n",
      "Breezy Point                   309.888889\n",
      "Spuyten Duyvil                 307.000000\n",
      "Bay Terrace, Staten Island     306.000000\n",
      "Lighthouse Hill                107.666667\n",
      "Name: price, Length: 224, dtype: float64\n"
     ]
    }
   ],
   "source": [
    "airbnb_top_10_neighbourhoods_mean = airbnb['price'].groupby(airbnb['neighbourhood']).mean().sort_values(ascending=False)\n",
    "print(airbnb_top_10_neighbourhoods_mean)"
   ]
  },
  {
   "cell_type": "code",
   "execution_count": 48,
   "id": "6032d2db",
   "metadata": {
    "execution": {
     "iopub.execute_input": "2023-12-17T09:10:51.084141Z",
     "iopub.status.busy": "2023-12-17T09:10:51.083780Z",
     "iopub.status.idle": "2023-12-17T09:10:51.090488Z",
     "shell.execute_reply": "2023-12-17T09:10:51.089669Z"
    },
    "papermill": {
     "duration": 0.030178,
     "end_time": "2023-12-17T09:10:51.092295",
     "exception": false,
     "start_time": "2023-12-17T09:10:51.062117",
     "status": "completed"
    },
    "tags": []
   },
   "outputs": [
    {
     "data": {
      "text/plain": [
       "neighbourhood\n",
       "New Dorp                  1045.333333\n",
       "Chelsea, Staten Island    1042.000000\n",
       "Fort Wadsworth            1024.000000\n",
       "Little Neck                817.750000\n",
       "Jamaica Hills              812.904762\n",
       "Shore Acres                805.142857\n",
       "Arden Heights              804.888889\n",
       "Midland Beach              796.176471\n",
       "Mill Basin                 775.142857\n",
       "Riverdale                  768.736842\n",
       "Name: price, dtype: float64"
      ]
     },
     "execution_count": 48,
     "metadata": {},
     "output_type": "execute_result"
    }
   ],
   "source": [
    "airbnb_top_10_neighbourhoods_mean.head(10)"
   ]
  },
  {
   "cell_type": "code",
   "execution_count": 49,
   "id": "1b476d72",
   "metadata": {
    "execution": {
     "iopub.execute_input": "2023-12-17T09:10:51.135571Z",
     "iopub.status.busy": "2023-12-17T09:10:51.134732Z",
     "iopub.status.idle": "2023-12-17T09:10:51.362831Z",
     "shell.execute_reply": "2023-12-17T09:10:51.362002Z"
    },
    "papermill": {
     "duration": 0.252407,
     "end_time": "2023-12-17T09:10:51.365387",
     "exception": false,
     "start_time": "2023-12-17T09:10:51.112980",
     "status": "completed"
    },
    "tags": []
   },
   "outputs": [
    {
     "data": {
      "image/png": "[encoded data removed]",
      "text/plain": [
       "<Figure size 640x480 with 1 Axes>"
      ]
     },
     "metadata": {},
     "output_type": "display_data"
    }
   ],
   "source": [
    "airbnb_top_10_neighbourhoods_mean.head(10).plot(kind='barh', color={'blue'})\n",
    "plt.xlabel('Price $')\n",
    "plt.ylabel('Neighbourhood')\n",
    "plt.title('Top 10 Price (avg) vs Neighbourhoods')\n",
    "plt.show()"
   ]
  },
  {
   "cell_type": "code",
   "execution_count": 50,
   "id": "a3516d30",
   "metadata": {
    "execution": {
     "iopub.execute_input": "2023-12-17T09:10:51.412510Z",
     "iopub.status.busy": "2023-12-17T09:10:51.412136Z",
     "iopub.status.idle": "2023-12-17T09:10:51.418346Z",
     "shell.execute_reply": "2023-12-17T09:10:51.417442Z"
    },
    "papermill": {
     "duration": 0.031629,
     "end_time": "2023-12-17T09:10:51.419977",
     "exception": false,
     "start_time": "2023-12-17T09:10:51.388348",
     "status": "completed"
    },
    "tags": []
   },
   "outputs": [
    {
     "data": {
      "text/plain": [
       "'The cheapest neighbourhood out of the Top 10 by Sum is Crown Heights if you go by average price the cheapest neigbourhood out of the Top 10 is Riverdale. The cheapest out of all the nieghbourhoods for both the sum and the average is Lighthouse Hill.'"
      ]
     },
     "execution_count": 50,
     "metadata": {},
     "output_type": "execute_result"
    }
   ],
   "source": [
    "# Which is the cheapest neighbourhood?\n",
    "'''The cheapest neighbourhood out of the Top 10 by Sum is Crown Heights if you go by average price the cheapest neigbourhood out of the Top 10 is Riverdale. The cheapest out of all the nieghbourhoods for both the sum and the average is Lighthouse Hill.'''"
   ]
  },
  {
   "cell_type": "code",
   "execution_count": 51,
   "id": "4870cf92",
   "metadata": {
    "execution": {
     "iopub.execute_input": "2023-12-17T09:10:51.465536Z",
     "iopub.status.busy": "2023-12-17T09:10:51.464570Z",
     "iopub.status.idle": "2023-12-17T09:10:51.471898Z",
     "shell.execute_reply": "2023-12-17T09:10:51.470978Z"
    },
    "papermill": {
     "duration": 0.031967,
     "end_time": "2023-12-17T09:10:51.473844",
     "exception": false,
     "start_time": "2023-12-17T09:10:51.441877",
     "status": "completed"
    },
    "tags": []
   },
   "outputs": [
    {
     "data": {
      "text/plain": [
       "array([   10,    30,     3,    45,     2,     1,     5,     4,    90,\n",
       "           7,    14,    60,   180,     9,    31,     6,    15,    29,\n",
       "           8,    47,    81,   144,   371,   149,   273,   131,   275,\n",
       "         323,    59,    99,   268,   -10,   189,   340,   128,   350,\n",
       "         166,   110,    57,   142,   366,    28,   200,    50,   399,\n",
       "          17,    11,   452,    25,    13,  3455,    -5,    21,    27,\n",
       "          18,   365,    -1,    20,   -12,    40,    44,   398,    -2,\n",
       "          65,    -3,    55,   120,   122,    19,   240,    88,   115,\n",
       "         150,   370,    16,    80,   181,    26,   265,   300,   185,\n",
       "         360,    56,    12,    70,    39,    24,    32,  1000,   270,\n",
       "          22,    75,   250,    62,    23,  1250,   364,    74,   198,\n",
       "         100,   500,    43,    35,    91,   480,    53,   160,   999,\n",
       "         186,    68,    93,    87,   183,   299,   175,    98,   133,\n",
       "         354,    42,    33,    37,   225,   400,   105,   184,   153,\n",
       "         134,   222,    58,   210,   182,   954,  5645,  2645, -1223,\n",
       "        -365,  -200,   114,    85,    36,    48,   155,   307,   129,\n",
       "         145,    64,   333,   119,  -125,   125,    34,   458,   825])"
      ]
     },
     "execution_count": 51,
     "metadata": {},
     "output_type": "execute_result"
    }
   ],
   "source": [
    "#  2. List the neighbourhoods which offer short term rentals within 10 days. Illustrate with a bar graph\n",
    "\n",
    "airbnb['minimum_nights'].unique()"
   ]
  },
  {
   "cell_type": "code",
   "execution_count": 52,
   "id": "c20d9a9f",
   "metadata": {
    "execution": {
     "iopub.execute_input": "2023-12-17T09:10:51.518600Z",
     "iopub.status.busy": "2023-12-17T09:10:51.518275Z",
     "iopub.status.idle": "2023-12-17T09:10:51.546135Z",
     "shell.execute_reply": "2023-12-17T09:10:51.545266Z"
    },
    "papermill": {
     "duration": 0.052661,
     "end_time": "2023-12-17T09:10:51.548224",
     "exception": false,
     "start_time": "2023-12-17T09:10:51.495563",
     "status": "completed"
    },
    "tags": []
   },
   "outputs": [
    {
     "data": {
      "text/plain": [
       "neighbourhood_group\n",
       "Brooklyn         34343\n",
       "Manhattan        32788\n",
       "Queens           10970\n",
       "Bronx             2367\n",
       "Staten Island      829\n",
       "Name: count, dtype: int64"
      ]
     },
     "execution_count": 52,
     "metadata": {},
     "output_type": "execute_result"
    }
   ],
   "source": [
    "airbnb_short_term_rentals = airbnb[airbnb['minimum_nights']<10]\n",
    "airbnb_short_term_rentals['neighbourhood_group'].value_counts()"
   ]
  },
  {
   "cell_type": "code",
   "execution_count": 53,
   "id": "d258d2d8",
   "metadata": {
    "execution": {
     "iopub.execute_input": "2023-12-17T09:10:51.601459Z",
     "iopub.status.busy": "2023-12-17T09:10:51.600770Z",
     "iopub.status.idle": "2023-12-17T09:10:52.837882Z",
     "shell.execute_reply": "2023-12-17T09:10:52.837074Z"
    },
    "papermill": {
     "duration": 1.266507,
     "end_time": "2023-12-17T09:10:52.840595",
     "exception": false,
     "start_time": "2023-12-17T09:10:51.574088",
     "status": "completed"
    },
    "tags": []
   },
   "outputs": [
    {
     "data": {
      "text/plain": [
       "[Text(0.5, 1.0, 'Neighbourhood Group vs Minimum Nights')]"
      ]
     },
     "execution_count": 53,
     "metadata": {},
     "output_type": "execute_result"
    },
    {
     "data": {
      "image/png": "[encoded data removed]",
      "text/plain": [
       "<Figure size 640x480 with 1 Axes>"
      ]
     },
     "metadata": {},
     "output_type": "display_data"
    }
   ],
   "source": [
    "sns.barplot(x='neighbourhood_group',\n",
    "           y='minimum_nights',\n",
    "           data=airbnb_short_term_rentals).set(title='Neighbourhood Group vs Minimum Nights')"
   ]
  },
  {
   "cell_type": "code",
   "execution_count": 54,
   "id": "e01ed3a0",
   "metadata": {
    "execution": {
     "iopub.execute_input": "2023-12-17T09:10:52.887713Z",
     "iopub.status.busy": "2023-12-17T09:10:52.887031Z",
     "iopub.status.idle": "2023-12-17T09:10:52.904300Z",
     "shell.execute_reply": "2023-12-17T09:10:52.903317Z"
    },
    "papermill": {
     "duration": 0.042723,
     "end_time": "2023-12-17T09:10:52.906059",
     "exception": false,
     "start_time": "2023-12-17T09:10:52.863336",
     "status": "completed"
    },
    "tags": []
   },
   "outputs": [],
   "source": [
    "#  3. List the prices with respect to room type using a bar graph and also state your inferences.\n",
    "\n",
    "airbnb_prices_by_room_type = airbnb.groupby(['room_type']).agg(mean_price=('price', 'mean'))"
   ]
  },
  {
   "cell_type": "code",
   "execution_count": 55,
   "id": "529032aa",
   "metadata": {
    "execution": {
     "iopub.execute_input": "2023-12-17T09:10:52.951628Z",
     "iopub.status.busy": "2023-12-17T09:10:52.951263Z",
     "iopub.status.idle": "2023-12-17T09:10:53.012220Z",
     "shell.execute_reply": "2023-12-17T09:10:53.011562Z"
    },
    "papermill": {
     "duration": 0.085462,
     "end_time": "2023-12-17T09:10:53.013827",
     "exception": false,
     "start_time": "2023-12-17T09:10:52.928365",
     "status": "completed"
    },
    "tags": []
   },
   "outputs": [
    {
     "data": {
      "text/html": [
       "<div>\n",
       "<style scoped>\n",
       "    .dataframe tbody tr th:only-of-type {\n",
       "        vertical-align: middle;\n",
       "    }\n",
       "\n",
       "    .dataframe tbody tr th {\n",
       "        vertical-align: top;\n",
       "    }\n",
       "\n",
       "    .dataframe thead th {\n",
       "        text-align: right;\n",
       "    }\n",
       "</style>\n",
       "<table border=\"1\" class=\"dataframe\">\n",
       "  <thead>\n",
       "    <tr style=\"text-align: right;\">\n",
       "      <th></th>\n",
       "      <th>index</th>\n",
       "      <th>name</th>\n",
       "      <th>host_identity_verified</th>\n",
       "      <th>host_name</th>\n",
       "      <th>neighbourhood_group</th>\n",
       "      <th>neighbourhood</th>\n",
       "      <th>lat</th>\n",
       "      <th>long</th>\n",
       "      <th>instant_bookable</th>\n",
       "      <th>cancellation_policy</th>\n",
       "      <th>room_type</th>\n",
       "      <th>construction_year</th>\n",
       "      <th>price</th>\n",
       "      <th>service_fee</th>\n",
       "      <th>minimum_nights</th>\n",
       "      <th>number_of_reviews</th>\n",
       "      <th>last_review</th>\n",
       "      <th>reviews_per_month</th>\n",
       "      <th>review_rate_number</th>\n",
       "      <th>calculated_host_listings_count</th>\n",
       "      <th>days_booked</th>\n",
       "      <th>house_rules</th>\n",
       "      <th>license</th>\n",
       "    </tr>\n",
       "  </thead>\n",
       "  <tbody>\n",
       "    <tr>\n",
       "      <th>0</th>\n",
       "      <td>0</td>\n",
       "      <td>Clean &amp; quiet apt home by the park</td>\n",
       "      <td>unconfirmed</td>\n",
       "      <td>Madaline</td>\n",
       "      <td>Brooklyn</td>\n",
       "      <td>Kensington</td>\n",
       "      <td>40.64749</td>\n",
       "      <td>-73.97237</td>\n",
       "      <td>False</td>\n",
       "      <td>strict</td>\n",
       "      <td>Private room</td>\n",
       "      <td>2020</td>\n",
       "      <td>966.0</td>\n",
       "      <td>193.0</td>\n",
       "      <td>10</td>\n",
       "      <td>9.0</td>\n",
       "      <td>10/19/2021</td>\n",
       "      <td>0.21</td>\n",
       "      <td>4.0</td>\n",
       "      <td>6.0</td>\n",
       "      <td>286</td>\n",
       "      <td>Clean up and treat the home the way you'd like...</td>\n",
       "      <td>41662/AL</td>\n",
       "    </tr>\n",
       "    <tr>\n",
       "      <th>1</th>\n",
       "      <td>1</td>\n",
       "      <td>Skylit Midtown Castle</td>\n",
       "      <td>verified</td>\n",
       "      <td>Jenna</td>\n",
       "      <td>Manhattan</td>\n",
       "      <td>Midtown</td>\n",
       "      <td>40.75362</td>\n",
       "      <td>-73.98377</td>\n",
       "      <td>False</td>\n",
       "      <td>moderate</td>\n",
       "      <td>Entire home/apt</td>\n",
       "      <td>2007</td>\n",
       "      <td>142.0</td>\n",
       "      <td>28.0</td>\n",
       "      <td>30</td>\n",
       "      <td>45.0</td>\n",
       "      <td>5/21/2022</td>\n",
       "      <td>0.38</td>\n",
       "      <td>4.0</td>\n",
       "      <td>2.0</td>\n",
       "      <td>228</td>\n",
       "      <td>Pet friendly but please confirm with me if the...</td>\n",
       "      <td>41662/AL</td>\n",
       "    </tr>\n",
       "    <tr>\n",
       "      <th>2</th>\n",
       "      <td>2</td>\n",
       "      <td>THE VILLAGE OF HARLEM....NEW YORK !</td>\n",
       "      <td>unconfirmed</td>\n",
       "      <td>Elise</td>\n",
       "      <td>Manhattan</td>\n",
       "      <td>Harlem</td>\n",
       "      <td>40.80902</td>\n",
       "      <td>-73.94190</td>\n",
       "      <td>True</td>\n",
       "      <td>flexible</td>\n",
       "      <td>Private room</td>\n",
       "      <td>2005</td>\n",
       "      <td>620.0</td>\n",
       "      <td>124.0</td>\n",
       "      <td>3</td>\n",
       "      <td>0.0</td>\n",
       "      <td>6/23/2019</td>\n",
       "      <td>0.74</td>\n",
       "      <td>5.0</td>\n",
       "      <td>1.0</td>\n",
       "      <td>352</td>\n",
       "      <td>I encourage you to use my kitchen, cooking and...</td>\n",
       "      <td>41662/AL</td>\n",
       "    </tr>\n",
       "    <tr>\n",
       "      <th>3</th>\n",
       "      <td>3</td>\n",
       "      <td>Home away from home</td>\n",
       "      <td>unconfirmed</td>\n",
       "      <td>Garry</td>\n",
       "      <td>Brooklyn</td>\n",
       "      <td>Clinton Hill</td>\n",
       "      <td>40.68514</td>\n",
       "      <td>-73.95976</td>\n",
       "      <td>True</td>\n",
       "      <td>moderate</td>\n",
       "      <td>Entire home/apt</td>\n",
       "      <td>2005</td>\n",
       "      <td>368.0</td>\n",
       "      <td>74.0</td>\n",
       "      <td>30</td>\n",
       "      <td>270.0</td>\n",
       "      <td>7/5/2019</td>\n",
       "      <td>4.64</td>\n",
       "      <td>4.0</td>\n",
       "      <td>1.0</td>\n",
       "      <td>322</td>\n",
       "      <td>#NAME?</td>\n",
       "      <td>41662/AL</td>\n",
       "    </tr>\n",
       "    <tr>\n",
       "      <th>4</th>\n",
       "      <td>4</td>\n",
       "      <td>Entire Apt: Spacious Studio/Loft by central park</td>\n",
       "      <td>verified</td>\n",
       "      <td>Lyndon</td>\n",
       "      <td>Manhattan</td>\n",
       "      <td>East Harlem</td>\n",
       "      <td>40.79851</td>\n",
       "      <td>-73.94399</td>\n",
       "      <td>False</td>\n",
       "      <td>moderate</td>\n",
       "      <td>Entire home/apt</td>\n",
       "      <td>2009</td>\n",
       "      <td>204.0</td>\n",
       "      <td>41.0</td>\n",
       "      <td>10</td>\n",
       "      <td>9.0</td>\n",
       "      <td>11/19/2018</td>\n",
       "      <td>0.10</td>\n",
       "      <td>3.0</td>\n",
       "      <td>1.0</td>\n",
       "      <td>289</td>\n",
       "      <td>Please no smoking in the house, porch or on th...</td>\n",
       "      <td>41662/AL</td>\n",
       "    </tr>\n",
       "    <tr>\n",
       "      <th>...</th>\n",
       "      <td>...</td>\n",
       "      <td>...</td>\n",
       "      <td>...</td>\n",
       "      <td>...</td>\n",
       "      <td>...</td>\n",
       "      <td>...</td>\n",
       "      <td>...</td>\n",
       "      <td>...</td>\n",
       "      <td>...</td>\n",
       "      <td>...</td>\n",
       "      <td>...</td>\n",
       "      <td>...</td>\n",
       "      <td>...</td>\n",
       "      <td>...</td>\n",
       "      <td>...</td>\n",
       "      <td>...</td>\n",
       "      <td>...</td>\n",
       "      <td>...</td>\n",
       "      <td>...</td>\n",
       "      <td>...</td>\n",
       "      <td>...</td>\n",
       "      <td>...</td>\n",
       "      <td>...</td>\n",
       "    </tr>\n",
       "    <tr>\n",
       "      <th>99133</th>\n",
       "      <td>102053</td>\n",
       "      <td>Cozy bright room near Prospect Park</td>\n",
       "      <td>unconfirmed</td>\n",
       "      <td>Mariam</td>\n",
       "      <td>Brooklyn</td>\n",
       "      <td>Flatbush</td>\n",
       "      <td>40.64945</td>\n",
       "      <td>-73.96108</td>\n",
       "      <td>True</td>\n",
       "      <td>moderate</td>\n",
       "      <td>Private room</td>\n",
       "      <td>2012</td>\n",
       "      <td>696.0</td>\n",
       "      <td>41.0</td>\n",
       "      <td>7</td>\n",
       "      <td>12.0</td>\n",
       "      <td>3/27/2019</td>\n",
       "      <td>0.44</td>\n",
       "      <td>5.0</td>\n",
       "      <td>1.0</td>\n",
       "      <td>0</td>\n",
       "      <td>Shoes off Clean After yourself Turn Lights and...</td>\n",
       "      <td>41662/AL</td>\n",
       "    </tr>\n",
       "    <tr>\n",
       "      <th>99134</th>\n",
       "      <td>102054</td>\n",
       "      <td>Private Bedroom with Amazing Rooftop View</td>\n",
       "      <td>verified</td>\n",
       "      <td>Trey</td>\n",
       "      <td>Brooklyn</td>\n",
       "      <td>Bushwick</td>\n",
       "      <td>40.69872</td>\n",
       "      <td>-73.92718</td>\n",
       "      <td>False</td>\n",
       "      <td>flexible</td>\n",
       "      <td>Private room</td>\n",
       "      <td>2012</td>\n",
       "      <td>909.0</td>\n",
       "      <td>41.0</td>\n",
       "      <td>1</td>\n",
       "      <td>19.0</td>\n",
       "      <td>8/31/2017</td>\n",
       "      <td>0.72</td>\n",
       "      <td>3.0</td>\n",
       "      <td>2.0</td>\n",
       "      <td>0</td>\n",
       "      <td>#NAME?</td>\n",
       "      <td>41662/AL</td>\n",
       "    </tr>\n",
       "    <tr>\n",
       "      <th>99135</th>\n",
       "      <td>102055</td>\n",
       "      <td>Pretty Brooklyn One-Bedroom for 2 to 4 people</td>\n",
       "      <td>verified</td>\n",
       "      <td>Michael</td>\n",
       "      <td>Brooklyn</td>\n",
       "      <td>Bedford-Stuyvesant</td>\n",
       "      <td>40.67810</td>\n",
       "      <td>-73.90822</td>\n",
       "      <td>True</td>\n",
       "      <td>moderate</td>\n",
       "      <td>Entire home/apt</td>\n",
       "      <td>2012</td>\n",
       "      <td>387.0</td>\n",
       "      <td>41.0</td>\n",
       "      <td>2</td>\n",
       "      <td>50.0</td>\n",
       "      <td>6/26/2019</td>\n",
       "      <td>3.12</td>\n",
       "      <td>4.0</td>\n",
       "      <td>2.0</td>\n",
       "      <td>235</td>\n",
       "      <td>* Check out: 10am * We made an effort to keep ...</td>\n",
       "      <td>41662/AL</td>\n",
       "    </tr>\n",
       "    <tr>\n",
       "      <th>99136</th>\n",
       "      <td>102056</td>\n",
       "      <td>Room &amp; private bathroom in historic Harlem</td>\n",
       "      <td>unconfirmed</td>\n",
       "      <td>Shireen</td>\n",
       "      <td>Manhattan</td>\n",
       "      <td>Harlem</td>\n",
       "      <td>40.81248</td>\n",
       "      <td>-73.94317</td>\n",
       "      <td>True</td>\n",
       "      <td>strict</td>\n",
       "      <td>Private room</td>\n",
       "      <td>2012</td>\n",
       "      <td>848.0</td>\n",
       "      <td>41.0</td>\n",
       "      <td>2</td>\n",
       "      <td>0.0</td>\n",
       "      <td>6/23/2019</td>\n",
       "      <td>0.74</td>\n",
       "      <td>1.0</td>\n",
       "      <td>1.0</td>\n",
       "      <td>0</td>\n",
       "      <td>Each of us is working and/or going to school a...</td>\n",
       "      <td>41662/AL</td>\n",
       "    </tr>\n",
       "    <tr>\n",
       "      <th>99137</th>\n",
       "      <td>102057</td>\n",
       "      <td>Rosalee Stewart</td>\n",
       "      <td>verified</td>\n",
       "      <td>Stanley</td>\n",
       "      <td>Manhattan</td>\n",
       "      <td>Harlem</td>\n",
       "      <td>40.81315</td>\n",
       "      <td>-73.94747</td>\n",
       "      <td>False</td>\n",
       "      <td>flexible</td>\n",
       "      <td>Entire home/apt</td>\n",
       "      <td>2011</td>\n",
       "      <td>1128.0</td>\n",
       "      <td>41.0</td>\n",
       "      <td>4</td>\n",
       "      <td>22.0</td>\n",
       "      <td>6/15/2019</td>\n",
       "      <td>0.85</td>\n",
       "      <td>4.0</td>\n",
       "      <td>1.0</td>\n",
       "      <td>238</td>\n",
       "      <td>Please remember that this is a residential bui...</td>\n",
       "      <td>41662/AL</td>\n",
       "    </tr>\n",
       "  </tbody>\n",
       "</table>\n",
       "<p>99138 rows × 23 columns</p>\n",
       "</div>"
      ],
      "text/plain": [
       "        index                                              name  \\\n",
       "0           0                Clean & quiet apt home by the park   \n",
       "1           1                             Skylit Midtown Castle   \n",
       "2           2               THE VILLAGE OF HARLEM....NEW YORK !   \n",
       "3           3                               Home away from home   \n",
       "4           4  Entire Apt: Spacious Studio/Loft by central park   \n",
       "...       ...                                               ...   \n",
       "99133  102053               Cozy bright room near Prospect Park   \n",
       "99134  102054         Private Bedroom with Amazing Rooftop View   \n",
       "99135  102055     Pretty Brooklyn One-Bedroom for 2 to 4 people   \n",
       "99136  102056        Room & private bathroom in historic Harlem   \n",
       "99137  102057                                   Rosalee Stewart   \n",
       "\n",
       "      host_identity_verified host_name neighbourhood_group  \\\n",
       "0                unconfirmed  Madaline            Brooklyn   \n",
       "1                   verified     Jenna           Manhattan   \n",
       "2                unconfirmed     Elise           Manhattan   \n",
       "3                unconfirmed     Garry            Brooklyn   \n",
       "4                   verified    Lyndon           Manhattan   \n",
       "...                      ...       ...                 ...   \n",
       "99133            unconfirmed    Mariam            Brooklyn   \n",
       "99134               verified      Trey            Brooklyn   \n",
       "99135               verified   Michael            Brooklyn   \n",
       "99136            unconfirmed   Shireen           Manhattan   \n",
       "99137               verified   Stanley           Manhattan   \n",
       "\n",
       "            neighbourhood       lat      long  instant_bookable  \\\n",
       "0              Kensington  40.64749 -73.97237             False   \n",
       "1                 Midtown  40.75362 -73.98377             False   \n",
       "2                  Harlem  40.80902 -73.94190              True   \n",
       "3            Clinton Hill  40.68514 -73.95976              True   \n",
       "4             East Harlem  40.79851 -73.94399             False   \n",
       "...                   ...       ...       ...               ...   \n",
       "99133            Flatbush  40.64945 -73.96108              True   \n",
       "99134            Bushwick  40.69872 -73.92718             False   \n",
       "99135  Bedford-Stuyvesant  40.67810 -73.90822              True   \n",
       "99136              Harlem  40.81248 -73.94317              True   \n",
       "99137              Harlem  40.81315 -73.94747             False   \n",
       "\n",
       "      cancellation_policy        room_type  construction_year   price  \\\n",
       "0                  strict     Private room               2020   966.0   \n",
       "1                moderate  Entire home/apt               2007   142.0   \n",
       "2                flexible     Private room               2005   620.0   \n",
       "3                moderate  Entire home/apt               2005   368.0   \n",
       "4                moderate  Entire home/apt               2009   204.0   \n",
       "...                   ...              ...                ...     ...   \n",
       "99133            moderate     Private room               2012   696.0   \n",
       "99134            flexible     Private room               2012   909.0   \n",
       "99135            moderate  Entire home/apt               2012   387.0   \n",
       "99136              strict     Private room               2012   848.0   \n",
       "99137            flexible  Entire home/apt               2011  1128.0   \n",
       "\n",
       "       service_fee  minimum_nights  number_of_reviews last_review  \\\n",
       "0            193.0              10                9.0  10/19/2021   \n",
       "1             28.0              30               45.0   5/21/2022   \n",
       "2            124.0               3                0.0   6/23/2019   \n",
       "3             74.0              30              270.0    7/5/2019   \n",
       "4             41.0              10                9.0  11/19/2018   \n",
       "...            ...             ...                ...         ...   \n",
       "99133         41.0               7               12.0   3/27/2019   \n",
       "99134         41.0               1               19.0   8/31/2017   \n",
       "99135         41.0               2               50.0   6/26/2019   \n",
       "99136         41.0               2                0.0   6/23/2019   \n",
       "99137         41.0               4               22.0   6/15/2019   \n",
       "\n",
       "       reviews_per_month  review_rate_number  calculated_host_listings_count  \\\n",
       "0                   0.21                 4.0                             6.0   \n",
       "1                   0.38                 4.0                             2.0   \n",
       "2                   0.74                 5.0                             1.0   \n",
       "3                   4.64                 4.0                             1.0   \n",
       "4                   0.10                 3.0                             1.0   \n",
       "...                  ...                 ...                             ...   \n",
       "99133               0.44                 5.0                             1.0   \n",
       "99134               0.72                 3.0                             2.0   \n",
       "99135               3.12                 4.0                             2.0   \n",
       "99136               0.74                 1.0                             1.0   \n",
       "99137               0.85                 4.0                             1.0   \n",
       "\n",
       "       days_booked                                        house_rules  \\\n",
       "0              286  Clean up and treat the home the way you'd like...   \n",
       "1              228  Pet friendly but please confirm with me if the...   \n",
       "2              352  I encourage you to use my kitchen, cooking and...   \n",
       "3              322                                             #NAME?   \n",
       "4              289  Please no smoking in the house, porch or on th...   \n",
       "...            ...                                                ...   \n",
       "99133            0  Shoes off Clean After yourself Turn Lights and...   \n",
       "99134            0                                             #NAME?   \n",
       "99135          235  * Check out: 10am * We made an effort to keep ...   \n",
       "99136            0  Each of us is working and/or going to school a...   \n",
       "99137          238  Please remember that this is a residential bui...   \n",
       "\n",
       "        license  \n",
       "0      41662/AL  \n",
       "1      41662/AL  \n",
       "2      41662/AL  \n",
       "3      41662/AL  \n",
       "4      41662/AL  \n",
       "...         ...  \n",
       "99133  41662/AL  \n",
       "99134  41662/AL  \n",
       "99135  41662/AL  \n",
       "99136  41662/AL  \n",
       "99137  41662/AL  \n",
       "\n",
       "[99138 rows x 23 columns]"
      ]
     },
     "execution_count": 55,
     "metadata": {},
     "output_type": "execute_result"
    }
   ],
   "source": [
    "airbnb.reset_index()"
   ]
  },
  {
   "cell_type": "code",
   "execution_count": 56,
   "id": "600ebbc5",
   "metadata": {
    "execution": {
     "iopub.execute_input": "2023-12-17T09:10:53.061377Z",
     "iopub.status.busy": "2023-12-17T09:10:53.060569Z",
     "iopub.status.idle": "2023-12-17T09:10:53.068533Z",
     "shell.execute_reply": "2023-12-17T09:10:53.067638Z"
    },
    "papermill": {
     "duration": 0.033332,
     "end_time": "2023-12-17T09:10:53.070239",
     "exception": false,
     "start_time": "2023-12-17T09:10:53.036907",
     "status": "completed"
    },
    "tags": []
   },
   "outputs": [
    {
     "data": {
      "text/html": [
       "<div>\n",
       "<style scoped>\n",
       "    .dataframe tbody tr th:only-of-type {\n",
       "        vertical-align: middle;\n",
       "    }\n",
       "\n",
       "    .dataframe tbody tr th {\n",
       "        vertical-align: top;\n",
       "    }\n",
       "\n",
       "    .dataframe thead th {\n",
       "        text-align: right;\n",
       "    }\n",
       "</style>\n",
       "<table border=\"1\" class=\"dataframe\">\n",
       "  <thead>\n",
       "    <tr style=\"text-align: right;\">\n",
       "      <th></th>\n",
       "      <th>mean_price</th>\n",
       "    </tr>\n",
       "    <tr>\n",
       "      <th>room_type</th>\n",
       "      <th></th>\n",
       "    </tr>\n",
       "  </thead>\n",
       "  <tbody>\n",
       "    <tr>\n",
       "      <th>Entire home/apt</th>\n",
       "      <td>624.227711</td>\n",
       "    </tr>\n",
       "    <tr>\n",
       "      <th>Hotel room</th>\n",
       "      <td>666.391304</td>\n",
       "    </tr>\n",
       "    <tr>\n",
       "      <th>Private room</th>\n",
       "      <td>623.842516</td>\n",
       "    </tr>\n",
       "    <tr>\n",
       "      <th>Shared room</th>\n",
       "      <td>630.912517</td>\n",
       "    </tr>\n",
       "  </tbody>\n",
       "</table>\n",
       "</div>"
      ],
      "text/plain": [
       "                 mean_price\n",
       "room_type                  \n",
       "Entire home/apt  624.227711\n",
       "Hotel room       666.391304\n",
       "Private room     623.842516\n",
       "Shared room      630.912517"
      ]
     },
     "execution_count": 56,
     "metadata": {},
     "output_type": "execute_result"
    }
   ],
   "source": [
    "airbnb_prices_by_room_type.head()"
   ]
  },
  {
   "cell_type": "code",
   "execution_count": 57,
   "id": "dcf5b895",
   "metadata": {
    "execution": {
     "iopub.execute_input": "2023-12-17T09:10:53.120184Z",
     "iopub.status.busy": "2023-12-17T09:10:53.119616Z",
     "iopub.status.idle": "2023-12-17T09:10:53.318404Z",
     "shell.execute_reply": "2023-12-17T09:10:53.317183Z"
    },
    "papermill": {
     "duration": 0.226843,
     "end_time": "2023-12-17T09:10:53.320703",
     "exception": false,
     "start_time": "2023-12-17T09:10:53.093860",
     "status": "completed"
    },
    "tags": []
   },
   "outputs": [
    {
     "data": {
      "image/png": "[encoded data removed]",
      "text/plain": [
       "<Figure size 640x480 with 1 Axes>"
      ]
     },
     "metadata": {},
     "output_type": "display_data"
    }
   ],
   "source": [
    "#  3. List the prices with respect to room type using a bar graph and also state your inferences.\n",
    "\n",
    "airbnb_prices_by_room_type.head().plot(kind='bar', color={'purple'})\n",
    "plt.xlabel('Room Type')\n",
    "plt.ylabel('Price $')\n",
    "plt.title('Price vs Room Type')\n",
    "plt.show()"
   ]
  },
  {
   "cell_type": "code",
   "execution_count": 58,
   "id": "e0271041",
   "metadata": {
    "execution": {
     "iopub.execute_input": "2023-12-17T09:10:53.368459Z",
     "iopub.status.busy": "2023-12-17T09:10:53.368110Z",
     "iopub.status.idle": "2023-12-17T09:10:53.384837Z",
     "shell.execute_reply": "2023-12-17T09:10:53.383747Z"
    },
    "papermill": {
     "duration": 0.04253,
     "end_time": "2023-12-17T09:10:53.386724",
     "exception": false,
     "start_time": "2023-12-17T09:10:53.344194",
     "status": "completed"
    },
    "tags": []
   },
   "outputs": [],
   "source": [
    "airbnb_prices_by_room_type = airbnb.groupby(['room_type']).agg(max_price=('price', 'max'))"
   ]
  },
  {
   "cell_type": "code",
   "execution_count": 59,
   "id": "f6bd98fc",
   "metadata": {
    "execution": {
     "iopub.execute_input": "2023-12-17T09:10:53.434119Z",
     "iopub.status.busy": "2023-12-17T09:10:53.433766Z",
     "iopub.status.idle": "2023-12-17T09:10:53.489379Z",
     "shell.execute_reply": "2023-12-17T09:10:53.488379Z"
    },
    "papermill": {
     "duration": 0.081266,
     "end_time": "2023-12-17T09:10:53.491255",
     "exception": false,
     "start_time": "2023-12-17T09:10:53.409989",
     "status": "completed"
    },
    "tags": []
   },
   "outputs": [
    {
     "data": {
      "text/html": [
       "<div>\n",
       "<style scoped>\n",
       "    .dataframe tbody tr th:only-of-type {\n",
       "        vertical-align: middle;\n",
       "    }\n",
       "\n",
       "    .dataframe tbody tr th {\n",
       "        vertical-align: top;\n",
       "    }\n",
       "\n",
       "    .dataframe thead th {\n",
       "        text-align: right;\n",
       "    }\n",
       "</style>\n",
       "<table border=\"1\" class=\"dataframe\">\n",
       "  <thead>\n",
       "    <tr style=\"text-align: right;\">\n",
       "      <th></th>\n",
       "      <th>index</th>\n",
       "      <th>name</th>\n",
       "      <th>host_identity_verified</th>\n",
       "      <th>host_name</th>\n",
       "      <th>neighbourhood_group</th>\n",
       "      <th>neighbourhood</th>\n",
       "      <th>lat</th>\n",
       "      <th>long</th>\n",
       "      <th>instant_bookable</th>\n",
       "      <th>cancellation_policy</th>\n",
       "      <th>room_type</th>\n",
       "      <th>construction_year</th>\n",
       "      <th>price</th>\n",
       "      <th>service_fee</th>\n",
       "      <th>minimum_nights</th>\n",
       "      <th>number_of_reviews</th>\n",
       "      <th>last_review</th>\n",
       "      <th>reviews_per_month</th>\n",
       "      <th>review_rate_number</th>\n",
       "      <th>calculated_host_listings_count</th>\n",
       "      <th>days_booked</th>\n",
       "      <th>house_rules</th>\n",
       "      <th>license</th>\n",
       "    </tr>\n",
       "  </thead>\n",
       "  <tbody>\n",
       "    <tr>\n",
       "      <th>0</th>\n",
       "      <td>0</td>\n",
       "      <td>Clean &amp; quiet apt home by the park</td>\n",
       "      <td>unconfirmed</td>\n",
       "      <td>Madaline</td>\n",
       "      <td>Brooklyn</td>\n",
       "      <td>Kensington</td>\n",
       "      <td>40.64749</td>\n",
       "      <td>-73.97237</td>\n",
       "      <td>False</td>\n",
       "      <td>strict</td>\n",
       "      <td>Private room</td>\n",
       "      <td>2020</td>\n",
       "      <td>966.0</td>\n",
       "      <td>193.0</td>\n",
       "      <td>10</td>\n",
       "      <td>9.0</td>\n",
       "      <td>10/19/2021</td>\n",
       "      <td>0.21</td>\n",
       "      <td>4.0</td>\n",
       "      <td>6.0</td>\n",
       "      <td>286</td>\n",
       "      <td>Clean up and treat the home the way you'd like...</td>\n",
       "      <td>41662/AL</td>\n",
       "    </tr>\n",
       "    <tr>\n",
       "      <th>1</th>\n",
       "      <td>1</td>\n",
       "      <td>Skylit Midtown Castle</td>\n",
       "      <td>verified</td>\n",
       "      <td>Jenna</td>\n",
       "      <td>Manhattan</td>\n",
       "      <td>Midtown</td>\n",
       "      <td>40.75362</td>\n",
       "      <td>-73.98377</td>\n",
       "      <td>False</td>\n",
       "      <td>moderate</td>\n",
       "      <td>Entire home/apt</td>\n",
       "      <td>2007</td>\n",
       "      <td>142.0</td>\n",
       "      <td>28.0</td>\n",
       "      <td>30</td>\n",
       "      <td>45.0</td>\n",
       "      <td>5/21/2022</td>\n",
       "      <td>0.38</td>\n",
       "      <td>4.0</td>\n",
       "      <td>2.0</td>\n",
       "      <td>228</td>\n",
       "      <td>Pet friendly but please confirm with me if the...</td>\n",
       "      <td>41662/AL</td>\n",
       "    </tr>\n",
       "    <tr>\n",
       "      <th>2</th>\n",
       "      <td>2</td>\n",
       "      <td>THE VILLAGE OF HARLEM....NEW YORK !</td>\n",
       "      <td>unconfirmed</td>\n",
       "      <td>Elise</td>\n",
       "      <td>Manhattan</td>\n",
       "      <td>Harlem</td>\n",
       "      <td>40.80902</td>\n",
       "      <td>-73.94190</td>\n",
       "      <td>True</td>\n",
       "      <td>flexible</td>\n",
       "      <td>Private room</td>\n",
       "      <td>2005</td>\n",
       "      <td>620.0</td>\n",
       "      <td>124.0</td>\n",
       "      <td>3</td>\n",
       "      <td>0.0</td>\n",
       "      <td>6/23/2019</td>\n",
       "      <td>0.74</td>\n",
       "      <td>5.0</td>\n",
       "      <td>1.0</td>\n",
       "      <td>352</td>\n",
       "      <td>I encourage you to use my kitchen, cooking and...</td>\n",
       "      <td>41662/AL</td>\n",
       "    </tr>\n",
       "    <tr>\n",
       "      <th>3</th>\n",
       "      <td>3</td>\n",
       "      <td>Home away from home</td>\n",
       "      <td>unconfirmed</td>\n",
       "      <td>Garry</td>\n",
       "      <td>Brooklyn</td>\n",
       "      <td>Clinton Hill</td>\n",
       "      <td>40.68514</td>\n",
       "      <td>-73.95976</td>\n",
       "      <td>True</td>\n",
       "      <td>moderate</td>\n",
       "      <td>Entire home/apt</td>\n",
       "      <td>2005</td>\n",
       "      <td>368.0</td>\n",
       "      <td>74.0</td>\n",
       "      <td>30</td>\n",
       "      <td>270.0</td>\n",
       "      <td>7/5/2019</td>\n",
       "      <td>4.64</td>\n",
       "      <td>4.0</td>\n",
       "      <td>1.0</td>\n",
       "      <td>322</td>\n",
       "      <td>#NAME?</td>\n",
       "      <td>41662/AL</td>\n",
       "    </tr>\n",
       "    <tr>\n",
       "      <th>4</th>\n",
       "      <td>4</td>\n",
       "      <td>Entire Apt: Spacious Studio/Loft by central park</td>\n",
       "      <td>verified</td>\n",
       "      <td>Lyndon</td>\n",
       "      <td>Manhattan</td>\n",
       "      <td>East Harlem</td>\n",
       "      <td>40.79851</td>\n",
       "      <td>-73.94399</td>\n",
       "      <td>False</td>\n",
       "      <td>moderate</td>\n",
       "      <td>Entire home/apt</td>\n",
       "      <td>2009</td>\n",
       "      <td>204.0</td>\n",
       "      <td>41.0</td>\n",
       "      <td>10</td>\n",
       "      <td>9.0</td>\n",
       "      <td>11/19/2018</td>\n",
       "      <td>0.10</td>\n",
       "      <td>3.0</td>\n",
       "      <td>1.0</td>\n",
       "      <td>289</td>\n",
       "      <td>Please no smoking in the house, porch or on th...</td>\n",
       "      <td>41662/AL</td>\n",
       "    </tr>\n",
       "    <tr>\n",
       "      <th>...</th>\n",
       "      <td>...</td>\n",
       "      <td>...</td>\n",
       "      <td>...</td>\n",
       "      <td>...</td>\n",
       "      <td>...</td>\n",
       "      <td>...</td>\n",
       "      <td>...</td>\n",
       "      <td>...</td>\n",
       "      <td>...</td>\n",
       "      <td>...</td>\n",
       "      <td>...</td>\n",
       "      <td>...</td>\n",
       "      <td>...</td>\n",
       "      <td>...</td>\n",
       "      <td>...</td>\n",
       "      <td>...</td>\n",
       "      <td>...</td>\n",
       "      <td>...</td>\n",
       "      <td>...</td>\n",
       "      <td>...</td>\n",
       "      <td>...</td>\n",
       "      <td>...</td>\n",
       "      <td>...</td>\n",
       "    </tr>\n",
       "    <tr>\n",
       "      <th>99133</th>\n",
       "      <td>102053</td>\n",
       "      <td>Cozy bright room near Prospect Park</td>\n",
       "      <td>unconfirmed</td>\n",
       "      <td>Mariam</td>\n",
       "      <td>Brooklyn</td>\n",
       "      <td>Flatbush</td>\n",
       "      <td>40.64945</td>\n",
       "      <td>-73.96108</td>\n",
       "      <td>True</td>\n",
       "      <td>moderate</td>\n",
       "      <td>Private room</td>\n",
       "      <td>2012</td>\n",
       "      <td>696.0</td>\n",
       "      <td>41.0</td>\n",
       "      <td>7</td>\n",
       "      <td>12.0</td>\n",
       "      <td>3/27/2019</td>\n",
       "      <td>0.44</td>\n",
       "      <td>5.0</td>\n",
       "      <td>1.0</td>\n",
       "      <td>0</td>\n",
       "      <td>Shoes off Clean After yourself Turn Lights and...</td>\n",
       "      <td>41662/AL</td>\n",
       "    </tr>\n",
       "    <tr>\n",
       "      <th>99134</th>\n",
       "      <td>102054</td>\n",
       "      <td>Private Bedroom with Amazing Rooftop View</td>\n",
       "      <td>verified</td>\n",
       "      <td>Trey</td>\n",
       "      <td>Brooklyn</td>\n",
       "      <td>Bushwick</td>\n",
       "      <td>40.69872</td>\n",
       "      <td>-73.92718</td>\n",
       "      <td>False</td>\n",
       "      <td>flexible</td>\n",
       "      <td>Private room</td>\n",
       "      <td>2012</td>\n",
       "      <td>909.0</td>\n",
       "      <td>41.0</td>\n",
       "      <td>1</td>\n",
       "      <td>19.0</td>\n",
       "      <td>8/31/2017</td>\n",
       "      <td>0.72</td>\n",
       "      <td>3.0</td>\n",
       "      <td>2.0</td>\n",
       "      <td>0</td>\n",
       "      <td>#NAME?</td>\n",
       "      <td>41662/AL</td>\n",
       "    </tr>\n",
       "    <tr>\n",
       "      <th>99135</th>\n",
       "      <td>102055</td>\n",
       "      <td>Pretty Brooklyn One-Bedroom for 2 to 4 people</td>\n",
       "      <td>verified</td>\n",
       "      <td>Michael</td>\n",
       "      <td>Brooklyn</td>\n",
       "      <td>Bedford-Stuyvesant</td>\n",
       "      <td>40.67810</td>\n",
       "      <td>-73.90822</td>\n",
       "      <td>True</td>\n",
       "      <td>moderate</td>\n",
       "      <td>Entire home/apt</td>\n",
       "      <td>2012</td>\n",
       "      <td>387.0</td>\n",
       "      <td>41.0</td>\n",
       "      <td>2</td>\n",
       "      <td>50.0</td>\n",
       "      <td>6/26/2019</td>\n",
       "      <td>3.12</td>\n",
       "      <td>4.0</td>\n",
       "      <td>2.0</td>\n",
       "      <td>235</td>\n",
       "      <td>* Check out: 10am * We made an effort to keep ...</td>\n",
       "      <td>41662/AL</td>\n",
       "    </tr>\n",
       "    <tr>\n",
       "      <th>99136</th>\n",
       "      <td>102056</td>\n",
       "      <td>Room &amp; private bathroom in historic Harlem</td>\n",
       "      <td>unconfirmed</td>\n",
       "      <td>Shireen</td>\n",
       "      <td>Manhattan</td>\n",
       "      <td>Harlem</td>\n",
       "      <td>40.81248</td>\n",
       "      <td>-73.94317</td>\n",
       "      <td>True</td>\n",
       "      <td>strict</td>\n",
       "      <td>Private room</td>\n",
       "      <td>2012</td>\n",
       "      <td>848.0</td>\n",
       "      <td>41.0</td>\n",
       "      <td>2</td>\n",
       "      <td>0.0</td>\n",
       "      <td>6/23/2019</td>\n",
       "      <td>0.74</td>\n",
       "      <td>1.0</td>\n",
       "      <td>1.0</td>\n",
       "      <td>0</td>\n",
       "      <td>Each of us is working and/or going to school a...</td>\n",
       "      <td>41662/AL</td>\n",
       "    </tr>\n",
       "    <tr>\n",
       "      <th>99137</th>\n",
       "      <td>102057</td>\n",
       "      <td>Rosalee Stewart</td>\n",
       "      <td>verified</td>\n",
       "      <td>Stanley</td>\n",
       "      <td>Manhattan</td>\n",
       "      <td>Harlem</td>\n",
       "      <td>40.81315</td>\n",
       "      <td>-73.94747</td>\n",
       "      <td>False</td>\n",
       "      <td>flexible</td>\n",
       "      <td>Entire home/apt</td>\n",
       "      <td>2011</td>\n",
       "      <td>1128.0</td>\n",
       "      <td>41.0</td>\n",
       "      <td>4</td>\n",
       "      <td>22.0</td>\n",
       "      <td>6/15/2019</td>\n",
       "      <td>0.85</td>\n",
       "      <td>4.0</td>\n",
       "      <td>1.0</td>\n",
       "      <td>238</td>\n",
       "      <td>Please remember that this is a residential bui...</td>\n",
       "      <td>41662/AL</td>\n",
       "    </tr>\n",
       "  </tbody>\n",
       "</table>\n",
       "<p>99138 rows × 23 columns</p>\n",
       "</div>"
      ],
      "text/plain": [
       "        index                                              name  \\\n",
       "0           0                Clean & quiet apt home by the park   \n",
       "1           1                             Skylit Midtown Castle   \n",
       "2           2               THE VILLAGE OF HARLEM....NEW YORK !   \n",
       "3           3                               Home away from home   \n",
       "4           4  Entire Apt: Spacious Studio/Loft by central park   \n",
       "...       ...                                               ...   \n",
       "99133  102053               Cozy bright room near Prospect Park   \n",
       "99134  102054         Private Bedroom with Amazing Rooftop View   \n",
       "99135  102055     Pretty Brooklyn One-Bedroom for 2 to 4 people   \n",
       "99136  102056        Room & private bathroom in historic Harlem   \n",
       "99137  102057                                   Rosalee Stewart   \n",
       "\n",
       "      host_identity_verified host_name neighbourhood_group  \\\n",
       "0                unconfirmed  Madaline            Brooklyn   \n",
       "1                   verified     Jenna           Manhattan   \n",
       "2                unconfirmed     Elise           Manhattan   \n",
       "3                unconfirmed     Garry            Brooklyn   \n",
       "4                   verified    Lyndon           Manhattan   \n",
       "...                      ...       ...                 ...   \n",
       "99133            unconfirmed    Mariam            Brooklyn   \n",
       "99134               verified      Trey            Brooklyn   \n",
       "99135               verified   Michael            Brooklyn   \n",
       "99136            unconfirmed   Shireen           Manhattan   \n",
       "99137               verified   Stanley           Manhattan   \n",
       "\n",
       "            neighbourhood       lat      long  instant_bookable  \\\n",
       "0              Kensington  40.64749 -73.97237             False   \n",
       "1                 Midtown  40.75362 -73.98377             False   \n",
       "2                  Harlem  40.80902 -73.94190              True   \n",
       "3            Clinton Hill  40.68514 -73.95976              True   \n",
       "4             East Harlem  40.79851 -73.94399             False   \n",
       "...                   ...       ...       ...               ...   \n",
       "99133            Flatbush  40.64945 -73.96108              True   \n",
       "99134            Bushwick  40.69872 -73.92718             False   \n",
       "99135  Bedford-Stuyvesant  40.67810 -73.90822              True   \n",
       "99136              Harlem  40.81248 -73.94317              True   \n",
       "99137              Harlem  40.81315 -73.94747             False   \n",
       "\n",
       "      cancellation_policy        room_type  construction_year   price  \\\n",
       "0                  strict     Private room               2020   966.0   \n",
       "1                moderate  Entire home/apt               2007   142.0   \n",
       "2                flexible     Private room               2005   620.0   \n",
       "3                moderate  Entire home/apt               2005   368.0   \n",
       "4                moderate  Entire home/apt               2009   204.0   \n",
       "...                   ...              ...                ...     ...   \n",
       "99133            moderate     Private room               2012   696.0   \n",
       "99134            flexible     Private room               2012   909.0   \n",
       "99135            moderate  Entire home/apt               2012   387.0   \n",
       "99136              strict     Private room               2012   848.0   \n",
       "99137            flexible  Entire home/apt               2011  1128.0   \n",
       "\n",
       "       service_fee  minimum_nights  number_of_reviews last_review  \\\n",
       "0            193.0              10                9.0  10/19/2021   \n",
       "1             28.0              30               45.0   5/21/2022   \n",
       "2            124.0               3                0.0   6/23/2019   \n",
       "3             74.0              30              270.0    7/5/2019   \n",
       "4             41.0              10                9.0  11/19/2018   \n",
       "...            ...             ...                ...         ...   \n",
       "99133         41.0               7               12.0   3/27/2019   \n",
       "99134         41.0               1               19.0   8/31/2017   \n",
       "99135         41.0               2               50.0   6/26/2019   \n",
       "99136         41.0               2                0.0   6/23/2019   \n",
       "99137         41.0               4               22.0   6/15/2019   \n",
       "\n",
       "       reviews_per_month  review_rate_number  calculated_host_listings_count  \\\n",
       "0                   0.21                 4.0                             6.0   \n",
       "1                   0.38                 4.0                             2.0   \n",
       "2                   0.74                 5.0                             1.0   \n",
       "3                   4.64                 4.0                             1.0   \n",
       "4                   0.10                 3.0                             1.0   \n",
       "...                  ...                 ...                             ...   \n",
       "99133               0.44                 5.0                             1.0   \n",
       "99134               0.72                 3.0                             2.0   \n",
       "99135               3.12                 4.0                             2.0   \n",
       "99136               0.74                 1.0                             1.0   \n",
       "99137               0.85                 4.0                             1.0   \n",
       "\n",
       "       days_booked                                        house_rules  \\\n",
       "0              286  Clean up and treat the home the way you'd like...   \n",
       "1              228  Pet friendly but please confirm with me if the...   \n",
       "2              352  I encourage you to use my kitchen, cooking and...   \n",
       "3              322                                             #NAME?   \n",
       "4              289  Please no smoking in the house, porch or on th...   \n",
       "...            ...                                                ...   \n",
       "99133            0  Shoes off Clean After yourself Turn Lights and...   \n",
       "99134            0                                             #NAME?   \n",
       "99135          235  * Check out: 10am * We made an effort to keep ...   \n",
       "99136            0  Each of us is working and/or going to school a...   \n",
       "99137          238  Please remember that this is a residential bui...   \n",
       "\n",
       "        license  \n",
       "0      41662/AL  \n",
       "1      41662/AL  \n",
       "2      41662/AL  \n",
       "3      41662/AL  \n",
       "4      41662/AL  \n",
       "...         ...  \n",
       "99133  41662/AL  \n",
       "99134  41662/AL  \n",
       "99135  41662/AL  \n",
       "99136  41662/AL  \n",
       "99137  41662/AL  \n",
       "\n",
       "[99138 rows x 23 columns]"
      ]
     },
     "execution_count": 59,
     "metadata": {},
     "output_type": "execute_result"
    }
   ],
   "source": [
    "airbnb.reset_index()"
   ]
  },
  {
   "cell_type": "code",
   "execution_count": 60,
   "id": "92b622b2",
   "metadata": {
    "execution": {
     "iopub.execute_input": "2023-12-17T09:10:53.539827Z",
     "iopub.status.busy": "2023-12-17T09:10:53.539511Z",
     "iopub.status.idle": "2023-12-17T09:10:53.547460Z",
     "shell.execute_reply": "2023-12-17T09:10:53.546565Z"
    },
    "papermill": {
     "duration": 0.034074,
     "end_time": "2023-12-17T09:10:53.549210",
     "exception": false,
     "start_time": "2023-12-17T09:10:53.515136",
     "status": "completed"
    },
    "tags": []
   },
   "outputs": [
    {
     "data": {
      "text/html": [
       "<div>\n",
       "<style scoped>\n",
       "    .dataframe tbody tr th:only-of-type {\n",
       "        vertical-align: middle;\n",
       "    }\n",
       "\n",
       "    .dataframe tbody tr th {\n",
       "        vertical-align: top;\n",
       "    }\n",
       "\n",
       "    .dataframe thead th {\n",
       "        text-align: right;\n",
       "    }\n",
       "</style>\n",
       "<table border=\"1\" class=\"dataframe\">\n",
       "  <thead>\n",
       "    <tr style=\"text-align: right;\">\n",
       "      <th></th>\n",
       "      <th>max_price</th>\n",
       "    </tr>\n",
       "    <tr>\n",
       "      <th>room_type</th>\n",
       "      <th></th>\n",
       "    </tr>\n",
       "  </thead>\n",
       "  <tbody>\n",
       "    <tr>\n",
       "      <th>Entire home/apt</th>\n",
       "      <td>1200.0</td>\n",
       "    </tr>\n",
       "    <tr>\n",
       "      <th>Hotel room</th>\n",
       "      <td>1193.0</td>\n",
       "    </tr>\n",
       "    <tr>\n",
       "      <th>Private room</th>\n",
       "      <td>1200.0</td>\n",
       "    </tr>\n",
       "    <tr>\n",
       "      <th>Shared room</th>\n",
       "      <td>1199.0</td>\n",
       "    </tr>\n",
       "  </tbody>\n",
       "</table>\n",
       "</div>"
      ],
      "text/plain": [
       "                 max_price\n",
       "room_type                 \n",
       "Entire home/apt     1200.0\n",
       "Hotel room          1193.0\n",
       "Private room        1200.0\n",
       "Shared room         1199.0"
      ]
     },
     "execution_count": 60,
     "metadata": {},
     "output_type": "execute_result"
    }
   ],
   "source": [
    "airbnb_prices_by_room_type.head()"
   ]
  },
  {
   "cell_type": "code",
   "execution_count": 61,
   "id": "32ea8088",
   "metadata": {
    "execution": {
     "iopub.execute_input": "2023-12-17T09:10:53.599066Z",
     "iopub.status.busy": "2023-12-17T09:10:53.598746Z",
     "iopub.status.idle": "2023-12-17T09:10:53.801972Z",
     "shell.execute_reply": "2023-12-17T09:10:53.800994Z"
    },
    "papermill": {
     "duration": 0.230192,
     "end_time": "2023-12-17T09:10:53.803960",
     "exception": false,
     "start_time": "2023-12-17T09:10:53.573768",
     "status": "completed"
    },
    "tags": []
   },
   "outputs": [
    {
     "data": {
      "image/png": "[encoded data removed]",
      "text/plain": [
       "<Figure size 640x480 with 1 Axes>"
      ]
     },
     "metadata": {},
     "output_type": "display_data"
    }
   ],
   "source": [
    "airbnb_prices_by_room_type.head().plot(kind='bar', color={'red'})\n",
    "plt.xlabel('Room Type')\n",
    "plt.ylabel('Price $')\n",
    "plt.title('Price vs Room Type')\n",
    "plt.show()"
   ]
  },
  {
   "cell_type": "code",
   "execution_count": 62,
   "id": "a594bb94",
   "metadata": {
    "execution": {
     "iopub.execute_input": "2023-12-17T09:10:53.854843Z",
     "iopub.status.busy": "2023-12-17T09:10:53.854529Z",
     "iopub.status.idle": "2023-12-17T09:10:53.870764Z",
     "shell.execute_reply": "2023-12-17T09:10:53.869848Z"
    },
    "papermill": {
     "duration": 0.044333,
     "end_time": "2023-12-17T09:10:53.872904",
     "exception": false,
     "start_time": "2023-12-17T09:10:53.828571",
     "status": "completed"
    },
    "tags": []
   },
   "outputs": [],
   "source": [
    "airbnb_prices_by_room_type = airbnb.groupby(['room_type']).agg(min_price=('price', 'min'))"
   ]
  },
  {
   "cell_type": "code",
   "execution_count": 63,
   "id": "6ff263c3",
   "metadata": {
    "execution": {
     "iopub.execute_input": "2023-12-17T09:10:53.924735Z",
     "iopub.status.busy": "2023-12-17T09:10:53.924394Z",
     "iopub.status.idle": "2023-12-17T09:10:53.980677Z",
     "shell.execute_reply": "2023-12-17T09:10:53.979815Z"
    },
    "papermill": {
     "duration": 0.084508,
     "end_time": "2023-12-17T09:10:53.982555",
     "exception": false,
     "start_time": "2023-12-17T09:10:53.898047",
     "status": "completed"
    },
    "tags": []
   },
   "outputs": [
    {
     "data": {
      "text/html": [
       "<div>\n",
       "<style scoped>\n",
       "    .dataframe tbody tr th:only-of-type {\n",
       "        vertical-align: middle;\n",
       "    }\n",
       "\n",
       "    .dataframe tbody tr th {\n",
       "        vertical-align: top;\n",
       "    }\n",
       "\n",
       "    .dataframe thead th {\n",
       "        text-align: right;\n",
       "    }\n",
       "</style>\n",
       "<table border=\"1\" class=\"dataframe\">\n",
       "  <thead>\n",
       "    <tr style=\"text-align: right;\">\n",
       "      <th></th>\n",
       "      <th>index</th>\n",
       "      <th>name</th>\n",
       "      <th>host_identity_verified</th>\n",
       "      <th>host_name</th>\n",
       "      <th>neighbourhood_group</th>\n",
       "      <th>neighbourhood</th>\n",
       "      <th>lat</th>\n",
       "      <th>long</th>\n",
       "      <th>instant_bookable</th>\n",
       "      <th>cancellation_policy</th>\n",
       "      <th>room_type</th>\n",
       "      <th>construction_year</th>\n",
       "      <th>price</th>\n",
       "      <th>service_fee</th>\n",
       "      <th>minimum_nights</th>\n",
       "      <th>number_of_reviews</th>\n",
       "      <th>last_review</th>\n",
       "      <th>reviews_per_month</th>\n",
       "      <th>review_rate_number</th>\n",
       "      <th>calculated_host_listings_count</th>\n",
       "      <th>days_booked</th>\n",
       "      <th>house_rules</th>\n",
       "      <th>license</th>\n",
       "    </tr>\n",
       "  </thead>\n",
       "  <tbody>\n",
       "    <tr>\n",
       "      <th>0</th>\n",
       "      <td>0</td>\n",
       "      <td>Clean &amp; quiet apt home by the park</td>\n",
       "      <td>unconfirmed</td>\n",
       "      <td>Madaline</td>\n",
       "      <td>Brooklyn</td>\n",
       "      <td>Kensington</td>\n",
       "      <td>40.64749</td>\n",
       "      <td>-73.97237</td>\n",
       "      <td>False</td>\n",
       "      <td>strict</td>\n",
       "      <td>Private room</td>\n",
       "      <td>2020</td>\n",
       "      <td>966.0</td>\n",
       "      <td>193.0</td>\n",
       "      <td>10</td>\n",
       "      <td>9.0</td>\n",
       "      <td>10/19/2021</td>\n",
       "      <td>0.21</td>\n",
       "      <td>4.0</td>\n",
       "      <td>6.0</td>\n",
       "      <td>286</td>\n",
       "      <td>Clean up and treat the home the way you'd like...</td>\n",
       "      <td>41662/AL</td>\n",
       "    </tr>\n",
       "    <tr>\n",
       "      <th>1</th>\n",
       "      <td>1</td>\n",
       "      <td>Skylit Midtown Castle</td>\n",
       "      <td>verified</td>\n",
       "      <td>Jenna</td>\n",
       "      <td>Manhattan</td>\n",
       "      <td>Midtown</td>\n",
       "      <td>40.75362</td>\n",
       "      <td>-73.98377</td>\n",
       "      <td>False</td>\n",
       "      <td>moderate</td>\n",
       "      <td>Entire home/apt</td>\n",
       "      <td>2007</td>\n",
       "      <td>142.0</td>\n",
       "      <td>28.0</td>\n",
       "      <td>30</td>\n",
       "      <td>45.0</td>\n",
       "      <td>5/21/2022</td>\n",
       "      <td>0.38</td>\n",
       "      <td>4.0</td>\n",
       "      <td>2.0</td>\n",
       "      <td>228</td>\n",
       "      <td>Pet friendly but please confirm with me if the...</td>\n",
       "      <td>41662/AL</td>\n",
       "    </tr>\n",
       "    <tr>\n",
       "      <th>2</th>\n",
       "      <td>2</td>\n",
       "      <td>THE VILLAGE OF HARLEM....NEW YORK !</td>\n",
       "      <td>unconfirmed</td>\n",
       "      <td>Elise</td>\n",
       "      <td>Manhattan</td>\n",
       "      <td>Harlem</td>\n",
       "      <td>40.80902</td>\n",
       "      <td>-73.94190</td>\n",
       "      <td>True</td>\n",
       "      <td>flexible</td>\n",
       "      <td>Private room</td>\n",
       "      <td>2005</td>\n",
       "      <td>620.0</td>\n",
       "      <td>124.0</td>\n",
       "      <td>3</td>\n",
       "      <td>0.0</td>\n",
       "      <td>6/23/2019</td>\n",
       "      <td>0.74</td>\n",
       "      <td>5.0</td>\n",
       "      <td>1.0</td>\n",
       "      <td>352</td>\n",
       "      <td>I encourage you to use my kitchen, cooking and...</td>\n",
       "      <td>41662/AL</td>\n",
       "    </tr>\n",
       "    <tr>\n",
       "      <th>3</th>\n",
       "      <td>3</td>\n",
       "      <td>Home away from home</td>\n",
       "      <td>unconfirmed</td>\n",
       "      <td>Garry</td>\n",
       "      <td>Brooklyn</td>\n",
       "      <td>Clinton Hill</td>\n",
       "      <td>40.68514</td>\n",
       "      <td>-73.95976</td>\n",
       "      <td>True</td>\n",
       "      <td>moderate</td>\n",
       "      <td>Entire home/apt</td>\n",
       "      <td>2005</td>\n",
       "      <td>368.0</td>\n",
       "      <td>74.0</td>\n",
       "      <td>30</td>\n",
       "      <td>270.0</td>\n",
       "      <td>7/5/2019</td>\n",
       "      <td>4.64</td>\n",
       "      <td>4.0</td>\n",
       "      <td>1.0</td>\n",
       "      <td>322</td>\n",
       "      <td>#NAME?</td>\n",
       "      <td>41662/AL</td>\n",
       "    </tr>\n",
       "    <tr>\n",
       "      <th>4</th>\n",
       "      <td>4</td>\n",
       "      <td>Entire Apt: Spacious Studio/Loft by central park</td>\n",
       "      <td>verified</td>\n",
       "      <td>Lyndon</td>\n",
       "      <td>Manhattan</td>\n",
       "      <td>East Harlem</td>\n",
       "      <td>40.79851</td>\n",
       "      <td>-73.94399</td>\n",
       "      <td>False</td>\n",
       "      <td>moderate</td>\n",
       "      <td>Entire home/apt</td>\n",
       "      <td>2009</td>\n",
       "      <td>204.0</td>\n",
       "      <td>41.0</td>\n",
       "      <td>10</td>\n",
       "      <td>9.0</td>\n",
       "      <td>11/19/2018</td>\n",
       "      <td>0.10</td>\n",
       "      <td>3.0</td>\n",
       "      <td>1.0</td>\n",
       "      <td>289</td>\n",
       "      <td>Please no smoking in the house, porch or on th...</td>\n",
       "      <td>41662/AL</td>\n",
       "    </tr>\n",
       "    <tr>\n",
       "      <th>...</th>\n",
       "      <td>...</td>\n",
       "      <td>...</td>\n",
       "      <td>...</td>\n",
       "      <td>...</td>\n",
       "      <td>...</td>\n",
       "      <td>...</td>\n",
       "      <td>...</td>\n",
       "      <td>...</td>\n",
       "      <td>...</td>\n",
       "      <td>...</td>\n",
       "      <td>...</td>\n",
       "      <td>...</td>\n",
       "      <td>...</td>\n",
       "      <td>...</td>\n",
       "      <td>...</td>\n",
       "      <td>...</td>\n",
       "      <td>...</td>\n",
       "      <td>...</td>\n",
       "      <td>...</td>\n",
       "      <td>...</td>\n",
       "      <td>...</td>\n",
       "      <td>...</td>\n",
       "      <td>...</td>\n",
       "    </tr>\n",
       "    <tr>\n",
       "      <th>99133</th>\n",
       "      <td>102053</td>\n",
       "      <td>Cozy bright room near Prospect Park</td>\n",
       "      <td>unconfirmed</td>\n",
       "      <td>Mariam</td>\n",
       "      <td>Brooklyn</td>\n",
       "      <td>Flatbush</td>\n",
       "      <td>40.64945</td>\n",
       "      <td>-73.96108</td>\n",
       "      <td>True</td>\n",
       "      <td>moderate</td>\n",
       "      <td>Private room</td>\n",
       "      <td>2012</td>\n",
       "      <td>696.0</td>\n",
       "      <td>41.0</td>\n",
       "      <td>7</td>\n",
       "      <td>12.0</td>\n",
       "      <td>3/27/2019</td>\n",
       "      <td>0.44</td>\n",
       "      <td>5.0</td>\n",
       "      <td>1.0</td>\n",
       "      <td>0</td>\n",
       "      <td>Shoes off Clean After yourself Turn Lights and...</td>\n",
       "      <td>41662/AL</td>\n",
       "    </tr>\n",
       "    <tr>\n",
       "      <th>99134</th>\n",
       "      <td>102054</td>\n",
       "      <td>Private Bedroom with Amazing Rooftop View</td>\n",
       "      <td>verified</td>\n",
       "      <td>Trey</td>\n",
       "      <td>Brooklyn</td>\n",
       "      <td>Bushwick</td>\n",
       "      <td>40.69872</td>\n",
       "      <td>-73.92718</td>\n",
       "      <td>False</td>\n",
       "      <td>flexible</td>\n",
       "      <td>Private room</td>\n",
       "      <td>2012</td>\n",
       "      <td>909.0</td>\n",
       "      <td>41.0</td>\n",
       "      <td>1</td>\n",
       "      <td>19.0</td>\n",
       "      <td>8/31/2017</td>\n",
       "      <td>0.72</td>\n",
       "      <td>3.0</td>\n",
       "      <td>2.0</td>\n",
       "      <td>0</td>\n",
       "      <td>#NAME?</td>\n",
       "      <td>41662/AL</td>\n",
       "    </tr>\n",
       "    <tr>\n",
       "      <th>99135</th>\n",
       "      <td>102055</td>\n",
       "      <td>Pretty Brooklyn One-Bedroom for 2 to 4 people</td>\n",
       "      <td>verified</td>\n",
       "      <td>Michael</td>\n",
       "      <td>Brooklyn</td>\n",
       "      <td>Bedford-Stuyvesant</td>\n",
       "      <td>40.67810</td>\n",
       "      <td>-73.90822</td>\n",
       "      <td>True</td>\n",
       "      <td>moderate</td>\n",
       "      <td>Entire home/apt</td>\n",
       "      <td>2012</td>\n",
       "      <td>387.0</td>\n",
       "      <td>41.0</td>\n",
       "      <td>2</td>\n",
       "      <td>50.0</td>\n",
       "      <td>6/26/2019</td>\n",
       "      <td>3.12</td>\n",
       "      <td>4.0</td>\n",
       "      <td>2.0</td>\n",
       "      <td>235</td>\n",
       "      <td>* Check out: 10am * We made an effort to keep ...</td>\n",
       "      <td>41662/AL</td>\n",
       "    </tr>\n",
       "    <tr>\n",
       "      <th>99136</th>\n",
       "      <td>102056</td>\n",
       "      <td>Room &amp; private bathroom in historic Harlem</td>\n",
       "      <td>unconfirmed</td>\n",
       "      <td>Shireen</td>\n",
       "      <td>Manhattan</td>\n",
       "      <td>Harlem</td>\n",
       "      <td>40.81248</td>\n",
       "      <td>-73.94317</td>\n",
       "      <td>True</td>\n",
       "      <td>strict</td>\n",
       "      <td>Private room</td>\n",
       "      <td>2012</td>\n",
       "      <td>848.0</td>\n",
       "      <td>41.0</td>\n",
       "      <td>2</td>\n",
       "      <td>0.0</td>\n",
       "      <td>6/23/2019</td>\n",
       "      <td>0.74</td>\n",
       "      <td>1.0</td>\n",
       "      <td>1.0</td>\n",
       "      <td>0</td>\n",
       "      <td>Each of us is working and/or going to school a...</td>\n",
       "      <td>41662/AL</td>\n",
       "    </tr>\n",
       "    <tr>\n",
       "      <th>99137</th>\n",
       "      <td>102057</td>\n",
       "      <td>Rosalee Stewart</td>\n",
       "      <td>verified</td>\n",
       "      <td>Stanley</td>\n",
       "      <td>Manhattan</td>\n",
       "      <td>Harlem</td>\n",
       "      <td>40.81315</td>\n",
       "      <td>-73.94747</td>\n",
       "      <td>False</td>\n",
       "      <td>flexible</td>\n",
       "      <td>Entire home/apt</td>\n",
       "      <td>2011</td>\n",
       "      <td>1128.0</td>\n",
       "      <td>41.0</td>\n",
       "      <td>4</td>\n",
       "      <td>22.0</td>\n",
       "      <td>6/15/2019</td>\n",
       "      <td>0.85</td>\n",
       "      <td>4.0</td>\n",
       "      <td>1.0</td>\n",
       "      <td>238</td>\n",
       "      <td>Please remember that this is a residential bui...</td>\n",
       "      <td>41662/AL</td>\n",
       "    </tr>\n",
       "  </tbody>\n",
       "</table>\n",
       "<p>99138 rows × 23 columns</p>\n",
       "</div>"
      ],
      "text/plain": [
       "        index                                              name  \\\n",
       "0           0                Clean & quiet apt home by the park   \n",
       "1           1                             Skylit Midtown Castle   \n",
       "2           2               THE VILLAGE OF HARLEM....NEW YORK !   \n",
       "3           3                               Home away from home   \n",
       "4           4  Entire Apt: Spacious Studio/Loft by central park   \n",
       "...       ...                                               ...   \n",
       "99133  102053               Cozy bright room near Prospect Park   \n",
       "99134  102054         Private Bedroom with Amazing Rooftop View   \n",
       "99135  102055     Pretty Brooklyn One-Bedroom for 2 to 4 people   \n",
       "99136  102056        Room & private bathroom in historic Harlem   \n",
       "99137  102057                                   Rosalee Stewart   \n",
       "\n",
       "      host_identity_verified host_name neighbourhood_group  \\\n",
       "0                unconfirmed  Madaline            Brooklyn   \n",
       "1                   verified     Jenna           Manhattan   \n",
       "2                unconfirmed     Elise           Manhattan   \n",
       "3                unconfirmed     Garry            Brooklyn   \n",
       "4                   verified    Lyndon           Manhattan   \n",
       "...                      ...       ...                 ...   \n",
       "99133            unconfirmed    Mariam            Brooklyn   \n",
       "99134               verified      Trey            Brooklyn   \n",
       "99135               verified   Michael            Brooklyn   \n",
       "99136            unconfirmed   Shireen           Manhattan   \n",
       "99137               verified   Stanley           Manhattan   \n",
       "\n",
       "            neighbourhood       lat      long  instant_bookable  \\\n",
       "0              Kensington  40.64749 -73.97237             False   \n",
       "1                 Midtown  40.75362 -73.98377             False   \n",
       "2                  Harlem  40.80902 -73.94190              True   \n",
       "3            Clinton Hill  40.68514 -73.95976              True   \n",
       "4             East Harlem  40.79851 -73.94399             False   \n",
       "...                   ...       ...       ...               ...   \n",
       "99133            Flatbush  40.64945 -73.96108              True   \n",
       "99134            Bushwick  40.69872 -73.92718             False   \n",
       "99135  Bedford-Stuyvesant  40.67810 -73.90822              True   \n",
       "99136              Harlem  40.81248 -73.94317              True   \n",
       "99137              Harlem  40.81315 -73.94747             False   \n",
       "\n",
       "      cancellation_policy        room_type  construction_year   price  \\\n",
       "0                  strict     Private room               2020   966.0   \n",
       "1                moderate  Entire home/apt               2007   142.0   \n",
       "2                flexible     Private room               2005   620.0   \n",
       "3                moderate  Entire home/apt               2005   368.0   \n",
       "4                moderate  Entire home/apt               2009   204.0   \n",
       "...                   ...              ...                ...     ...   \n",
       "99133            moderate     Private room               2012   696.0   \n",
       "99134            flexible     Private room               2012   909.0   \n",
       "99135            moderate  Entire home/apt               2012   387.0   \n",
       "99136              strict     Private room               2012   848.0   \n",
       "99137            flexible  Entire home/apt               2011  1128.0   \n",
       "\n",
       "       service_fee  minimum_nights  number_of_reviews last_review  \\\n",
       "0            193.0              10                9.0  10/19/2021   \n",
       "1             28.0              30               45.0   5/21/2022   \n",
       "2            124.0               3                0.0   6/23/2019   \n",
       "3             74.0              30              270.0    7/5/2019   \n",
       "4             41.0              10                9.0  11/19/2018   \n",
       "...            ...             ...                ...         ...   \n",
       "99133         41.0               7               12.0   3/27/2019   \n",
       "99134         41.0               1               19.0   8/31/2017   \n",
       "99135         41.0               2               50.0   6/26/2019   \n",
       "99136         41.0               2                0.0   6/23/2019   \n",
       "99137         41.0               4               22.0   6/15/2019   \n",
       "\n",
       "       reviews_per_month  review_rate_number  calculated_host_listings_count  \\\n",
       "0                   0.21                 4.0                             6.0   \n",
       "1                   0.38                 4.0                             2.0   \n",
       "2                   0.74                 5.0                             1.0   \n",
       "3                   4.64                 4.0                             1.0   \n",
       "4                   0.10                 3.0                             1.0   \n",
       "...                  ...                 ...                             ...   \n",
       "99133               0.44                 5.0                             1.0   \n",
       "99134               0.72                 3.0                             2.0   \n",
       "99135               3.12                 4.0                             2.0   \n",
       "99136               0.74                 1.0                             1.0   \n",
       "99137               0.85                 4.0                             1.0   \n",
       "\n",
       "       days_booked                                        house_rules  \\\n",
       "0              286  Clean up and treat the home the way you'd like...   \n",
       "1              228  Pet friendly but please confirm with me if the...   \n",
       "2              352  I encourage you to use my kitchen, cooking and...   \n",
       "3              322                                             #NAME?   \n",
       "4              289  Please no smoking in the house, porch or on th...   \n",
       "...            ...                                                ...   \n",
       "99133            0  Shoes off Clean After yourself Turn Lights and...   \n",
       "99134            0                                             #NAME?   \n",
       "99135          235  * Check out: 10am * We made an effort to keep ...   \n",
       "99136            0  Each of us is working and/or going to school a...   \n",
       "99137          238  Please remember that this is a residential bui...   \n",
       "\n",
       "        license  \n",
       "0      41662/AL  \n",
       "1      41662/AL  \n",
       "2      41662/AL  \n",
       "3      41662/AL  \n",
       "4      41662/AL  \n",
       "...         ...  \n",
       "99133  41662/AL  \n",
       "99134  41662/AL  \n",
       "99135  41662/AL  \n",
       "99136  41662/AL  \n",
       "99137  41662/AL  \n",
       "\n",
       "[99138 rows x 23 columns]"
      ]
     },
     "execution_count": 63,
     "metadata": {},
     "output_type": "execute_result"
    }
   ],
   "source": [
    "airbnb.reset_index()"
   ]
  },
  {
   "cell_type": "code",
   "execution_count": 64,
   "id": "1356176c",
   "metadata": {
    "execution": {
     "iopub.execute_input": "2023-12-17T09:10:54.035364Z",
     "iopub.status.busy": "2023-12-17T09:10:54.035049Z",
     "iopub.status.idle": "2023-12-17T09:10:54.042846Z",
     "shell.execute_reply": "2023-12-17T09:10:54.042065Z"
    },
    "papermill": {
     "duration": 0.036397,
     "end_time": "2023-12-17T09:10:54.044412",
     "exception": false,
     "start_time": "2023-12-17T09:10:54.008015",
     "status": "completed"
    },
    "tags": []
   },
   "outputs": [
    {
     "data": {
      "text/html": [
       "<div>\n",
       "<style scoped>\n",
       "    .dataframe tbody tr th:only-of-type {\n",
       "        vertical-align: middle;\n",
       "    }\n",
       "\n",
       "    .dataframe tbody tr th {\n",
       "        vertical-align: top;\n",
       "    }\n",
       "\n",
       "    .dataframe thead th {\n",
       "        text-align: right;\n",
       "    }\n",
       "</style>\n",
       "<table border=\"1\" class=\"dataframe\">\n",
       "  <thead>\n",
       "    <tr style=\"text-align: right;\">\n",
       "      <th></th>\n",
       "      <th>min_price</th>\n",
       "    </tr>\n",
       "    <tr>\n",
       "      <th>room_type</th>\n",
       "      <th></th>\n",
       "    </tr>\n",
       "  </thead>\n",
       "  <tbody>\n",
       "    <tr>\n",
       "      <th>Entire home/apt</th>\n",
       "      <td>50.0</td>\n",
       "    </tr>\n",
       "    <tr>\n",
       "      <th>Hotel room</th>\n",
       "      <td>50.0</td>\n",
       "    </tr>\n",
       "    <tr>\n",
       "      <th>Private room</th>\n",
       "      <td>50.0</td>\n",
       "    </tr>\n",
       "    <tr>\n",
       "      <th>Shared room</th>\n",
       "      <td>50.0</td>\n",
       "    </tr>\n",
       "  </tbody>\n",
       "</table>\n",
       "</div>"
      ],
      "text/plain": [
       "                 min_price\n",
       "room_type                 \n",
       "Entire home/apt       50.0\n",
       "Hotel room            50.0\n",
       "Private room          50.0\n",
       "Shared room           50.0"
      ]
     },
     "execution_count": 64,
     "metadata": {},
     "output_type": "execute_result"
    }
   ],
   "source": [
    "airbnb_prices_by_room_type.head()"
   ]
  },
  {
   "cell_type": "code",
   "execution_count": 65,
   "id": "457ee9b8",
   "metadata": {
    "execution": {
     "iopub.execute_input": "2023-12-17T09:10:54.098104Z",
     "iopub.status.busy": "2023-12-17T09:10:54.097783Z",
     "iopub.status.idle": "2023-12-17T09:10:54.273255Z",
     "shell.execute_reply": "2023-12-17T09:10:54.272155Z"
    },
    "papermill": {
     "duration": 0.204325,
     "end_time": "2023-12-17T09:10:54.275074",
     "exception": false,
     "start_time": "2023-12-17T09:10:54.070749",
     "status": "completed"
    },
    "tags": []
   },
   "outputs": [
    {
     "data": {
      "image/png": "[encoded data removed]",
      "text/plain": [
       "<Figure size 640x480 with 1 Axes>"
      ]
     },
     "metadata": {},
     "output_type": "display_data"
    }
   ],
   "source": [
    "airbnb_prices_by_room_type.head().plot(kind='bar', color={'green'})\n",
    "plt.xlabel('Room Type')\n",
    "plt.ylabel('Price $')\n",
    "plt.title('Price vs Room Type')\n",
    "plt.show()"
   ]
  },
  {
   "cell_type": "code",
   "execution_count": 66,
   "id": "9b6a08e8",
   "metadata": {
    "execution": {
     "iopub.execute_input": "2023-12-17T09:10:54.325722Z",
     "iopub.status.busy": "2023-12-17T09:10:54.325411Z",
     "iopub.status.idle": "2023-12-17T09:10:54.331398Z",
     "shell.execute_reply": "2023-12-17T09:10:54.330528Z"
    },
    "papermill": {
     "duration": 0.033216,
     "end_time": "2023-12-17T09:10:54.333203",
     "exception": false,
     "start_time": "2023-12-17T09:10:54.299987",
     "status": "completed"
    },
    "tags": []
   },
   "outputs": [
    {
     "data": {
      "text/plain": [
       "'Hotel rooms are more expensive on average than the other room types, the average price is $666 compared to the cheapest room type on average to rent the Private room which is $623 on average to rent. However the Entire home/appartment and Private Room have the most expensive price that could be paid at $1200. The cheapest price that could be paid is $50 and you can get any room type for this price. '"
      ]
     },
     "execution_count": 66,
     "metadata": {},
     "output_type": "execute_result"
    }
   ],
   "source": [
    "#  3. List the prices with respect to room type using a bar graph and also state your inferences.\n",
    "\n",
    "'''Hotel rooms are more expensive on average than the other room types, the average price is $666 compared to the cheapest room type on average to rent the Private room which is $623 on average to rent. However the Entire home/appartment and Private Room have the most expensive price that could be paid at $1200. The cheapest price that could be paid is $50 and you can get any room type for this price. '''"
   ]
  },
  {
   "cell_type": "code",
   "execution_count": 67,
   "id": "8772441e",
   "metadata": {
    "execution": {
     "iopub.execute_input": "2023-12-17T09:10:54.384064Z",
     "iopub.status.busy": "2023-12-17T09:10:54.383716Z",
     "iopub.status.idle": "2023-12-17T09:10:54.399397Z",
     "shell.execute_reply": "2023-12-17T09:10:54.398112Z"
    },
    "papermill": {
     "duration": 0.042954,
     "end_time": "2023-12-17T09:10:54.401121",
     "exception": false,
     "start_time": "2023-12-17T09:10:54.358167",
     "status": "completed"
    },
    "tags": []
   },
   "outputs": [
    {
     "name": "stdout",
     "output_type": "stream",
     "text": [
      "  neighbourhood_group  days_booked\n",
      "0            Brooklyn   130.763363\n",
      "1           Manhattan   142.702121\n",
      "2              Queens   162.424977\n",
      "3               Bronx   178.993117\n",
      "4       Staten Island   195.989130\n"
     ]
    }
   ],
   "source": [
    "#  4. Create a pie chart that shows distribution of booked days for each neighbourhood group. Which neighbourhood has the highest booking percentage?\n",
    "\n",
    "airbnb_days_booked_neighbourhood_group = airbnb['days_booked'].groupby(airbnb['neighbourhood_group']).mean().sort_values().reset_index()\n",
    "print(airbnb_days_booked_neighbourhood_group)"
   ]
  },
  {
   "cell_type": "code",
   "execution_count": 68,
   "id": "e0e89904",
   "metadata": {
    "execution": {
     "iopub.execute_input": "2023-12-17T09:10:54.452259Z",
     "iopub.status.busy": "2023-12-17T09:10:54.451892Z",
     "iopub.status.idle": "2023-12-17T09:10:54.577188Z",
     "shell.execute_reply": "2023-12-17T09:10:54.576347Z"
    },
    "papermill": {
     "duration": 0.152803,
     "end_time": "2023-12-17T09:10:54.578964",
     "exception": false,
     "start_time": "2023-12-17T09:10:54.426161",
     "status": "completed"
    },
    "tags": []
   },
   "outputs": [
    {
     "data": {
      "text/plain": [
       "([<matplotlib.patches.Wedge at 0x7edc89855780>,\n",
       "  <matplotlib.patches.Wedge at 0x7edc89855690>,\n",
       "  <matplotlib.patches.Wedge at 0x7edc89856470>,\n",
       "  <matplotlib.patches.Wedge at 0x7edc89856b00>,\n",
       "  <matplotlib.patches.Wedge at 0x7edc89857190>],\n",
       " [Text(0.9618279143982374, 0.5337481270078022, 'Brooklyn'),\n",
       "  Text(0.005146054216595288, 1.0999879627186837, 'Manhattan'),\n",
       "  Text(-1.0160101502883256, 0.4215725020813078, 'Queens'),\n",
       "  Text(-0.6580950419600305, -0.8814255020973842, 'Bronx'),\n",
       "  Text(0.7978290520241899, -0.7572772304421826, 'Staten Island')],\n",
       " [Text(0.524633407853584, 0.2911353420042557, '16%'),\n",
       "  Text(0.0028069386635974298, 0.599993434210191, '18%'),\n",
       "  Text(-0.554187354702723, 0.22994863749889513, '20%'),\n",
       "  Text(-0.35896093197819845, -0.4807775465985732, '22%'),\n",
       "  Text(0.4351794829222853, -0.4130603075139178, '24%')])"
      ]
     },
     "execution_count": 68,
     "metadata": {},
     "output_type": "execute_result"
    },
    {
     "data": {
      "image/png": "[encoded data removed]",
      "text/plain": [
       "<Figure size 640x480 with 1 Axes>"
      ]
     },
     "metadata": {},
     "output_type": "display_data"
    }
   ],
   "source": [
    "palette_color = sns.color_palette('bright')\n",
    "plt.title('Which neighbourhood has the highest booking percentage?', size=14, color='black')\n",
    "plt.pie(airbnb_days_booked_neighbourhood_group['days_booked'], \n",
    "        labels=airbnb_days_booked_neighbourhood_group['neighbourhood_group'], \n",
    "        colors=palette_color,\n",
    "        autopct='%1.0f%%')"
   ]
  },
  {
   "cell_type": "code",
   "execution_count": 69,
   "id": "8acf4b6b",
   "metadata": {
    "execution": {
     "iopub.execute_input": "2023-12-17T09:10:54.632764Z",
     "iopub.status.busy": "2023-12-17T09:10:54.632108Z",
     "iopub.status.idle": "2023-12-17T09:10:54.637785Z",
     "shell.execute_reply": "2023-12-17T09:10:54.636904Z"
    },
    "papermill": {
     "duration": 0.034738,
     "end_time": "2023-12-17T09:10:54.639633",
     "exception": false,
     "start_time": "2023-12-17T09:10:54.604895",
     "status": "completed"
    },
    "tags": []
   },
   "outputs": [
    {
     "data": {
      "text/plain": [
       "' Staten Island has the highest number of days booked with 24%. Brooklyn has the least with only 16%.'"
      ]
     },
     "execution_count": 69,
     "metadata": {},
     "output_type": "execute_result"
    }
   ],
   "source": [
    "# Which neighbourhood has the highest booking percentage?\n",
    "''' Staten Island has the highest number of days booked with 24%. Brooklyn has the least with only 16%.'''"
   ]
  },
  {
   "cell_type": "markdown",
   "id": "3b8c720a",
   "metadata": {
    "papermill": {
     "duration": 0.027137,
     "end_time": "2023-12-17T09:10:54.694270",
     "exception": false,
     "start_time": "2023-12-17T09:10:54.667133",
     "status": "completed"
    },
    "tags": []
   },
   "source": [
    "## **Task 5b: Data Visualization**\n",
    "1. Does service price and room price have an impact on each other. Illustrate this relationship with a scatter plot and state your inferences\n",
    "1. Using a line graph show in which year the maximum construction of rooms took place."
   ]
  },
  {
   "cell_type": "code",
   "execution_count": 70,
   "id": "c4bfcf8c",
   "metadata": {
    "execution": {
     "iopub.execute_input": "2023-12-17T09:10:54.750288Z",
     "iopub.status.busy": "2023-12-17T09:10:54.749636Z",
     "iopub.status.idle": "2023-12-17T09:10:58.749416Z",
     "shell.execute_reply": "2023-12-17T09:10:58.748663Z"
    },
    "papermill": {
     "duration": 4.03002,
     "end_time": "2023-12-17T09:10:58.751252",
     "exception": false,
     "start_time": "2023-12-17T09:10:54.721232",
     "status": "completed"
    },
    "tags": []
   },
   "outputs": [
    {
     "data": {
      "text/plain": [
       "<Axes: title={'center': 'Relationship between Price and Service Fee'}, xlabel='price', ylabel='service_fee'>"
      ]
     },
     "execution_count": 70,
     "metadata": {},
     "output_type": "execute_result"
    },
    {
     "data": {
      "image/png": "[encoded data removed]",
      "text/plain": [
       "<Figure size 1500x1000 with 1 Axes>"
      ]
     },
     "metadata": {},
     "output_type": "display_data"
    }
   ],
   "source": [
    "# 1. Does service price and room price have an impact on each other? Illustrate this relationship with a scatter plot and state your inferences\n",
    "\n",
    "plt.figure(figsize=(15,10))\n",
    "plt.title('Relationship between Price and Service Fee', size=14, color='black')\n",
    "sns.scatterplot(x=airbnb['price'], y=airbnb['service_fee'], hue=airbnb['room_type'], s=30)"
   ]
  },
  {
   "cell_type": "code",
   "execution_count": 71,
   "id": "67cea4b2",
   "metadata": {
    "execution": {
     "iopub.execute_input": "2023-12-17T09:10:58.806448Z",
     "iopub.status.busy": "2023-12-17T09:10:58.806149Z",
     "iopub.status.idle": "2023-12-17T09:10:58.811208Z",
     "shell.execute_reply": "2023-12-17T09:10:58.810445Z"
    },
    "papermill": {
     "duration": 0.034514,
     "end_time": "2023-12-17T09:10:58.812859",
     "exception": false,
     "start_time": "2023-12-17T09:10:58.778345",
     "status": "completed"
    },
    "tags": []
   },
   "outputs": [
    {
     "data": {
      "text/plain": [
       "' The scatterplot shows a correlation between Price and Service Fee as the price increases so does the service fee. Although there are outliers where the service fee is fixed/stays the same at approx $45 when the price rises and also ouliers where the price is staying the same at $200 but the service fee varies up to almost $250.'"
      ]
     },
     "execution_count": 71,
     "metadata": {},
     "output_type": "execute_result"
    }
   ],
   "source": [
    "''' The scatterplot shows a correlation between Price and Service Fee as the price increases so does the service fee. Although there are outliers where the service fee is fixed/stays the same at approx $45 when the price rises and also ouliers where the price is staying the same at $200 but the service fee varies up to almost $250.'''"
   ]
  },
  {
   "cell_type": "code",
   "execution_count": 72,
   "id": "fa44682e",
   "metadata": {
    "execution": {
     "iopub.execute_input": "2023-12-17T09:10:58.867034Z",
     "iopub.status.busy": "2023-12-17T09:10:58.866645Z",
     "iopub.status.idle": "2023-12-17T09:10:58.873136Z",
     "shell.execute_reply": "2023-12-17T09:10:58.872227Z"
    },
    "papermill": {
     "duration": 0.035652,
     "end_time": "2023-12-17T09:10:58.874830",
     "exception": false,
     "start_time": "2023-12-17T09:10:58.839178",
     "status": "completed"
    },
    "tags": []
   },
   "outputs": [
    {
     "data": {
      "text/plain": [
       "Index(['name', 'host_identity_verified', 'host_name', 'neighbourhood_group',\n",
       "       'neighbourhood', 'lat', 'long', 'instant_bookable',\n",
       "       'cancellation_policy', 'room_type', 'construction_year', 'price',\n",
       "       'service_fee', 'minimum_nights', 'number_of_reviews', 'last_review',\n",
       "       'reviews_per_month', 'review_rate_number',\n",
       "       'calculated_host_listings_count', 'days_booked', 'house_rules',\n",
       "       'license'],\n",
       "      dtype='object')"
      ]
     },
     "execution_count": 72,
     "metadata": {},
     "output_type": "execute_result"
    }
   ],
   "source": [
    "airbnb.columns"
   ]
  },
  {
   "cell_type": "code",
   "execution_count": 73,
   "id": "575e4227",
   "metadata": {
    "execution": {
     "iopub.execute_input": "2023-12-17T09:10:58.932056Z",
     "iopub.status.busy": "2023-12-17T09:10:58.931358Z",
     "iopub.status.idle": "2023-12-17T09:10:58.939227Z",
     "shell.execute_reply": "2023-12-17T09:10:58.938427Z"
    },
    "papermill": {
     "duration": 0.039826,
     "end_time": "2023-12-17T09:10:58.941459",
     "exception": false,
     "start_time": "2023-12-17T09:10:58.901633",
     "status": "completed"
    },
    "tags": []
   },
   "outputs": [],
   "source": [
    "# 2. Using a line graph show in which year the maximum construction of rooms took place.\n",
    "\n",
    "airbnb['construction_year_counts'] = airbnb['construction_year'].value_counts()"
   ]
  },
  {
   "cell_type": "code",
   "execution_count": 74,
   "id": "ea8f4411",
   "metadata": {
    "execution": {
     "iopub.execute_input": "2023-12-17T09:10:58.999059Z",
     "iopub.status.busy": "2023-12-17T09:10:58.998479Z",
     "iopub.status.idle": "2023-12-17T09:10:59.003723Z",
     "shell.execute_reply": "2023-12-17T09:10:59.003170Z"
    },
    "papermill": {
     "duration": 0.035639,
     "end_time": "2023-12-17T09:10:59.005227",
     "exception": false,
     "start_time": "2023-12-17T09:10:58.969588",
     "status": "completed"
    },
    "tags": []
   },
   "outputs": [
    {
     "data": {
      "text/plain": [
       "array([2020, 2007, 2005, 2009, 2013, 2015, 2004, 2008, 2010, 2019, 2018,\n",
       "       2006, 2016, 2017, 2021, 2003, 2011, 2012, 2022, 2014])"
      ]
     },
     "execution_count": 74,
     "metadata": {},
     "output_type": "execute_result"
    }
   ],
   "source": [
    "airbnb['construction_year'].unique()"
   ]
  },
  {
   "cell_type": "code",
   "execution_count": 75,
   "id": "924def80",
   "metadata": {
    "execution": {
     "iopub.execute_input": "2023-12-17T09:10:59.061197Z",
     "iopub.status.busy": "2023-12-17T09:10:59.060652Z",
     "iopub.status.idle": "2023-12-17T09:10:59.470917Z",
     "shell.execute_reply": "2023-12-17T09:10:59.470067Z"
    },
    "papermill": {
     "duration": 0.44038,
     "end_time": "2023-12-17T09:10:59.473203",
     "exception": false,
     "start_time": "2023-12-17T09:10:59.032823",
     "status": "completed"
    },
    "tags": []
   },
   "outputs": [
    {
     "data": {
      "image/png": "[encoded data removed]",
      "text/plain": [
       "<Figure size 1500x1000 with 1 Axes>"
      ]
     },
     "metadata": {},
     "output_type": "display_data"
    }
   ],
   "source": [
    "fig, ax = plt.subplots()\n",
    "fig.set_size_inches(15,10)\n",
    "plt.title('Construction Year', size=14, color='black')\n",
    "sns.lineplot(x='construction_year', y='construction_year_counts', data=airbnb, ax=ax)\n",
    "ax.set_xlim(2005,2022)\n",
    "ax.set_xticks(range(2005,2023))\n",
    "plt.show()\n"
   ]
  },
  {
   "cell_type": "markdown",
   "id": "b7ab0f03",
   "metadata": {
    "papermill": {
     "duration": 0.027897,
     "end_time": "2023-12-17T09:10:59.529346",
     "exception": false,
     "start_time": "2023-12-17T09:10:59.501449",
     "status": "completed"
    },
    "tags": []
   },
   "source": [
    "## **Task 5c: Data Visualization**\n",
    "With the help of box plots illustrate the following:\n",
    "1. Effect of Review Rate number on price\n",
    "1. Effect of host identity verified on price"
   ]
  },
  {
   "cell_type": "code",
   "execution_count": 76,
   "id": "eef61290",
   "metadata": {
    "execution": {
     "iopub.execute_input": "2023-12-17T09:10:59.588943Z",
     "iopub.status.busy": "2023-12-17T09:10:59.588605Z",
     "iopub.status.idle": "2023-12-17T09:10:59.593514Z",
     "shell.execute_reply": "2023-12-17T09:10:59.592983Z"
    },
    "papermill": {
     "duration": 0.036899,
     "end_time": "2023-12-17T09:10:59.595130",
     "exception": false,
     "start_time": "2023-12-17T09:10:59.558231",
     "status": "completed"
    },
    "tags": []
   },
   "outputs": [
    {
     "data": {
      "text/plain": [
       "Index(['name', 'host_identity_verified', 'host_name', 'neighbourhood_group',\n",
       "       'neighbourhood', 'lat', 'long', 'instant_bookable',\n",
       "       'cancellation_policy', 'room_type', 'construction_year', 'price',\n",
       "       'service_fee', 'minimum_nights', 'number_of_reviews', 'last_review',\n",
       "       'reviews_per_month', 'review_rate_number',\n",
       "       'calculated_host_listings_count', 'days_booked', 'house_rules',\n",
       "       'license', 'construction_year_counts'],\n",
       "      dtype='object')"
      ]
     },
     "execution_count": 76,
     "metadata": {},
     "output_type": "execute_result"
    }
   ],
   "source": [
    "airbnb.columns"
   ]
  },
  {
   "cell_type": "code",
   "execution_count": 77,
   "id": "c8efb88b",
   "metadata": {
    "execution": {
     "iopub.execute_input": "2023-12-17T09:10:59.654897Z",
     "iopub.status.busy": "2023-12-17T09:10:59.654310Z",
     "iopub.status.idle": "2023-12-17T09:10:59.867877Z",
     "shell.execute_reply": "2023-12-17T09:10:59.866772Z"
    },
    "papermill": {
     "duration": 0.245881,
     "end_time": "2023-12-17T09:10:59.869825",
     "exception": false,
     "start_time": "2023-12-17T09:10:59.623944",
     "status": "completed"
    },
    "tags": []
   },
   "outputs": [
    {
     "data": {
      "text/plain": [
       "Text(0.5, 1.0, 'Review Rate vs Price')"
      ]
     },
     "execution_count": 77,
     "metadata": {},
     "output_type": "execute_result"
    },
    {
     "data": {
      "image/png": "[encoded data removed]",
      "text/plain": [
       "<Figure size 640x480 with 1 Axes>"
      ]
     },
     "metadata": {},
     "output_type": "display_data"
    }
   ],
   "source": [
    "# 1. Use a box plot to illustrate the effect of Review Rate number on Price\n",
    "\n",
    "sns.boxplot(x='review_rate_number', y='price', data=airbnb)\n",
    "plt.title('Review Rate vs Price', size=14, color='black')"
   ]
  },
  {
   "cell_type": "code",
   "execution_count": 78,
   "id": "c2ba1af9",
   "metadata": {
    "execution": {
     "iopub.execute_input": "2023-12-17T09:10:59.927898Z",
     "iopub.status.busy": "2023-12-17T09:10:59.927598Z",
     "iopub.status.idle": "2023-12-17T09:10:59.940605Z",
     "shell.execute_reply": "2023-12-17T09:10:59.939980Z"
    },
    "papermill": {
     "duration": 0.043746,
     "end_time": "2023-12-17T09:10:59.942083",
     "exception": false,
     "start_time": "2023-12-17T09:10:59.898337",
     "status": "completed"
    },
    "tags": []
   },
   "outputs": [
    {
     "data": {
      "text/html": [
       "<div>\n",
       "<style scoped>\n",
       "    .dataframe tbody tr th:only-of-type {\n",
       "        vertical-align: middle;\n",
       "    }\n",
       "\n",
       "    .dataframe tbody tr th {\n",
       "        vertical-align: top;\n",
       "    }\n",
       "\n",
       "    .dataframe thead th {\n",
       "        text-align: right;\n",
       "    }\n",
       "</style>\n",
       "<table border=\"1\" class=\"dataframe\">\n",
       "  <thead>\n",
       "    <tr style=\"text-align: right;\">\n",
       "      <th></th>\n",
       "      <th>review_rate_number</th>\n",
       "      <th>price</th>\n",
       "    </tr>\n",
       "  </thead>\n",
       "  <tbody>\n",
       "    <tr>\n",
       "      <th>0</th>\n",
       "      <td>4.0</td>\n",
       "      <td>966.0</td>\n",
       "    </tr>\n",
       "    <tr>\n",
       "      <th>1</th>\n",
       "      <td>4.0</td>\n",
       "      <td>142.0</td>\n",
       "    </tr>\n",
       "    <tr>\n",
       "      <th>2</th>\n",
       "      <td>5.0</td>\n",
       "      <td>620.0</td>\n",
       "    </tr>\n",
       "    <tr>\n",
       "      <th>3</th>\n",
       "      <td>4.0</td>\n",
       "      <td>368.0</td>\n",
       "    </tr>\n",
       "    <tr>\n",
       "      <th>4</th>\n",
       "      <td>3.0</td>\n",
       "      <td>204.0</td>\n",
       "    </tr>\n",
       "    <tr>\n",
       "      <th>5</th>\n",
       "      <td>3.0</td>\n",
       "      <td>577.0</td>\n",
       "    </tr>\n",
       "    <tr>\n",
       "      <th>6</th>\n",
       "      <td>5.0</td>\n",
       "      <td>71.0</td>\n",
       "    </tr>\n",
       "    <tr>\n",
       "      <th>7</th>\n",
       "      <td>5.0</td>\n",
       "      <td>1060.0</td>\n",
       "    </tr>\n",
       "    <tr>\n",
       "      <th>8</th>\n",
       "      <td>3.0</td>\n",
       "      <td>1018.0</td>\n",
       "    </tr>\n",
       "    <tr>\n",
       "      <th>9</th>\n",
       "      <td>5.0</td>\n",
       "      <td>291.0</td>\n",
       "    </tr>\n",
       "    <tr>\n",
       "      <th>10</th>\n",
       "      <td>3.0</td>\n",
       "      <td>319.0</td>\n",
       "    </tr>\n",
       "    <tr>\n",
       "      <th>11</th>\n",
       "      <td>4.0</td>\n",
       "      <td>606.0</td>\n",
       "    </tr>\n",
       "    <tr>\n",
       "      <th>12</th>\n",
       "      <td>4.0</td>\n",
       "      <td>714.0</td>\n",
       "    </tr>\n",
       "    <tr>\n",
       "      <th>13</th>\n",
       "      <td>4.0</td>\n",
       "      <td>580.0</td>\n",
       "    </tr>\n",
       "    <tr>\n",
       "      <th>14</th>\n",
       "      <td>3.0</td>\n",
       "      <td>149.0</td>\n",
       "    </tr>\n",
       "    <tr>\n",
       "      <th>15</th>\n",
       "      <td>3.0</td>\n",
       "      <td>578.0</td>\n",
       "    </tr>\n",
       "    <tr>\n",
       "      <th>16</th>\n",
       "      <td>3.0</td>\n",
       "      <td>778.0</td>\n",
       "    </tr>\n",
       "    <tr>\n",
       "      <th>17</th>\n",
       "      <td>5.0</td>\n",
       "      <td>656.0</td>\n",
       "    </tr>\n",
       "    <tr>\n",
       "      <th>18</th>\n",
       "      <td>3.0</td>\n",
       "      <td>460.0</td>\n",
       "    </tr>\n",
       "    <tr>\n",
       "      <th>19</th>\n",
       "      <td>5.0</td>\n",
       "      <td>1095.0</td>\n",
       "    </tr>\n",
       "    <tr>\n",
       "      <th>20</th>\n",
       "      <td>3.0</td>\n",
       "      <td>281.0</td>\n",
       "    </tr>\n",
       "    <tr>\n",
       "      <th>21</th>\n",
       "      <td>3.0</td>\n",
       "      <td>477.0</td>\n",
       "    </tr>\n",
       "    <tr>\n",
       "      <th>22</th>\n",
       "      <td>4.0</td>\n",
       "      <td>133.0</td>\n",
       "    </tr>\n",
       "    <tr>\n",
       "      <th>23</th>\n",
       "      <td>3.0</td>\n",
       "      <td>1050.0</td>\n",
       "    </tr>\n",
       "    <tr>\n",
       "      <th>24</th>\n",
       "      <td>4.0</td>\n",
       "      <td>816.0</td>\n",
       "    </tr>\n",
       "  </tbody>\n",
       "</table>\n",
       "</div>"
      ],
      "text/plain": [
       "    review_rate_number   price\n",
       "0                  4.0   966.0\n",
       "1                  4.0   142.0\n",
       "2                  5.0   620.0\n",
       "3                  4.0   368.0\n",
       "4                  3.0   204.0\n",
       "5                  3.0   577.0\n",
       "6                  5.0    71.0\n",
       "7                  5.0  1060.0\n",
       "8                  3.0  1018.0\n",
       "9                  5.0   291.0\n",
       "10                 3.0   319.0\n",
       "11                 4.0   606.0\n",
       "12                 4.0   714.0\n",
       "13                 4.0   580.0\n",
       "14                 3.0   149.0\n",
       "15                 3.0   578.0\n",
       "16                 3.0   778.0\n",
       "17                 5.0   656.0\n",
       "18                 3.0   460.0\n",
       "19                 5.0  1095.0\n",
       "20                 3.0   281.0\n",
       "21                 3.0   477.0\n",
       "22                 4.0   133.0\n",
       "23                 3.0  1050.0\n",
       "24                 4.0   816.0"
      ]
     },
     "execution_count": 78,
     "metadata": {},
     "output_type": "execute_result"
    }
   ],
   "source": [
    "airbnb[['review_rate_number', 'price']].head(25)"
   ]
  },
  {
   "cell_type": "code",
   "execution_count": 79,
   "id": "bfc6b6f1",
   "metadata": {
    "execution": {
     "iopub.execute_input": "2023-12-17T09:11:00.000505Z",
     "iopub.status.busy": "2023-12-17T09:11:00.000022Z",
     "iopub.status.idle": "2023-12-17T09:11:00.004749Z",
     "shell.execute_reply": "2023-12-17T09:11:00.003958Z"
    },
    "papermill": {
     "duration": 0.035462,
     "end_time": "2023-12-17T09:11:00.006298",
     "exception": false,
     "start_time": "2023-12-17T09:10:59.970836",
     "status": "completed"
    },
    "tags": []
   },
   "outputs": [
    {
     "data": {
      "text/plain": [
       "' There is no impact on price from the Review Rate. Whether a room has 1 star or 5 stars has no impact on the price. There are also no outliers.'"
      ]
     },
     "execution_count": 79,
     "metadata": {},
     "output_type": "execute_result"
    }
   ],
   "source": [
    "''' There is no impact on price from the Review Rate. Whether a room has 1 star or 5 stars has no impact on the price. There are also no outliers.'''"
   ]
  },
  {
   "cell_type": "code",
   "execution_count": 80,
   "id": "0d25f118",
   "metadata": {
    "execution": {
     "iopub.execute_input": "2023-12-17T09:11:00.065068Z",
     "iopub.status.busy": "2023-12-17T09:11:00.064729Z",
     "iopub.status.idle": "2023-12-17T09:11:00.275753Z",
     "shell.execute_reply": "2023-12-17T09:11:00.274480Z"
    },
    "papermill": {
     "duration": 0.242547,
     "end_time": "2023-12-17T09:11:00.277716",
     "exception": false,
     "start_time": "2023-12-17T09:11:00.035169",
     "status": "completed"
    },
    "tags": []
   },
   "outputs": [
    {
     "data": {
      "text/plain": [
       "Text(0.5, 1.0, 'Host Identity Verified vs Price')"
      ]
     },
     "execution_count": 80,
     "metadata": {},
     "output_type": "execute_result"
    },
    {
     "data": {
      "image/png": "[encoded data removed]",
      "text/plain": [
       "<Figure size 640x480 with 1 Axes>"
      ]
     },
     "metadata": {},
     "output_type": "display_data"
    }
   ],
   "source": [
    "# 2. Use a box plot to illustrate the effect of host identity verified on price\n",
    "\n",
    "sns.boxplot(x='host_identity_verified', y='price', data=airbnb)\n",
    "plt.title('Host Identity Verified vs Price', size=14, color='black')"
   ]
  },
  {
   "cell_type": "code",
   "execution_count": 81,
   "id": "f8229cd3",
   "metadata": {
    "execution": {
     "iopub.execute_input": "2023-12-17T09:11:00.339359Z",
     "iopub.status.busy": "2023-12-17T09:11:00.338485Z",
     "iopub.status.idle": "2023-12-17T09:11:00.351250Z",
     "shell.execute_reply": "2023-12-17T09:11:00.350445Z"
    },
    "papermill": {
     "duration": 0.045421,
     "end_time": "2023-12-17T09:11:00.352972",
     "exception": false,
     "start_time": "2023-12-17T09:11:00.307551",
     "status": "completed"
    },
    "tags": []
   },
   "outputs": [
    {
     "data": {
      "text/html": [
       "<div>\n",
       "<style scoped>\n",
       "    .dataframe tbody tr th:only-of-type {\n",
       "        vertical-align: middle;\n",
       "    }\n",
       "\n",
       "    .dataframe tbody tr th {\n",
       "        vertical-align: top;\n",
       "    }\n",
       "\n",
       "    .dataframe thead th {\n",
       "        text-align: right;\n",
       "    }\n",
       "</style>\n",
       "<table border=\"1\" class=\"dataframe\">\n",
       "  <thead>\n",
       "    <tr style=\"text-align: right;\">\n",
       "      <th></th>\n",
       "      <th>host_identity_verified</th>\n",
       "      <th>price</th>\n",
       "    </tr>\n",
       "  </thead>\n",
       "  <tbody>\n",
       "    <tr>\n",
       "      <th>0</th>\n",
       "      <td>unconfirmed</td>\n",
       "      <td>966.0</td>\n",
       "    </tr>\n",
       "    <tr>\n",
       "      <th>1</th>\n",
       "      <td>verified</td>\n",
       "      <td>142.0</td>\n",
       "    </tr>\n",
       "    <tr>\n",
       "      <th>2</th>\n",
       "      <td>unconfirmed</td>\n",
       "      <td>620.0</td>\n",
       "    </tr>\n",
       "    <tr>\n",
       "      <th>3</th>\n",
       "      <td>unconfirmed</td>\n",
       "      <td>368.0</td>\n",
       "    </tr>\n",
       "    <tr>\n",
       "      <th>4</th>\n",
       "      <td>verified</td>\n",
       "      <td>204.0</td>\n",
       "    </tr>\n",
       "    <tr>\n",
       "      <th>5</th>\n",
       "      <td>verified</td>\n",
       "      <td>577.0</td>\n",
       "    </tr>\n",
       "    <tr>\n",
       "      <th>6</th>\n",
       "      <td>unconfirmed</td>\n",
       "      <td>71.0</td>\n",
       "    </tr>\n",
       "    <tr>\n",
       "      <th>7</th>\n",
       "      <td>unconfirmed</td>\n",
       "      <td>1060.0</td>\n",
       "    </tr>\n",
       "    <tr>\n",
       "      <th>8</th>\n",
       "      <td>verified</td>\n",
       "      <td>1018.0</td>\n",
       "    </tr>\n",
       "    <tr>\n",
       "      <th>9</th>\n",
       "      <td>unconfirmed</td>\n",
       "      <td>291.0</td>\n",
       "    </tr>\n",
       "    <tr>\n",
       "      <th>10</th>\n",
       "      <td>verified</td>\n",
       "      <td>319.0</td>\n",
       "    </tr>\n",
       "    <tr>\n",
       "      <th>11</th>\n",
       "      <td>verified</td>\n",
       "      <td>606.0</td>\n",
       "    </tr>\n",
       "    <tr>\n",
       "      <th>12</th>\n",
       "      <td>verified</td>\n",
       "      <td>714.0</td>\n",
       "    </tr>\n",
       "    <tr>\n",
       "      <th>13</th>\n",
       "      <td>verified</td>\n",
       "      <td>580.0</td>\n",
       "    </tr>\n",
       "    <tr>\n",
       "      <th>14</th>\n",
       "      <td>verified</td>\n",
       "      <td>149.0</td>\n",
       "    </tr>\n",
       "    <tr>\n",
       "      <th>15</th>\n",
       "      <td>verified</td>\n",
       "      <td>578.0</td>\n",
       "    </tr>\n",
       "    <tr>\n",
       "      <th>16</th>\n",
       "      <td>unconfirmed</td>\n",
       "      <td>778.0</td>\n",
       "    </tr>\n",
       "    <tr>\n",
       "      <th>17</th>\n",
       "      <td>verified</td>\n",
       "      <td>656.0</td>\n",
       "    </tr>\n",
       "    <tr>\n",
       "      <th>18</th>\n",
       "      <td>verified</td>\n",
       "      <td>460.0</td>\n",
       "    </tr>\n",
       "    <tr>\n",
       "      <th>19</th>\n",
       "      <td>unconfirmed</td>\n",
       "      <td>1095.0</td>\n",
       "    </tr>\n",
       "    <tr>\n",
       "      <th>20</th>\n",
       "      <td>verified</td>\n",
       "      <td>281.0</td>\n",
       "    </tr>\n",
       "    <tr>\n",
       "      <th>21</th>\n",
       "      <td>verified</td>\n",
       "      <td>477.0</td>\n",
       "    </tr>\n",
       "    <tr>\n",
       "      <th>22</th>\n",
       "      <td>verified</td>\n",
       "      <td>133.0</td>\n",
       "    </tr>\n",
       "    <tr>\n",
       "      <th>23</th>\n",
       "      <td>unconfirmed</td>\n",
       "      <td>1050.0</td>\n",
       "    </tr>\n",
       "    <tr>\n",
       "      <th>24</th>\n",
       "      <td>unconfirmed</td>\n",
       "      <td>816.0</td>\n",
       "    </tr>\n",
       "  </tbody>\n",
       "</table>\n",
       "</div>"
      ],
      "text/plain": [
       "   host_identity_verified   price\n",
       "0             unconfirmed   966.0\n",
       "1                verified   142.0\n",
       "2             unconfirmed   620.0\n",
       "3             unconfirmed   368.0\n",
       "4                verified   204.0\n",
       "5                verified   577.0\n",
       "6             unconfirmed    71.0\n",
       "7             unconfirmed  1060.0\n",
       "8                verified  1018.0\n",
       "9             unconfirmed   291.0\n",
       "10               verified   319.0\n",
       "11               verified   606.0\n",
       "12               verified   714.0\n",
       "13               verified   580.0\n",
       "14               verified   149.0\n",
       "15               verified   578.0\n",
       "16            unconfirmed   778.0\n",
       "17               verified   656.0\n",
       "18               verified   460.0\n",
       "19            unconfirmed  1095.0\n",
       "20               verified   281.0\n",
       "21               verified   477.0\n",
       "22               verified   133.0\n",
       "23            unconfirmed  1050.0\n",
       "24            unconfirmed   816.0"
      ]
     },
     "execution_count": 81,
     "metadata": {},
     "output_type": "execute_result"
    }
   ],
   "source": [
    "airbnb[['host_identity_verified', 'price']].head(25)"
   ]
  },
  {
   "cell_type": "code",
   "execution_count": 82,
   "id": "8f3ed622",
   "metadata": {
    "execution": {
     "iopub.execute_input": "2023-12-17T09:11:00.416667Z",
     "iopub.status.busy": "2023-12-17T09:11:00.416011Z",
     "iopub.status.idle": "2023-12-17T09:11:00.422404Z",
     "shell.execute_reply": "2023-12-17T09:11:00.421414Z"
    },
    "papermill": {
     "duration": 0.041007,
     "end_time": "2023-12-17T09:11:00.424716",
     "exception": false,
     "start_time": "2023-12-17T09:11:00.383709",
     "status": "completed"
    },
    "tags": []
   },
   "outputs": [
    {
     "data": {
      "text/plain": [
       "' There is no impact on price from whether the host is unconfirmed or verified. There are also no outliers.'"
      ]
     },
     "execution_count": 82,
     "metadata": {},
     "output_type": "execute_result"
    }
   ],
   "source": [
    "''' There is no impact on price from whether the host is unconfirmed or verified. There are also no outliers.'''"
   ]
  },
  {
   "cell_type": "code",
   "execution_count": 83,
   "id": "5721e8bc",
   "metadata": {
    "execution": {
     "iopub.execute_input": "2023-12-17T09:11:00.484904Z",
     "iopub.status.busy": "2023-12-17T09:11:00.484399Z",
     "iopub.status.idle": "2023-12-17T09:11:00.487754Z",
     "shell.execute_reply": "2023-12-17T09:11:00.487191Z"
    },
    "papermill": {
     "duration": 0.034833,
     "end_time": "2023-12-17T09:11:00.489285",
     "exception": false,
     "start_time": "2023-12-17T09:11:00.454452",
     "status": "completed"
    },
    "tags": []
   },
   "outputs": [],
   "source": [
    "## **Extra Visualisation**\n"
   ]
  },
  {
   "cell_type": "code",
   "execution_count": 84,
   "id": "4886d9ad",
   "metadata": {
    "execution": {
     "iopub.execute_input": "2023-12-17T09:11:00.549509Z",
     "iopub.status.busy": "2023-12-17T09:11:00.549172Z",
     "iopub.status.idle": "2023-12-17T09:11:00.554105Z",
     "shell.execute_reply": "2023-12-17T09:11:00.553199Z"
    },
    "papermill": {
     "duration": 0.037526,
     "end_time": "2023-12-17T09:11:00.555990",
     "exception": false,
     "start_time": "2023-12-17T09:11:00.518464",
     "status": "completed"
    },
    "tags": []
   },
   "outputs": [],
   "source": [
    "def filtered_table(dataFrame, column, value):\n",
    "    filteredTable  = dataFrame[dataFrame[column] == value]\n",
    "    return filteredTable\n",
    "def selectneighbourhood(dataFrame, group, value, by):\n",
    "    selectedTable = dataFrame.groupby(group)[value].mean()\n",
    "    selectedTable = pd.DataFrame(selectedTable)\n",
    "    selectedTable.sort_values(by = by, ascending= False )\n",
    "    return selectedTable"
   ]
  },
  {
   "cell_type": "code",
   "execution_count": 85,
   "id": "9ce1f6c3",
   "metadata": {
    "execution": {
     "iopub.execute_input": "2023-12-17T09:11:00.617853Z",
     "iopub.status.busy": "2023-12-17T09:11:00.617534Z",
     "iopub.status.idle": "2023-12-17T09:11:00.688693Z",
     "shell.execute_reply": "2023-12-17T09:11:00.687765Z"
    },
    "papermill": {
     "duration": 0.104367,
     "end_time": "2023-12-17T09:11:00.690633",
     "exception": false,
     "start_time": "2023-12-17T09:11:00.586266",
     "status": "completed"
    },
    "tags": []
   },
   "outputs": [],
   "source": [
    "airbnb_brooklyn = filtered_table(airbnb, \"neighbourhood_group\", \"Brooklyn\")\n",
    "airbnb_booklyn_price = selectneighbourhood(airbnb_brooklyn,\"neighbourhood\", \"price\", \"price\")\n",
    "airbnb_manhattan = filtered_table(airbnb, \"neighbourhood_group\", \"Manhattan\")\n",
    "airbnb_manhattan_price = selectneighbourhood(airbnb_manhattan,\"neighbourhood\", \"price\", \"price\")\n",
    "airbnb_bronx = filtered_table(airbnb, \"neighbourhood_group\", \"Bronx\")\n",
    "airbnb_bronx_price = selectneighbourhood(airbnb_bronx,\"neighbourhood\", \"price\", \"price\")\n",
    "airbnb_queens = filtered_table(airbnb, \"neighbourhood_group\", \"Queens\")\n",
    "airbnb_queens_price = selectneighbourhood(airbnb_queens,\"neighbourhood\", \"price\", \"price\")\n",
    "airbnb_staten_island = filtered_table(airbnb, \"neighbourhood_group\", \"Staten Island\")\n",
    "airbnb_staten_island_price = selectneighbourhood(airbnb_staten_island,\"neighbourhood\", \"price\", \"price\")"
   ]
  },
  {
   "cell_type": "code",
   "execution_count": 86,
   "id": "7f0da757",
   "metadata": {
    "execution": {
     "iopub.execute_input": "2023-12-17T09:11:00.751753Z",
     "iopub.status.busy": "2023-12-17T09:11:00.751405Z",
     "iopub.status.idle": "2023-12-17T09:11:01.101893Z",
     "shell.execute_reply": "2023-12-17T09:11:01.100953Z"
    },
    "papermill": {
     "duration": 0.383321,
     "end_time": "2023-12-17T09:11:01.103702",
     "exception": false,
     "start_time": "2023-12-17T09:11:00.720381",
     "status": "completed"
    },
    "tags": []
   },
   "outputs": [
    {
     "data": {
      "image/png": "[encoded data removed]",
      "text/plain": [
       "<Figure size 1500x700 with 1 Axes>"
      ]
     },
     "metadata": {},
     "output_type": "display_data"
    }
   ],
   "source": [
    "plt.figure(figsize= (15,7))\n",
    "sns.scatterplot(x = \"neighbourhood\",\n",
    "            y = \"price\",\n",
    "            label = \"Brooklyn\",\n",
    "            data = airbnb_booklyn_price);\n",
    "sns.scatterplot(x = \"neighbourhood\",\n",
    "            y = \"price\",\n",
    "            label = \"Manhattan\",\n",
    "            data = airbnb_manhattan_price);\n",
    "sns.scatterplot(x = \"neighbourhood\",\n",
    "            y = \"price\",\n",
    "            label = \"Bronx\",\n",
    "            data = airbnb_bronx_price);\n",
    "sns.scatterplot(x = \"neighbourhood\",\n",
    "            y = \"price\",\n",
    "            label = \"Queens\",\n",
    "            data = airbnb_queens_price);\n",
    "sns.scatterplot(x = \"neighbourhood\",\n",
    "            y = \"price\",\n",
    "            label = \"Staten Island\",\n",
    "            data = airbnb_staten_island_price);\n",
    "plt.xticks([])\n",
    "plt.xlabel(\"Neighbourhoods\")\n",
    "plt.ylabel(\"Price\")\n",
    "plt.grid(True)\n",
    "plt.show()"
   ]
  },
  {
   "cell_type": "code",
   "execution_count": null,
   "id": "84ed736d",
   "metadata": {
    "papermill": {
     "duration": 0.030265,
     "end_time": "2023-12-17T09:11:01.164323",
     "exception": false,
     "start_time": "2023-12-17T09:11:01.134058",
     "status": "completed"
    },
    "tags": []
   },
   "outputs": [],
   "source": []
  }
 ],
 "metadata": {
  "kaggle": {
   "accelerator": "none",
   "dataSources": [
    {
     "datasetId": 2380415,
     "sourceId": 4016336,
     "sourceType": "datasetVersion"
    }
   ],
   "dockerImageVersionId": 30587,
   "isGpuEnabled": false,
   "isInternetEnabled": false,
   "language": "python",
   "sourceType": "notebook"
  },
  "kernelspec": {
   "display_name": "Python 3",
   "language": "python",
   "name": "python3"
  },
  "language_info": {
   "codemirror_mode": {
    "name": "ipython",
    "version": 3
   },
   "file_extension": ".py",
   "mimetype": "text/x-python",
   "name": "python",
   "nbconvert_exporter": "python",
   "pygments_lexer": "ipython3",
   "version": "3.10.12"
  },
  "papermill": {
   "default_parameters": {},
   "duration": 19.681652,
   "end_time": "2023-12-17T09:11:01.815766",
   "environment_variables": {},
   "exception": null,
   "input_path": "__notebook__.ipynb",
   "output_path": "__notebook__.ipynb",
   "parameters": {},
   "start_time": "2023-12-17T09:10:42.134114",
   "version": "2.4.0"
  }
 },
 "nbformat": 4,
 "nbformat_minor": 5
}
